{
  "nbformat": 4,
  "nbformat_minor": 0,
  "metadata": {
    "hide_input": false,
    "kernelspec": {
      "display_name": "Python 3",
      "language": "python",
      "name": "python3"
    },
    "language_info": {
      "codemirror_mode": {
        "name": "ipython",
        "version": 3
      },
      "file_extension": ".py",
      "mimetype": "text/x-python",
      "name": "python",
      "nbconvert_exporter": "python",
      "pygments_lexer": "ipython3",
      "version": "3.7.3"
    },
    "varInspector": {
      "cols": {
        "lenName": 16,
        "lenType": 16,
        "lenVar": 40
      },
      "kernels_config": {
        "python": {
          "delete_cmd_postfix": "",
          "delete_cmd_prefix": "del ",
          "library": "var_list.py",
          "varRefreshCmd": "print(var_dic_list())"
        },
        "r": {
          "delete_cmd_postfix": ") ",
          "delete_cmd_prefix": "rm(",
          "library": "var_list.r",
          "varRefreshCmd": "cat(var_dic_list()) "
        }
      },
      "types_to_exclude": [
        "module",
        "function",
        "builtin_function_or_method",
        "instance",
        "_Feature"
      ],
      "window_display": false
    },
    "colab": {
      "provenance": [],
      "include_colab_link": true
    },
    "accelerator": "GPU"
  },
  "cells": [
    {
      "cell_type": "markdown",
      "metadata": {
        "id": "view-in-github",
        "colab_type": "text"
      },
      "source": [
        "<a href=\"https://colab.research.google.com/github/lalitpandey02/PythonNotebooks/blob/main/Object_Detection_using_RCNN.ipynb\" target=\"_parent\"><img src=\"https://colab.research.google.com/assets/colab-badge.svg\" alt=\"Open In Colab\"/></a>"
      ]
    },
    {
      "cell_type": "markdown",
      "metadata": {
        "id": "ZLiAp5tFOxfJ"
      },
      "source": [
        "<center><img src=\"https://github.com/insaid2018/Term-1/blob/master/Images/INSAID_Full%20Logo.png?raw=true\" width=\"240\" height=\"100\" /></center>"
      ]
    },
    {
      "cell_type": "markdown",
      "metadata": {
        "id": "LTWdbec7OAyM"
      },
      "source": [
        "<center><h1> Object Detection in an Image</center>"
      ]
    },
    {
      "cell_type": "markdown",
      "metadata": {
        "id": "Bl2MY-20CP39"
      },
      "source": [
        "---\n",
        "# **Table of Contents**\n",
        "---\n",
        "\n",
        "**1.** [**Introduction**](#section1)<br>\n",
        "**2.** [**R-CNN: An Early Application of CNNs to Object Detection**](#section2)<br>\n",
        "**3.** [**Understanding R-CNN**](#section3)<br>\n",
        "**4.** [**What all will be covered**](#section4)<br>\n",
        "   - **4.1** [**Selective Search**](#section401)\n",
        "   - **4.2** [**CNN-bassed Classification and Scoring**](#section402)\n",
        "   - **4.3** [**Results**](#section403)\n",
        "\n",
        "**5.** [**Problems with R-CNN**](#section5)<br>\n",
        "**6.** [**Fast R-CNN - Speeding up and simplifying R-CNN**](#section6)<br>\n",
        "   - **6.1** [**Insight 1: RoI (Region of Interest) Pooling**](#section601)\n",
        "   - **6.2** [**Insight 2: Combine all models into one network**](#section602)\n",
        "   - **6.3** [**Why Fast R-CNN is faster than R-CNN?**](#section603)\n",
        "   - **6.4** [**Faster R-CNN: Speeding Up Region Proposal (2016)**](#section604)\n",
        "\n",
        "**7.** [**Summary of the Algorithms covered**](#section7)<br>\n",
        "**8.** [**Problems with different Object Detection Algorithms**](#section8)<br>\n",
        "   - 8.1 [**Problem with R-CNN**](#section801)\n",
        "   - 8.2 [**Problem with Fast R-CNN**](#section802) \n",
        "   - 8.3 [**Problem with Faster R-CNN**](#section803)\n",
        "\n",
        "**9.** [**R-CNN Implementation in Keras**](#section9)<br>\n",
        "   - **9.1** [**Loading Libraries**](#section901)\n",
        "   - **9.2** [**Downloading Data**](#section901)\n",
        "   - **9.3** [**Printing image with annotation**](#section901)\n",
        "   - **9.4** [**IOU(Intersection with Union)**](#section901)\n",
        "   - **9.5** [**Downloading pre-trained model(VGG16)**](#section901)\n",
        "   - **9.6** [**Freezing the Layers**](#section901)\n",
        "   - **9.7** [**Adding prediction layer**](#section901)\n",
        "   - **9.8** [**Creating class for Custom encoding**](#section901)\n",
        "   - **9.9** [**Splitting train and test data**](#section901)\n",
        "   - **9.10** [**Data Augmentation**](#section901)\n",
        "   - **9.11** [**Training the Model**](#section901)\n",
        "   - **9.12** [**Plotting Training and Validation Loss**](#section901)\n",
        "   - **9.13** [**R-CNN Procedure**](#section901)\n",
        "\n",
        "**10.** [**Conclusion**](#section10)"
      ]
    },
    {
      "cell_type": "markdown",
      "metadata": {
        "id": "Vr5tINo0OAyQ"
      },
      "source": [
        "---\n",
        "<a name = Section1></a>\n",
        "# **1. Introduction**\n",
        "---"
      ]
    },
    {
      "cell_type": "markdown",
      "metadata": {
        "id": "KFLr0m2VOAyT"
      },
      "source": [
        "- So far we have learned different concepts regarding **object classification** and detection using **Neural Nets**, **ANN**, **CNN**. \n",
        "\n",
        "- But certainly this vast field is not only **limited** till this.\n",
        "\n",
        "- Many more **advancement** has been done in this field in **order** to do and achieve much more in the **field of Computer Vision**.\n",
        "\n",
        "- An **image classififcation** problem is **predicting** the label of an image among the **predefined** labels.\n",
        "\n",
        "- It assumes that there is **single object** of interest in the image and it covers a **significant portion** of image.\n",
        "\n",
        "- Detection is not about only **finding the class** of object but also **localizing** the extent of an object in the image.\n",
        "\n",
        "- The object can be **lying anywhere** in the image and can be of **any size(scale)**.\n",
        "\n",
        "<br> \n",
        "<center><img src = \"https://raw.githubusercontent.com/insaid2018/DeepLearning/master/images/od1.png\" width='900' height=\"300\" ></center>\n",
        "\n",
        "<br> \n",
        "\n",
        "- So object classification is **no more** helpful when:\n",
        "\n",
        "    - **Multiple** objects in image.\n",
        "\n",
        "    - Objects are **small**.\n",
        "    \n",
        "    - **Exact** location and size of object in image is desired."
      ]
    },
    {
      "cell_type": "markdown",
      "metadata": {
        "id": "lg3TonlTOAyW"
      },
      "source": [
        "- Computer Vision is an **interdisciplinary field** that has been **gaining huge amounts of traction** in the recent years(since CNN) and **self driving cars** have taken centre stage.\n",
        "\n",
        "- Another integral part of computer vision is **object detection**.\n",
        "\n",
        "- Object Detection aids in **pose estimation**, **vehicle detection**, **surveilence** etc.\n",
        "\n",
        "- The **difference** between object detection algorithms and classification algorithms is that in detection algorithms, we try to **draw** a **bounding box** around the object of **interest** to locate it within the image.\n",
        "\n",
        "- We might **not** necessarily draw **just one bounding box** in an object detection case, there could be **many bounding boxes** representing **different objects** of interest within the image and we would not know how many beforehand.\n",
        "\n",
        "<br> \n",
        "<center><img src = \"https://raw.githubusercontent.com/insaid2018/DeepLearning/master/images/od2.png\"width='800' height=\"140\"></center>"
      ]
    },
    {
      "cell_type": "markdown",
      "metadata": {
        "id": "2AO9vnRPOAyY"
      },
      "source": [
        "<br> \n",
        "\n",
        "<center><img src =\"https://raw.githubusercontent.com/insaid2018/DeepLearning/master/images/od3.png\"width='800' height=\"140\"></center>"
      ]
    },
    {
      "cell_type": "markdown",
      "metadata": {
        "id": "lPeoD9B5OAya"
      },
      "source": [
        "- The **main reason** why we cannot proceed with this problem by **building a standard convolutional network** followed by fully **connected** layer is:\n",
        "\n",
        "  - The **length** of the output layer is variable - **not constant**.\n",
        "\n",
        "  - This is because the **number of occurences** of the objects of interest is not fixed."
      ]
    },
    {
      "cell_type": "markdown",
      "metadata": {
        "id": "F7tjTHxGOAyc"
      },
      "source": [
        "**An approach**:\n",
        "\n",
        "- To solve this problem it would take **different regions** from the image, and use a CNN to **classify the presence** of the object within that **region**.\n",
        " \n",
        "\n",
        "**The Problem**:\n",
        "\n",
        "- With this approach, the **objects of interest** might have different **spatial locations** within the image and different **aspect ratios**.\n",
        "\n",
        "- Therefore we would have to **select a huge number of regions** and this could **computationally blow up**.\n",
        "\n",
        "\n",
        "**The Solution**:\n",
        "\n",
        "- Algorithms like **R-CNN**, **Fast R-CNN**, **Faster R-CNN**, **YOLO** etc have been developed to **find these occurences and find them fast**."
      ]
    },
    {
      "cell_type": "markdown",
      "metadata": {
        "id": "RWkgLvUWJy1O"
      },
      "source": [
        "---\n",
        "<a name = Section2></a>\n",
        "# **2. R-CNN: An Early Application of CNNs to object Detection**\n",
        "---"
      ]
    },
    {
      "cell_type": "markdown",
      "metadata": {
        "id": "MxwV365bOAyf"
      },
      "source": [
        " <center><img src = \"https://raw.githubusercontent.com/insaid2018/DeepLearning/master/images/od4.png\" width='500' height=\"380\"></center>"
      ]
    },
    {
      "cell_type": "markdown",
      "metadata": {
        "id": "tLdTWoazOAyh"
      },
      "source": [
        "- **Region-CNN (R-CNN)** is one of the state-of-the-art CNN-based deep learning *object detection* approaches.\n",
        "\n",
        "- Based on this there are fast **R-CNN** and **faster R-CNN** for faster speed object detection as well as **mask R-CNN** for object **instance segmentation**.\n",
        "\n",
        "- On the other hand, there are also other **object detection** approaches, such as **YOLO** and **SSD**."
      ]
    },
    {
      "cell_type": "markdown",
      "metadata": {
        "id": "n2Nbnq0EOAyj"
      },
      "source": [
        "- To perform object detection, we need to know the **class** of object and also the bounding box **size and location**."
      ]
    },
    {
      "cell_type": "markdown",
      "metadata": {
        "id": "Wy9vH947OAyl"
      },
      "source": [
        "- Conventionally, for each image, there is **sliding window** to search every position within the **image**. It is a simple solution.\n",
        "\n",
        "- Differenct objects or even same kind of objects can have different **aspect** **ratios** and sizes depending on the **object size** and **distance** from the camera.\n",
        "\n",
        "- Different **image sizes** also affect the effective window size.\n",
        "\n",
        "- The process will be extremely **slow** if we use deep learning CNN for image classification at **each location**.\n",
        "\n",
        "<br> \n",
        "<center><img src = \"https://raw.githubusercontent.com/insaid2018/DeepLearning/master/images/od5.png\"width='700' height=\"440\"></center>"
      ]
    },
    {
      "cell_type": "markdown",
      "metadata": {
        "id": "xV56PlarOAyo"
      },
      "source": [
        "---\n",
        "<a name = Section3></a>\n",
        "# **3. Understanding R-CNN**\n",
        "---"
      ]
    },
    {
      "cell_type": "markdown",
      "metadata": {
        "id": "TA83VIgqOAyq"
      },
      "source": [
        "- The goal of **R-CNN** is to take in an image, and correctly identify where the main **object** (via a bounding box) is in the image.\n",
        "\n",
        "- **Inputs**: Image\n",
        "\n",
        "- **Outputs**: Bounding **boxes + labels** for each object in the image.\n",
        "\n",
        "<br> \n",
        "<center><img src = \"https://raw.githubusercontent.com/insaid2018/DeepLearning/master/images/od6.png\"width='660' height=\"360\"></center>"
      ]
    },
    {
      "cell_type": "markdown",
      "metadata": {
        "id": "TW-n87qNOAys"
      },
      "source": [
        "---\n",
        "<a name = Section2></a>\n",
        "# **4. What all will be covered?**\n",
        "---"
      ]
    },
    {
      "cell_type": "markdown",
      "metadata": {
        "id": "egUO_ZnSOAyt"
      },
      "source": [
        "- **Selective Search**\n",
        "\n",
        "- **CNN-based Classification and Scoring**\n",
        "\n",
        "- **Results**"
      ]
    },
    {
      "cell_type": "markdown",
      "metadata": {
        "id": "vsE5dKydOAyv"
      },
      "source": [
        "<a id=section401></a>\n",
        "### **4.1 Selective Search**"
      ]
    },
    {
      "cell_type": "markdown",
      "metadata": {
        "id": "3qaO8hN_OAyx"
      },
      "source": [
        "- **R-CNN** does what we might intuitively do as well - **propose** a bunch of **boxed** in the image and see if any of them actually **correspond** to an object.\n",
        "\n",
        "- It creates these **bounding boxes**, or **region proposals**, using a process called **`Selective Search`**.\n",
        "\n",
        "    - First, **color similarities**, **texture similaritites**, **region size**, and **region filling** are used as **no-object-based** segmentation.\n",
        "\n",
        "    - Therefore we obtain many **small** segmented areas.\n",
        "\n",
        "    - Then, **bottom-up** approach is used so that samll **segmented** areas are **merged** together to form **larger** segmented areas.\n",
        "\n",
        "    - Thus, about **2K** **region proposals** (bounding box candidates) are generated.\n",
        "\n",
        "    - At high level, it looks at image through **windows** of *different sizes*, and for each size tries to group together adjacent **pixels** by **texture**, **color**, or **intensity** to identify objects."
      ]
    },
    {
      "cell_type": "markdown",
      "metadata": {
        "id": "P9N2MbcQOAyz"
      },
      "source": [
        "<center><img src= \"https://raw.githubusercontent.com/insaid2018/DeepLearning/master/images/od7.png\"width='790' height=\"360\"></center>"
      ]
    },
    {
      "cell_type": "markdown",
      "metadata": {
        "id": "LVYV-1U5OAy0"
      },
      "source": [
        "<a id=section402></a>\n",
        "### **4.2 CNN-based Classification and Scoring**"
      ]
    },
    {
      "cell_type": "markdown",
      "metadata": {
        "id": "Tp9pDR-DOAy4"
      },
      "source": [
        "<center><img src=\"https://raw.githubusercontent.com/insaid2018/DeepLearning/master/images/od8.png\"width='660' height=\"260\"></center>\n",
        "\n",
        "<br> \n",
        "<center><img src=\"https://raw.githubusercontent.com/insaid2018/DeepLearning/master/images/od9.png\"width='660' height=\"360\"></center>"
      ]
    },
    {
      "cell_type": "markdown",
      "metadata": {
        "id": "o6YIcHbaOAy6"
      },
      "source": [
        "- **AlexNet is used to extract the CNN features.**"
      ]
    },
    {
      "cell_type": "markdown",
      "metadata": {
        "id": "885wHDz6OAy7"
      },
      "source": [
        "- For each proposal, a **4096-dimensional** feature vector is computed by **forward** propagating a **mean-subtracted** 227x227 RGB image through five convolutional layers and two **fully** connected layers."
      ]
    },
    {
      "cell_type": "markdown",
      "metadata": {
        "id": "ydFchb4COAy9"
      },
      "source": [
        "- The input has the fixed size of **227x227** while **bounding boxes** have various shapes and sizes.\n",
        "\n",
        "- So all pixels in a tight **bounding** box are wrapped to **227x227** size."
      ]
    },
    {
      "cell_type": "markdown",
      "metadata": {
        "id": "bYo7De0HOAy_"
      },
      "source": [
        "- The **feature** vector is scored by **SVM** trained for **each** class.\n",
        "\n",
        "- For each class, High **IoU** (Intersection over Union) **overlapping** bounding boxes are rejected since they are **bounding** the same object.\n",
        "\n",
        "- The predicted bounding box can be further **fine-tuned** by another **bounding** **box regressor**."
      ]
    },
    {
      "cell_type": "markdown",
      "metadata": {
        "id": "taT96LK1OAzE"
      },
      "source": [
        "<a id=section403></a>\n",
        "### **4.3 Results**"
      ]
    },
    {
      "cell_type": "markdown",
      "metadata": {
        "id": "No9LJcHCOAzF"
      },
      "source": [
        "- To **summarize**, R-CNN is just the following steps:\n",
        "\n",
        "1. Generate a **set of proposals** for bounding boxes.\n",
        "\n",
        "2. Run the **images** in the bounding boxes through a pre-trained **AlexNet** and finally **SVM** to see what **object** the image in the box is.\n",
        "\n",
        "3. Run the box through a **linear regression model** to output **tighter coordinates** for the box once the object has been **classified**."
      ]
    },
    {
      "cell_type": "markdown",
      "metadata": {
        "id": "pvClOdh-OAzH"
      },
      "source": [
        "---\n",
        "<a name = Section2></a>\n",
        "# **5. Problems with R-CNN**\n",
        "---"
      ]
    },
    {
      "cell_type": "markdown",
      "metadata": {
        "id": "xSQJKbXWOAzJ"
      },
      "source": [
        "- It takes a huge **amount** of time to train the **network** as you would have to classify 2000 **region proposals** per image.\n",
        "\n",
        "- It cannot be **implemented** real time as it takes around **47** seconds for each test image.\n",
        "\n",
        "- The **selective search** algorithm is a fixed algorithm.\n",
        "\n",
        "- No **learning** happens at that **stage** which could lead to the **generation** of bad candidate **region** proposals."
      ]
    },
    {
      "cell_type": "markdown",
      "metadata": {
        "id": "HZy0ytmHOAzK"
      },
      "source": [
        "---\n",
        "<a name = Section6></a>\n",
        "# **6. Fast R-CNN - Speeding up and simplifying R-CNN**\n",
        "---"
      ]
    },
    {
      "cell_type": "markdown",
      "metadata": {
        "id": "2OCvk7xROAzM"
      },
      "source": [
        "- R-CNN works really well, but is really **quite slow** for a few simple reasons:\n",
        "\n",
        "1. It requires a **forward pass** of the CNN(AlexNet) for every single **region** **proposal** for every **single** image (that's around 2000 forward passes per image).\n",
        "\n",
        "2. It has to train **three different models seperately** - \n",
        "\n",
        "    - The **CNN** to generate image features, \n",
        "\n",
        "    - The **classifier** that predicts the class, and \n",
        "\n",
        "    - The **regression model** to tighten the bounding boxes. This makes the **pipeline** extremely hard to train."
      ]
    },
    {
      "cell_type": "markdown",
      "metadata": {
        "id": "RZMNXMLJOAzO"
      },
      "source": [
        "<a id=section601></a>\n",
        "### **6.1 Insight 1: RoI (Region of Interest) Pooling**"
      ]
    },
    {
      "cell_type": "markdown",
      "metadata": {
        "id": "MyG_gYSUOAzP"
      },
      "source": [
        "- For the forward pass of the CNN, \"**Ross Girshick**\", the first author of **R-CNN** realized that for each image, a **lot of proposed regions for the image** invariably **overlapped** causing us to run the same CNN **computation** again and again (~2000 times). \n",
        "\n",
        "- His insight was simple:\n",
        "\n",
        "  - **Why not run the CNN just once per image and then find a way to share that computation across the ~2000 proposals?**"
      ]
    },
    {
      "cell_type": "markdown",
      "metadata": {
        "id": "EzrzLX14OAzR"
      },
      "source": [
        "<center><img src=\"https://raw.githubusercontent.com/insaid2018/DeepLearning/master/images/od10.png\"width='660' height=\"360\"></center>"
      ]
    },
    {
      "cell_type": "markdown",
      "metadata": {
        "id": "OfZS4kDdOAzT"
      },
      "source": [
        "- This is exactly what **Fast R-CNN** does using a technique known as **RoIPool** (Region of Interest Pooling).\n",
        "\n",
        "At it's core,\n",
        "\n",
        "- RoIPool shares the **forward pass** of a CNN for an image across its **subregions**.\n",
        "\n",
        "- In the image above, notice how the CNN features for each **region** are **obtained** by selecting a **corresponding region** from the CNN's features map.\n",
        "\n",
        "- Then, the feature in **each region are pooled** (usually using a max pooling).\n",
        "\n",
        "- All it takes is **one pass** of the **original image** as opposed to ~2000"
      ]
    },
    {
      "cell_type": "markdown",
      "metadata": {
        "id": "2NJ8wFW_OAzU"
      },
      "source": [
        "<a id=section602></a>\n",
        "### **6.2 Insight 2: Combine all models into one network**"
      ]
    },
    {
      "cell_type": "markdown",
      "metadata": {
        "id": "Ab5XEBj0OAzX"
      },
      "source": [
        "- The earlier **insight** of Fast R-CNN is to **jointly train** the **CNN**, **classifier**, and **bounding box regressor** in a single model.\n",
        "\n",
        "- Earlier we had **different models** to **extract** image features (CNN), **classify**(SVM), and **tighten** bounding boxes(regressor),\n",
        "\n",
        "- **Fast R-CNN instead used a single network to compute all three.**"
      ]
    },
    {
      "cell_type": "markdown",
      "metadata": {
        "id": "tM5raq0UOAzZ"
      },
      "source": [
        "<center><img src=\"https://raw.githubusercontent.com/insaid2018/DeepLearning/master/images/od11.png\"width='700' height=\"360\"></center>"
      ]
    },
    {
      "cell_type": "markdown",
      "metadata": {
        "id": "Jgz81HM8OAza"
      },
      "source": [
        "- Fast R-CNN **replaced** the SVM classifier with a **softmax layer on top** of the CNN to **output a classififcation**.\n",
        "\n",
        "- There is a **linear regression layer parallel** to the softmax layer to output bounding box coordinated.\n",
        "\n",
        "- All the the outputs needed came from **one single network!**\n",
        "\n",
        "- Here are the inputs and outputs of their model:\n",
        "\n",
        "  - **Inputs**: Images with **region proposals**.\n",
        "\n",
        "  - **Outputs**: Object classifications of each region along with **tighter** **bounding** boxes."
      ]
    },
    {
      "cell_type": "markdown",
      "metadata": {
        "id": "-bVT6ZHIOAzc"
      },
      "source": [
        "<a id=section603></a>\n",
        "### **6.3 Why Fast R-CNN is faster than R-CNN?**"
      ]
    },
    {
      "cell_type": "markdown",
      "metadata": {
        "id": "oLQh88KfOAze"
      },
      "source": [
        "- The reason is because we don't have to feed 2000 **region proposals** to the convolutional neural network **every time**.\n",
        "\n",
        "- Instead, the convolution **operation** is done **only once** per image and a feature map is **generated** from it."
      ]
    },
    {
      "cell_type": "markdown",
      "metadata": {
        "id": "ZxIHvVvEOAzg"
      },
      "source": [
        "<center><img src=\"https://raw.githubusercontent.com/insaid2018/DeepLearning/master/images/od12.png\"width='660' height=\"260\"></center>"
      ]
    },
    {
      "cell_type": "markdown",
      "metadata": {
        "id": "LAyaliSlOAzh"
      },
      "source": [
        "**Observation:**\n",
        "\n",
        "- We can infer that Fast R-CNN is **significantly faster** in training and testing **sessions** over **R-CNN**.\n",
        "\n",
        "- Looking at the performance of Fast R-CNN during testing time, including **region proposals** slows down the algorithm **significantly** when compared to not using **region** proposals.\n",
        "\n",
        "- Thus, region proposals become **bottlenecks** in **Fast R-CNN** algorithm affecting its **performance**."
      ]
    },
    {
      "cell_type": "markdown",
      "metadata": {
        "id": "c3RUPflTOAzj"
      },
      "source": [
        "<a id=section604></a>\n",
        "### **6.4 Faster R-CNN: Speeding Up Region Proposal (2016)**"
      ]
    },
    {
      "cell_type": "markdown",
      "metadata": {
        "id": "MZoXfk1QOAzk"
      },
      "source": [
        "- Both of the above algorithms (**R-CNN & Fast R-CNN**) uses **selective search** to find ot the region proposals.\n",
        "\n",
        "- Selective search is a **slow** and **time consuming** process affecting the performance of the **network**.\n",
        "\n",
        "- \"Shaoqing Ren et al\" came up with an object detection algorithm that **eliminates** the selective search algorithm and lets the **network** learn the **region proposals**."
      ]
    },
    {
      "cell_type": "markdown",
      "metadata": {
        "id": "XRbGxJyjOAzl"
      },
      "source": [
        "- The onsight of Faster R-CNN was that region proposals depended on features of the image that were already calculated **with the forward pass** of the CNN.\n",
        "\n",
        "- **So why not resuse those same CNN results for region proposals instead of running a seperated selective search algorithm?**"
      ]
    },
    {
      "cell_type": "markdown",
      "metadata": {
        "id": "ATkiNcgNOAzm"
      },
      "source": [
        "<center><img src=\"https://raw.githubusercontent.com/insaid2018/DeepLearning/master/images/od13.png\" width='600' height=\"600\"></center>"
      ]
    },
    {
      "cell_type": "markdown",
      "metadata": {
        "id": "vHTHLr3uOAzn"
      },
      "source": [
        "- In the image above we can see how a **single CNN** is used to both carry out **region proposals and classification**.\n",
        "\n",
        "- This way only **one CNN** need to be trained and we get **region proposals** almost for free!\n",
        "\n",
        "- Here are the **inputs** and **outputs** of their model:\n",
        "    \n",
        "- **Inputs**: Images\n",
        "\n",
        "- **Outputs**: Classification and **bounding box coordinates** of objects in the images."
      ]
    },
    {
      "cell_type": "markdown",
      "metadata": {
        "id": "xH8YBdbmOAzo"
      },
      "source": [
        "#### **How the regions are generated**"
      ]
    },
    {
      "cell_type": "markdown",
      "metadata": {
        "id": "cBNvLDyjOAzp"
      },
      "source": [
        "- **Faster R-CNN** adds a **Fully** Convolutional Network on **top** of the features of the CNN **creating** what's known as the **Region Proposal Network**"
      ]
    },
    {
      "cell_type": "markdown",
      "metadata": {
        "id": "haVpfjciOAzq"
      },
      "source": [
        "<center><img src=\"https://raw.githubusercontent.com/insaid2018/DeepLearning/master/images/od14.png\" width='600' height=\"400\"></center>"
      ]
    },
    {
      "cell_type": "markdown",
      "metadata": {
        "id": "ZtcIq7DEOAzr"
      },
      "source": [
        "- It works by passing a **sliding window** over the CNN feature map at **each window**, outputting **k** potential bounding boxes and **scores** for how good each of those boxes is **expected** to be.\n",
        "\n",
        "- What do these **k** boxes represent?"
      ]
    },
    {
      "cell_type": "markdown",
      "metadata": {
        "id": "qFupVIPnOAzs"
      },
      "source": [
        "<center><img src=\"https://raw.githubusercontent.com/insaid2018/DeepLearning/master/images/od15.png\"width='300' height=\"260\"></center>"
      ]
    },
    {
      "cell_type": "markdown",
      "metadata": {
        "id": "7QbpLwdZOAzt"
      },
      "source": [
        "- We know that objects in an image should **fit** certain common aspect ratios and sizes creating **k** which we call **anchor boxes**.\n",
        "\n",
        "- For each such anchor box, we output one **bounding box** and **score per position** in the image.\n",
        "\n",
        "- Let's take a look at the **inputs and outputs** to the Region Proposal Network:\n",
        "\n",
        "- **Inputs**: CNN Feature Map\n",
        "\n",
        "- **Outputs**: A bounding box per anchor. A score representing how likely the image in that **bounding box** will be an object."
      ]
    },
    {
      "cell_type": "markdown",
      "metadata": {
        "id": "XoN_c2EvOAzw"
      },
      "source": [
        "- We then pass each such bounding box that is likely to be an object into **Fast R-CNN** to generate a **classification** box which will be an object."
      ]
    },
    {
      "cell_type": "markdown",
      "metadata": {
        "id": "ptI4t1XJOAzw"
      },
      "source": [
        "<center><img src=\"https://raw.githubusercontent.com/insaid2018/DeepLearning/master/images/od16.png\" width='600' height=\"300\"></center>"
      ]
    },
    {
      "cell_type": "markdown",
      "metadata": {
        "id": "kHwGdnqJOAzx"
      },
      "source": [
        "---\n",
        "<a name = Section7></a>\n",
        "# **7. Summary of the Algorithms covered**\n",
        "---"
      ]
    },
    {
      "cell_type": "markdown",
      "metadata": {
        "id": "WFfwYVAHOAzy"
      },
      "source": [
        "| **Algorithm** | **Features** | **Prediction time/image** | **Limitations** |\n",
        "| :-----: | :------: | :------: | :--------: |\n",
        "| **CNN** | Divides the image into multiple regions and then classify each region into various classes | ----  | Needs a lot of regions to predict accurately and hence hihg computation time. |\n",
        "| **R-CNN** | Uses selective search to generate regions. Extracts around 2000 regions from each image | 40-50 seconds | High computation time as each region is passed to the CNN seperately also it used three different model for making predictions. |\n",
        "| **Fast R-CNN** | Each image is passed only once to the CNN and feature maps are extracted. Selelctive search is used on these maps to generate predictions. Combines all the three models used in R-CNN together | 2 seconds | Selective search is slow and hence computation time is still high |\n",
        "| **Faster R-CNN** | Replaces the selective search method with region proposal network which made the algorithm much faster | 0.2 seconds | Object proposal takes time and as there are different systems working one after the other, the performance of systems depends on how the previous syste has performed. |"
      ]
    },
    {
      "cell_type": "markdown",
      "metadata": {
        "id": "Z3U2Br1MIlwt"
      },
      "source": [
        "---\n",
        "<a name = Section8></a>\n",
        "# **8. Problems with different Object Detection Algorithms**\n",
        "---"
      ]
    },
    {
      "cell_type": "markdown",
      "metadata": {
        "id": "uJL3np1VGofB"
      },
      "source": [
        "<a id=section801></a>\n",
        "### **8.1 Problems with R-CNN**"
      ]
    },
    {
      "cell_type": "markdown",
      "metadata": {
        "id": "9Isd3hmdlmjA"
      },
      "source": [
        "- It takes a **huge amount of time** to train the network as you would have to classify **2000** region proposals per image.\n",
        "\n",
        "- It cannot be implemented in real time as it takes around **47 seconds** for **each** test image.\n",
        "\n",
        "- The selective search algorithm is a **fixed algorithm**.\n",
        "\n",
        "  - Therefore, **no learning** is happening at that stage. \n",
        "\n",
        "  - This could lead to the **generation** of bad candidate **region proposals**.\n"
      ]
    },
    {
      "cell_type": "markdown",
      "metadata": {
        "id": "nnGfV68hHAwz"
      },
      "source": [
        "<a id=section802></a>\n",
        "### **8.2 Problems with Fast R-CNN**"
      ]
    },
    {
      "cell_type": "markdown",
      "metadata": {
        "id": "PtSPC4n6oWiW"
      },
      "source": [
        "- Most of the time taken by Fast R-CNN during **detection** is a selective search **region proposal generation** algorithm. \n",
        "\n",
        "- Hence, it is the **bottleneck** of this architecture which was dealt with in **Faster R-CNN**."
      ]
    },
    {
      "cell_type": "markdown",
      "metadata": {
        "id": "YE2OFnLnpSXf"
      },
      "source": [
        "<a id=section803></a>\n",
        "### **8.3 Problems with Faster R-CNN:**\n",
        "\n",
        "- Faster R-CNN requires a lot of **computational power**.\n",
        "\n",
        "- Practically speaking, you will need to run experiments on multiple machines and GPUs, which could be **time-consuming**.\n",
        "\n"
      ]
    },
    {
      "cell_type": "markdown",
      "metadata": {
        "id": "gpU2di7MtcL0"
      },
      "source": [
        "---\n",
        "<a name = Section9></a>\n",
        "# **9. R-CNN Implementation in Keras**\n",
        "---"
      ]
    },
    {
      "cell_type": "markdown",
      "metadata": {
        "id": "I5Cgdz0BLOY6"
      },
      "source": [
        "<a id=section91></a>\n",
        "### **9.1 Loading Libraries**"
      ]
    },
    {
      "cell_type": "code",
      "metadata": {
        "id": "0mLg5FIVKI2-"
      },
      "source": [
        "import os,cv2,keras\n",
        "import pandas as pd\n",
        "import matplotlib.pyplot as plt\n",
        "import numpy as np\n",
        "import tensorflow as tf\n",
        "from sklearn.model_selection import train_test_split\n",
        "from sklearn.preprocessing import LabelBinarizer"
      ],
      "execution_count": null,
      "outputs": []
    },
    {
      "cell_type": "code",
      "metadata": {
        "id": "fOmeGr29LVeg"
      },
      "source": [
        "from keras.layers import Dense\n",
        "from keras import Model\n",
        "from keras import optimizers\n",
        "from keras.preprocessing.image import ImageDataGenerator\n",
        "from keras.applications.vgg16 import VGG16"
      ],
      "execution_count": null,
      "outputs": []
    },
    {
      "cell_type": "markdown",
      "metadata": {
        "id": "90iHwgzDImvj"
      },
      "source": [
        "- We need **`cv2`** to perform **selective search** on the images.\n",
        "\n",
        "  - To use selective search we need to download **`opencv-contrib-python`**.\n",
        "\n",
        "  - To **download** that just run **`pip install opencv-contrib-python`** in the terminal and install it from pypi."
      ]
    },
    {
      "cell_type": "code",
      "metadata": {
        "id": "yrz0WapmqAxN"
      },
      "source": [
        "# !rm -rf /content/Airplanes_Annotations\n",
        "# !rm -rf /content/Images"
      ],
      "execution_count": null,
      "outputs": []
    },
    {
      "cell_type": "markdown",
      "metadata": {
        "id": "J_VpvBxnLPnc"
      },
      "source": [
        "<a id=section902></a>\n",
        "### **9.2 Downloading Data**"
      ]
    },
    {
      "cell_type": "markdown",
      "metadata": {
        "id": "FI8gfpI7zE3O"
      },
      "source": [
        " - We are using **`!wget`** to download the data from the source link below.\n",
        "\n",
        " - The first file is the **Image data** and second one is the **annotations** file."
      ]
    },
    {
      "cell_type": "code",
      "metadata": {
        "id": "rvFmiijTERym",
        "colab": {
          "base_uri": "https://localhost:8080/"
        },
        "outputId": "1891d52b-8757-4e33-eb90-4401c41e76c7"
      },
      "source": [
        "!wget https://github.com/insaid2018/DeepLearning/raw/master/Data/Images.zip"
      ],
      "execution_count": null,
      "outputs": [
        {
          "output_type": "stream",
          "name": "stdout",
          "text": [
            "--2023-03-30 08:17:03--  https://github.com/insaid2018/DeepLearning/raw/master/Data/Images.zip\n",
            "Resolving github.com (github.com)... 192.30.255.113\n",
            "Connecting to github.com (github.com)|192.30.255.113|:443... connected.\n",
            "HTTP request sent, awaiting response... 302 Found\n",
            "Location: https://raw.githubusercontent.com/insaid2018/DeepLearning/master/Data/Images.zip [following]\n",
            "--2023-03-30 08:17:04--  https://raw.githubusercontent.com/insaid2018/DeepLearning/master/Data/Images.zip\n",
            "Resolving raw.githubusercontent.com (raw.githubusercontent.com)... 185.199.108.133, 185.199.109.133, 185.199.110.133, ...\n",
            "Connecting to raw.githubusercontent.com (raw.githubusercontent.com)|185.199.108.133|:443... connected.\n",
            "HTTP request sent, awaiting response... 200 OK\n",
            "Length: 2279986 (2.2M) [application/zip]\n",
            "Saving to: ‘Images.zip’\n",
            "\n",
            "Images.zip          100%[===================>]   2.17M  --.-KB/s    in 0.04s   \n",
            "\n",
            "2023-03-30 08:17:04 (50.3 MB/s) - ‘Images.zip’ saved [2279986/2279986]\n",
            "\n"
          ]
        }
      ]
    },
    {
      "cell_type": "code",
      "metadata": {
        "id": "osRL-_JjEWx8",
        "colab": {
          "base_uri": "https://localhost:8080/"
        },
        "outputId": "ec5d2f58-09af-4fc8-c62c-2c6b71a94450"
      },
      "source": [
        "!wget https://github.com/insaid2018/DeepLearning/raw/master/Data/Airplanes_Annotations.zip"
      ],
      "execution_count": null,
      "outputs": [
        {
          "output_type": "stream",
          "name": "stdout",
          "text": [
            "--2023-03-30 08:17:15--  https://github.com/insaid2018/DeepLearning/raw/master/Data/Airplanes_Annotations.zip\n",
            "Resolving github.com (github.com)... 192.30.255.112\n",
            "Connecting to github.com (github.com)|192.30.255.112|:443... connected.\n",
            "HTTP request sent, awaiting response... 302 Found\n",
            "Location: https://raw.githubusercontent.com/insaid2018/DeepLearning/master/Data/Airplanes_Annotations.zip [following]\n",
            "--2023-03-30 08:17:15--  https://raw.githubusercontent.com/insaid2018/DeepLearning/master/Data/Airplanes_Annotations.zip\n",
            "Resolving raw.githubusercontent.com (raw.githubusercontent.com)... 185.199.108.133, 185.199.109.133, 185.199.110.133, ...\n",
            "Connecting to raw.githubusercontent.com (raw.githubusercontent.com)|185.199.108.133|:443... connected.\n",
            "HTTP request sent, awaiting response... 200 OK\n",
            "Length: 37488 (37K) [application/zip]\n",
            "Saving to: ‘Airplanes_Annotations.zip’\n",
            "\n",
            "Airplanes_Annotatio 100%[===================>]  36.61K  --.-KB/s    in 0.001s  \n",
            "\n",
            "2023-03-30 08:17:15 (24.5 MB/s) - ‘Airplanes_Annotations.zip’ saved [37488/37488]\n",
            "\n"
          ]
        }
      ]
    },
    {
      "cell_type": "markdown",
      "metadata": {
        "id": "wOtxjbBC1rbg"
      },
      "source": [
        "- We use **`!unzip`** function to **extract** both images and **annotations** files."
      ]
    },
    {
      "cell_type": "code",
      "metadata": {
        "id": "baoXnu-RJuFR"
      },
      "source": [
        "!unzip -qq Images.zip "
      ],
      "execution_count": null,
      "outputs": []
    },
    {
      "cell_type": "code",
      "metadata": {
        "id": "ZsPQoYGggEhw"
      },
      "source": [
        "!unzip -qq Airplanes_Annotations.zip"
      ],
      "execution_count": null,
      "outputs": []
    },
    {
      "cell_type": "markdown",
      "metadata": {
        "id": "3_iQ0tUGl9-g"
      },
      "source": [
        "- Setting **path** for image **folder** and **annotations** folder."
      ]
    },
    {
      "cell_type": "code",
      "metadata": {
        "id": "SHUnTbwjK28v"
      },
      "source": [
        "path = \"/content/Images\"\n",
        "annot = \"/content/Airplanes_Annotations\""
      ],
      "execution_count": null,
      "outputs": []
    },
    {
      "cell_type": "markdown",
      "metadata": {
        "id": "NHPiCarILRFq"
      },
      "source": [
        "<a id=section93></a>\n",
        "### **9.3 Printing image with the annotation**"
      ]
    },
    {
      "cell_type": "code",
      "metadata": {
        "colab": {
          "base_uri": "https://localhost:8080/",
          "height": 539
        },
        "id": "e2sdYfNBkFJC",
        "outputId": "4ac38013-4db6-4f08-e56f-6f66b87162ad"
      },
      "source": [
        "for e,i in enumerate(os.listdir(annot)):\n",
        "    if e < 10:\n",
        "        filename = i.split(\".\")[0]+\".jpg\"\n",
        "        print(filename)\n",
        "        img = cv2.imread(os.path.join(path,filename))\n",
        "        df = pd.read_csv(os.path.join(annot,i))\n",
        "        plt.imshow(img)\n",
        "        for row in df.iterrows():\n",
        "            x1 = int(row[1][0].split(\" \")[0])\n",
        "            y1 = int(row[1][0].split(\" \")[1])\n",
        "            x2 = int(row[1][0].split(\" \")[2])\n",
        "            y2 = int(row[1][0].split(\" \")[3])\n",
        "            cv2.rectangle(img,(x1,y1),(x2,y2),(255,0,0), 2)\n",
        "        plt.figure()\n",
        "        plt.imshow(img)\n",
        "        break"
      ],
      "execution_count": null,
      "outputs": [
        {
          "output_type": "stream",
          "name": "stdout",
          "text": [
            "airplane_150.jpg\n"
          ]
        },
        {
          "output_type": "display_data",
          "data": {
            "text/plain": [
              "<Figure size 432x288 with 1 Axes>"
            ],
            "image/png": "[encoded data removed]"
          },
          "metadata": {
            "needs_background": "light"
          }
        },
        {
          "output_type": "display_data",
          "data": {
            "text/plain": [
              "<Figure size 432x288 with 1 Axes>"
            ],
            "image/png": "[encoded data removed]"
          },
          "metadata": {
            "needs_background": "light"
          }
        }
      ]
    },
    {
      "cell_type": "markdown",
      "metadata": {
        "id": "NtMDJNDlLSrB"
      },
      "source": [
        "<a id=section802></a>\n",
        "### **9.4 IOU (Intersection Over Union)**"
      ]
    },
    {
      "cell_type": "code",
      "metadata": {
        "id": "A1nHCZ5UKImH"
      },
      "source": [
        "def get_iou(bb1, bb2):\n",
        "    assert bb1['x1'] < bb1['x2']\n",
        "    assert bb1['y1'] < bb1['y2']\n",
        "    assert bb2['x1'] < bb2['x2']\n",
        "    assert bb2['y1'] < bb2['y2']\n",
        "\n",
        "    x_left = max(bb1['x1'], bb2['x1'])\n",
        "    y_top = max(bb1['y1'], bb2['y1'])\n",
        "    x_right = min(bb1['x2'], bb2['x2'])\n",
        "    y_bottom = min(bb1['y2'], bb2['y2'])\n",
        "\n",
        "    if x_right < x_left or y_bottom < y_top:\n",
        "        return 0.0\n",
        "\n",
        "    intersection_area = (x_right - x_left) * (y_bottom - y_top)\n",
        "\n",
        "    bb1_area = (bb1['x2'] - bb1['x1']) * (bb1['y2'] - bb1['y1'])\n",
        "    bb2_area = (bb2['x2'] - bb2['x1']) * (bb2['y2'] - bb2['y1'])\n",
        "\n",
        "    iou = intersection_area / float(bb1_area + bb2_area - intersection_area)\n",
        "    assert iou >= 0.0\n",
        "    assert iou <= 1.0\n",
        "    return iou"
      ],
      "execution_count": null,
      "outputs": []
    },
    {
      "cell_type": "markdown",
      "metadata": {
        "id": "Y5NdMjDBJL77"
      },
      "source": [
        "- Now we are initialising the **function** to calculate **IOU** (Intersection Over Union) of the **ground** truth box from the box computed by **selective search**."
      ]
    },
    {
      "cell_type": "code",
      "metadata": {
        "id": "f04pc4QlKIxV"
      },
      "source": [
        "ss = cv2.ximgproc.segmentation.createSelectiveSearchSegmentation()"
      ],
      "execution_count": null,
      "outputs": []
    },
    {
      "cell_type": "markdown",
      "metadata": {
        "id": "chXG3xwv2oyZ"
      },
      "source": [
        "- In the below code we are performing a **Selective Search** and taking top **2K** region proposals (bounding box candidates).\n",
        "\n",
        "- Then we calculate the **IOU** (Intersection Over Union) and according to the **IOU** value we append the images to **`train_images`** and labels to **`train_labels`** list."
      ]
    },
    {
      "cell_type": "code",
      "metadata": {
        "colab": {
          "base_uri": "https://localhost:8080/"
        },
        "id": "cUmYN4ZmJEAy",
        "outputId": "905897de-6099-4b7b-efd9-eae09d85ae6f"
      },
      "source": [
        "train_images=[]\n",
        "train_labels=[]\n",
        "for e,i in enumerate(os.listdir(annot)):\n",
        "    try:\n",
        "        if i.startswith(\"airplane\"):\n",
        "            filename = i.split(\".\")[0]+\".jpg\"\n",
        "            print(e,filename)\n",
        "            image = cv2.imread(os.path.join(path,filename))\n",
        "            df = pd.read_csv(os.path.join(annot,i))\n",
        "            gtvalues=[]\n",
        "            for row in df.iterrows():\n",
        "                x1 = int(row[1][0].split(\" \")[0])\n",
        "                y1 = int(row[1][0].split(\" \")[1])\n",
        "                x2 = int(row[1][0].split(\" \")[2])\n",
        "                y2 = int(row[1][0].split(\" \")[3])\n",
        "                gtvalues.append({\"x1\":x1,\"x2\":x2,\"y1\":y1,\"y2\":y2})\n",
        "            ss.setBaseImage(image)\n",
        "            ss.switchToSelectiveSearchFast()\n",
        "            ssresults = ss.process()\n",
        "            imout = image.copy()\n",
        "            counter = 0\n",
        "            falsecounter = 0\n",
        "            flag = 0\n",
        "            fflag = 0\n",
        "            bflag = 0\n",
        "            for e,result in enumerate(ssresults):\n",
        "                if e < 2000 and flag == 0:\n",
        "                    for gtval in gtvalues:\n",
        "                        x,y,w,h = result\n",
        "                        iou = get_iou(gtval,{\"x1\":x,\"x2\":x+w,\"y1\":y,\"y2\":y+h})\n",
        "                        if counter < 30:\n",
        "                            if iou > 0.70:\n",
        "                                timage = imout[y:y+h,x:x+w]\n",
        "                                resized = cv2.resize(timage, (224,224), interpolation = cv2.INTER_AREA)\n",
        "                                train_images.append(resized)\n",
        "                                train_labels.append(1)\n",
        "                                counter += 1\n",
        "                        else :\n",
        "                            fflag =1\n",
        "                        if falsecounter <30:\n",
        "                            if iou < 0.3:\n",
        "                                timage = imout[y:y+h,x:x+w]\n",
        "                                resized = cv2.resize(timage, (224,224), interpolation = cv2.INTER_AREA)\n",
        "                                train_images.append(resized)\n",
        "                                train_labels.append(0)\n",
        "                                falsecounter += 1\n",
        "                        else :\n",
        "                            bflag = 1\n",
        "                    if fflag == 1 and bflag == 1:\n",
        "                        print(\"inside\")\n",
        "                        flag = 1\n",
        "    except Exception as e:\n",
        "        print(e)\n",
        "        print(\"error in \"+filename)\n",
        "        continue"
      ],
      "execution_count": null,
      "outputs": [
        {
          "output_type": "stream",
          "name": "stdout",
          "text": [
            "0 airplane_150.jpg\n",
            "1 airplane_060.jpg\n",
            "2 airplane_066.jpg\n",
            "3 airplane_114.jpg\n",
            "4 airplane_177.jpg\n",
            "5 airplane_146.jpg\n",
            "6 airplane_183.jpg\n",
            "7 airplane_117.jpg\n",
            "8 airplane_058.jpg\n",
            "9 airplane_164.jpg\n",
            "10 airplane_157.jpg\n",
            "11 airplane_143.jpg\n",
            "12 airplane_002.jpg\n",
            "13 airplane_009.jpg\n",
            "14 airplane_145.jpg\n",
            "15 airplane_006.jpg\n",
            "16 airplane_139.jpg\n",
            "17 airplane_025.jpg\n",
            "18 airplane_107.jpg\n",
            "19 airplane_125.jpg\n",
            "20 airplane_091.jpg\n",
            "21 airplane_130.jpg\n",
            "22 airplane_188.jpg\n",
            "23 airplane_200.jpg\n",
            "24 airplane_172.jpg\n",
            "25 airplane_105.jpg\n",
            "26 airplane_048.jpg\n",
            "27 airplane_075.jpg\n",
            "inside\n",
            "28 airplane_030.jpg\n",
            "29 airplane_078.jpg\n",
            "30 airplane_043.jpg\n",
            "31 airplane_142.jpg\n",
            "32 airplane_052.jpg\n",
            "33 airplane_161.jpg\n",
            "34 airplane_190.jpg\n",
            "inside\n",
            "35 airplane_042.jpg\n",
            "36 airplane_176.jpg\n",
            "37 airplane_044.jpg\n",
            "38 airplane_166.jpg\n",
            "39 airplane_121.jpg\n",
            "inside\n",
            "40 airplane_041.jpg\n",
            "inside\n",
            "41 airplane_061.jpg\n",
            "42 airplane_087.jpg\n",
            "43 airplane_136.jpg\n",
            "inside\n",
            "44 airplane_079.jpg\n",
            "45 airplane_004.jpg\n",
            "inside\n",
            "46 airplane_020.jpg\n",
            "47 airplane_073.jpg\n",
            "48 airplane_106.jpg\n",
            "49 airplane_151.jpg\n",
            "inside\n",
            "50 airplane_026.jpg\n",
            "51 airplane_191.jpg\n",
            "52 airplane_174.jpg\n",
            "53 airplane_062.jpg\n",
            "inside\n",
            "54 airplane_094.jpg\n",
            "55 airplane_158.jpg\n",
            "56 airplane_163.jpg\n",
            "57 airplane_098.jpg\n",
            "58 airplane_067.jpg\n",
            "59 airplane_173.jpg\n",
            "60 airplane_167.jpg\n",
            "61 airplane_134.jpg\n",
            "62 airplane_154.jpg\n",
            "63 airplane_076.jpg\n",
            "64 airplane_198.jpg\n",
            "65 airplane_054.jpg\n",
            "66 airplane_070.jpg\n",
            "67 airplane_127.jpg\n",
            "68 airplane_053.jpg\n",
            "inside\n",
            "69 airplane_096.jpg\n",
            "inside\n",
            "70 airplane_014.jpg\n",
            "71 airplane_022.jpg\n",
            "72 airplane_010.jpg\n",
            "73 airplane_019.jpg\n",
            "74 airplane_021.jpg\n",
            "75 airplane_099.jpg\n",
            "76 airplane_011.jpg\n",
            "77 airplane_095.jpg\n",
            "78 airplane_008.jpg\n",
            "79 airplane_131.jpg\n",
            "80 airplane_109.jpg\n",
            "81 airplane_195.jpg\n",
            "82 airplane_028.jpg\n",
            "83 airplane_034.jpg\n",
            "84 airplane_160.jpg\n",
            "85 airplane_147.jpg\n",
            "86 airplane_159.jpg\n",
            "87 airplane_104.jpg\n",
            "88 airplane_036.jpg\n",
            "89 airplane_012.jpg\n",
            "inside\n",
            "90 airplane_180.jpg\n",
            "91 airplane_093.jpg\n",
            "92 airplane_100.jpg\n",
            "93 airplane_024.jpg\n",
            "94 airplane_032.jpg\n",
            "95 airplane_001.jpg\n",
            "inside\n",
            "96 airplane_064.jpg\n",
            "97 airplane_047.jpg\n",
            "98 airplane_068.jpg\n",
            "99 airplane_129.jpg\n",
            "100 airplane_080.jpg\n",
            "101 airplane_003.jpg\n",
            "102 airplane_135.jpg\n",
            "103 airplane_045.jpg\n",
            "inside\n",
            "104 airplane_077.jpg\n",
            "105 airplane_156.jpg\n",
            "106 airplane_111.jpg\n",
            "107 airplane_165.jpg\n",
            "108 airplane_144.jpg\n",
            "109 airplane_033.jpg\n",
            "110 airplane_194.jpg\n",
            "111 airplane_184.jpg\n",
            "112 airplane_086.jpg\n",
            "113 airplane_133.jpg\n",
            "114 airplane_116.jpg\n",
            "115 airplane_124.jpg\n",
            "116 airplane_118.jpg\n",
            "117 airplane_120.jpg\n",
            "inside\n",
            "118 airplane_192.jpg\n",
            "119 airplane_065.jpg\n",
            "120 airplane_059.jpg\n",
            "121 airplane_049.jpg\n",
            "122 airplane_185.jpg\n",
            "123 airplane_016.jpg\n",
            "124 airplane_092.jpg\n",
            "125 airplane_168.jpg\n",
            "126 airplane_083.jpg\n",
            "inside\n",
            "127 airplane_082.jpg\n",
            "128 airplane_153.jpg\n",
            "129 airplane_029.jpg\n",
            "130 airplane_199.jpg\n",
            "inside\n",
            "131 airplane_089.jpg\n",
            "132 airplane_187.jpg\n",
            "133 airplane_069.jpg\n",
            "134 airplane_162.jpg\n",
            "135 airplane_122.jpg\n",
            "136 airplane_196.jpg\n",
            "137 airplane_108.jpg\n",
            "inside\n",
            "138 airplane_171.jpg\n",
            "139 airplane_038.jpg\n",
            "140 airplane_023.jpg\n",
            "141 airplane_031.jpg\n",
            "142 airplane_013.jpg\n",
            "143 airplane_071.jpg\n",
            "144 airplane_005.jpg\n",
            "inside\n",
            "145 airplane_090.jpg\n",
            "146 airplane_169.jpg\n",
            "147 airplane_056.jpg\n",
            "148 airplane_039.jpg\n",
            "149 airplane_055.jpg\n",
            "150 airplane_155.jpg\n",
            "151 airplane_152.jpg\n",
            "152 airplane_115.jpg\n",
            "153 airplane_110.jpg\n",
            "154 airplane_193.jpg\n",
            "155 airplane_189.jpg\n",
            "156 airplane_050.jpg\n",
            "157 airplane_140.jpg\n",
            "158 airplane_007.jpg\n",
            "inside\n",
            "159 airplane_018.jpg\n",
            "160 airplane_132.jpg\n",
            "161 airplane_178.jpg\n",
            "162 airplane_063.jpg\n",
            "163 airplane_182.jpg\n",
            "164 airplane_046.jpg\n",
            "165 airplane_037.jpg\n",
            "166 airplane_186.jpg\n",
            "167 airplane_057.jpg\n",
            "168 airplane_088.jpg\n",
            "169 airplane_128.jpg\n",
            "170 airplane_035.jpg\n",
            "171 airplane_101.jpg\n",
            "172 airplane_027.jpg\n",
            "173 airplane_126.jpg\n",
            "inside\n",
            "174 airplane_051.jpg\n",
            "175 airplane_197.jpg\n",
            "176 airplane_179.jpg\n",
            "177 airplane_081.jpg\n",
            "178 airplane_170.jpg\n",
            "179 airplane_085.jpg\n",
            "inside\n",
            "180 airplane_137.jpg\n",
            "inside\n",
            "181 airplane_175.jpg\n",
            "182 airplane_149.jpg\n",
            "183 airplane_119.jpg\n",
            "inside\n",
            "184 airplane_072.jpg\n",
            "185 airplane_112.jpg\n",
            "inside\n",
            "186 airplane_015.jpg\n",
            "187 airplane_102.jpg\n",
            "188 airplane_181.jpg\n",
            "189 airplane_113.jpg\n",
            "190 airplane_017.jpg\n",
            "191 airplane_074.jpg\n",
            "192 airplane_138.jpg\n",
            "193 airplane_103.jpg\n",
            "194 airplane_040.jpg\n",
            "195 airplane_123.jpg\n",
            "inside\n",
            "196 airplane_084.jpg\n",
            "197 airplane_097.jpg\n",
            "inside\n",
            "198 airplane_148.jpg\n",
            "199 airplane_141.jpg\n"
          ]
        }
      ]
    },
    {
      "cell_type": "markdown",
      "metadata": {
        "id": "wwDxSu8foSa5"
      },
      "source": [
        "- Converting the images and labels to **numpy array**. "
      ]
    },
    {
      "cell_type": "code",
      "metadata": {
        "id": "K7H-o1cCJR_u"
      },
      "source": [
        "X_new = np.array(train_images)\n",
        "y_new = np.array(train_labels)"
      ],
      "execution_count": null,
      "outputs": []
    },
    {
      "cell_type": "code",
      "metadata": {
        "id": "py9JXfm2LP1i",
        "colab": {
          "base_uri": "https://localhost:8080/"
        },
        "outputId": "e0172e48-b060-4fac-d2ea-2d056f13a1c1"
      },
      "source": [
        "X_new.shape"
      ],
      "execution_count": null,
      "outputs": [
        {
          "output_type": "execute_result",
          "data": {
            "text/plain": [
              "(8910, 224, 224, 3)"
            ]
          },
          "metadata": {},
          "execution_count": 14
        }
      ]
    },
    {
      "cell_type": "markdown",
      "metadata": {
        "id": "4FT1keJVoD55"
      },
      "source": [
        "<a id=section905></a>\n",
        "### **9.5 Downloading pre-trained model (VGG16)**"
      ]
    },
    {
      "cell_type": "code",
      "metadata": {
        "id": "KQD7n_9jL1pR",
        "colab": {
          "base_uri": "https://localhost:8080/"
        },
        "outputId": "dd425d95-81ca-4c95-a8bc-51426b5df81d"
      },
      "source": [
        "vggmodel = VGG16(weights='imagenet', include_top=True)\n",
        "vggmodel.summary()"
      ],
      "execution_count": null,
      "outputs": [
        {
          "output_type": "stream",
          "name": "stdout",
          "text": [
            "Downloading data from https://storage.googleapis.com/tensorflow/keras-applications/vgg16/vgg16_weights_tf_dim_ordering_tf_kernels.h5\n",
            "553467096/553467096 [==============================] - 29s 0us/step\n",
            "Model: \"vgg16\"\n",
            "_________________________________________________________________\n",
            " Layer (type)                Output Shape              Param #   \n",
            "=================================================================\n",
            " input_1 (InputLayer)        [(None, 224, 224, 3)]     0         \n",
            "                                                                 \n",
            " block1_conv1 (Conv2D)       (None, 224, 224, 64)      1792      \n",
            "                                                                 \n",
            " block1_conv2 (Conv2D)       (None, 224, 224, 64)      36928     \n",
            "                                                                 \n",
            " block1_pool (MaxPooling2D)  (None, 112, 112, 64)      0         \n",
            "                                                                 \n",
            " block2_conv1 (Conv2D)       (None, 112, 112, 128)     73856     \n",
            "                                                                 \n",
            " block2_conv2 (Conv2D)       (None, 112, 112, 128)     147584    \n",
            "                                                                 \n",
            " block2_pool (MaxPooling2D)  (None, 56, 56, 128)       0         \n",
            "                                                                 \n",
            " block3_conv1 (Conv2D)       (None, 56, 56, 256)       295168    \n",
            "                                                                 \n",
            " block3_conv2 (Conv2D)       (None, 56, 56, 256)       590080    \n",
            "                                                                 \n",
            " block3_conv3 (Conv2D)       (None, 56, 56, 256)       590080    \n",
            "                                                                 \n",
            " block3_pool (MaxPooling2D)  (None, 28, 28, 256)       0         \n",
            "                                                                 \n",
            " block4_conv1 (Conv2D)       (None, 28, 28, 512)       1180160   \n",
            "                                                                 \n",
            " block4_conv2 (Conv2D)       (None, 28, 28, 512)       2359808   \n",
            "                                                                 \n",
            " block4_conv3 (Conv2D)       (None, 28, 28, 512)       2359808   \n",
            "                                                                 \n",
            " block4_pool (MaxPooling2D)  (None, 14, 14, 512)       0         \n",
            "                                                                 \n",
            " block5_conv1 (Conv2D)       (None, 14, 14, 512)       2359808   \n",
            "                                                                 \n",
            " block5_conv2 (Conv2D)       (None, 14, 14, 512)       2359808   \n",
            "                                                                 \n",
            " block5_conv3 (Conv2D)       (None, 14, 14, 512)       2359808   \n",
            "                                                                 \n",
            " block5_pool (MaxPooling2D)  (None, 7, 7, 512)         0         \n",
            "                                                                 \n",
            " flatten (Flatten)           (None, 25088)             0         \n",
            "                                                                 \n",
            " fc1 (Dense)                 (None, 4096)              102764544 \n",
            "                                                                 \n",
            " fc2 (Dense)                 (None, 4096)              16781312  \n",
            "                                                                 \n",
            " predictions (Dense)         (None, 1000)              4097000   \n",
            "                                                                 \n",
            "=================================================================\n",
            "Total params: 138,357,544\n",
            "Trainable params: 138,357,544\n",
            "Non-trainable params: 0\n",
            "_________________________________________________________________\n"
          ]
        }
      ]
    },
    {
      "cell_type": "markdown",
      "metadata": {
        "id": "R2EKfZjtNS6T"
      },
      "source": [
        "<a id=section906></a>\n",
        "### **9.6 Freezing the layers**\n"
      ]
    },
    {
      "cell_type": "markdown",
      "metadata": {
        "id": "GT6Yht8hoeMI"
      },
      "source": [
        "- We are **freezing** the first **15 layers** because it is already trained on a similar task and training it again will result in **loss** of the previously learned **features**, and it also requires a lot of **time** and **resources**.\n",
        "\n",
        "- We are using these layers as **feature extractor**."
      ]
    },
    {
      "cell_type": "code",
      "metadata": {
        "id": "-IsR09aWL4BY",
        "colab": {
          "base_uri": "https://localhost:8080/"
        },
        "outputId": "34522426-e865-4e8b-ee65-f6322d07b1aa"
      },
      "source": [
        "for layers in (vggmodel.layers)[:15]:\n",
        "  print(layers)\n",
        "  layers.trainable = False"
      ],
      "execution_count": null,
      "outputs": [
        {
          "output_type": "stream",
          "name": "stdout",
          "text": [
            "<keras.engine.input_layer.InputLayer object at 0x7f27e2d6fc40>\n",
            "<keras.layers.convolutional.conv2d.Conv2D object at 0x7f27e2d553a0>\n",
            "<keras.layers.convolutional.conv2d.Conv2D object at 0x7f27e4fb3670>\n",
            "<keras.layers.pooling.max_pooling2d.MaxPooling2D object at 0x7f27e0344520>\n",
            "<keras.layers.convolutional.conv2d.Conv2D object at 0x7f27e0c98640>\n",
            "<keras.layers.convolutional.conv2d.Conv2D object at 0x7f27e0360820>\n",
            "<keras.layers.pooling.max_pooling2d.MaxPooling2D object at 0x7f27e035eac0>\n",
            "<keras.layers.convolutional.conv2d.Conv2D object at 0x7f27e035e490>\n",
            "<keras.layers.convolutional.conv2d.Conv2D object at 0x7f27e0344d60>\n",
            "<keras.layers.convolutional.conv2d.Conv2D object at 0x7f27e00b0970>\n",
            "<keras.layers.pooling.max_pooling2d.MaxPooling2D object at 0x7f27e00b0a00>\n",
            "<keras.layers.convolutional.conv2d.Conv2D object at 0x7f27e0360280>\n",
            "<keras.layers.convolutional.conv2d.Conv2D object at 0x7f27e00bb430>\n",
            "<keras.layers.convolutional.conv2d.Conv2D object at 0x7f27e00b6190>\n",
            "<keras.layers.pooling.max_pooling2d.MaxPooling2D object at 0x7f27e00c5160>\n"
          ]
        }
      ]
    },
    {
      "cell_type": "markdown",
      "metadata": {
        "id": "E9a7iZy0nzt_"
      },
      "source": [
        "<a id=section897></a>\n",
        "### **9.7 Adding Prediction Layer**"
      ]
    },
    {
      "cell_type": "markdown",
      "metadata": {
        "id": "KiP3Lok_vGcT"
      },
      "source": [
        "- Removing the last **two layers** and adding Dense layer with **`activation=\"softmax\"`** (prediction layer)."
      ]
    },
    {
      "cell_type": "code",
      "metadata": {
        "id": "NsfyiSXiL6OQ"
      },
      "source": [
        "X = vggmodel.layers[-2].output"
      ],
      "execution_count": null,
      "outputs": []
    },
    {
      "cell_type": "code",
      "metadata": {
        "id": "XVGCNxWBL7ER"
      },
      "source": [
        "predictions = Dense(2, activation=\"softmax\")(X)"
      ],
      "execution_count": null,
      "outputs": []
    },
    {
      "cell_type": "markdown",
      "metadata": {
        "id": "XF7x1mWl464h"
      },
      "source": [
        "- Creating the final model by combining the **feature extractor** layer (pre-trained) and the **prediction layer**."
      ]
    },
    {
      "cell_type": "code",
      "metadata": {
        "id": "kcHCEIdeL98p"
      },
      "source": [
        "model_final = Model(vggmodel.input, predictions)"
      ],
      "execution_count": null,
      "outputs": []
    },
    {
      "cell_type": "markdown",
      "metadata": {
        "id": "sTeJ2xv94j5y"
      },
      "source": [
        "- We are using **Adam optimizer** with (learninig rate) **`lr=0.0001`**."
      ]
    },
    {
      "cell_type": "code",
      "metadata": {
        "id": "UzotrzSCMB8Y",
        "colab": {
          "base_uri": "https://localhost:8080/"
        },
        "outputId": "423e8d09-75f3-4b17-9b93-5aa0617d4369"
      },
      "source": [
        "from keras.optimizers import Adam\n",
        "opt = Adam(lr=0.0001)"
      ],
      "execution_count": null,
      "outputs": [
        {
          "output_type": "stream",
          "name": "stderr",
          "text": [
            "/usr/local/lib/python3.9/dist-packages/keras/optimizers/optimizer_v2/adam.py:117: UserWarning: The `lr` argument is deprecated, use `learning_rate` instead.\n",
            "  super().__init__(name, **kwargs)\n"
          ]
        }
      ]
    },
    {
      "cell_type": "markdown",
      "metadata": {
        "id": "qk2YjFtH8NZl"
      },
      "source": [
        "- Compiling the model with **proper loss**, **optimizer** and **evaluation metric**."
      ]
    },
    {
      "cell_type": "code",
      "metadata": {
        "id": "-PiuSW2OMCuP"
      },
      "source": [
        "model_final.compile(loss = keras.losses.categorical_crossentropy, optimizer = opt, metrics=[\"accuracy\"])"
      ],
      "execution_count": null,
      "outputs": []
    },
    {
      "cell_type": "markdown",
      "metadata": {
        "id": "VPdKWdR45G3H"
      },
      "source": [
        "- Below we can see the **structure** of the model."
      ]
    },
    {
      "cell_type": "code",
      "metadata": {
        "colab": {
          "base_uri": "https://localhost:8080/"
        },
        "id": "m5gDdFLWMF2g",
        "outputId": "dc868a0e-e09d-478b-a67d-236f8a3060d9"
      },
      "source": [
        "model_final.summary()"
      ],
      "execution_count": null,
      "outputs": [
        {
          "output_type": "stream",
          "name": "stdout",
          "text": [
            "Model: \"model\"\n",
            "_________________________________________________________________\n",
            " Layer (type)                Output Shape              Param #   \n",
            "=================================================================\n",
            " input_1 (InputLayer)        [(None, 224, 224, 3)]     0         \n",
            "                                                                 \n",
            " block1_conv1 (Conv2D)       (None, 224, 224, 64)      1792      \n",
            "                                                                 \n",
            " block1_conv2 (Conv2D)       (None, 224, 224, 64)      36928     \n",
            "                                                                 \n",
            " block1_pool (MaxPooling2D)  (None, 112, 112, 64)      0         \n",
            "                                                                 \n",
            " block2_conv1 (Conv2D)       (None, 112, 112, 128)     73856     \n",
            "                                                                 \n",
            " block2_conv2 (Conv2D)       (None, 112, 112, 128)     147584    \n",
            "                                                                 \n",
            " block2_pool (MaxPooling2D)  (None, 56, 56, 128)       0         \n",
            "                                                                 \n",
            " block3_conv1 (Conv2D)       (None, 56, 56, 256)       295168    \n",
            "                                                                 \n",
            " block3_conv2 (Conv2D)       (None, 56, 56, 256)       590080    \n",
            "                                                                 \n",
            " block3_conv3 (Conv2D)       (None, 56, 56, 256)       590080    \n",
            "                                                                 \n",
            " block3_pool (MaxPooling2D)  (None, 28, 28, 256)       0         \n",
            "                                                                 \n",
            " block4_conv1 (Conv2D)       (None, 28, 28, 512)       1180160   \n",
            "                                                                 \n",
            " block4_conv2 (Conv2D)       (None, 28, 28, 512)       2359808   \n",
            "                                                                 \n",
            " block4_conv3 (Conv2D)       (None, 28, 28, 512)       2359808   \n",
            "                                                                 \n",
            " block4_pool (MaxPooling2D)  (None, 14, 14, 512)       0         \n",
            "                                                                 \n",
            " block5_conv1 (Conv2D)       (None, 14, 14, 512)       2359808   \n",
            "                                                                 \n",
            " block5_conv2 (Conv2D)       (None, 14, 14, 512)       2359808   \n",
            "                                                                 \n",
            " block5_conv3 (Conv2D)       (None, 14, 14, 512)       2359808   \n",
            "                                                                 \n",
            " block5_pool (MaxPooling2D)  (None, 7, 7, 512)         0         \n",
            "                                                                 \n",
            " flatten (Flatten)           (None, 25088)             0         \n",
            "                                                                 \n",
            " fc1 (Dense)                 (None, 4096)              102764544 \n",
            "                                                                 \n",
            " fc2 (Dense)                 (None, 4096)              16781312  \n",
            "                                                                 \n",
            " dense (Dense)               (None, 2)                 8194      \n",
            "                                                                 \n",
            "=================================================================\n",
            "Total params: 134,268,738\n",
            "Trainable params: 126,633,474\n",
            "Non-trainable params: 7,635,264\n",
            "_________________________________________________________________\n"
          ]
        }
      ]
    },
    {
      "cell_type": "markdown",
      "metadata": {
        "id": "9wjToeS-bj0A"
      },
      "source": [
        "**Observations:**\n",
        "- The top layers of the model are from the **pre-trained** **VGG** model.\n",
        "\n",
        "- Last layer is the **prediction** layer added by **us**."
      ]
    },
    {
      "cell_type": "markdown",
      "metadata": {
        "id": "ChEfeQQE3IcT"
      },
      "source": [
        "<a id=section98></a>\n",
        "### **9.8 Creating a Class for Custom Encoding**"
      ]
    },
    {
      "cell_type": "code",
      "metadata": {
        "id": "D13j-tVOMKPf"
      },
      "source": [
        "class MyLabelBinarizer(LabelBinarizer):\n",
        "    def transform(self, y):\n",
        "        Y = super().transform(y)\n",
        "        if self.y_type_ == 'binary':\n",
        "            #Stack arrays in sequence horizontally (column wise).\n",
        "            return np.hstack((Y, 1-Y))  \n",
        "        else:\n",
        "            return Y\n",
        "    def inverse_transform(self, Y, threshold=None):\n",
        "        if self.y_type_ == 'binary':\n",
        "            return super().inverse_transform(Y[:, 0], threshold)\n",
        "        else:\n",
        "            return super().inverse_transform(Y, threshold)"
      ],
      "execution_count": null,
      "outputs": []
    },
    {
      "cell_type": "markdown",
      "metadata": {
        "id": "Sn1CnkdbcUEp"
      },
      "source": [
        "- Using **`MyLabelBinarizer`** class to encode the label vector **`y_new`**."
      ]
    },
    {
      "cell_type": "code",
      "metadata": {
        "id": "vxwdml0BMQj4"
      },
      "source": [
        "lenc = MyLabelBinarizer()\n",
        "Y =  lenc.fit_transform(y_new)"
      ],
      "execution_count": null,
      "outputs": []
    },
    {
      "cell_type": "markdown",
      "metadata": {
        "id": "5AlxwFxeV0hL"
      },
      "source": [
        "<a id=section99></a>\n",
        "### **9.9 Splitting train and test data**"
      ]
    },
    {
      "cell_type": "code",
      "metadata": {
        "id": "SSDv10ALP8hq"
      },
      "source": [
        "X_train, X_test , y_train, y_test = train_test_split(X_new,Y,test_size=0.10)"
      ],
      "execution_count": null,
      "outputs": []
    },
    {
      "cell_type": "markdown",
      "metadata": {
        "id": "Hb_xsLGRoEpe"
      },
      "source": [
        "<a id=section910></a>\n",
        "### **9.10 Data Agumentation**"
      ]
    },
    {
      "cell_type": "markdown",
      "metadata": {
        "id": "62iXcyBGV8jJ"
      },
      "source": [
        "- Using **`ImageDataGenerator`** to perform image data agumentation in order  to add more samples."
      ]
    },
    {
      "cell_type": "code",
      "metadata": {
        "id": "xqkFwNjzMezQ"
      },
      "source": [
        "trdata = ImageDataGenerator(horizontal_flip=True, vertical_flip=True, rotation_range=90)\n",
        "traindata = trdata.flow(x=X_train, y=y_train)\n",
        "tsdata = ImageDataGenerator(horizontal_flip=True, vertical_flip=True, rotation_range=90)\n",
        "testdata = tsdata.flow(x=X_test, y=y_test)"
      ],
      "execution_count": null,
      "outputs": []
    },
    {
      "cell_type": "code",
      "metadata": {
        "id": "3az6SKayMgkf"
      },
      "source": [
        "from keras.callbacks import  EarlyStopping"
      ],
      "execution_count": null,
      "outputs": []
    },
    {
      "cell_type": "markdown",
      "metadata": {
        "id": "8Yo8TB2B5BI5"
      },
      "source": [
        "- Initializing **`EarlyStopping`** callback"
      ]
    },
    {
      "cell_type": "code",
      "metadata": {
        "id": "1u9PFN9pMik6"
      },
      "source": [
        "early = EarlyStopping(monitor='val_loss', min_delta=0, patience=100, verbose=1, mode='auto')"
      ],
      "execution_count": null,
      "outputs": []
    },
    {
      "cell_type": "markdown",
      "metadata": {
        "id": "VkDGC6VdoJou"
      },
      "source": [
        "<a id=section911></a>\n",
        "### **9.11 Training the Model**\n"
      ]
    },
    {
      "cell_type": "markdown",
      "metadata": {
        "id": "3hC4QxXK5PS7"
      },
      "source": [
        "- Training model for **`100 epochs`**."
      ]
    },
    {
      "cell_type": "code",
      "metadata": {
        "id": "liASjmdGMk87",
        "colab": {
          "base_uri": "https://localhost:8080/"
        },
        "outputId": "7fc86ce1-5980-45fd-ec64-ce3417dab483"
      },
      "source": [
        "hist = model_final.fit_generator(generator= traindata, epochs= 100, validation_data= testdata, validation_steps=2, callbacks=[early])"
      ],
      "execution_count": null,
      "outputs": [
        {
          "output_type": "stream",
          "name": "stderr",
          "text": [
            "<ipython-input-29-e36edaaa6d4a>:1: UserWarning: `Model.fit_generator` is deprecated and will be removed in a future version. Please use `Model.fit`, which supports generators.\n",
            "  hist = model_final.fit_generator(generator= traindata, epochs= 100, validation_data= testdata, validation_steps=2, callbacks=[early])\n"
          ]
        },
        {
          "output_type": "stream",
          "name": "stdout",
          "text": [
            "Epoch 1/100\n",
            "251/251 [==============================] - 116s 394ms/step - loss: 0.2548 - accuracy: 0.9151 - val_loss: 0.0914 - val_accuracy: 0.9688\n",
            "Epoch 2/100\n",
            "251/251 [==============================] - 96s 383ms/step - loss: 0.1608 - accuracy: 0.9454 - val_loss: 0.1449 - val_accuracy: 0.9688\n",
            "Epoch 3/100\n",
            "251/251 [==============================] - 98s 390ms/step - loss: 0.1410 - accuracy: 0.9522 - val_loss: 0.0962 - val_accuracy: 0.9844\n",
            "Epoch 4/100\n",
            "251/251 [==============================] - ETA: 0s - loss: 0.1268 - accuracy: 0.9582"
          ]
        }
      ]
    },
    {
      "cell_type": "markdown",
      "metadata": {
        "id": "-F_uu8-loN_n"
      },
      "source": [
        "<a id=section912></a>\n",
        "### **9.12 Plotting Training and Validation Loss**"
      ]
    },
    {
      "cell_type": "code",
      "metadata": {
        "id": "QqKAlr8cMmrX"
      },
      "source": [
        "import matplotlib.pyplot as plt\n",
        "# plt.plot(hist.history[\"acc\"])\n",
        "# plt.plot(hist.history['val_acc'])\n",
        "plt.plot(hist.history['loss'])\n",
        "plt.plot(hist.history['val_loss'])\n",
        "plt.title(\"model loss\")\n",
        "plt.ylabel(\"Loss\")\n",
        "plt.xlabel(\"Epoch\")\n",
        "plt.legend([\"Loss\",\"Validation Loss\"])\n",
        "plt.show()\n",
        "plt.savefig('chart loss.png')"
      ],
      "execution_count": null,
      "outputs": []
    },
    {
      "cell_type": "markdown",
      "metadata": {
        "id": "P5QUAfpG5QHi"
      },
      "source": [
        "**Obsservation:**\n",
        "- We can see a sudden **increase** in validation loss around **epoch 55** but gradually it decreases as the epoch **increases**."
      ]
    },
    {
      "cell_type": "code",
      "metadata": {
        "id": "P-Zx4NMBUniU"
      },
      "source": [
        "z = 0\n",
        "\n",
        "for e, i in enumerate(os.listdir(path)):\n",
        "    z += 1\n",
        "    img = cv2.imread(os.path.join(path,i))\n",
        "    ss.setBaseImage(img)\n",
        "    ss.switchToSelectiveSearchFast()\n",
        "    ssresults = ss.process()\n",
        "    imout = img.copy()\n",
        "    for e, result in enumerate(ssresults):\n",
        "        if e < 2000:\n",
        "            x,y,w,h = result\n",
        "            timage = imout[y:y+h,x:x+w]\n",
        "            resized = cv2.resize(timage, (224,224), interpolation = cv2.INTER_AREA)\n",
        "            img = np.expand_dims(resized, axis=0)\n",
        "            out= model_final.predict(img)\n",
        "            if out[0][0] > 0.70:\n",
        "                cv2.rectangle(imout, (x, y), (x+w, y+h), (0, 255, 0), 1, cv2.LINE_AA)\n",
        "    plt.figure()\n",
        "    plt.imshow(imout)\n",
        "    break"
      ],
      "execution_count": null,
      "outputs": []
    },
    {
      "cell_type": "markdown",
      "metadata": {
        "id": "qKXR44yJ5xlB"
      },
      "source": [
        "**Observation:**\n",
        "\n",
        "-  There are bounding boxes having **confidence > 70%** bounding the aeroplane in the image.\n",
        "\n",
        "<br> "
      ]
    },
    {
      "cell_type": "markdown",
      "metadata": {
        "id": "ArF037f8usss"
      },
      "source": [
        "- R-CNN uses **selective search** algorithm to extract the **top 2000 region** proposals among millions of **regions of interest** (ROI) proposals from an image and feed it to a **CNN** model.\n",
        "\n",
        "<br>   \n",
        "<center><img src=\"https://raw.githubusercontent.com/insaid2018/DeepLearning/master/images/odj1.png\" width='850' height=\"450\"></center>"
      ]
    },
    {
      "cell_type": "markdown",
      "metadata": {
        "id": "Kxq4vfHkL2Oy"
      },
      "source": [
        "<a id=section802></a>\n",
        "### **9.13 R-CNN Procedure**"
      ]
    },
    {
      "cell_type": "markdown",
      "metadata": {
        "id": "BPQsNiYRvC-G"
      },
      "source": [
        "\n",
        "<br>   \n",
        "<center><img src=\"https://raw.githubusercontent.com/insaid2018/DeepLearning/master/images/odj2.png\" width='850' height=\"400\"></center>"
      ]
    },
    {
      "cell_type": "markdown",
      "metadata": {
        "id": "nggmoGD3tl97"
      },
      "source": [
        "- R-CNN uses the **selective Search** Algorithm to find the **Regions of Interest** which is a **slow** and time **consuming** process.\n",
        "\n",
        "  - The above process shown, is for only one image. \n",
        "\n",
        "  - Now, if in the dataset we have **3000** training images, the entire **process** will run **3000** times. \n",
        "\n",
        "  - So, we can imagine how much **longer time** it takes to **train** the model. \n",
        "\n",
        "- Therefore, the number of **CNNs** used here is equal to the number of **ROI** proposals per **image**.\n",
        "\n",
        "  - Consequently, the total number of features for **CNN**, for **3000** images will become **3000 x 2000 = 6,000,000**."
      ]
    },
    {
      "cell_type": "markdown",
      "metadata": {
        "id": "e1UL8P_J-wgA"
      },
      "source": [
        "---\n",
        "<a name = Section10></a>\n",
        "# **10. Conclusion**\n",
        "---"
      ]
    },
    {
      "cell_type": "markdown",
      "metadata": {
        "id": "xcf8KrbJpn3O"
      },
      "source": [
        "- R-CNN is now **depricated** and is not used in real-time due to **slower** response time, but they are the building blocks of object detection **algorithm**.\n",
        "\n",
        "- Due to **advancement** in the domain of object **detection** the **R-CNN** varient has become obsolete.\n",
        "\n",
        "- We use more **advanced** techniques such as **Mask R-CNN**, **YOLO** (You Only Look Once), **Spatial Pyramid Pooling** (SPP-net), **Single Shot Detector** (SSD), and **RetinaNet** etc.\n",
        "\n",
        "- We will go through **YOLO** and **SSD** in-depth in our upcoming **module**."
      ]
    }
  ]
}