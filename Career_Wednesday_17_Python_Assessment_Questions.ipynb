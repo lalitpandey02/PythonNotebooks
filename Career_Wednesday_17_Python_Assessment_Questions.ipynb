{
  "nbformat": 4,
  "nbformat_minor": 0,
  "metadata": {
    "colab": {
      "name": "Career Wednesday - 17: Python Assessment Questions",
      "provenance": [],
      "collapsed_sections": [],
      "include_colab_link": true
    },
    "kernelspec": {
      "name": "python3",
      "display_name": "Python 3"
    },
    "language_info": {
      "name": "python"
    }
  },
  "cells": [
    {
      "cell_type": "markdown",
      "metadata": {
        "id": "view-in-github",
        "colab_type": "text"
      },
      "source": [
        "<a href=\"https://colab.research.google.com/github/lalitpandey02/PythonNotebooks/blob/main/Career_Wednesday_17_Python_Assessment_Questions.ipynb\" target=\"_parent\"><img src=\"https://colab.research.google.com/assets/colab-badge.svg\" alt=\"Open In Colab\"/></a>"
      ]
    },
    {
      "cell_type": "markdown",
      "source": [
        "<center><img src=\"https://github.com/insaid2018/Term-1/blob/master/Images/INSAID_Full%20Logo.png?raw=true\" width=\"240\" height=\"100\" /></center>\n",
        "\n",
        "**<center><h1>Career Wednesday</h3></center>**"
      ],
      "metadata": {
        "id": "aGcwUuQccGTj"
      }
    },
    {
      "cell_type": "markdown",
      "source": [
        "---\n",
        "# **Python Assessment**\n",
        "---\n",
        "\n",
        "####[**Questions**](#Section1)<br>\n",
        "\n",
        "  - ##### [**Question 1**](#Section11)<br>\n",
        "  - ##### [**Question 2**](#Section12)<br>\n",
        "  - ##### [**Question 3**](#Section13)<br>"
      ],
      "metadata": {
        "id": "ZPha1cshcfTG"
      }
    },
    {
      "cell_type": "code",
      "source": [
        "#Installing Evaluation Script\n",
        "!wget -q https://gitlab.com/academics3/insaid-data/-/raw/main/Career%20Wednesday%20Repo/3rd%20August%202022:%20Python%20Coding%20Assessment/Evaluation.py"
      ],
      "metadata": {
        "id": "tKDrGOAZN5RC"
      },
      "execution_count": 1,
      "outputs": []
    },
    {
      "cell_type": "code",
      "source": [
        "from Evaluation import *"
      ],
      "metadata": {
        "id": "39qJyzxxHvSu"
      },
      "execution_count": 2,
      "outputs": []
    },
    {
      "cell_type": "markdown",
      "source": [
        "<a name = Section11></a>\n",
        "\n",
        "---\n",
        "# **Questions:**\n",
        "---"
      ],
      "metadata": {
        "id": "5_nMZFd1H1fP"
      }
    },
    {
      "cell_type": "markdown",
      "source": [
        "<a name = Section11></a>\n",
        "## **Question 1: Find Unique Domains in a list of emails**\n",
        "\n",
        "Given a string that **contains n number of space separated email addresses** find and return the **list of unique email domains**\n",
        "\n",
        "\n",
        "### **Example:** \n",
        "\n",
        "**Input:** \n",
        "Email_String = 'Dewvrak12@hotmail.com Lakhsr33@gmail.com Fatik02@gmail.com \n",
        "Qmab555@yahoo.com Tatypd85@asia.com Aaman999@yahoo.com'\n",
        "\n",
        "**Output:**  [hotmail, gmail, yahoo, asia]\n",
        "\n",
        "### **Explanation:**\n",
        "There are 4 unique domains namely hotmail, gmail, yahoo, asia\n"
      ],
      "metadata": {
        "id": "FIiBk57FhQ7M"
      }
    },
    {
      "cell_type": "code",
      "source": [
        "def UniqueDomains(Email_String):\n",
        "    es1 = []\n",
        "    es = Email_String.split(\" \")\n",
        "    for i in es:\n",
        "      if ((i.split(\"@\")[1]).split(\".\")[0] not in es1):\n",
        "        es1.append((i.split(\"@\")[1]).split(\".\")[0])\n",
        "    \n",
        "    # es2 = list(set(es1))\n",
        "    return es1"
      ],
      "metadata": {
        "id": "cPPye-W2oc-A"
      },
      "execution_count": 48,
      "outputs": []
    },
    {
      "cell_type": "code",
      "source": [
        "#You can try out your function here"
      ],
      "metadata": {
        "id": "lSzTQt-XQAnO"
      },
      "execution_count": null,
      "outputs": []
    },
    {
      "cell_type": "markdown",
      "source": [
        "### **Test Cases:**\n",
        "\n",
        "Some Test Cases to evaluate your solution on **(Just Run the cell to check):**"
      ],
      "metadata": {
        "id": "qwCV9WtEvUrO"
      }
    },
    {
      "cell_type": "markdown",
      "source": [
        "#### **Test Case 1**"
      ],
      "metadata": {
        "id": "bsFUPEYs1oXs"
      }
    },
    {
      "cell_type": "code",
      "source": [
        "#Inputs\n",
        "Email_String = 'Dewvrak12@hotmail.com Lakhsr33@gmail.com Fatik02@gmail.com Qmab555@yahoo.com Tatypd85@asia.com Aaman999@yahoo.com'\n",
        "\n",
        "#Evaluate Test Case\n",
        "Run_UnqiueDomains_TestCase(UniqueDomains, Email_String)"
      ],
      "metadata": {
        "colab": {
          "base_uri": "https://localhost:8080/"
        },
        "id": "3h4M9vcYvhqQ",
        "outputId": "389ca07a-8e61-4a32-c766-d2ab22b645a4"
      },
      "execution_count": 49,
      "outputs": [
        {
          "output_type": "stream",
          "name": "stdout",
          "text": [
            "Test Case Pass: \n",
            "\n",
            "Correct Output: ['hotmail', 'gmail', 'yahoo', 'asia'] \n",
            "Your Output: ['hotmail', 'gmail', 'yahoo', 'asia']\n"
          ]
        }
      ]
    },
    {
      "cell_type": "markdown",
      "source": [
        "#### **Test Case 2**"
      ],
      "metadata": {
        "id": "IodXsbKn1rXd"
      }
    },
    {
      "cell_type": "code",
      "source": [
        "#Inputs\n",
        "Email_String = 'kspiteri@outlook.com rogerspl@sbcglobal.net dkeeler@me.com petersen@aol.com quantaman@verizon.net bhima@yahoo.ca stellaau@yahoo.ca jshearer@gmail.com tbmaddux@msn.com kwilliams@msn.com mcnihil@me.com epeeist@live.com'\n",
        "\n",
        "#Evaluate Test Case\n",
        "Run_UnqiueDomains_TestCase(UniqueDomains, Email_String)"
      ],
      "metadata": {
        "id": "SaspHjukzROn",
        "outputId": "2d70c99f-d46c-4ed9-a430-167851a83ee7",
        "colab": {
          "base_uri": "https://localhost:8080/"
        }
      },
      "execution_count": 50,
      "outputs": [
        {
          "output_type": "stream",
          "name": "stdout",
          "text": [
            "Test Case Pass: \n",
            "\n",
            "Correct Output: ['outlook', 'sbcglobal', 'me', 'aol', 'verizon', 'yahoo', 'gmail', 'msn', 'live'] \n",
            "Your Output: ['outlook', 'sbcglobal', 'me', 'aol', 'verizon', 'yahoo', 'gmail', 'msn', 'live']\n"
          ]
        }
      ]
    },
    {
      "cell_type": "markdown",
      "source": [
        "---\n",
        "<a name = Section12></a>\n",
        "## **Question 2:**\n",
        "\n",
        "Create a function to **compute the frequency(number of occurence) of the words from the input string.**\n",
        "\n",
        "Use a dictionay to store the **words as keys** and thier respective **frequency as the values.**\n",
        "\n",
        "**Finally return the dictonary**\n",
        "\n",
        "### **Example:** \n",
        "\n",
        "**Input:** \"He raced to the grocery store. He went inside but realized he forgot his wallet. He raced back home to grab it. Once he found it, he raced to the car again and drove back to the grocery store\"  \n",
        "\n",
        "**Output:**  \n",
        "\n",
        "{'He': 3, 'raced': 3, 'to': 4, 'the': 3, 'grocery': 2, 'store.': 1, 'went': 1, 'inside': 1, 'but': 1, 'realized': 1, 'he': 3, 'forgot': 1, 'his': 1, 'wallet.': 1, 'back': 2, 'home': 1, 'grab': 1, 'it.': 1, 'Once': 1, 'found': 1, 'it,': 1, 'car': 1, 'again': 1, 'and': 1, 'drove': 1, 'store': 1}\n"
      ],
      "metadata": {
        "id": "-MVdb9m4Gkmv"
      }
    },
    {
      "cell_type": "code",
      "source": [
        "def CountFreq(inpt_str):\n",
        "\n",
        "  #Write your code here"
      ],
      "metadata": {
        "id": "XlQCjKOIGryS"
      },
      "execution_count": null,
      "outputs": []
    },
    {
      "cell_type": "code",
      "source": [
        "#You can test your function here"
      ],
      "metadata": {
        "id": "jwFV4-N3G9fm"
      },
      "execution_count": null,
      "outputs": []
    },
    {
      "cell_type": "markdown",
      "source": [
        "### **Test Cases:**\n",
        "\n",
        "Some Test Cases to evaluate your solution on **(Just Run the cell to check):**"
      ],
      "metadata": {
        "id": "abJt9ZD3G6yN"
      }
    },
    {
      "cell_type": "markdown",
      "source": [
        "#### **Test Case 1**"
      ],
      "metadata": {
        "id": "TrE4AaucHEg2"
      }
    },
    {
      "cell_type": "code",
      "source": [
        "#Input\n",
        "Input = \"He raced to the grocery store He went inside but realized he forgot his wallet He raced back home to grab it Once he found it he raced to the car again and drove back to the grocery store\"\n",
        "\n",
        "#Checking Solution\n",
        "Run_CountFreq_TestCase(CountFreq, Input=Input)"
      ],
      "metadata": {
        "id": "xKDp47XrG2LK"
      },
      "execution_count": null,
      "outputs": []
    },
    {
      "cell_type": "markdown",
      "source": [
        "#### **Test Case 2**"
      ],
      "metadata": {
        "id": "8uMkXF5fHGk7"
      }
    },
    {
      "cell_type": "code",
      "source": [
        "#Input\n",
        "Input = \"Fear leads to anger and anger leads to hatred and hatred leads to conflict and conflict leads to suffering\"\n",
        "\n",
        "#Checking Solution\n",
        "Run_CountFreq_TestCase(CountFreq, Input=Input)"
      ],
      "metadata": {
        "id": "YFpsY_zTHGzy"
      },
      "execution_count": null,
      "outputs": []
    },
    {
      "cell_type": "markdown",
      "source": [
        "#### **Test Case 3**"
      ],
      "metadata": {
        "id": "50MmjB02HI0f"
      }
    },
    {
      "cell_type": "code",
      "source": [
        "#Input\n",
        "Input = \"Now is the time to make real the promises of democracy Now is the time to rise from the dark and desolate valley of segregation to the sunlit path of racial justice Now is the time to lift our nation from the quicksands of racial injustice to the solid rock of brotherhood Now is the time to make justice a reality for all of Gods children\"\n",
        "\n",
        "#Checking Solution\n",
        "Run_CountFreq_TestCase(CountFreq, Input=Input)"
      ],
      "metadata": {
        "id": "Hnpn45fiHJ8B"
      },
      "execution_count": null,
      "outputs": []
    },
    {
      "cell_type": "markdown",
      "source": [
        "---\n",
        "<a name = Section13></a>\n",
        "## **Question 3: Biggest Palindorme**\n",
        "\n",
        "Given a string with **space separated words**, **check whether the string is a palindrome** or not.   \n",
        "If the word is a **palindrome then the lenth of the word is the score** given to it.   \n",
        "And is the word is **not a palindrome** then its **score is zero.**\n",
        "Return The **word with the highest score.**\n",
        "\n",
        "### **Note:**\n",
        "Palindrome is a word that is **read the same backwards and forwards**, example: 'racecar' or 'level'.\n",
        "\n",
        "### **Example:**\n",
        "**Input:** \"borrow rotator mom yours moon night peep\"\n",
        "\n",
        "**Output:** 7\n",
        "\n",
        "### **Explanation:**  \n",
        "Rotator is the palindrome with the highest score (7)"
      ],
      "metadata": {
        "id": "bORje_Dcq82u"
      }
    },
    {
      "cell_type": "code",
      "source": [
        "def HighestScorePalindrome(input_str):\n",
        "\n",
        "  #write your code here"
      ],
      "metadata": {
        "id": "DDspHxIwrAU7"
      },
      "execution_count": null,
      "outputs": []
    },
    {
      "cell_type": "code",
      "source": [
        "#You can test your function here"
      ],
      "metadata": {
        "id": "-0W6Wj3a2-Fl"
      },
      "execution_count": null,
      "outputs": []
    },
    {
      "cell_type": "markdown",
      "source": [
        "### **Test Cases:**\n",
        "\n",
        "Some Test Cases to evaluate your solution on **(Just Run the cell to check):**"
      ],
      "metadata": {
        "id": "weCk2-fX2-Fl"
      }
    },
    {
      "cell_type": "markdown",
      "source": [
        "#### **Test Case 1**"
      ],
      "metadata": {
        "id": "NTZi1rZ_2-Fl"
      }
    },
    {
      "cell_type": "code",
      "source": [
        "#Input\n",
        "Input = \"borrow rotator mom yours moon night peep noon\"\n",
        "\n",
        "#Checking Solution\n",
        "Run_HighestScorePalindrome_TestCase(HighestScorePalindrome, Input=Input)"
      ],
      "metadata": {
        "id": "Mvt9TCvV2-Fl"
      },
      "execution_count": null,
      "outputs": []
    },
    {
      "cell_type": "markdown",
      "source": [
        "#### **Test Case 2**"
      ],
      "metadata": {
        "id": "kpsw2ETu3ar0"
      }
    },
    {
      "cell_type": "code",
      "source": [
        "#Input\n",
        "Input = \"murdrum wow mine rotavator world rat nest sharpest rarest Kazak Kayak cool compact sheesh heel peep\"\n",
        "\n",
        "#Checking Solution\n",
        "Run_HighestScorePalindrome_TestCase(HighestScorePalindrome, Input=Input)"
      ],
      "metadata": {
        "id": "7Ka7VLir3ar1"
      },
      "execution_count": null,
      "outputs": []
    },
    {
      "cell_type": "markdown",
      "source": [
        "#### **Test Case 3**"
      ],
      "metadata": {
        "id": "C7rcDByV3bPM"
      }
    },
    {
      "cell_type": "code",
      "source": [
        "#Input\n",
        "Input = \"deified redder esse abuse academic accept access accident accompany accomplish refer deked CEO ceremony certain certainly tenet stats\"\n",
        "\n",
        "#Checking Solution\n",
        "Run_HighestScorePalindrome_TestCase(HighestScorePalindrome, Input=Input)"
      ],
      "metadata": {
        "id": "mt1GsF613bPN"
      },
      "execution_count": null,
      "outputs": []
    }
  ]
}