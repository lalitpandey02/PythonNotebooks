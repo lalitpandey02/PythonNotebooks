{
  "cells": [
    {
      "cell_type": "markdown",
      "metadata": {
        "id": "view-in-github",
        "colab_type": "text"
      },
      "source": [
        "<a href=\"https://colab.research.google.com/github/lalitpandey02/PythonNotebooks/blob/main/movies_and_tv_shows_eda.ipynb\" target=\"_parent\"><img src=\"https://colab.research.google.com/assets/colab-badge.svg\" alt=\"Open In Colab\"/></a>"
      ]
    },
    {
      "cell_type": "markdown",
      "metadata": {
        "papermill": {
          "duration": 0.038452,
          "end_time": "2021-12-16T07:50:06.710574",
          "exception": false,
          "start_time": "2021-12-16T07:50:06.672122",
          "status": "completed"
        },
        "tags": [],
        "id": "97WPGy5YjkgW"
      },
      "source": [
        "<div class=\"alert alert-warning\">  \n",
        "<h1><strong>🍿Movies and TV shows on streaming platforms</strong></h1>\n",
        "    <h4>During the pandemic,the popularity of streaming platforms has soared immensely📈 <br><br>\n",
        "    Embracing the new normal,here's an EDA of the same.</h4>\n",
        "</div>"
      ]
    },
    {
      "cell_type": "markdown",
      "metadata": {
        "papermill": {
          "duration": 0.03657,
          "end_time": "2021-12-16T07:50:06.784332",
          "exception": false,
          "start_time": "2021-12-16T07:50:06.747762",
          "status": "completed"
        },
        "tags": [],
        "id": "eJI91CtMjkgg"
      },
      "source": [
        "<div>\n",
        "<img src=\"https://cdn.technadu.com/wp-content/uploads/2020/04/Netflix-Amazon-Prime-Hulu-Disney-Plus-Logos.png\" width=\"550\"/>\n",
        "</div>"
      ]
    },
    {
      "cell_type": "markdown",
      "metadata": {
        "papermill": {
          "duration": 0.036209,
          "end_time": "2021-12-16T07:50:06.857077",
          "exception": false,
          "start_time": "2021-12-16T07:50:06.820868",
          "status": "completed"
        },
        "tags": [],
        "id": "EmSO3ATXjkgi"
      },
      "source": [
        "<div class=\"alert alert-info\">  \n",
        "<h3><strong>Imports</strong></h3>\n",
        "</div>"
      ]
    },
    {
      "cell_type": "code",
      "source": [
        "# pip install colorama"
      ],
      "metadata": {
        "colab": {
          "base_uri": "https://localhost:8080/"
        },
        "id": "UMbYHSj5rW0d",
        "outputId": "5a892044-24f9-42e8-c8e0-e4c1a5cedb7f"
      },
      "execution_count": null,
      "outputs": [
        {
          "output_type": "stream",
          "name": "stdout",
          "text": [
            "Collecting colorama\n",
            "  Downloading colorama-0.4.4-py2.py3-none-any.whl (16 kB)\n",
            "Installing collected packages: colorama\n",
            "Successfully installed colorama-0.4.4\n"
          ]
        }
      ]
    },
    {
      "cell_type": "code",
      "source": [
        "from google.colab import drive\n",
        "drive.mount('/content/drive')"
      ],
      "metadata": {
        "colab": {
          "base_uri": "https://localhost:8080/"
        },
        "id": "iVvzf0VYu2Qt",
        "outputId": "b5d1c299-9b13-465d-d0b1-9c2270ef0a9d"
      },
      "execution_count": null,
      "outputs": [
        {
          "output_type": "stream",
          "name": "stdout",
          "text": [
            "Mounted at /content/drive\n"
          ]
        }
      ]
    },
    {
      "cell_type": "code",
      "execution_count": null,
      "metadata": {
        "_cell_guid": "79c7e3d0-c299-4dcb-8224-4455121ee9b0",
        "_uuid": "d629ff2d2480ee46fbb7e2d37f6b5fab8052498a",
        "execution": {
          "iopub.execute_input": "2021-12-16T07:50:06.934159Z",
          "iopub.status.busy": "2021-12-16T07:50:06.933218Z",
          "iopub.status.idle": "2021-12-16T07:50:08.567964Z",
          "shell.execute_reply": "2021-12-16T07:50:08.566788Z",
          "shell.execute_reply.started": "2021-12-16T07:49:01.697060Z"
        },
        "papermill": {
          "duration": 1.674401,
          "end_time": "2021-12-16T07:50:08.568097",
          "exception": false,
          "start_time": "2021-12-16T07:50:06.893696",
          "status": "completed"
        },
        "tags": [],
        "id": "XObBB_SNjkgj"
      },
      "outputs": [],
      "source": [
        "import pandas as pd\n",
        "import numpy as np\n",
        "import seaborn as sns\n",
        "import matplotlib.pyplot as plt\n",
        "%matplotlib inline\n",
        "import matplotlib.image as mpimg\n",
        "import math\n",
        "import plotly.express as px\n",
        "import plotly.graph_objects as go\n",
        "\n",
        "from matplotlib.offsetbox import (TextArea, DrawingArea, OffsetImage,\n",
        "                                  AnnotationBbox)\n",
        "from plotly.colors import n_colors\n",
        "from plotly.subplots import make_subplots\n",
        "from IPython.display import Image\n",
        "from colorama import Fore, Back, Style\n",
        "y_ = Fore.YELLOW\n",
        "r_ = Fore.RED\n",
        "g_ = Fore.GREEN\n",
        "b_ = Fore.BLUE\n",
        "m_ = Fore.MAGENTA\n",
        "sr_ = Style.RESET_ALL"
      ]
    },
    {
      "cell_type": "markdown",
      "metadata": {
        "papermill": {
          "duration": 0.037993,
          "end_time": "2021-12-16T07:50:08.644699",
          "exception": false,
          "start_time": "2021-12-16T07:50:08.606706",
          "status": "completed"
        },
        "tags": [],
        "id": "bMg2gUIxjkgn"
      },
      "source": [
        "<div class=\"alert alert-info\">  \n",
        "<h3><strong>Custom Color Palette</strong></h3>\n",
        "</div>"
      ]
    },
    {
      "cell_type": "code",
      "execution_count": null,
      "metadata": {
        "_kg_hide-input": true,
        "_kg_hide-output": true,
        "execution": {
          "iopub.execute_input": "2021-12-16T07:50:08.723016Z",
          "iopub.status.busy": "2021-12-16T07:50:08.722465Z",
          "iopub.status.idle": "2021-12-16T07:50:08.726413Z",
          "shell.execute_reply": "2021-12-16T07:50:08.726860Z",
          "shell.execute_reply.started": "2021-12-16T07:49:02.790014Z"
        },
        "papermill": {
          "duration": 0.044575,
          "end_time": "2021-12-16T07:50:08.726988",
          "exception": false,
          "start_time": "2021-12-16T07:50:08.682413",
          "status": "completed"
        },
        "tags": [],
        "id": "H4D5JOVRjkgp"
      },
      "outputs": [],
      "source": [
        "custom_colors = [\"#ff6b6b\",\"#95d5b2\",\"#a2d2ff\",\"#72efdd\"]\n",
        "customPalette = sns.set_palette(sns.color_palette(custom_colors))"
      ]
    },
    {
      "cell_type": "code",
      "execution_count": null,
      "metadata": {
        "_kg_hide-input": true,
        "execution": {
          "iopub.execute_input": "2021-12-16T07:50:08.804760Z",
          "iopub.status.busy": "2021-12-16T07:50:08.804184Z",
          "iopub.status.idle": "2021-12-16T07:50:08.883206Z",
          "shell.execute_reply": "2021-12-16T07:50:08.883820Z",
          "shell.execute_reply.started": "2021-12-16T07:49:02.798269Z"
        },
        "papermill": {
          "duration": 0.119287,
          "end_time": "2021-12-16T07:50:08.883979",
          "exception": false,
          "start_time": "2021-12-16T07:50:08.764692",
          "status": "completed"
        },
        "tags": [],
        "colab": {
          "base_uri": "https://localhost:8080/",
          "height": 89
        },
        "id": "fUHDJSjYjkgq",
        "outputId": "dd9362d8-b0aa-4670-c850-0f4b730487aa"
      },
      "outputs": [
        {
          "output_type": "display_data",
          "data": {
            "text/plain": [
              "<Figure size 288x72 with 1 Axes>"
            ],
            "image/png": "[encoded data removed]"
          },
          "metadata": {
            "needs_background": "light"
          }
        }
      ],
      "source": [
        "sns.palplot(sns.color_palette(custom_colors),size=1)"
      ]
    },
    {
      "cell_type": "markdown",
      "metadata": {
        "papermill": {
          "duration": 0.037821,
          "end_time": "2021-12-16T07:50:08.959826",
          "exception": false,
          "start_time": "2021-12-16T07:50:08.922005",
          "status": "completed"
        },
        "tags": [],
        "id": "hUCdMl1mjkgt"
      },
      "source": [
        "> <h3>Netflix</h3>"
      ]
    },
    {
      "cell_type": "code",
      "execution_count": null,
      "metadata": {
        "_kg_hide-input": true,
        "_kg_hide-output": false,
        "execution": {
          "iopub.execute_input": "2021-12-16T07:50:09.038188Z",
          "iopub.status.busy": "2021-12-16T07:50:09.037632Z",
          "iopub.status.idle": "2021-12-16T07:50:09.091056Z",
          "shell.execute_reply": "2021-12-16T07:50:09.090565Z",
          "shell.execute_reply.started": "2021-12-16T07:49:02.887782Z"
        },
        "papermill": {
          "duration": 0.094148,
          "end_time": "2021-12-16T07:50:09.091177",
          "exception": false,
          "start_time": "2021-12-16T07:50:08.997029",
          "status": "completed"
        },
        "tags": [],
        "colab": {
          "base_uri": "https://localhost:8080/",
          "height": 89
        },
        "id": "YdiR4eNZjkgu",
        "outputId": "5f5e20a0-d436-4b8d-fdfa-d8121b156b77"
      },
      "outputs": [
        {
          "output_type": "display_data",
          "data": {
            "text/plain": [
              "<Figure size 432x72 with 1 Axes>"
            ],
            "image/png": "[encoded data removed]"
          },
          "metadata": {
            "needs_background": "light"
          }
        }
      ],
      "source": [
        "netflix_p = sns.light_palette(custom_colors[0], reverse=True)\n",
        "sns.palplot(sns.color_palette(netflix_p),size=1)"
      ]
    },
    {
      "cell_type": "markdown",
      "metadata": {
        "papermill": {
          "duration": 0.037307,
          "end_time": "2021-12-16T07:50:09.166229",
          "exception": false,
          "start_time": "2021-12-16T07:50:09.128922",
          "status": "completed"
        },
        "tags": [],
        "id": "u9P8XUjZjkgw"
      },
      "source": [
        "> <h3>Hulu</h3>"
      ]
    },
    {
      "cell_type": "code",
      "execution_count": null,
      "metadata": {
        "_kg_hide-input": true,
        "_kg_hide-output": false,
        "execution": {
          "iopub.execute_input": "2021-12-16T07:50:09.244235Z",
          "iopub.status.busy": "2021-12-16T07:50:09.243638Z",
          "iopub.status.idle": "2021-12-16T07:50:09.295804Z",
          "shell.execute_reply": "2021-12-16T07:50:09.296208Z",
          "shell.execute_reply.started": "2021-12-16T07:49:02.981617Z"
        },
        "papermill": {
          "duration": 0.092646,
          "end_time": "2021-12-16T07:50:09.296369",
          "exception": false,
          "start_time": "2021-12-16T07:50:09.203723",
          "status": "completed"
        },
        "tags": [],
        "colab": {
          "base_uri": "https://localhost:8080/",
          "height": 89
        },
        "id": "PboN4Ojajkgx",
        "outputId": "93a09a17-caea-404b-a2b4-625cc35f906b"
      },
      "outputs": [
        {
          "output_type": "display_data",
          "data": {
            "text/plain": [
              "<Figure size 432x72 with 1 Axes>"
            ],
            "image/png": "[encoded data removed]"
          },
          "metadata": {
            "needs_background": "light"
          }
        }
      ],
      "source": [
        "hulu_p = sns.light_palette(custom_colors[1], reverse=True)\n",
        "sns.palplot(sns.color_palette(hulu_p),size=1)"
      ]
    },
    {
      "cell_type": "markdown",
      "metadata": {
        "papermill": {
          "duration": 0.037949,
          "end_time": "2021-12-16T07:50:09.373966",
          "exception": false,
          "start_time": "2021-12-16T07:50:09.336017",
          "status": "completed"
        },
        "tags": [],
        "id": "P-o2XdXTjkgy"
      },
      "source": [
        "> <h3>Prime Video</h3>"
      ]
    },
    {
      "cell_type": "code",
      "execution_count": null,
      "metadata": {
        "_kg_hide-input": true,
        "_kg_hide-output": false,
        "execution": {
          "iopub.execute_input": "2021-12-16T07:50:09.453098Z",
          "iopub.status.busy": "2021-12-16T07:50:09.452545Z",
          "iopub.status.idle": "2021-12-16T07:50:09.506524Z",
          "shell.execute_reply": "2021-12-16T07:50:09.505947Z",
          "shell.execute_reply.started": "2021-12-16T07:49:03.082959Z"
        },
        "papermill": {
          "duration": 0.094575,
          "end_time": "2021-12-16T07:50:09.506639",
          "exception": false,
          "start_time": "2021-12-16T07:50:09.412064",
          "status": "completed"
        },
        "tags": [],
        "colab": {
          "base_uri": "https://localhost:8080/",
          "height": 89
        },
        "id": "KLPEsXj5jkgz",
        "outputId": "497c5c26-a19e-4f4a-ab0d-893c971303f1"
      },
      "outputs": [
        {
          "output_type": "display_data",
          "data": {
            "text/plain": [
              "<Figure size 432x72 with 1 Axes>"
            ],
            "image/png": "[encoded data removed]"
          },
          "metadata": {
            "needs_background": "light"
          }
        }
      ],
      "source": [
        "prime_p = sns.light_palette(custom_colors[2], reverse=True)\n",
        "sns.palplot(sns.color_palette(prime_p),size=1)"
      ]
    },
    {
      "cell_type": "markdown",
      "metadata": {
        "papermill": {
          "duration": 0.039407,
          "end_time": "2021-12-16T07:50:09.585036",
          "exception": false,
          "start_time": "2021-12-16T07:50:09.545629",
          "status": "completed"
        },
        "tags": [],
        "id": "ZO5axc2Hjkg0"
      },
      "source": [
        "> <h3>Disney+</h3>"
      ]
    },
    {
      "cell_type": "code",
      "execution_count": null,
      "metadata": {
        "_kg_hide-input": true,
        "_kg_hide-output": false,
        "execution": {
          "iopub.execute_input": "2021-12-16T07:50:09.665951Z",
          "iopub.status.busy": "2021-12-16T07:50:09.665373Z",
          "iopub.status.idle": "2021-12-16T07:50:09.720039Z",
          "shell.execute_reply": "2021-12-16T07:50:09.720485Z",
          "shell.execute_reply.started": "2021-12-16T07:49:03.163372Z"
        },
        "papermill": {
          "duration": 0.096925,
          "end_time": "2021-12-16T07:50:09.720636",
          "exception": false,
          "start_time": "2021-12-16T07:50:09.623711",
          "status": "completed"
        },
        "tags": [],
        "colab": {
          "base_uri": "https://localhost:8080/",
          "height": 89
        },
        "id": "z8o_JwT5jkg0",
        "outputId": "c9c1f293-2cf1-4b16-fd2e-2f0ebcce1c07"
      },
      "outputs": [
        {
          "output_type": "display_data",
          "data": {
            "text/plain": [
              "<Figure size 432x72 with 1 Axes>"
            ],
            "image/png": "[encoded data removed]"
          },
          "metadata": {
            "needs_background": "light"
          }
        }
      ],
      "source": [
        "disney_p = sns.dark_palette(custom_colors[3], reverse=True)\n",
        "sns.palplot(sns.color_palette(disney_p),size=1)"
      ]
    },
    {
      "cell_type": "markdown",
      "metadata": {
        "papermill": {
          "duration": 0.039512,
          "end_time": "2021-12-16T07:50:09.800111",
          "exception": false,
          "start_time": "2021-12-16T07:50:09.760599",
          "status": "completed"
        },
        "tags": [],
        "id": "06TCXrb_jkg1"
      },
      "source": [
        "<div class=\"alert alert-info\">  \n",
        "<h3><strong>Loading the dataset and displaying rows</strong></h3>\n",
        "</div>"
      ]
    },
    {
      "cell_type": "code",
      "execution_count": null,
      "metadata": {
        "execution": {
          "iopub.execute_input": "2021-12-16T07:50:09.880480Z",
          "iopub.status.busy": "2021-12-16T07:50:09.879923Z",
          "iopub.status.idle": "2021-12-16T07:50:09.966760Z",
          "shell.execute_reply": "2021-12-16T07:50:09.966235Z",
          "shell.execute_reply.started": "2021-12-16T07:49:03.242898Z"
        },
        "papermill": {
          "duration": 0.127979,
          "end_time": "2021-12-16T07:50:09.966874",
          "exception": false,
          "start_time": "2021-12-16T07:50:09.838895",
          "status": "completed"
        },
        "tags": [],
        "colab": {
          "base_uri": "https://localhost:8080/",
          "height": 380
        },
        "id": "Xl4FkiPPjkg1",
        "outputId": "a2910c41-de21-49c6-8dc1-ab13d20933fb"
      },
      "outputs": [
        {
          "output_type": "error",
          "ename": "FileNotFoundError",
          "evalue": "ignored",
          "traceback": [
            "\u001b[0;31m---------------------------------------------------------------------------\u001b[0m",
            "\u001b[0;31mFileNotFoundError\u001b[0m                         Traceback (most recent call last)",
            "\u001b[0;32m<ipython-input-13-2a02dba9ead0>\u001b[0m in \u001b[0;36m<module>\u001b[0;34m()\u001b[0m\n\u001b[0;32m----> 1\u001b[0;31m \u001b[0mdf_tv\u001b[0m \u001b[0;34m=\u001b[0m \u001b[0mpd\u001b[0m\u001b[0;34m.\u001b[0m\u001b[0mread_csv\u001b[0m\u001b[0;34m(\u001b[0m\u001b[0;34m'../input/tv-shows-on-netflix-prime-video-hulu-and-disney/tv_shows.csv'\u001b[0m\u001b[0;34m)\u001b[0m\u001b[0;34m\u001b[0m\u001b[0;34m\u001b[0m\u001b[0m\n\u001b[0m\u001b[1;32m      2\u001b[0m \u001b[0mdf_movies\u001b[0m \u001b[0;34m=\u001b[0m \u001b[0mpd\u001b[0m\u001b[0;34m.\u001b[0m\u001b[0mread_csv\u001b[0m\u001b[0;34m(\u001b[0m\u001b[0;34m'../input/movies-on-netflix-prime-video-hulu-and-disney/MoviesOnStreamingPlatforms_updated.csv'\u001b[0m\u001b[0;34m)\u001b[0m\u001b[0;34m\u001b[0m\u001b[0;34m\u001b[0m\u001b[0m\n",
            "\u001b[0;32m/usr/local/lib/python3.7/dist-packages/pandas/util/_decorators.py\u001b[0m in \u001b[0;36mwrapper\u001b[0;34m(*args, **kwargs)\u001b[0m\n\u001b[1;32m    309\u001b[0m                     \u001b[0mstacklevel\u001b[0m\u001b[0;34m=\u001b[0m\u001b[0mstacklevel\u001b[0m\u001b[0;34m,\u001b[0m\u001b[0;34m\u001b[0m\u001b[0;34m\u001b[0m\u001b[0m\n\u001b[1;32m    310\u001b[0m                 )\n\u001b[0;32m--> 311\u001b[0;31m             \u001b[0;32mreturn\u001b[0m \u001b[0mfunc\u001b[0m\u001b[0;34m(\u001b[0m\u001b[0;34m*\u001b[0m\u001b[0margs\u001b[0m\u001b[0;34m,\u001b[0m \u001b[0;34m**\u001b[0m\u001b[0mkwargs\u001b[0m\u001b[0;34m)\u001b[0m\u001b[0;34m\u001b[0m\u001b[0;34m\u001b[0m\u001b[0m\n\u001b[0m\u001b[1;32m    312\u001b[0m \u001b[0;34m\u001b[0m\u001b[0m\n\u001b[1;32m    313\u001b[0m         \u001b[0;32mreturn\u001b[0m \u001b[0mwrapper\u001b[0m\u001b[0;34m\u001b[0m\u001b[0;34m\u001b[0m\u001b[0m\n",
            "\u001b[0;32m/usr/local/lib/python3.7/dist-packages/pandas/io/parsers/readers.py\u001b[0m in \u001b[0;36mread_csv\u001b[0;34m(filepath_or_buffer, sep, delimiter, header, names, index_col, usecols, squeeze, prefix, mangle_dupe_cols, dtype, engine, converters, true_values, false_values, skipinitialspace, skiprows, skipfooter, nrows, na_values, keep_default_na, na_filter, verbose, skip_blank_lines, parse_dates, infer_datetime_format, keep_date_col, date_parser, dayfirst, cache_dates, iterator, chunksize, compression, thousands, decimal, lineterminator, quotechar, quoting, doublequote, escapechar, comment, encoding, encoding_errors, dialect, error_bad_lines, warn_bad_lines, on_bad_lines, delim_whitespace, low_memory, memory_map, float_precision, storage_options)\u001b[0m\n\u001b[1;32m    584\u001b[0m     \u001b[0mkwds\u001b[0m\u001b[0;34m.\u001b[0m\u001b[0mupdate\u001b[0m\u001b[0;34m(\u001b[0m\u001b[0mkwds_defaults\u001b[0m\u001b[0;34m)\u001b[0m\u001b[0;34m\u001b[0m\u001b[0;34m\u001b[0m\u001b[0m\n\u001b[1;32m    585\u001b[0m \u001b[0;34m\u001b[0m\u001b[0m\n\u001b[0;32m--> 586\u001b[0;31m     \u001b[0;32mreturn\u001b[0m \u001b[0m_read\u001b[0m\u001b[0;34m(\u001b[0m\u001b[0mfilepath_or_buffer\u001b[0m\u001b[0;34m,\u001b[0m \u001b[0mkwds\u001b[0m\u001b[0;34m)\u001b[0m\u001b[0;34m\u001b[0m\u001b[0;34m\u001b[0m\u001b[0m\n\u001b[0m\u001b[1;32m    587\u001b[0m \u001b[0;34m\u001b[0m\u001b[0m\n\u001b[1;32m    588\u001b[0m \u001b[0;34m\u001b[0m\u001b[0m\n",
            "\u001b[0;32m/usr/local/lib/python3.7/dist-packages/pandas/io/parsers/readers.py\u001b[0m in \u001b[0;36m_read\u001b[0;34m(filepath_or_buffer, kwds)\u001b[0m\n\u001b[1;32m    480\u001b[0m \u001b[0;34m\u001b[0m\u001b[0m\n\u001b[1;32m    481\u001b[0m     \u001b[0;31m# Create the parser.\u001b[0m\u001b[0;34m\u001b[0m\u001b[0;34m\u001b[0m\u001b[0;34m\u001b[0m\u001b[0m\n\u001b[0;32m--> 482\u001b[0;31m     \u001b[0mparser\u001b[0m \u001b[0;34m=\u001b[0m \u001b[0mTextFileReader\u001b[0m\u001b[0;34m(\u001b[0m\u001b[0mfilepath_or_buffer\u001b[0m\u001b[0;34m,\u001b[0m \u001b[0;34m**\u001b[0m\u001b[0mkwds\u001b[0m\u001b[0;34m)\u001b[0m\u001b[0;34m\u001b[0m\u001b[0;34m\u001b[0m\u001b[0m\n\u001b[0m\u001b[1;32m    483\u001b[0m \u001b[0;34m\u001b[0m\u001b[0m\n\u001b[1;32m    484\u001b[0m     \u001b[0;32mif\u001b[0m \u001b[0mchunksize\u001b[0m \u001b[0;32mor\u001b[0m \u001b[0miterator\u001b[0m\u001b[0;34m:\u001b[0m\u001b[0;34m\u001b[0m\u001b[0;34m\u001b[0m\u001b[0m\n",
            "\u001b[0;32m/usr/local/lib/python3.7/dist-packages/pandas/io/parsers/readers.py\u001b[0m in \u001b[0;36m__init__\u001b[0;34m(self, f, engine, **kwds)\u001b[0m\n\u001b[1;32m    809\u001b[0m             \u001b[0mself\u001b[0m\u001b[0;34m.\u001b[0m\u001b[0moptions\u001b[0m\u001b[0;34m[\u001b[0m\u001b[0;34m\"has_index_names\"\u001b[0m\u001b[0;34m]\u001b[0m \u001b[0;34m=\u001b[0m \u001b[0mkwds\u001b[0m\u001b[0;34m[\u001b[0m\u001b[0;34m\"has_index_names\"\u001b[0m\u001b[0;34m]\u001b[0m\u001b[0;34m\u001b[0m\u001b[0;34m\u001b[0m\u001b[0m\n\u001b[1;32m    810\u001b[0m \u001b[0;34m\u001b[0m\u001b[0m\n\u001b[0;32m--> 811\u001b[0;31m         \u001b[0mself\u001b[0m\u001b[0;34m.\u001b[0m\u001b[0m_engine\u001b[0m \u001b[0;34m=\u001b[0m \u001b[0mself\u001b[0m\u001b[0;34m.\u001b[0m\u001b[0m_make_engine\u001b[0m\u001b[0;34m(\u001b[0m\u001b[0mself\u001b[0m\u001b[0;34m.\u001b[0m\u001b[0mengine\u001b[0m\u001b[0;34m)\u001b[0m\u001b[0;34m\u001b[0m\u001b[0;34m\u001b[0m\u001b[0m\n\u001b[0m\u001b[1;32m    812\u001b[0m \u001b[0;34m\u001b[0m\u001b[0m\n\u001b[1;32m    813\u001b[0m     \u001b[0;32mdef\u001b[0m \u001b[0mclose\u001b[0m\u001b[0;34m(\u001b[0m\u001b[0mself\u001b[0m\u001b[0;34m)\u001b[0m\u001b[0;34m:\u001b[0m\u001b[0;34m\u001b[0m\u001b[0;34m\u001b[0m\u001b[0m\n",
            "\u001b[0;32m/usr/local/lib/python3.7/dist-packages/pandas/io/parsers/readers.py\u001b[0m in \u001b[0;36m_make_engine\u001b[0;34m(self, engine)\u001b[0m\n\u001b[1;32m   1038\u001b[0m             )\n\u001b[1;32m   1039\u001b[0m         \u001b[0;31m# error: Too many arguments for \"ParserBase\"\u001b[0m\u001b[0;34m\u001b[0m\u001b[0;34m\u001b[0m\u001b[0;34m\u001b[0m\u001b[0m\n\u001b[0;32m-> 1040\u001b[0;31m         \u001b[0;32mreturn\u001b[0m \u001b[0mmapping\u001b[0m\u001b[0;34m[\u001b[0m\u001b[0mengine\u001b[0m\u001b[0;34m]\u001b[0m\u001b[0;34m(\u001b[0m\u001b[0mself\u001b[0m\u001b[0;34m.\u001b[0m\u001b[0mf\u001b[0m\u001b[0;34m,\u001b[0m \u001b[0;34m**\u001b[0m\u001b[0mself\u001b[0m\u001b[0;34m.\u001b[0m\u001b[0moptions\u001b[0m\u001b[0;34m)\u001b[0m  \u001b[0;31m# type: ignore[call-arg]\u001b[0m\u001b[0;34m\u001b[0m\u001b[0;34m\u001b[0m\u001b[0m\n\u001b[0m\u001b[1;32m   1041\u001b[0m \u001b[0;34m\u001b[0m\u001b[0m\n\u001b[1;32m   1042\u001b[0m     \u001b[0;32mdef\u001b[0m \u001b[0m_failover_to_python\u001b[0m\u001b[0;34m(\u001b[0m\u001b[0mself\u001b[0m\u001b[0;34m)\u001b[0m\u001b[0;34m:\u001b[0m\u001b[0;34m\u001b[0m\u001b[0;34m\u001b[0m\u001b[0m\n",
            "\u001b[0;32m/usr/local/lib/python3.7/dist-packages/pandas/io/parsers/c_parser_wrapper.py\u001b[0m in \u001b[0;36m__init__\u001b[0;34m(self, src, **kwds)\u001b[0m\n\u001b[1;32m     49\u001b[0m \u001b[0;34m\u001b[0m\u001b[0m\n\u001b[1;32m     50\u001b[0m         \u001b[0;31m# open handles\u001b[0m\u001b[0;34m\u001b[0m\u001b[0;34m\u001b[0m\u001b[0;34m\u001b[0m\u001b[0m\n\u001b[0;32m---> 51\u001b[0;31m         \u001b[0mself\u001b[0m\u001b[0;34m.\u001b[0m\u001b[0m_open_handles\u001b[0m\u001b[0;34m(\u001b[0m\u001b[0msrc\u001b[0m\u001b[0;34m,\u001b[0m \u001b[0mkwds\u001b[0m\u001b[0;34m)\u001b[0m\u001b[0;34m\u001b[0m\u001b[0;34m\u001b[0m\u001b[0m\n\u001b[0m\u001b[1;32m     52\u001b[0m         \u001b[0;32massert\u001b[0m \u001b[0mself\u001b[0m\u001b[0;34m.\u001b[0m\u001b[0mhandles\u001b[0m \u001b[0;32mis\u001b[0m \u001b[0;32mnot\u001b[0m \u001b[0;32mNone\u001b[0m\u001b[0;34m\u001b[0m\u001b[0;34m\u001b[0m\u001b[0m\n\u001b[1;32m     53\u001b[0m \u001b[0;34m\u001b[0m\u001b[0m\n",
            "\u001b[0;32m/usr/local/lib/python3.7/dist-packages/pandas/io/parsers/base_parser.py\u001b[0m in \u001b[0;36m_open_handles\u001b[0;34m(self, src, kwds)\u001b[0m\n\u001b[1;32m    227\u001b[0m             \u001b[0mmemory_map\u001b[0m\u001b[0;34m=\u001b[0m\u001b[0mkwds\u001b[0m\u001b[0;34m.\u001b[0m\u001b[0mget\u001b[0m\u001b[0;34m(\u001b[0m\u001b[0;34m\"memory_map\"\u001b[0m\u001b[0;34m,\u001b[0m \u001b[0;32mFalse\u001b[0m\u001b[0;34m)\u001b[0m\u001b[0;34m,\u001b[0m\u001b[0;34m\u001b[0m\u001b[0;34m\u001b[0m\u001b[0m\n\u001b[1;32m    228\u001b[0m             \u001b[0mstorage_options\u001b[0m\u001b[0;34m=\u001b[0m\u001b[0mkwds\u001b[0m\u001b[0;34m.\u001b[0m\u001b[0mget\u001b[0m\u001b[0;34m(\u001b[0m\u001b[0;34m\"storage_options\"\u001b[0m\u001b[0;34m,\u001b[0m \u001b[0;32mNone\u001b[0m\u001b[0;34m)\u001b[0m\u001b[0;34m,\u001b[0m\u001b[0;34m\u001b[0m\u001b[0;34m\u001b[0m\u001b[0m\n\u001b[0;32m--> 229\u001b[0;31m             \u001b[0merrors\u001b[0m\u001b[0;34m=\u001b[0m\u001b[0mkwds\u001b[0m\u001b[0;34m.\u001b[0m\u001b[0mget\u001b[0m\u001b[0;34m(\u001b[0m\u001b[0;34m\"encoding_errors\"\u001b[0m\u001b[0;34m,\u001b[0m \u001b[0;34m\"strict\"\u001b[0m\u001b[0;34m)\u001b[0m\u001b[0;34m,\u001b[0m\u001b[0;34m\u001b[0m\u001b[0;34m\u001b[0m\u001b[0m\n\u001b[0m\u001b[1;32m    230\u001b[0m         )\n\u001b[1;32m    231\u001b[0m \u001b[0;34m\u001b[0m\u001b[0m\n",
            "\u001b[0;32m/usr/local/lib/python3.7/dist-packages/pandas/io/common.py\u001b[0m in \u001b[0;36mget_handle\u001b[0;34m(path_or_buf, mode, encoding, compression, memory_map, is_text, errors, storage_options)\u001b[0m\n\u001b[1;32m    705\u001b[0m                 \u001b[0mencoding\u001b[0m\u001b[0;34m=\u001b[0m\u001b[0mioargs\u001b[0m\u001b[0;34m.\u001b[0m\u001b[0mencoding\u001b[0m\u001b[0;34m,\u001b[0m\u001b[0;34m\u001b[0m\u001b[0;34m\u001b[0m\u001b[0m\n\u001b[1;32m    706\u001b[0m                 \u001b[0merrors\u001b[0m\u001b[0;34m=\u001b[0m\u001b[0merrors\u001b[0m\u001b[0;34m,\u001b[0m\u001b[0;34m\u001b[0m\u001b[0;34m\u001b[0m\u001b[0m\n\u001b[0;32m--> 707\u001b[0;31m                 \u001b[0mnewline\u001b[0m\u001b[0;34m=\u001b[0m\u001b[0;34m\"\"\u001b[0m\u001b[0;34m,\u001b[0m\u001b[0;34m\u001b[0m\u001b[0;34m\u001b[0m\u001b[0m\n\u001b[0m\u001b[1;32m    708\u001b[0m             )\n\u001b[1;32m    709\u001b[0m         \u001b[0;32melse\u001b[0m\u001b[0;34m:\u001b[0m\u001b[0;34m\u001b[0m\u001b[0;34m\u001b[0m\u001b[0m\n",
            "\u001b[0;31mFileNotFoundError\u001b[0m: [Errno 2] No such file or directory: '../input/tv-shows-on-netflix-prime-video-hulu-and-disney/tv_shows.csv'"
          ]
        }
      ],
      "source": [
        "df_tv = pd.read_csv('../input/tv-shows-on-netflix-prime-video-hulu-and-disney/tv_shows.csv')\n",
        "df_movies = pd.read_csv('../input/movies-on-netflix-prime-video-hulu-and-disney/MoviesOnStreamingPlatforms_updated.csv')"
      ]
    },
    {
      "cell_type": "code",
      "execution_count": null,
      "metadata": {
        "execution": {
          "iopub.execute_input": "2021-12-16T07:50:10.049733Z",
          "iopub.status.busy": "2021-12-16T07:50:10.048813Z",
          "iopub.status.idle": "2021-12-16T07:50:10.071885Z",
          "shell.execute_reply": "2021-12-16T07:50:10.072455Z",
          "shell.execute_reply.started": "2021-12-16T07:49:03.308919Z"
        },
        "papermill": {
          "duration": 0.06574,
          "end_time": "2021-12-16T07:50:10.072598",
          "exception": false,
          "start_time": "2021-12-16T07:50:10.006858",
          "status": "completed"
        },
        "tags": [],
        "id": "6akKvFDqjkg1",
        "outputId": "4ad1774f-70a1-40c9-e52d-d1d1925dd46c"
      },
      "outputs": [
        {
          "data": {
            "text/html": [
              "<div>\n",
              "<style scoped>\n",
              "    .dataframe tbody tr th:only-of-type {\n",
              "        vertical-align: middle;\n",
              "    }\n",
              "\n",
              "    .dataframe tbody tr th {\n",
              "        vertical-align: top;\n",
              "    }\n",
              "\n",
              "    .dataframe thead th {\n",
              "        text-align: right;\n",
              "    }\n",
              "</style>\n",
              "<table border=\"1\" class=\"dataframe\">\n",
              "  <thead>\n",
              "    <tr style=\"text-align: right;\">\n",
              "      <th></th>\n",
              "      <th>ID</th>\n",
              "      <th>Title</th>\n",
              "      <th>Year</th>\n",
              "      <th>Age</th>\n",
              "      <th>IMDb</th>\n",
              "      <th>Rotten Tomatoes</th>\n",
              "      <th>Netflix</th>\n",
              "      <th>Hulu</th>\n",
              "      <th>Prime Video</th>\n",
              "      <th>Disney+</th>\n",
              "      <th>Type</th>\n",
              "    </tr>\n",
              "  </thead>\n",
              "  <tbody>\n",
              "    <tr>\n",
              "      <th>0</th>\n",
              "      <td>1</td>\n",
              "      <td>Breaking Bad</td>\n",
              "      <td>2008</td>\n",
              "      <td>18+</td>\n",
              "      <td>9.4/10</td>\n",
              "      <td>100/100</td>\n",
              "      <td>1</td>\n",
              "      <td>0</td>\n",
              "      <td>0</td>\n",
              "      <td>0</td>\n",
              "      <td>1</td>\n",
              "    </tr>\n",
              "    <tr>\n",
              "      <th>1</th>\n",
              "      <td>2</td>\n",
              "      <td>Stranger Things</td>\n",
              "      <td>2016</td>\n",
              "      <td>16+</td>\n",
              "      <td>8.7/10</td>\n",
              "      <td>96/100</td>\n",
              "      <td>1</td>\n",
              "      <td>0</td>\n",
              "      <td>0</td>\n",
              "      <td>0</td>\n",
              "      <td>1</td>\n",
              "    </tr>\n",
              "    <tr>\n",
              "      <th>2</th>\n",
              "      <td>3</td>\n",
              "      <td>Attack on Titan</td>\n",
              "      <td>2013</td>\n",
              "      <td>18+</td>\n",
              "      <td>9.0/10</td>\n",
              "      <td>95/100</td>\n",
              "      <td>1</td>\n",
              "      <td>1</td>\n",
              "      <td>0</td>\n",
              "      <td>0</td>\n",
              "      <td>1</td>\n",
              "    </tr>\n",
              "    <tr>\n",
              "      <th>3</th>\n",
              "      <td>4</td>\n",
              "      <td>Better Call Saul</td>\n",
              "      <td>2015</td>\n",
              "      <td>18+</td>\n",
              "      <td>8.8/10</td>\n",
              "      <td>94/100</td>\n",
              "      <td>1</td>\n",
              "      <td>0</td>\n",
              "      <td>0</td>\n",
              "      <td>0</td>\n",
              "      <td>1</td>\n",
              "    </tr>\n",
              "    <tr>\n",
              "      <th>4</th>\n",
              "      <td>5</td>\n",
              "      <td>Dark</td>\n",
              "      <td>2017</td>\n",
              "      <td>16+</td>\n",
              "      <td>8.8/10</td>\n",
              "      <td>93/100</td>\n",
              "      <td>1</td>\n",
              "      <td>0</td>\n",
              "      <td>0</td>\n",
              "      <td>0</td>\n",
              "      <td>1</td>\n",
              "    </tr>\n",
              "  </tbody>\n",
              "</table>\n",
              "</div>"
            ],
            "text/plain": [
              "   ID             Title  Year  Age    IMDb Rotten Tomatoes  Netflix  Hulu  \\\n",
              "0   1      Breaking Bad  2008  18+  9.4/10         100/100        1     0   \n",
              "1   2   Stranger Things  2016  16+  8.7/10          96/100        1     0   \n",
              "2   3   Attack on Titan  2013  18+  9.0/10          95/100        1     1   \n",
              "3   4  Better Call Saul  2015  18+  8.8/10          94/100        1     0   \n",
              "4   5              Dark  2017  16+  8.8/10          93/100        1     0   \n",
              "\n",
              "   Prime Video  Disney+  Type  \n",
              "0            0        0     1  \n",
              "1            0        0     1  \n",
              "2            0        0     1  \n",
              "3            0        0     1  \n",
              "4            0        0     1  "
            ]
          },
          "execution_count": 9,
          "metadata": {},
          "output_type": "execute_result"
        }
      ],
      "source": [
        "df_tv = df_tv.drop(['Unnamed: 0'], axis = 1) \n",
        "df_tv.head(5)"
      ]
    },
    {
      "cell_type": "code",
      "execution_count": null,
      "metadata": {
        "execution": {
          "iopub.execute_input": "2021-12-16T07:50:10.158375Z",
          "iopub.status.busy": "2021-12-16T07:50:10.157746Z",
          "iopub.status.idle": "2021-12-16T07:50:10.174060Z",
          "shell.execute_reply": "2021-12-16T07:50:10.174578Z",
          "shell.execute_reply.started": "2021-12-16T07:49:03.337013Z"
        },
        "papermill": {
          "duration": 0.061699,
          "end_time": "2021-12-16T07:50:10.174720",
          "exception": false,
          "start_time": "2021-12-16T07:50:10.113021",
          "status": "completed"
        },
        "tags": [],
        "id": "TLIie7Sjjkg2",
        "outputId": "479c21c2-c4f8-491c-8b47-c879519ca638"
      },
      "outputs": [
        {
          "data": {
            "text/html": [
              "<div>\n",
              "<style scoped>\n",
              "    .dataframe tbody tr th:only-of-type {\n",
              "        vertical-align: middle;\n",
              "    }\n",
              "\n",
              "    .dataframe tbody tr th {\n",
              "        vertical-align: top;\n",
              "    }\n",
              "\n",
              "    .dataframe thead th {\n",
              "        text-align: right;\n",
              "    }\n",
              "</style>\n",
              "<table border=\"1\" class=\"dataframe\">\n",
              "  <thead>\n",
              "    <tr style=\"text-align: right;\">\n",
              "      <th></th>\n",
              "      <th>Title</th>\n",
              "      <th>Year</th>\n",
              "      <th>Age</th>\n",
              "      <th>IMDb</th>\n",
              "      <th>Rotten Tomatoes</th>\n",
              "      <th>Netflix</th>\n",
              "      <th>Hulu</th>\n",
              "      <th>Prime Video</th>\n",
              "      <th>Disney+</th>\n",
              "      <th>Type</th>\n",
              "      <th>Directors</th>\n",
              "      <th>Genres</th>\n",
              "      <th>Country</th>\n",
              "      <th>Language</th>\n",
              "      <th>Runtime</th>\n",
              "    </tr>\n",
              "  </thead>\n",
              "  <tbody>\n",
              "    <tr>\n",
              "      <th>0</th>\n",
              "      <td>The Irishman</td>\n",
              "      <td>2019</td>\n",
              "      <td>18+</td>\n",
              "      <td>7.8/10</td>\n",
              "      <td>98/100</td>\n",
              "      <td>1</td>\n",
              "      <td>0</td>\n",
              "      <td>0</td>\n",
              "      <td>0</td>\n",
              "      <td>0</td>\n",
              "      <td>Martin Scorsese</td>\n",
              "      <td>Biography,Crime,Drama</td>\n",
              "      <td>United States</td>\n",
              "      <td>English,Italian,Latin,Spanish,German</td>\n",
              "      <td>209.0</td>\n",
              "    </tr>\n",
              "    <tr>\n",
              "      <th>1</th>\n",
              "      <td>Dangal</td>\n",
              "      <td>2016</td>\n",
              "      <td>7+</td>\n",
              "      <td>8.4/10</td>\n",
              "      <td>97/100</td>\n",
              "      <td>1</td>\n",
              "      <td>0</td>\n",
              "      <td>0</td>\n",
              "      <td>0</td>\n",
              "      <td>0</td>\n",
              "      <td>Nitesh Tiwari</td>\n",
              "      <td>Action,Biography,Drama,Sport</td>\n",
              "      <td>India,United States,United Kingdom,Australia,K...</td>\n",
              "      <td>Hindi,English</td>\n",
              "      <td>161.0</td>\n",
              "    </tr>\n",
              "    <tr>\n",
              "      <th>2</th>\n",
              "      <td>David Attenborough: A Life on Our Planet</td>\n",
              "      <td>2020</td>\n",
              "      <td>7+</td>\n",
              "      <td>9.0/10</td>\n",
              "      <td>95/100</td>\n",
              "      <td>1</td>\n",
              "      <td>0</td>\n",
              "      <td>0</td>\n",
              "      <td>0</td>\n",
              "      <td>0</td>\n",
              "      <td>Alastair Fothergill,Jonathan Hughes,Keith Scholey</td>\n",
              "      <td>Documentary,Biography</td>\n",
              "      <td>United Kingdom</td>\n",
              "      <td>English</td>\n",
              "      <td>83.0</td>\n",
              "    </tr>\n",
              "    <tr>\n",
              "      <th>3</th>\n",
              "      <td>Lagaan: Once Upon a Time in India</td>\n",
              "      <td>2001</td>\n",
              "      <td>7+</td>\n",
              "      <td>8.1/10</td>\n",
              "      <td>94/100</td>\n",
              "      <td>1</td>\n",
              "      <td>0</td>\n",
              "      <td>0</td>\n",
              "      <td>0</td>\n",
              "      <td>0</td>\n",
              "      <td>Ashutosh Gowariker</td>\n",
              "      <td>Drama,Musical,Sport</td>\n",
              "      <td>India,United Kingdom</td>\n",
              "      <td>Hindi,English</td>\n",
              "      <td>224.0</td>\n",
              "    </tr>\n",
              "    <tr>\n",
              "      <th>4</th>\n",
              "      <td>Roma</td>\n",
              "      <td>2018</td>\n",
              "      <td>18+</td>\n",
              "      <td>7.7/10</td>\n",
              "      <td>94/100</td>\n",
              "      <td>1</td>\n",
              "      <td>0</td>\n",
              "      <td>0</td>\n",
              "      <td>0</td>\n",
              "      <td>0</td>\n",
              "      <td>NaN</td>\n",
              "      <td>Action,Drama,History,Romance,War</td>\n",
              "      <td>United Kingdom,United States</td>\n",
              "      <td>English</td>\n",
              "      <td>52.0</td>\n",
              "    </tr>\n",
              "  </tbody>\n",
              "</table>\n",
              "</div>"
            ],
            "text/plain": [
              "                                      Title  Year  Age    IMDb  \\\n",
              "0                              The Irishman  2019  18+  7.8/10   \n",
              "1                                    Dangal  2016   7+  8.4/10   \n",
              "2  David Attenborough: A Life on Our Planet  2020   7+  9.0/10   \n",
              "3         Lagaan: Once Upon a Time in India  2001   7+  8.1/10   \n",
              "4                                      Roma  2018  18+  7.7/10   \n",
              "\n",
              "  Rotten Tomatoes  Netflix  Hulu  Prime Video  Disney+  Type  \\\n",
              "0          98/100        1     0            0        0     0   \n",
              "1          97/100        1     0            0        0     0   \n",
              "2          95/100        1     0            0        0     0   \n",
              "3          94/100        1     0            0        0     0   \n",
              "4          94/100        1     0            0        0     0   \n",
              "\n",
              "                                           Directors  \\\n",
              "0                                    Martin Scorsese   \n",
              "1                                      Nitesh Tiwari   \n",
              "2  Alastair Fothergill,Jonathan Hughes,Keith Scholey   \n",
              "3                                 Ashutosh Gowariker   \n",
              "4                                                NaN   \n",
              "\n",
              "                             Genres  \\\n",
              "0             Biography,Crime,Drama   \n",
              "1      Action,Biography,Drama,Sport   \n",
              "2             Documentary,Biography   \n",
              "3               Drama,Musical,Sport   \n",
              "4  Action,Drama,History,Romance,War   \n",
              "\n",
              "                                             Country  \\\n",
              "0                                      United States   \n",
              "1  India,United States,United Kingdom,Australia,K...   \n",
              "2                                     United Kingdom   \n",
              "3                               India,United Kingdom   \n",
              "4                       United Kingdom,United States   \n",
              "\n",
              "                               Language  Runtime  \n",
              "0  English,Italian,Latin,Spanish,German    209.0  \n",
              "1                         Hindi,English    161.0  \n",
              "2                               English     83.0  \n",
              "3                         Hindi,English    224.0  \n",
              "4                               English     52.0  "
            ]
          },
          "execution_count": 10,
          "metadata": {},
          "output_type": "execute_result"
        }
      ],
      "source": [
        "df_movies = df_movies.drop(['Unnamed: 0','ID'], axis = 1) \n",
        "df_movies.head(5)"
      ]
    },
    {
      "cell_type": "markdown",
      "metadata": {
        "papermill": {
          "duration": 0.041057,
          "end_time": "2021-12-16T07:50:10.257023",
          "exception": false,
          "start_time": "2021-12-16T07:50:10.215966",
          "status": "completed"
        },
        "tags": [],
        "id": "oeB7qmRYjkg3"
      },
      "source": [
        "<h3> Number of unique directors for movies </h3>"
      ]
    },
    {
      "cell_type": "code",
      "execution_count": null,
      "metadata": {
        "execution": {
          "iopub.execute_input": "2021-12-16T07:50:10.342380Z",
          "iopub.status.busy": "2021-12-16T07:50:10.341753Z",
          "iopub.status.idle": "2021-12-16T07:50:10.349102Z",
          "shell.execute_reply": "2021-12-16T07:50:10.348660Z",
          "shell.execute_reply.started": "2021-12-16T07:49:03.363945Z"
        },
        "papermill": {
          "duration": 0.051093,
          "end_time": "2021-12-16T07:50:10.349234",
          "exception": false,
          "start_time": "2021-12-16T07:50:10.298141",
          "status": "completed"
        },
        "tags": [],
        "id": "9VEcOF6mjkg3",
        "outputId": "7f3d4612-337e-48f3-9dea-9bda6df84e55"
      },
      "outputs": [
        {
          "data": {
            "text/plain": [
              "6618"
            ]
          },
          "execution_count": 11,
          "metadata": {},
          "output_type": "execute_result"
        }
      ],
      "source": [
        "len(df_movies['Directors'].unique())"
      ]
    },
    {
      "cell_type": "markdown",
      "metadata": {
        "papermill": {
          "duration": 0.041289,
          "end_time": "2021-12-16T07:50:10.431006",
          "exception": false,
          "start_time": "2021-12-16T07:50:10.389717",
          "status": "completed"
        },
        "tags": [],
        "id": "YzU9TUMQjkg3"
      },
      "source": [
        "<h3>Number of unique genres for movies </h3>"
      ]
    },
    {
      "cell_type": "code",
      "execution_count": null,
      "metadata": {
        "execution": {
          "iopub.execute_input": "2021-12-16T07:50:10.518616Z",
          "iopub.status.busy": "2021-12-16T07:50:10.518015Z",
          "iopub.status.idle": "2021-12-16T07:50:10.521516Z",
          "shell.execute_reply": "2021-12-16T07:50:10.521902Z",
          "shell.execute_reply.started": "2021-12-16T07:49:03.379974Z"
        },
        "papermill": {
          "duration": 0.05023,
          "end_time": "2021-12-16T07:50:10.522039",
          "exception": false,
          "start_time": "2021-12-16T07:50:10.471809",
          "status": "completed"
        },
        "tags": [],
        "id": "WnlgT4Osjkg4",
        "outputId": "7183a8cb-0725-4ff2-d7ea-bdfda4c190a4"
      },
      "outputs": [
        {
          "data": {
            "text/plain": [
              "1419"
            ]
          },
          "execution_count": 12,
          "metadata": {},
          "output_type": "execute_result"
        }
      ],
      "source": [
        "len(df_movies['Genres'].unique())"
      ]
    },
    {
      "cell_type": "markdown",
      "metadata": {
        "papermill": {
          "duration": 0.04099,
          "end_time": "2021-12-16T07:50:10.603785",
          "exception": false,
          "start_time": "2021-12-16T07:50:10.562795",
          "status": "completed"
        },
        "tags": [],
        "id": "lmUloN7Ijkg4"
      },
      "source": [
        "<div class=\"alert alert-info\">  \n",
        "<h3><strong>Feature generation</strong></h3>\n",
        "</div>"
      ]
    },
    {
      "cell_type": "code",
      "execution_count": null,
      "metadata": {
        "_kg_hide-input": true,
        "_kg_hide-output": true,
        "execution": {
          "iopub.execute_input": "2021-12-16T07:50:10.690471Z",
          "iopub.status.busy": "2021-12-16T07:50:10.689864Z",
          "iopub.status.idle": "2021-12-16T07:50:10.692189Z",
          "shell.execute_reply": "2021-12-16T07:50:10.692630Z",
          "shell.execute_reply.started": "2021-12-16T07:49:03.393724Z"
        },
        "papermill": {
          "duration": 0.048104,
          "end_time": "2021-12-16T07:50:10.692763",
          "exception": false,
          "start_time": "2021-12-16T07:50:10.644659",
          "status": "completed"
        },
        "tags": [],
        "id": "XYaMxRBhjkg5"
      },
      "outputs": [],
      "source": [
        "def splitting(dataframe,col):\n",
        "    result = dataframe[col].str.get_dummies(',')\n",
        "    print('Done!')\n",
        "    return result"
      ]
    },
    {
      "cell_type": "code",
      "execution_count": null,
      "metadata": {
        "_kg_hide-output": true,
        "execution": {
          "iopub.execute_input": "2021-12-16T07:50:10.776889Z",
          "iopub.status.busy": "2021-12-16T07:50:10.776323Z",
          "iopub.status.idle": "2021-12-16T07:50:12.068507Z",
          "shell.execute_reply": "2021-12-16T07:50:12.068011Z",
          "shell.execute_reply.started": "2021-12-16T07:49:03.404841Z"
        },
        "papermill": {
          "duration": 1.335173,
          "end_time": "2021-12-16T07:50:12.068627",
          "exception": false,
          "start_time": "2021-12-16T07:50:10.733454",
          "status": "completed"
        },
        "tags": [],
        "id": "Hv3boFQtjkg6",
        "outputId": "8826dfbe-ca24-4ed7-d44d-29ab93ee68cb"
      },
      "outputs": [
        {
          "name": "stdout",
          "output_type": "stream",
          "text": [
            "Done!\n",
            "Done!\n"
          ]
        }
      ],
      "source": [
        "m_genres = splitting(df_movies,'Genres')\n",
        "m_lang = splitting(df_movies,'Language')"
      ]
    },
    {
      "cell_type": "markdown",
      "metadata": {
        "papermill": {
          "duration": 0.040758,
          "end_time": "2021-12-16T07:50:12.151300",
          "exception": false,
          "start_time": "2021-12-16T07:50:12.110542",
          "status": "completed"
        },
        "tags": [],
        "id": "YueRIagAjkg6"
      },
      "source": [
        "<div class=\"alert alert-info\">  \n",
        "<h3><strong>TV shows and Movies per platform</strong></h3>\n",
        "</div>"
      ]
    },
    {
      "cell_type": "code",
      "execution_count": null,
      "metadata": {
        "execution": {
          "iopub.execute_input": "2021-12-16T07:50:12.236830Z",
          "iopub.status.busy": "2021-12-16T07:50:12.236164Z",
          "iopub.status.idle": "2021-12-16T07:50:12.239819Z",
          "shell.execute_reply": "2021-12-16T07:50:12.240221Z",
          "shell.execute_reply.started": "2021-12-16T07:49:05.575542Z"
        },
        "papermill": {
          "duration": 0.047894,
          "end_time": "2021-12-16T07:50:12.240378",
          "exception": false,
          "start_time": "2021-12-16T07:50:12.192484",
          "status": "completed"
        },
        "tags": [],
        "id": "AvIvwTfzjkg7"
      },
      "outputs": [],
      "source": [
        "def val_sum(df,c):\n",
        "    return df[c].sum(axis=0)"
      ]
    },
    {
      "cell_type": "code",
      "execution_count": null,
      "metadata": {
        "execution": {
          "iopub.execute_input": "2021-12-16T07:50:12.325317Z",
          "iopub.status.busy": "2021-12-16T07:50:12.324746Z",
          "iopub.status.idle": "2021-12-16T07:50:12.330229Z",
          "shell.execute_reply": "2021-12-16T07:50:12.330708Z",
          "shell.execute_reply.started": "2021-12-16T07:49:05.582884Z"
        },
        "papermill": {
          "duration": 0.049372,
          "end_time": "2021-12-16T07:50:12.330844",
          "exception": false,
          "start_time": "2021-12-16T07:50:12.281472",
          "status": "completed"
        },
        "tags": [],
        "id": "Duf9lvT7jkg8"
      },
      "outputs": [],
      "source": [
        "val_counts = []\n",
        "dfs = [df_movies,df_tv]\n",
        "cols = ['Netflix','Hulu','Prime Video','Disney+']\n",
        "\n",
        "for x in dfs:\n",
        "    for y in cols:\n",
        "        val_counts.append(val_sum(x,y))"
      ]
    },
    {
      "cell_type": "code",
      "execution_count": null,
      "metadata": {
        "_kg_hide-output": true,
        "execution": {
          "iopub.execute_input": "2021-12-16T07:50:12.416080Z",
          "iopub.status.busy": "2021-12-16T07:50:12.415462Z",
          "iopub.status.idle": "2021-12-16T07:50:12.419691Z",
          "shell.execute_reply": "2021-12-16T07:50:12.420165Z",
          "shell.execute_reply.started": "2021-12-16T07:49:05.598029Z"
        },
        "papermill": {
          "duration": 0.047968,
          "end_time": "2021-12-16T07:50:12.420302",
          "exception": false,
          "start_time": "2021-12-16T07:50:12.372334",
          "status": "completed"
        },
        "tags": [],
        "id": "ptTA9asKjkg8",
        "outputId": "d58700d7-ffb3-4a4b-e774-3f5bd5626b7b"
      },
      "outputs": [
        {
          "data": {
            "text/plain": [
              "[3695, 1047, 4113, 922, 1971, 1621, 1831, 351]"
            ]
          },
          "execution_count": 17,
          "metadata": {},
          "output_type": "execute_result"
        }
      ],
      "source": [
        "val_counts"
      ]
    },
    {
      "cell_type": "code",
      "execution_count": null,
      "metadata": {
        "_kg_hide-input": true,
        "execution": {
          "iopub.execute_input": "2021-12-16T07:50:12.506575Z",
          "iopub.status.busy": "2021-12-16T07:50:12.505980Z",
          "iopub.status.idle": "2021-12-16T07:50:12.511563Z",
          "shell.execute_reply": "2021-12-16T07:50:12.512076Z",
          "shell.execute_reply.started": "2021-12-16T07:49:05.614933Z"
        },
        "papermill": {
          "duration": 0.050382,
          "end_time": "2021-12-16T07:50:12.512226",
          "exception": false,
          "start_time": "2021-12-16T07:50:12.461844",
          "status": "completed"
        },
        "tags": [],
        "id": "Jp2bQViSjkg9"
      },
      "outputs": [],
      "source": [
        "def donut(i,df,sizes,title):\n",
        "    plt.subplot(i)\n",
        "    plt.pie(sizes, explode=explode, labels=labels, colors=colors,\n",
        "                autopct='%1.1f%%', shadow=True)\n",
        "\n",
        "    centre_circle = plt.Circle((0,0),0.5,color='black', fc='white',linewidth=1.25)\n",
        "    fig = plt.gcf()\n",
        "    fig.gca().add_artist(centre_circle)\n",
        "    plt.title(title)\n",
        "    plt.axis('equal')"
      ]
    },
    {
      "cell_type": "code",
      "execution_count": null,
      "metadata": {
        "_kg_hide-input": true,
        "execution": {
          "iopub.execute_input": "2021-12-16T07:50:12.599339Z",
          "iopub.status.busy": "2021-12-16T07:50:12.598774Z",
          "iopub.status.idle": "2021-12-16T07:50:12.756919Z",
          "shell.execute_reply": "2021-12-16T07:50:12.757368Z",
          "shell.execute_reply.started": "2021-12-16T07:49:05.626235Z"
        },
        "papermill": {
          "duration": 0.203231,
          "end_time": "2021-12-16T07:50:12.757506",
          "exception": false,
          "start_time": "2021-12-16T07:50:12.554275",
          "status": "completed"
        },
        "tags": [],
        "id": "SI3U2mDbjkg9",
        "outputId": "6efdf2ea-b054-4a42-ffc9-fc5e4a5b64a0"
      },
      "outputs": [
        {
          "data": {
            "image/png": "[encoded data removed]",
            "text/plain": [
              "<Figure size 1152x576 with 2 Axes>"
            ]
          },
          "metadata": {},
          "output_type": "display_data"
        }
      ],
      "source": [
        "fig = plt.subplots(figsize=(16, 8))\n",
        "labels = 'Netflix', 'Hulu','Prime','Disney+'\n",
        "sizes1 = [val_counts[0], val_counts[1],val_counts[2],val_counts[3]]\n",
        "sizes2 = [val_counts[4], val_counts[5],val_counts[6],val_counts[7]]\n",
        "colors = custom_colors\n",
        "explode = (0, 0, 0, 0) \n",
        "\n",
        "donut(121,df_movies,sizes1,'Movies')\n",
        "donut(122,df_tv,sizes2,'TV shows')\n",
        "plt.show()"
      ]
    },
    {
      "cell_type": "markdown",
      "metadata": {
        "papermill": {
          "duration": 0.061263,
          "end_time": "2021-12-16T07:50:12.869898",
          "exception": false,
          "start_time": "2021-12-16T07:50:12.808635",
          "status": "completed"
        },
        "tags": [],
        "id": "WSGEe5sZjkg-"
      },
      "source": [
        "<div>  \n",
        "<h4><strong>📌 Prime has the maximum number of movies and Netflix has the maximum number of tv shows!</strong></h4>\n",
        "</div>"
      ]
    },
    {
      "cell_type": "code",
      "execution_count": null,
      "metadata": {
        "_kg_hide-input": true,
        "execution": {
          "iopub.execute_input": "2021-12-16T07:50:12.970029Z",
          "iopub.status.busy": "2021-12-16T07:50:12.969464Z",
          "iopub.status.idle": "2021-12-16T07:50:13.127141Z",
          "shell.execute_reply": "2021-12-16T07:50:13.126587Z",
          "shell.execute_reply.started": "2021-12-16T07:49:05.823759Z"
        },
        "papermill": {
          "duration": 0.203653,
          "end_time": "2021-12-16T07:50:13.127283",
          "exception": false,
          "start_time": "2021-12-16T07:50:12.923630",
          "status": "completed"
        },
        "tags": [],
        "id": "r_z4HmZ8jkg_",
        "outputId": "679c15dd-7781-4c4b-ad82-d562f50e7768"
      },
      "outputs": [
        {
          "data": {
            "text/html": [
              "        <script type=\"text/javascript\">\n",
              "        window.PlotlyConfig = {MathJaxConfig: 'local'};\n",
              "        if (window.MathJax) {MathJax.Hub.Config({SVG: {font: \"STIX-Web\"}});}\n",
              "        if (typeof require !== 'undefined') {\n",
              "        require.undef(\"plotly\");\n",
              "        requirejs.config({\n",
              "            paths: {\n",
              "                'plotly': ['https://cdn.plot.ly/plotly-latest.min']\n",
              "            }\n",
              "        });\n",
              "        require(['plotly'], function(Plotly) {\n",
              "            window._Plotly = Plotly;\n",
              "        });\n",
              "        }\n",
              "        </script>\n",
              "        "
            ]
          },
          "metadata": {},
          "output_type": "display_data"
        },
        {
          "data": {
            "text/html": [
              "<div>                            <div id=\"39516da9-bf0b-46a6-b3d8-148935f9c238\" class=\"plotly-graph-div\" style=\"height:525px; width:100%;\"></div>            <script type=\"text/javascript\">                require([\"plotly\"], function(Plotly) {                    window.PLOTLYENV=window.PLOTLYENV || {};                                    if (document.getElementById(\"39516da9-bf0b-46a6-b3d8-148935f9c238\")) {                    Plotly.newPlot(                        \"39516da9-bf0b-46a6-b3d8-148935f9c238\",                        [{\"domain\": {\"x\": [0, 0.5], \"y\": [0.6, 1]}, \"mode\": \"number\", \"number\": {\"font\": {\"color\": \"#a2d2ff\", \"size\": 100}}, \"title\": {\"text\": \"Movies<br><span style='font-size:0.8em;color:gray'>On Prime Video</span>\"}, \"type\": \"indicator\", \"value\": 4113}, {\"domain\": {\"x\": [0.5, 1], \"y\": [0, 0.4]}, \"mode\": \"number\", \"number\": {\"font\": {\"color\": \"#a2d2ff\", \"size\": 100}}, \"title\": {\"text\": \"TV Shows<br><span style='font-size:0.8em;color:gray'>On Netflix</span>\"}, \"type\": \"indicator\", \"value\": 1971}],                        {\"template\": {\"data\": {\"bar\": [{\"error_x\": {\"color\": \"#2a3f5f\"}, \"error_y\": {\"color\": \"#2a3f5f\"}, \"marker\": {\"line\": {\"color\": \"#E5ECF6\", \"width\": 0.5}}, \"type\": \"bar\"}], \"barpolar\": [{\"marker\": {\"line\": {\"color\": \"#E5ECF6\", \"width\": 0.5}}, \"type\": \"barpolar\"}], \"carpet\": [{\"aaxis\": {\"endlinecolor\": \"#2a3f5f\", \"gridcolor\": \"white\", \"linecolor\": \"white\", \"minorgridcolor\": \"white\", \"startlinecolor\": \"#2a3f5f\"}, \"baxis\": {\"endlinecolor\": \"#2a3f5f\", \"gridcolor\": \"white\", \"linecolor\": \"white\", \"minorgridcolor\": \"white\", \"startlinecolor\": \"#2a3f5f\"}, \"type\": \"carpet\"}], \"choropleth\": [{\"colorbar\": {\"outlinewidth\": 0, \"ticks\": \"\"}, \"type\": \"choropleth\"}], \"contour\": [{\"colorbar\": {\"outlinewidth\": 0, \"ticks\": \"\"}, \"colorscale\": [[0.0, \"#0d0887\"], [0.1111111111111111, \"#46039f\"], [0.2222222222222222, \"#7201a8\"], [0.3333333333333333, \"#9c179e\"], [0.4444444444444444, \"#bd3786\"], [0.5555555555555556, \"#d8576b\"], [0.6666666666666666, \"#ed7953\"], [0.7777777777777778, \"#fb9f3a\"], [0.8888888888888888, \"#fdca26\"], [1.0, \"#f0f921\"]], \"type\": \"contour\"}], \"contourcarpet\": [{\"colorbar\": {\"outlinewidth\": 0, \"ticks\": \"\"}, \"type\": \"contourcarpet\"}], \"heatmap\": [{\"colorbar\": {\"outlinewidth\": 0, \"ticks\": \"\"}, \"colorscale\": [[0.0, \"#0d0887\"], [0.1111111111111111, \"#46039f\"], [0.2222222222222222, \"#7201a8\"], [0.3333333333333333, \"#9c179e\"], [0.4444444444444444, \"#bd3786\"], [0.5555555555555556, \"#d8576b\"], [0.6666666666666666, \"#ed7953\"], [0.7777777777777778, \"#fb9f3a\"], [0.8888888888888888, \"#fdca26\"], [1.0, \"#f0f921\"]], \"type\": \"heatmap\"}], \"heatmapgl\": [{\"colorbar\": {\"outlinewidth\": 0, \"ticks\": \"\"}, \"colorscale\": [[0.0, \"#0d0887\"], [0.1111111111111111, \"#46039f\"], [0.2222222222222222, \"#7201a8\"], [0.3333333333333333, \"#9c179e\"], [0.4444444444444444, \"#bd3786\"], [0.5555555555555556, \"#d8576b\"], [0.6666666666666666, \"#ed7953\"], [0.7777777777777778, \"#fb9f3a\"], [0.8888888888888888, \"#fdca26\"], [1.0, \"#f0f921\"]], \"type\": \"heatmapgl\"}], \"histogram\": [{\"marker\": {\"colorbar\": {\"outlinewidth\": 0, \"ticks\": \"\"}}, \"type\": \"histogram\"}], \"histogram2d\": [{\"colorbar\": {\"outlinewidth\": 0, \"ticks\": \"\"}, \"colorscale\": [[0.0, \"#0d0887\"], [0.1111111111111111, \"#46039f\"], [0.2222222222222222, \"#7201a8\"], [0.3333333333333333, \"#9c179e\"], [0.4444444444444444, \"#bd3786\"], [0.5555555555555556, \"#d8576b\"], [0.6666666666666666, \"#ed7953\"], [0.7777777777777778, \"#fb9f3a\"], [0.8888888888888888, \"#fdca26\"], [1.0, \"#f0f921\"]], \"type\": \"histogram2d\"}], \"histogram2dcontour\": [{\"colorbar\": {\"outlinewidth\": 0, \"ticks\": \"\"}, \"colorscale\": [[0.0, \"#0d0887\"], [0.1111111111111111, \"#46039f\"], [0.2222222222222222, \"#7201a8\"], [0.3333333333333333, \"#9c179e\"], [0.4444444444444444, \"#bd3786\"], [0.5555555555555556, \"#d8576b\"], [0.6666666666666666, \"#ed7953\"], [0.7777777777777778, \"#fb9f3a\"], [0.8888888888888888, \"#fdca26\"], [1.0, \"#f0f921\"]], \"type\": \"histogram2dcontour\"}], \"mesh3d\": [{\"colorbar\": {\"outlinewidth\": 0, \"ticks\": \"\"}, \"type\": \"mesh3d\"}], \"parcoords\": [{\"line\": {\"colorbar\": {\"outlinewidth\": 0, \"ticks\": \"\"}}, \"type\": \"parcoords\"}], \"pie\": [{\"automargin\": true, \"type\": \"pie\"}], \"scatter\": [{\"marker\": {\"colorbar\": {\"outlinewidth\": 0, \"ticks\": \"\"}}, \"type\": \"scatter\"}], \"scatter3d\": [{\"line\": {\"colorbar\": {\"outlinewidth\": 0, \"ticks\": \"\"}}, \"marker\": {\"colorbar\": {\"outlinewidth\": 0, \"ticks\": \"\"}}, \"type\": \"scatter3d\"}], \"scattercarpet\": [{\"marker\": {\"colorbar\": {\"outlinewidth\": 0, \"ticks\": \"\"}}, \"type\": \"scattercarpet\"}], \"scattergeo\": [{\"marker\": {\"colorbar\": {\"outlinewidth\": 0, \"ticks\": \"\"}}, \"type\": \"scattergeo\"}], \"scattergl\": [{\"marker\": {\"colorbar\": {\"outlinewidth\": 0, \"ticks\": \"\"}}, \"type\": \"scattergl\"}], \"scattermapbox\": [{\"marker\": {\"colorbar\": {\"outlinewidth\": 0, \"ticks\": \"\"}}, \"type\": \"scattermapbox\"}], \"scatterpolar\": [{\"marker\": {\"colorbar\": {\"outlinewidth\": 0, \"ticks\": \"\"}}, \"type\": \"scatterpolar\"}], \"scatterpolargl\": [{\"marker\": {\"colorbar\": {\"outlinewidth\": 0, \"ticks\": \"\"}}, \"type\": \"scatterpolargl\"}], \"scatterternary\": [{\"marker\": {\"colorbar\": {\"outlinewidth\": 0, \"ticks\": \"\"}}, \"type\": \"scatterternary\"}], \"surface\": [{\"colorbar\": {\"outlinewidth\": 0, \"ticks\": \"\"}, \"colorscale\": [[0.0, \"#0d0887\"], [0.1111111111111111, \"#46039f\"], [0.2222222222222222, \"#7201a8\"], [0.3333333333333333, \"#9c179e\"], [0.4444444444444444, \"#bd3786\"], [0.5555555555555556, \"#d8576b\"], [0.6666666666666666, \"#ed7953\"], [0.7777777777777778, \"#fb9f3a\"], [0.8888888888888888, \"#fdca26\"], [1.0, \"#f0f921\"]], \"type\": \"surface\"}], \"table\": [{\"cells\": {\"fill\": {\"color\": \"#EBF0F8\"}, \"line\": {\"color\": \"white\"}}, \"header\": {\"fill\": {\"color\": \"#C8D4E3\"}, \"line\": {\"color\": \"white\"}}, \"type\": \"table\"}]}, \"layout\": {\"annotationdefaults\": {\"arrowcolor\": \"#2a3f5f\", \"arrowhead\": 0, \"arrowwidth\": 1}, \"coloraxis\": {\"colorbar\": {\"outlinewidth\": 0, \"ticks\": \"\"}}, \"colorscale\": {\"diverging\": [[0, \"#8e0152\"], [0.1, \"#c51b7d\"], [0.2, \"#de77ae\"], [0.3, \"#f1b6da\"], [0.4, \"#fde0ef\"], [0.5, \"#f7f7f7\"], [0.6, \"#e6f5d0\"], [0.7, \"#b8e186\"], [0.8, \"#7fbc41\"], [0.9, \"#4d9221\"], [1, \"#276419\"]], \"sequential\": [[0.0, \"#0d0887\"], [0.1111111111111111, \"#46039f\"], [0.2222222222222222, \"#7201a8\"], [0.3333333333333333, \"#9c179e\"], [0.4444444444444444, \"#bd3786\"], [0.5555555555555556, \"#d8576b\"], [0.6666666666666666, \"#ed7953\"], [0.7777777777777778, \"#fb9f3a\"], [0.8888888888888888, \"#fdca26\"], [1.0, \"#f0f921\"]], \"sequentialminus\": [[0.0, \"#0d0887\"], [0.1111111111111111, \"#46039f\"], [0.2222222222222222, \"#7201a8\"], [0.3333333333333333, \"#9c179e\"], [0.4444444444444444, \"#bd3786\"], [0.5555555555555556, \"#d8576b\"], [0.6666666666666666, \"#ed7953\"], [0.7777777777777778, \"#fb9f3a\"], [0.8888888888888888, \"#fdca26\"], [1.0, \"#f0f921\"]]}, \"colorway\": [\"#636efa\", \"#EF553B\", \"#00cc96\", \"#ab63fa\", \"#FFA15A\", \"#19d3f3\", \"#FF6692\", \"#B6E880\", \"#FF97FF\", \"#FECB52\"], \"font\": {\"color\": \"#2a3f5f\"}, \"geo\": {\"bgcolor\": \"white\", \"lakecolor\": \"white\", \"landcolor\": \"#E5ECF6\", \"showlakes\": true, \"showland\": true, \"subunitcolor\": \"white\"}, \"hoverlabel\": {\"align\": \"left\"}, \"hovermode\": \"closest\", \"mapbox\": {\"style\": \"light\"}, \"paper_bgcolor\": \"white\", \"plot_bgcolor\": \"#E5ECF6\", \"polar\": {\"angularaxis\": {\"gridcolor\": \"white\", \"linecolor\": \"white\", \"ticks\": \"\"}, \"bgcolor\": \"#E5ECF6\", \"radialaxis\": {\"gridcolor\": \"white\", \"linecolor\": \"white\", \"ticks\": \"\"}}, \"scene\": {\"xaxis\": {\"backgroundcolor\": \"#E5ECF6\", \"gridcolor\": \"white\", \"gridwidth\": 2, \"linecolor\": \"white\", \"showbackground\": true, \"ticks\": \"\", \"zerolinecolor\": \"white\"}, \"yaxis\": {\"backgroundcolor\": \"#E5ECF6\", \"gridcolor\": \"white\", \"gridwidth\": 2, \"linecolor\": \"white\", \"showbackground\": true, \"ticks\": \"\", \"zerolinecolor\": \"white\"}, \"zaxis\": {\"backgroundcolor\": \"#E5ECF6\", \"gridcolor\": \"white\", \"gridwidth\": 2, \"linecolor\": \"white\", \"showbackground\": true, \"ticks\": \"\", \"zerolinecolor\": \"white\"}}, \"shapedefaults\": {\"line\": {\"color\": \"#2a3f5f\"}}, \"ternary\": {\"aaxis\": {\"gridcolor\": \"white\", \"linecolor\": \"white\", \"ticks\": \"\"}, \"baxis\": {\"gridcolor\": \"white\", \"linecolor\": \"white\", \"ticks\": \"\"}, \"bgcolor\": \"#E5ECF6\", \"caxis\": {\"gridcolor\": \"white\", \"linecolor\": \"white\", \"ticks\": \"\"}}, \"title\": {\"x\": 0.05}, \"xaxis\": {\"automargin\": true, \"gridcolor\": \"white\", \"linecolor\": \"white\", \"ticks\": \"\", \"title\": {\"standoff\": 15}, \"zerolinecolor\": \"white\", \"zerolinewidth\": 2}, \"yaxis\": {\"automargin\": true, \"gridcolor\": \"white\", \"linecolor\": \"white\", \"ticks\": \"\", \"title\": {\"standoff\": 15}, \"zerolinecolor\": \"white\", \"zerolinewidth\": 2}}}, \"xaxis\": {\"anchor\": \"y\", \"domain\": [0.0, 0.45]}, \"xaxis2\": {\"anchor\": \"y2\", \"domain\": [0.55, 1.0]}, \"yaxis\": {\"anchor\": \"x\", \"domain\": [0.0, 1.0]}, \"yaxis2\": {\"anchor\": \"x2\", \"domain\": [0.0, 1.0]}},                        {\"responsive\": true}                    ).then(function(){\n",
              "                            \n",
              "var gd = document.getElementById('39516da9-bf0b-46a6-b3d8-148935f9c238');\n",
              "var x = new MutationObserver(function (mutations, observer) {{\n",
              "        var display = window.getComputedStyle(gd).display;\n",
              "        if (!display || display === 'none') {{\n",
              "            console.log([gd, 'removed!']);\n",
              "            Plotly.purge(gd);\n",
              "            observer.disconnect();\n",
              "        }}\n",
              "}});\n",
              "\n",
              "// Listen for the removal of the full notebook cells\n",
              "var notebookContainer = gd.closest('#notebook-container');\n",
              "if (notebookContainer) {{\n",
              "    x.observe(notebookContainer, {childList: true});\n",
              "}}\n",
              "\n",
              "// Listen for the clearing of the current output cell\n",
              "var outputEl = gd.closest('.output');\n",
              "if (outputEl) {{\n",
              "    x.observe(outputEl, {childList: true});\n",
              "}}\n",
              "\n",
              "                        })                };                });            </script>        </div>"
            ]
          },
          "metadata": {},
          "output_type": "display_data"
        }
      ],
      "source": [
        "fig = make_subplots(rows=1, cols=2)\n",
        "\n",
        "fig.add_trace(go.Indicator(\n",
        "    mode = \"number\",\n",
        "    value = 4113,\n",
        "    number={'font':{'color': custom_colors[2],'size':100}},\n",
        "    title = {\"text\": \"Movies<br><span style='font-size:0.8em;color:gray'>On Prime Video</span>\"},\n",
        "    domain = {'x': [0, 0.5], 'y': [0.6, 1]}))\n",
        "\n",
        "fig.add_trace(go.Indicator(\n",
        "    mode = \"number\",\n",
        "    value = 1971,\n",
        "    number={'font':{'color': custom_colors[2],'size':100}},\n",
        "    title = {\"text\": \"TV Shows<br><span style='font-size:0.8em;color:gray'>On Netflix</span>\"},\n",
        "    domain = {'x': [0.5, 1], 'y': [0, 0.4]}))\n",
        "\n",
        "fig.show()"
      ]
    },
    {
      "cell_type": "markdown",
      "metadata": {
        "papermill": {
          "duration": 0.043402,
          "end_time": "2021-12-16T07:50:13.214415",
          "exception": false,
          "start_time": "2021-12-16T07:50:13.171013",
          "status": "completed"
        },
        "tags": [],
        "id": "bRyw7UPEjkg_"
      },
      "source": [
        "<div class=\"alert alert-info\">  \n",
        "<h3><strong>Movies with the highest IMDb rating on each platform and genres</strong></h3>\n",
        "</div>"
      ]
    },
    {
      "cell_type": "code",
      "execution_count": null,
      "metadata": {
        "_kg_hide-input": true,
        "execution": {
          "iopub.execute_input": "2021-12-16T07:50:13.475881Z",
          "iopub.status.busy": "2021-12-16T07:50:13.475260Z",
          "iopub.status.idle": "2021-12-16T07:50:13.477367Z",
          "shell.execute_reply": "2021-12-16T07:50:13.477761Z",
          "shell.execute_reply.started": "2021-12-16T07:49:05.922302Z"
        },
        "papermill": {
          "duration": 0.176952,
          "end_time": "2021-12-16T07:50:13.477910",
          "exception": false,
          "start_time": "2021-12-16T07:50:13.300958",
          "status": "completed"
        },
        "tags": [],
        "id": "nF5WKDcpjkhA"
      },
      "outputs": [],
      "source": [
        "df_movies['IMDb'] = df_movies['IMDb'].str.split('/').str[0]\n",
        "df_movies['Rotten Tomatoes'] = df_movies['Rotten Tomatoes'].str.split('/').str[0]\n",
        "df_tv['IMDb'] = df_tv['IMDb'].str.split('/').str[0]\n",
        "df_tv['Rotten Tomatoes'] = df_tv['Rotten Tomatoes'].str.split('/').str[0]"
      ]
    },
    {
      "cell_type": "code",
      "execution_count": null,
      "metadata": {
        "_kg_hide-input": true,
        "execution": {
          "iopub.execute_input": "2021-12-16T07:50:13.569426Z",
          "iopub.status.busy": "2021-12-16T07:50:13.568833Z",
          "iopub.status.idle": "2021-12-16T07:50:13.574643Z",
          "shell.execute_reply": "2021-12-16T07:50:13.575102Z",
          "shell.execute_reply.started": "2021-12-16T07:49:06.080955Z"
        },
        "papermill": {
          "duration": 0.052825,
          "end_time": "2021-12-16T07:50:13.575240",
          "exception": false,
          "start_time": "2021-12-16T07:50:13.522415",
          "status": "completed"
        },
        "tags": [],
        "id": "7IYWZcukjkhA"
      },
      "outputs": [],
      "source": [
        "def sunburst(dataframe,platform,c):\n",
        "    dataframe=dataframe.loc[dataframe[platform] == 1]\n",
        "    dataframe=dataframe.sort_values(by='IMDb', ascending=False)\n",
        "    rating = dataframe[0:10]\n",
        "    fig =px.sunburst(\n",
        "    rating,\n",
        "    path=['Title','Genres'],\n",
        "    values='IMDb',\n",
        "    color='IMDb',\n",
        "    color_continuous_scale=c)\n",
        "    fig.show()"
      ]
    },
    {
      "cell_type": "code",
      "execution_count": null,
      "metadata": {
        "_kg_hide-input": false,
        "execution": {
          "iopub.execute_input": "2021-12-16T07:50:13.667217Z",
          "iopub.status.busy": "2021-12-16T07:50:13.666637Z",
          "iopub.status.idle": "2021-12-16T07:50:14.411012Z",
          "shell.execute_reply": "2021-12-16T07:50:14.411480Z",
          "shell.execute_reply.started": "2021-12-16T07:49:06.090391Z"
        },
        "papermill": {
          "duration": 0.791713,
          "end_time": "2021-12-16T07:50:14.411626",
          "exception": false,
          "start_time": "2021-12-16T07:50:13.619913",
          "status": "completed"
        },
        "tags": [],
        "id": "29zrDSyCjkhA",
        "outputId": "2fb7939c-3409-4419-acc2-0e96c0d5ed5a"
      },
      "outputs": [
        {
          "data": {
            "text/html": [
              "<div>                            <div id=\"e0160e6c-6089-421a-8ead-10a6a337a8c0\" class=\"plotly-graph-div\" style=\"height:525px; width:100%;\"></div>            <script type=\"text/javascript\">                require([\"plotly\"], function(Plotly) {                    window.PLOTLYENV=window.PLOTLYENV || {};                                    if (document.getElementById(\"e0160e6c-6089-421a-8ead-10a6a337a8c0\")) {                    Plotly.newPlot(                        \"e0160e6c-6089-421a-8ead-10a6a337a8c0\",                        [{\"branchvalues\": \"total\", \"customdata\": [[9.0], [8.9], [8.8], [8.9], [8.9], [8.8], [9.0], [8.6], [8.7], [9.0], [8.9], [8.6], [8.8], [8.9], [9.0], [9.0], [8.9], [9.0], [8.8], [8.7]], \"domain\": {\"x\": [0.0, 1.0], \"y\": [0.0, 1.0]}, \"hovertemplate\": \"labels=%{label}<br>IMDb_sum=%{value}<br>parent=%{parent}<br>id=%{id}<br>IMDb=%{color}<extra></extra>\", \"ids\": [\"No Longer kids/Comedy\", \"Bye Bye London/Comedy,Drama\", \"Bo Burnham: Inside/Comedy,Drama,Music\", \"7 Yards: The Chris Norton Story/Documentary\", \"In Our Mothers' Gardens/Documentary\", \"Rubaru Roshni/Documentary\", \"David Attenborough: A Life on Our Planet/Documentary,Biography\", \"Bill Hicks: Relentless/Documentary,Comedy\", \"Sky Tour: The Movie/Documentary,Music\", \"C/o Kancharapalem/Drama\", \"7 Yards: The Chris Norton Story\", \"Bill Hicks: Relentless\", \"Bo Burnham: Inside\", \"Bye Bye London\", \"C/o Kancharapalem\", \"David Attenborough: A Life on Our Planet\", \"In Our Mothers' Gardens\", \"No Longer kids\", \"Rubaru Roshni\", \"Sky Tour: The Movie\"], \"labels\": [\"Comedy\", \"Comedy,Drama\", \"Comedy,Drama,Music\", \"Documentary\", \"Documentary\", \"Documentary\", \"Documentary,Biography\", \"Documentary,Comedy\", \"Documentary,Music\", \"Drama\", \"7 Yards: The Chris Norton Story\", \"Bill Hicks: Relentless\", \"Bo Burnham: Inside\", \"Bye Bye London\", \"C/o Kancharapalem\", \"David Attenborough: A Life on Our Planet\", \"In Our Mothers' Gardens\", \"No Longer kids\", \"Rubaru Roshni\", \"Sky Tour: The Movie\"], \"marker\": {\"coloraxis\": \"coloraxis\", \"colors\": [9.0, 8.9, 8.8, 8.9, 8.9, 8.8, 9.0, 8.6, 8.7, 9.0, 8.9, 8.6, 8.8, 8.9, 9.0, 9.0, 8.9, 9.0, 8.8, 8.7]}, \"name\": \"\", \"parents\": [\"No Longer kids\", \"Bye Bye London\", \"Bo Burnham: Inside\", \"7 Yards: The Chris Norton Story\", \"In Our Mothers' Gardens\", \"Rubaru Roshni\", \"David Attenborough: A Life on Our Planet\", \"Bill Hicks: Relentless\", \"Sky Tour: The Movie\", \"C/o Kancharapalem\", \"\", \"\", \"\", \"\", \"\", \"\", \"\", \"\", \"\", \"\"], \"type\": \"sunburst\", \"values\": [9.0, 8.9, 8.8, 8.9, 8.9, 8.8, 9.0, 8.6, 8.7, 9.0, 8.9, 8.6, 8.8, 8.9, 9.0, 9.0, 8.9, 9.0, 8.8, 8.7]}],                        {\"coloraxis\": {\"colorbar\": {\"title\": {\"text\": \"IMDb\"}}, \"colorscale\": [[0.0, \"rgb(241, 236, 236)\"], [0.09090909090909091, \"rgb(230, 209, 203)\"], [0.18181818181818182, \"rgb(221, 182, 170)\"], [0.2727272727272727, \"rgb(213, 156, 137)\"], [0.36363636363636365, \"rgb(205, 129, 103)\"], [0.45454545454545453, \"rgb(196, 102, 73)\"], [0.5454545454545454, \"rgb(186, 74, 47)\"], [0.6363636363636364, \"rgb(172, 44, 36)\"], [0.7272727272727273, \"rgb(149, 19, 39)\"], [0.8181818181818182, \"rgb(120, 14, 40)\"], [0.9090909090909091, \"rgb(89, 13, 31)\"], [1.0, \"rgb(60, 9, 17)\"]]}, \"legend\": {\"tracegroupgap\": 0}, \"margin\": {\"t\": 60}, \"template\": {\"data\": {\"bar\": [{\"error_x\": {\"color\": \"#2a3f5f\"}, \"error_y\": {\"color\": \"#2a3f5f\"}, \"marker\": {\"line\": {\"color\": \"#E5ECF6\", \"width\": 0.5}}, \"type\": \"bar\"}], \"barpolar\": [{\"marker\": {\"line\": {\"color\": \"#E5ECF6\", \"width\": 0.5}}, \"type\": \"barpolar\"}], \"carpet\": [{\"aaxis\": {\"endlinecolor\": \"#2a3f5f\", \"gridcolor\": \"white\", \"linecolor\": \"white\", \"minorgridcolor\": \"white\", \"startlinecolor\": \"#2a3f5f\"}, \"baxis\": {\"endlinecolor\": \"#2a3f5f\", \"gridcolor\": \"white\", \"linecolor\": \"white\", \"minorgridcolor\": \"white\", \"startlinecolor\": \"#2a3f5f\"}, \"type\": \"carpet\"}], \"choropleth\": [{\"colorbar\": {\"outlinewidth\": 0, \"ticks\": \"\"}, \"type\": \"choropleth\"}], \"contour\": [{\"colorbar\": {\"outlinewidth\": 0, \"ticks\": \"\"}, \"colorscale\": [[0.0, \"#0d0887\"], [0.1111111111111111, \"#46039f\"], [0.2222222222222222, \"#7201a8\"], [0.3333333333333333, \"#9c179e\"], [0.4444444444444444, \"#bd3786\"], [0.5555555555555556, \"#d8576b\"], [0.6666666666666666, \"#ed7953\"], [0.7777777777777778, \"#fb9f3a\"], [0.8888888888888888, \"#fdca26\"], [1.0, \"#f0f921\"]], \"type\": \"contour\"}], \"contourcarpet\": [{\"colorbar\": {\"outlinewidth\": 0, \"ticks\": \"\"}, \"type\": \"contourcarpet\"}], \"heatmap\": [{\"colorbar\": {\"outlinewidth\": 0, \"ticks\": \"\"}, \"colorscale\": [[0.0, \"#0d0887\"], [0.1111111111111111, \"#46039f\"], [0.2222222222222222, \"#7201a8\"], [0.3333333333333333, \"#9c179e\"], [0.4444444444444444, \"#bd3786\"], [0.5555555555555556, \"#d8576b\"], [0.6666666666666666, \"#ed7953\"], [0.7777777777777778, \"#fb9f3a\"], [0.8888888888888888, \"#fdca26\"], [1.0, \"#f0f921\"]], \"type\": \"heatmap\"}], \"heatmapgl\": [{\"colorbar\": {\"outlinewidth\": 0, \"ticks\": \"\"}, \"colorscale\": [[0.0, \"#0d0887\"], [0.1111111111111111, \"#46039f\"], [0.2222222222222222, \"#7201a8\"], [0.3333333333333333, \"#9c179e\"], [0.4444444444444444, \"#bd3786\"], [0.5555555555555556, \"#d8576b\"], [0.6666666666666666, \"#ed7953\"], [0.7777777777777778, \"#fb9f3a\"], [0.8888888888888888, \"#fdca26\"], [1.0, \"#f0f921\"]], \"type\": \"heatmapgl\"}], \"histogram\": [{\"marker\": {\"colorbar\": {\"outlinewidth\": 0, \"ticks\": \"\"}}, \"type\": \"histogram\"}], \"histogram2d\": [{\"colorbar\": {\"outlinewidth\": 0, \"ticks\": \"\"}, \"colorscale\": [[0.0, \"#0d0887\"], [0.1111111111111111, \"#46039f\"], [0.2222222222222222, \"#7201a8\"], [0.3333333333333333, \"#9c179e\"], [0.4444444444444444, \"#bd3786\"], [0.5555555555555556, \"#d8576b\"], [0.6666666666666666, \"#ed7953\"], [0.7777777777777778, \"#fb9f3a\"], [0.8888888888888888, \"#fdca26\"], [1.0, \"#f0f921\"]], \"type\": \"histogram2d\"}], \"histogram2dcontour\": [{\"colorbar\": {\"outlinewidth\": 0, \"ticks\": \"\"}, \"colorscale\": [[0.0, \"#0d0887\"], [0.1111111111111111, \"#46039f\"], [0.2222222222222222, \"#7201a8\"], [0.3333333333333333, \"#9c179e\"], [0.4444444444444444, \"#bd3786\"], [0.5555555555555556, \"#d8576b\"], [0.6666666666666666, \"#ed7953\"], [0.7777777777777778, \"#fb9f3a\"], [0.8888888888888888, \"#fdca26\"], [1.0, \"#f0f921\"]], \"type\": \"histogram2dcontour\"}], \"mesh3d\": [{\"colorbar\": {\"outlinewidth\": 0, \"ticks\": \"\"}, \"type\": \"mesh3d\"}], \"parcoords\": [{\"line\": {\"colorbar\": {\"outlinewidth\": 0, \"ticks\": \"\"}}, \"type\": \"parcoords\"}], \"pie\": [{\"automargin\": true, \"type\": \"pie\"}], \"scatter\": [{\"marker\": {\"colorbar\": {\"outlinewidth\": 0, \"ticks\": \"\"}}, \"type\": \"scatter\"}], \"scatter3d\": [{\"line\": {\"colorbar\": {\"outlinewidth\": 0, \"ticks\": \"\"}}, \"marker\": {\"colorbar\": {\"outlinewidth\": 0, \"ticks\": \"\"}}, \"type\": \"scatter3d\"}], \"scattercarpet\": [{\"marker\": {\"colorbar\": {\"outlinewidth\": 0, \"ticks\": \"\"}}, \"type\": \"scattercarpet\"}], \"scattergeo\": [{\"marker\": {\"colorbar\": {\"outlinewidth\": 0, \"ticks\": \"\"}}, \"type\": \"scattergeo\"}], \"scattergl\": [{\"marker\": {\"colorbar\": {\"outlinewidth\": 0, \"ticks\": \"\"}}, \"type\": \"scattergl\"}], \"scattermapbox\": [{\"marker\": {\"colorbar\": {\"outlinewidth\": 0, \"ticks\": \"\"}}, \"type\": \"scattermapbox\"}], \"scatterpolar\": [{\"marker\": {\"colorbar\": {\"outlinewidth\": 0, \"ticks\": \"\"}}, \"type\": \"scatterpolar\"}], \"scatterpolargl\": [{\"marker\": {\"colorbar\": {\"outlinewidth\": 0, \"ticks\": \"\"}}, \"type\": \"scatterpolargl\"}], \"scatterternary\": [{\"marker\": {\"colorbar\": {\"outlinewidth\": 0, \"ticks\": \"\"}}, \"type\": \"scatterternary\"}], \"surface\": [{\"colorbar\": {\"outlinewidth\": 0, \"ticks\": \"\"}, \"colorscale\": [[0.0, \"#0d0887\"], [0.1111111111111111, \"#46039f\"], [0.2222222222222222, \"#7201a8\"], [0.3333333333333333, \"#9c179e\"], [0.4444444444444444, \"#bd3786\"], [0.5555555555555556, \"#d8576b\"], [0.6666666666666666, \"#ed7953\"], [0.7777777777777778, \"#fb9f3a\"], [0.8888888888888888, \"#fdca26\"], [1.0, \"#f0f921\"]], \"type\": \"surface\"}], \"table\": [{\"cells\": {\"fill\": {\"color\": \"#EBF0F8\"}, \"line\": {\"color\": \"white\"}}, \"header\": {\"fill\": {\"color\": \"#C8D4E3\"}, \"line\": {\"color\": \"white\"}}, \"type\": \"table\"}]}, \"layout\": {\"annotationdefaults\": {\"arrowcolor\": \"#2a3f5f\", \"arrowhead\": 0, \"arrowwidth\": 1}, \"coloraxis\": {\"colorbar\": {\"outlinewidth\": 0, \"ticks\": \"\"}}, \"colorscale\": {\"diverging\": [[0, \"#8e0152\"], [0.1, \"#c51b7d\"], [0.2, \"#de77ae\"], [0.3, \"#f1b6da\"], [0.4, \"#fde0ef\"], [0.5, \"#f7f7f7\"], [0.6, \"#e6f5d0\"], [0.7, \"#b8e186\"], [0.8, \"#7fbc41\"], [0.9, \"#4d9221\"], [1, \"#276419\"]], \"sequential\": [[0.0, \"#0d0887\"], [0.1111111111111111, \"#46039f\"], [0.2222222222222222, \"#7201a8\"], [0.3333333333333333, \"#9c179e\"], [0.4444444444444444, \"#bd3786\"], [0.5555555555555556, \"#d8576b\"], [0.6666666666666666, \"#ed7953\"], [0.7777777777777778, \"#fb9f3a\"], [0.8888888888888888, \"#fdca26\"], [1.0, \"#f0f921\"]], \"sequentialminus\": [[0.0, \"#0d0887\"], [0.1111111111111111, \"#46039f\"], [0.2222222222222222, \"#7201a8\"], [0.3333333333333333, \"#9c179e\"], [0.4444444444444444, \"#bd3786\"], [0.5555555555555556, \"#d8576b\"], [0.6666666666666666, \"#ed7953\"], [0.7777777777777778, \"#fb9f3a\"], [0.8888888888888888, \"#fdca26\"], [1.0, \"#f0f921\"]]}, \"colorway\": [\"#636efa\", \"#EF553B\", \"#00cc96\", \"#ab63fa\", \"#FFA15A\", \"#19d3f3\", \"#FF6692\", \"#B6E880\", \"#FF97FF\", \"#FECB52\"], \"font\": {\"color\": \"#2a3f5f\"}, \"geo\": {\"bgcolor\": \"white\", \"lakecolor\": \"white\", \"landcolor\": \"#E5ECF6\", \"showlakes\": true, \"showland\": true, \"subunitcolor\": \"white\"}, \"hoverlabel\": {\"align\": \"left\"}, \"hovermode\": \"closest\", \"mapbox\": {\"style\": \"light\"}, \"paper_bgcolor\": \"white\", \"plot_bgcolor\": \"#E5ECF6\", \"polar\": {\"angularaxis\": {\"gridcolor\": \"white\", \"linecolor\": \"white\", \"ticks\": \"\"}, \"bgcolor\": \"#E5ECF6\", \"radialaxis\": {\"gridcolor\": \"white\", \"linecolor\": \"white\", \"ticks\": \"\"}}, \"scene\": {\"xaxis\": {\"backgroundcolor\": \"#E5ECF6\", \"gridcolor\": \"white\", \"gridwidth\": 2, \"linecolor\": \"white\", \"showbackground\": true, \"ticks\": \"\", \"zerolinecolor\": \"white\"}, \"yaxis\": {\"backgroundcolor\": \"#E5ECF6\", \"gridcolor\": \"white\", \"gridwidth\": 2, \"linecolor\": \"white\", \"showbackground\": true, \"ticks\": \"\", \"zerolinecolor\": \"white\"}, \"zaxis\": {\"backgroundcolor\": \"#E5ECF6\", \"gridcolor\": \"white\", \"gridwidth\": 2, \"linecolor\": \"white\", \"showbackground\": true, \"ticks\": \"\", \"zerolinecolor\": \"white\"}}, \"shapedefaults\": {\"line\": {\"color\": \"#2a3f5f\"}}, \"ternary\": {\"aaxis\": {\"gridcolor\": \"white\", \"linecolor\": \"white\", \"ticks\": \"\"}, \"baxis\": {\"gridcolor\": \"white\", \"linecolor\": \"white\", \"ticks\": \"\"}, \"bgcolor\": \"#E5ECF6\", \"caxis\": {\"gridcolor\": \"white\", \"linecolor\": \"white\", \"ticks\": \"\"}}, \"title\": {\"x\": 0.05}, \"xaxis\": {\"automargin\": true, \"gridcolor\": \"white\", \"linecolor\": \"white\", \"ticks\": \"\", \"title\": {\"standoff\": 15}, \"zerolinecolor\": \"white\", \"zerolinewidth\": 2}, \"yaxis\": {\"automargin\": true, \"gridcolor\": \"white\", \"linecolor\": \"white\", \"ticks\": \"\", \"title\": {\"standoff\": 15}, \"zerolinecolor\": \"white\", \"zerolinewidth\": 2}}}},                        {\"responsive\": true}                    ).then(function(){\n",
              "                            \n",
              "var gd = document.getElementById('e0160e6c-6089-421a-8ead-10a6a337a8c0');\n",
              "var x = new MutationObserver(function (mutations, observer) {{\n",
              "        var display = window.getComputedStyle(gd).display;\n",
              "        if (!display || display === 'none') {{\n",
              "            console.log([gd, 'removed!']);\n",
              "            Plotly.purge(gd);\n",
              "            observer.disconnect();\n",
              "        }}\n",
              "}});\n",
              "\n",
              "// Listen for the removal of the full notebook cells\n",
              "var notebookContainer = gd.closest('#notebook-container');\n",
              "if (notebookContainer) {{\n",
              "    x.observe(notebookContainer, {childList: true});\n",
              "}}\n",
              "\n",
              "// Listen for the clearing of the current output cell\n",
              "var outputEl = gd.closest('.output');\n",
              "if (outputEl) {{\n",
              "    x.observe(outputEl, {childList: true});\n",
              "}}\n",
              "\n",
              "                        })                };                });            </script>        </div>"
            ]
          },
          "metadata": {},
          "output_type": "display_data"
        }
      ],
      "source": [
        "sunburst(df_movies,'Netflix','amp')"
      ]
    },
    {
      "cell_type": "code",
      "execution_count": null,
      "metadata": {
        "_kg_hide-input": false,
        "execution": {
          "iopub.execute_input": "2021-12-16T07:50:14.506835Z",
          "iopub.status.busy": "2021-12-16T07:50:14.505899Z",
          "iopub.status.idle": "2021-12-16T07:50:14.589958Z",
          "shell.execute_reply": "2021-12-16T07:50:14.589440Z",
          "shell.execute_reply.started": "2021-12-16T07:49:06.421143Z"
        },
        "papermill": {
          "duration": 0.132236,
          "end_time": "2021-12-16T07:50:14.590070",
          "exception": false,
          "start_time": "2021-12-16T07:50:14.457834",
          "status": "completed"
        },
        "tags": [],
        "id": "RUoyxmbCjkhB",
        "outputId": "457dfd77-f491-4873-b961-7682aa2eac3f"
      },
      "outputs": [
        {
          "data": {
            "text/html": [
              "<div>                            <div id=\"51ec0c11-8093-4376-8759-c00761104f78\" class=\"plotly-graph-div\" style=\"height:525px; width:100%;\"></div>            <script type=\"text/javascript\">                require([\"plotly\"], function(Plotly) {                    window.PLOTLYENV=window.PLOTLYENV || {};                                    if (document.getElementById(\"51ec0c11-8093-4376-8759-c00761104f78\")) {                    Plotly.newPlot(                        \"51ec0c11-8093-4376-8759-c00761104f78\",                        [{\"branchvalues\": \"total\", \"customdata\": [[8.2], [9.0], [8.6], [8.2], [8.3], [8.2], [8.3], [8.2], [8.5], [8.5], [8.2], [8.2], [8.3], [8.5], [8.5], [8.6], [8.2], [8.3], [8.2], [9.0]], \"domain\": {\"x\": [0.0, 1.0], \"y\": [0.0, 1.0]}, \"hovertemplate\": \"labels=%{label}<br>IMDb_sum=%{value}<br>parent=%{parent}<br>id=%{id}<br>IMDb=%{color}<extra></extra>\", \"ids\": [\"Batman Begins/Action,Adventure\", \"The Dark Knight/Action,Crime,Drama,Thriller\", \"Parasite/Comedy,Drama,Thriller\", \"Collective/Documentary\", \"Derek DelGaudio's In & of Itself/Documentary\", \"The Act of Killing/Documentary,Biography,Crime,History,War\", \"Summer of Soul (...or, When the Revolution Could Not Be Televised)/Documentary,Music\", \"Soul on Ice: Past, Present and Future/Documentary,Sport\", \"Olympic Dreams Featuring Jonas Brothers/Sport\", \"Once Upon a Time in the West/Western\", \"Batman Begins\", \"Collective\", \"Derek DelGaudio's In & of Itself\", \"Olympic Dreams Featuring Jonas Brothers\", \"Once Upon a Time in the West\", \"Parasite\", \"Soul on Ice: Past, Present and Future\", \"Summer of Soul (...or, When the Revolution Could Not Be Televised)\", \"The Act of Killing\", \"The Dark Knight\"], \"labels\": [\"Action,Adventure\", \"Action,Crime,Drama,Thriller\", \"Comedy,Drama,Thriller\", \"Documentary\", \"Documentary\", \"Documentary,Biography,Crime,History,War\", \"Documentary,Music\", \"Documentary,Sport\", \"Sport\", \"Western\", \"Batman Begins\", \"Collective\", \"Derek DelGaudio's In & of Itself\", \"Olympic Dreams Featuring Jonas Brothers\", \"Once Upon a Time in the West\", \"Parasite\", \"Soul on Ice: Past, Present and Future\", \"Summer of Soul (...or, When the Revolution Could Not Be Televised)\", \"The Act of Killing\", \"The Dark Knight\"], \"marker\": {\"coloraxis\": \"coloraxis\", \"colors\": [8.2, 9.0, 8.6, 8.2, 8.3, 8.2, 8.3, 8.2, 8.5, 8.5, 8.2, 8.2, 8.3, 8.5, 8.5, 8.6, 8.2, 8.3, 8.2, 9.0]}, \"name\": \"\", \"parents\": [\"Batman Begins\", \"The Dark Knight\", \"Parasite\", \"Collective\", \"Derek DelGaudio's In & of Itself\", \"The Act of Killing\", \"Summer of Soul (...or, When the Revolution Could Not Be Televised)\", \"Soul on Ice: Past, Present and Future\", \"Olympic Dreams Featuring Jonas Brothers\", \"Once Upon a Time in the West\", \"\", \"\", \"\", \"\", \"\", \"\", \"\", \"\", \"\", \"\"], \"type\": \"sunburst\", \"values\": [8.2, 9.0, 8.6, 8.2, 8.3, 8.2, 8.3, 8.2, 8.5, 8.5, 8.2, 8.2, 8.3, 8.5, 8.5, 8.6, 8.2, 8.3, 8.2, 9.0]}],                        {\"coloraxis\": {\"colorbar\": {\"title\": {\"text\": \"IMDb\"}}, \"colorscale\": [[0.0, \"rgb(196, 230, 195)\"], [0.16666666666666666, \"rgb(150, 210, 164)\"], [0.3333333333333333, \"rgb(109, 188, 144)\"], [0.5, \"rgb(77, 162, 132)\"], [0.6666666666666666, \"rgb(54, 135, 122)\"], [0.8333333333333334, \"rgb(38, 107, 110)\"], [1.0, \"rgb(29, 79, 96)\"]]}, \"legend\": {\"tracegroupgap\": 0}, \"margin\": {\"t\": 60}, \"template\": {\"data\": {\"bar\": [{\"error_x\": {\"color\": \"#2a3f5f\"}, \"error_y\": {\"color\": \"#2a3f5f\"}, \"marker\": {\"line\": {\"color\": \"#E5ECF6\", \"width\": 0.5}}, \"type\": \"bar\"}], \"barpolar\": [{\"marker\": {\"line\": {\"color\": \"#E5ECF6\", \"width\": 0.5}}, \"type\": \"barpolar\"}], \"carpet\": [{\"aaxis\": {\"endlinecolor\": \"#2a3f5f\", \"gridcolor\": \"white\", \"linecolor\": \"white\", \"minorgridcolor\": \"white\", \"startlinecolor\": \"#2a3f5f\"}, \"baxis\": {\"endlinecolor\": \"#2a3f5f\", \"gridcolor\": \"white\", \"linecolor\": \"white\", \"minorgridcolor\": \"white\", \"startlinecolor\": \"#2a3f5f\"}, \"type\": \"carpet\"}], \"choropleth\": [{\"colorbar\": {\"outlinewidth\": 0, \"ticks\": \"\"}, \"type\": \"choropleth\"}], \"contour\": [{\"colorbar\": {\"outlinewidth\": 0, \"ticks\": \"\"}, \"colorscale\": [[0.0, \"#0d0887\"], [0.1111111111111111, \"#46039f\"], [0.2222222222222222, \"#7201a8\"], [0.3333333333333333, \"#9c179e\"], [0.4444444444444444, \"#bd3786\"], [0.5555555555555556, \"#d8576b\"], [0.6666666666666666, \"#ed7953\"], [0.7777777777777778, \"#fb9f3a\"], [0.8888888888888888, \"#fdca26\"], [1.0, \"#f0f921\"]], \"type\": \"contour\"}], \"contourcarpet\": [{\"colorbar\": {\"outlinewidth\": 0, \"ticks\": \"\"}, \"type\": \"contourcarpet\"}], \"heatmap\": [{\"colorbar\": {\"outlinewidth\": 0, \"ticks\": \"\"}, \"colorscale\": [[0.0, \"#0d0887\"], [0.1111111111111111, \"#46039f\"], [0.2222222222222222, \"#7201a8\"], [0.3333333333333333, \"#9c179e\"], [0.4444444444444444, \"#bd3786\"], [0.5555555555555556, \"#d8576b\"], [0.6666666666666666, \"#ed7953\"], [0.7777777777777778, \"#fb9f3a\"], [0.8888888888888888, \"#fdca26\"], [1.0, \"#f0f921\"]], \"type\": \"heatmap\"}], \"heatmapgl\": [{\"colorbar\": {\"outlinewidth\": 0, \"ticks\": \"\"}, \"colorscale\": [[0.0, \"#0d0887\"], [0.1111111111111111, \"#46039f\"], [0.2222222222222222, \"#7201a8\"], [0.3333333333333333, \"#9c179e\"], [0.4444444444444444, \"#bd3786\"], [0.5555555555555556, \"#d8576b\"], [0.6666666666666666, \"#ed7953\"], [0.7777777777777778, \"#fb9f3a\"], [0.8888888888888888, \"#fdca26\"], [1.0, \"#f0f921\"]], \"type\": \"heatmapgl\"}], \"histogram\": [{\"marker\": {\"colorbar\": {\"outlinewidth\": 0, \"ticks\": \"\"}}, \"type\": \"histogram\"}], \"histogram2d\": [{\"colorbar\": {\"outlinewidth\": 0, \"ticks\": \"\"}, \"colorscale\": [[0.0, \"#0d0887\"], [0.1111111111111111, \"#46039f\"], [0.2222222222222222, \"#7201a8\"], [0.3333333333333333, \"#9c179e\"], [0.4444444444444444, \"#bd3786\"], [0.5555555555555556, \"#d8576b\"], [0.6666666666666666, \"#ed7953\"], [0.7777777777777778, \"#fb9f3a\"], [0.8888888888888888, \"#fdca26\"], [1.0, \"#f0f921\"]], \"type\": \"histogram2d\"}], \"histogram2dcontour\": [{\"colorbar\": {\"outlinewidth\": 0, \"ticks\": \"\"}, \"colorscale\": [[0.0, \"#0d0887\"], [0.1111111111111111, \"#46039f\"], [0.2222222222222222, \"#7201a8\"], [0.3333333333333333, \"#9c179e\"], [0.4444444444444444, \"#bd3786\"], [0.5555555555555556, \"#d8576b\"], [0.6666666666666666, \"#ed7953\"], [0.7777777777777778, \"#fb9f3a\"], [0.8888888888888888, \"#fdca26\"], [1.0, \"#f0f921\"]], \"type\": \"histogram2dcontour\"}], \"mesh3d\": [{\"colorbar\": {\"outlinewidth\": 0, \"ticks\": \"\"}, \"type\": \"mesh3d\"}], \"parcoords\": [{\"line\": {\"colorbar\": {\"outlinewidth\": 0, \"ticks\": \"\"}}, \"type\": \"parcoords\"}], \"pie\": [{\"automargin\": true, \"type\": \"pie\"}], \"scatter\": [{\"marker\": {\"colorbar\": {\"outlinewidth\": 0, \"ticks\": \"\"}}, \"type\": \"scatter\"}], \"scatter3d\": [{\"line\": {\"colorbar\": {\"outlinewidth\": 0, \"ticks\": \"\"}}, \"marker\": {\"colorbar\": {\"outlinewidth\": 0, \"ticks\": \"\"}}, \"type\": \"scatter3d\"}], \"scattercarpet\": [{\"marker\": {\"colorbar\": {\"outlinewidth\": 0, \"ticks\": \"\"}}, \"type\": \"scattercarpet\"}], \"scattergeo\": [{\"marker\": {\"colorbar\": {\"outlinewidth\": 0, \"ticks\": \"\"}}, \"type\": \"scattergeo\"}], \"scattergl\": [{\"marker\": {\"colorbar\": {\"outlinewidth\": 0, \"ticks\": \"\"}}, \"type\": \"scattergl\"}], \"scattermapbox\": [{\"marker\": {\"colorbar\": {\"outlinewidth\": 0, \"ticks\": \"\"}}, \"type\": \"scattermapbox\"}], \"scatterpolar\": [{\"marker\": {\"colorbar\": {\"outlinewidth\": 0, \"ticks\": \"\"}}, \"type\": \"scatterpolar\"}], \"scatterpolargl\": [{\"marker\": {\"colorbar\": {\"outlinewidth\": 0, \"ticks\": \"\"}}, \"type\": \"scatterpolargl\"}], \"scatterternary\": [{\"marker\": {\"colorbar\": {\"outlinewidth\": 0, \"ticks\": \"\"}}, \"type\": \"scatterternary\"}], \"surface\": [{\"colorbar\": {\"outlinewidth\": 0, \"ticks\": \"\"}, \"colorscale\": [[0.0, \"#0d0887\"], [0.1111111111111111, \"#46039f\"], [0.2222222222222222, \"#7201a8\"], [0.3333333333333333, \"#9c179e\"], [0.4444444444444444, \"#bd3786\"], [0.5555555555555556, \"#d8576b\"], [0.6666666666666666, \"#ed7953\"], [0.7777777777777778, \"#fb9f3a\"], [0.8888888888888888, \"#fdca26\"], [1.0, \"#f0f921\"]], \"type\": \"surface\"}], \"table\": [{\"cells\": {\"fill\": {\"color\": \"#EBF0F8\"}, \"line\": {\"color\": \"white\"}}, \"header\": {\"fill\": {\"color\": \"#C8D4E3\"}, \"line\": {\"color\": \"white\"}}, \"type\": \"table\"}]}, \"layout\": {\"annotationdefaults\": {\"arrowcolor\": \"#2a3f5f\", \"arrowhead\": 0, \"arrowwidth\": 1}, \"coloraxis\": {\"colorbar\": {\"outlinewidth\": 0, \"ticks\": \"\"}}, \"colorscale\": {\"diverging\": [[0, \"#8e0152\"], [0.1, \"#c51b7d\"], [0.2, \"#de77ae\"], [0.3, \"#f1b6da\"], [0.4, \"#fde0ef\"], [0.5, \"#f7f7f7\"], [0.6, \"#e6f5d0\"], [0.7, \"#b8e186\"], [0.8, \"#7fbc41\"], [0.9, \"#4d9221\"], [1, \"#276419\"]], \"sequential\": [[0.0, \"#0d0887\"], [0.1111111111111111, \"#46039f\"], [0.2222222222222222, \"#7201a8\"], [0.3333333333333333, \"#9c179e\"], [0.4444444444444444, \"#bd3786\"], [0.5555555555555556, \"#d8576b\"], [0.6666666666666666, \"#ed7953\"], [0.7777777777777778, \"#fb9f3a\"], [0.8888888888888888, \"#fdca26\"], [1.0, \"#f0f921\"]], \"sequentialminus\": [[0.0, \"#0d0887\"], [0.1111111111111111, \"#46039f\"], [0.2222222222222222, \"#7201a8\"], [0.3333333333333333, \"#9c179e\"], [0.4444444444444444, \"#bd3786\"], [0.5555555555555556, \"#d8576b\"], [0.6666666666666666, \"#ed7953\"], [0.7777777777777778, \"#fb9f3a\"], [0.8888888888888888, \"#fdca26\"], [1.0, \"#f0f921\"]]}, \"colorway\": [\"#636efa\", \"#EF553B\", \"#00cc96\", \"#ab63fa\", \"#FFA15A\", \"#19d3f3\", \"#FF6692\", \"#B6E880\", \"#FF97FF\", \"#FECB52\"], \"font\": {\"color\": \"#2a3f5f\"}, \"geo\": {\"bgcolor\": \"white\", \"lakecolor\": \"white\", \"landcolor\": \"#E5ECF6\", \"showlakes\": true, \"showland\": true, \"subunitcolor\": \"white\"}, \"hoverlabel\": {\"align\": \"left\"}, \"hovermode\": \"closest\", \"mapbox\": {\"style\": \"light\"}, \"paper_bgcolor\": \"white\", \"plot_bgcolor\": \"#E5ECF6\", \"polar\": {\"angularaxis\": {\"gridcolor\": \"white\", \"linecolor\": \"white\", \"ticks\": \"\"}, \"bgcolor\": \"#E5ECF6\", \"radialaxis\": {\"gridcolor\": \"white\", \"linecolor\": \"white\", \"ticks\": \"\"}}, \"scene\": {\"xaxis\": {\"backgroundcolor\": \"#E5ECF6\", \"gridcolor\": \"white\", \"gridwidth\": 2, \"linecolor\": \"white\", \"showbackground\": true, \"ticks\": \"\", \"zerolinecolor\": \"white\"}, \"yaxis\": {\"backgroundcolor\": \"#E5ECF6\", \"gridcolor\": \"white\", \"gridwidth\": 2, \"linecolor\": \"white\", \"showbackground\": true, \"ticks\": \"\", \"zerolinecolor\": \"white\"}, \"zaxis\": {\"backgroundcolor\": \"#E5ECF6\", \"gridcolor\": \"white\", \"gridwidth\": 2, \"linecolor\": \"white\", \"showbackground\": true, \"ticks\": \"\", \"zerolinecolor\": \"white\"}}, \"shapedefaults\": {\"line\": {\"color\": \"#2a3f5f\"}}, \"ternary\": {\"aaxis\": {\"gridcolor\": \"white\", \"linecolor\": \"white\", \"ticks\": \"\"}, \"baxis\": {\"gridcolor\": \"white\", \"linecolor\": \"white\", \"ticks\": \"\"}, \"bgcolor\": \"#E5ECF6\", \"caxis\": {\"gridcolor\": \"white\", \"linecolor\": \"white\", \"ticks\": \"\"}}, \"title\": {\"x\": 0.05}, \"xaxis\": {\"automargin\": true, \"gridcolor\": \"white\", \"linecolor\": \"white\", \"ticks\": \"\", \"title\": {\"standoff\": 15}, \"zerolinecolor\": \"white\", \"zerolinewidth\": 2}, \"yaxis\": {\"automargin\": true, \"gridcolor\": \"white\", \"linecolor\": \"white\", \"ticks\": \"\", \"title\": {\"standoff\": 15}, \"zerolinecolor\": \"white\", \"zerolinewidth\": 2}}}},                        {\"responsive\": true}                    ).then(function(){\n",
              "                            \n",
              "var gd = document.getElementById('51ec0c11-8093-4376-8759-c00761104f78');\n",
              "var x = new MutationObserver(function (mutations, observer) {{\n",
              "        var display = window.getComputedStyle(gd).display;\n",
              "        if (!display || display === 'none') {{\n",
              "            console.log([gd, 'removed!']);\n",
              "            Plotly.purge(gd);\n",
              "            observer.disconnect();\n",
              "        }}\n",
              "}});\n",
              "\n",
              "// Listen for the removal of the full notebook cells\n",
              "var notebookContainer = gd.closest('#notebook-container');\n",
              "if (notebookContainer) {{\n",
              "    x.observe(notebookContainer, {childList: true});\n",
              "}}\n",
              "\n",
              "// Listen for the clearing of the current output cell\n",
              "var outputEl = gd.closest('.output');\n",
              "if (outputEl) {{\n",
              "    x.observe(outputEl, {childList: true});\n",
              "}}\n",
              "\n",
              "                        })                };                });            </script>        </div>"
            ]
          },
          "metadata": {},
          "output_type": "display_data"
        }
      ],
      "source": [
        "sunburst(df_movies,'Hulu','Blugrn')"
      ]
    },
    {
      "cell_type": "code",
      "execution_count": null,
      "metadata": {
        "_kg_hide-input": false,
        "execution": {
          "iopub.execute_input": "2021-12-16T07:50:14.684943Z",
          "iopub.status.busy": "2021-12-16T07:50:14.684007Z",
          "iopub.status.idle": "2021-12-16T07:50:14.767947Z",
          "shell.execute_reply": "2021-12-16T07:50:14.768344Z",
          "shell.execute_reply.started": "2021-12-16T07:49:06.540203Z"
        },
        "papermill": {
          "duration": 0.132528,
          "end_time": "2021-12-16T07:50:14.768511",
          "exception": false,
          "start_time": "2021-12-16T07:50:14.635983",
          "status": "completed"
        },
        "tags": [],
        "id": "Y2FbQIvljkhB",
        "outputId": "02b1e71e-6028-4168-d138-889978cfc431"
      },
      "outputs": [
        {
          "data": {
            "text/html": [
              "<div>                            <div id=\"9b0777e9-9d59-410c-908a-64690bd893ac\" class=\"plotly-graph-div\" style=\"height:525px; width:100%;\"></div>            <script type=\"text/javascript\">                require([\"plotly\"], function(Plotly) {                    window.PLOTLYENV=window.PLOTLYENV || {};                                    if (document.getElementById(\"9b0777e9-9d59-410c-908a-64690bd893ac\")) {                    Plotly.newPlot(                        \"9b0777e9-9d59-410c-908a-64690bd893ac\",                        [{\"branchvalues\": \"total\", \"customdata\": [[8.7], [8.8], [9.7], [8.7], [9.0], [8.8], [8.8], [9.2], [8.8], [9.8], [8.8], [8.7], [8.8], [9.2], [8.8], [9.7], [9.8], [8.7], [9.0], [8.8]], \"domain\": {\"x\": [0.0, 1.0], \"y\": [0.0, 1.0]}, \"hovertemplate\": \"labels=%{label}<br>IMDb_sum=%{value}<br>parent=%{parent}<br>id=%{id}<br>IMDb=%{color}<extra></extra>\", \"ids\": [\"C.S. Lewis Onstage: The Most Reluctant Convert/Biography,Drama,History\", \"Operation Toussaint: Operation Underground Railroad and the Fight to End Modern Day Slavery/Documentary\", \"Ostatni ludzie Czarnobyla/Documentary\", \"The Boy Whose Skin Fell Off/Documentary\", \"They Come to America IV: Immigration & Politics/Documentary\", \"Uncle Tom/Documentary\", \"Black Jack Pershing: Love and War/Documentary,Biography,History,War\", \"Healing Voices/Documentary,Drama\", \"Fight Club/Drama\", \"Ruby's Studio: the Feelings Show/Family\", \"Black Jack Pershing: Love and War\", \"C.S. Lewis Onstage: The Most Reluctant Convert\", \"Fight Club\", \"Healing Voices\", \"Operation Toussaint: Operation Underground Railroad and the Fight to End Modern Day Slavery\", \"Ostatni ludzie Czarnobyla\", \"Ruby's Studio: the Feelings Show\", \"The Boy Whose Skin Fell Off\", \"They Come to America IV: Immigration & Politics\", \"Uncle Tom\"], \"labels\": [\"Biography,Drama,History\", \"Documentary\", \"Documentary\", \"Documentary\", \"Documentary\", \"Documentary\", \"Documentary,Biography,History,War\", \"Documentary,Drama\", \"Drama\", \"Family\", \"Black Jack Pershing: Love and War\", \"C.S. Lewis Onstage: The Most Reluctant Convert\", \"Fight Club\", \"Healing Voices\", \"Operation Toussaint: Operation Underground Railroad and the Fight to End Modern Day Slavery\", \"Ostatni ludzie Czarnobyla\", \"Ruby's Studio: the Feelings Show\", \"The Boy Whose Skin Fell Off\", \"They Come to America IV: Immigration & Politics\", \"Uncle Tom\"], \"marker\": {\"coloraxis\": \"coloraxis\", \"colors\": [8.7, 8.8, 9.7, 8.7, 9.0, 8.8, 8.8, 9.2, 8.8, 9.8, 8.8, 8.7, 8.8, 9.2, 8.8, 9.7, 9.8, 8.7, 9.0, 8.8]}, \"name\": \"\", \"parents\": [\"C.S. Lewis Onstage: The Most Reluctant Convert\", \"Operation Toussaint: Operation Underground Railroad and the Fight to End Modern Day Slavery\", \"Ostatni ludzie Czarnobyla\", \"The Boy Whose Skin Fell Off\", \"They Come to America IV: Immigration & Politics\", \"Uncle Tom\", \"Black Jack Pershing: Love and War\", \"Healing Voices\", \"Fight Club\", \"Ruby's Studio: the Feelings Show\", \"\", \"\", \"\", \"\", \"\", \"\", \"\", \"\", \"\", \"\"], \"type\": \"sunburst\", \"values\": [8.7, 8.8, 9.7, 8.7, 9.0, 8.8, 8.8, 9.2, 8.8, 9.8, 8.8, 8.7, 8.8, 9.2, 8.8, 9.7, 9.8, 8.7, 9.0, 8.8]}],                        {\"coloraxis\": {\"colorbar\": {\"title\": {\"text\": \"IMDb\"}}, \"colorscale\": [[0.0, \"rgb(41, 24, 107)\"], [0.09090909090909091, \"rgb(42, 35, 160)\"], [0.18181818181818182, \"rgb(15, 71, 153)\"], [0.2727272727272727, \"rgb(18, 95, 142)\"], [0.36363636363636365, \"rgb(38, 116, 137)\"], [0.45454545454545453, \"rgb(53, 136, 136)\"], [0.5454545454545454, \"rgb(65, 157, 133)\"], [0.6363636363636364, \"rgb(81, 178, 124)\"], [0.7272727272727273, \"rgb(111, 198, 107)\"], [0.8181818181818182, \"rgb(160, 214, 91)\"], [0.9090909090909091, \"rgb(212, 225, 112)\"], [1.0, \"rgb(253, 238, 153)\"]]}, \"legend\": {\"tracegroupgap\": 0}, \"margin\": {\"t\": 60}, \"template\": {\"data\": {\"bar\": [{\"error_x\": {\"color\": \"#2a3f5f\"}, \"error_y\": {\"color\": \"#2a3f5f\"}, \"marker\": {\"line\": {\"color\": \"#E5ECF6\", \"width\": 0.5}}, \"type\": \"bar\"}], \"barpolar\": [{\"marker\": {\"line\": {\"color\": \"#E5ECF6\", \"width\": 0.5}}, \"type\": \"barpolar\"}], \"carpet\": [{\"aaxis\": {\"endlinecolor\": \"#2a3f5f\", \"gridcolor\": \"white\", \"linecolor\": \"white\", \"minorgridcolor\": \"white\", \"startlinecolor\": \"#2a3f5f\"}, \"baxis\": {\"endlinecolor\": \"#2a3f5f\", \"gridcolor\": \"white\", \"linecolor\": \"white\", \"minorgridcolor\": \"white\", \"startlinecolor\": \"#2a3f5f\"}, \"type\": \"carpet\"}], \"choropleth\": [{\"colorbar\": {\"outlinewidth\": 0, \"ticks\": \"\"}, \"type\": \"choropleth\"}], \"contour\": [{\"colorbar\": {\"outlinewidth\": 0, \"ticks\": \"\"}, \"colorscale\": [[0.0, \"#0d0887\"], [0.1111111111111111, \"#46039f\"], [0.2222222222222222, \"#7201a8\"], [0.3333333333333333, \"#9c179e\"], [0.4444444444444444, \"#bd3786\"], [0.5555555555555556, \"#d8576b\"], [0.6666666666666666, \"#ed7953\"], [0.7777777777777778, \"#fb9f3a\"], [0.8888888888888888, \"#fdca26\"], [1.0, \"#f0f921\"]], \"type\": \"contour\"}], \"contourcarpet\": [{\"colorbar\": {\"outlinewidth\": 0, \"ticks\": \"\"}, \"type\": \"contourcarpet\"}], \"heatmap\": [{\"colorbar\": {\"outlinewidth\": 0, \"ticks\": \"\"}, \"colorscale\": [[0.0, \"#0d0887\"], [0.1111111111111111, \"#46039f\"], [0.2222222222222222, \"#7201a8\"], [0.3333333333333333, \"#9c179e\"], [0.4444444444444444, \"#bd3786\"], [0.5555555555555556, \"#d8576b\"], [0.6666666666666666, \"#ed7953\"], [0.7777777777777778, \"#fb9f3a\"], [0.8888888888888888, \"#fdca26\"], [1.0, \"#f0f921\"]], \"type\": \"heatmap\"}], \"heatmapgl\": [{\"colorbar\": {\"outlinewidth\": 0, \"ticks\": \"\"}, \"colorscale\": [[0.0, \"#0d0887\"], [0.1111111111111111, \"#46039f\"], [0.2222222222222222, \"#7201a8\"], [0.3333333333333333, \"#9c179e\"], [0.4444444444444444, \"#bd3786\"], [0.5555555555555556, \"#d8576b\"], [0.6666666666666666, \"#ed7953\"], [0.7777777777777778, \"#fb9f3a\"], [0.8888888888888888, \"#fdca26\"], [1.0, \"#f0f921\"]], \"type\": \"heatmapgl\"}], \"histogram\": [{\"marker\": {\"colorbar\": {\"outlinewidth\": 0, \"ticks\": \"\"}}, \"type\": \"histogram\"}], \"histogram2d\": [{\"colorbar\": {\"outlinewidth\": 0, \"ticks\": \"\"}, \"colorscale\": [[0.0, \"#0d0887\"], [0.1111111111111111, \"#46039f\"], [0.2222222222222222, \"#7201a8\"], [0.3333333333333333, \"#9c179e\"], [0.4444444444444444, \"#bd3786\"], [0.5555555555555556, \"#d8576b\"], [0.6666666666666666, \"#ed7953\"], [0.7777777777777778, \"#fb9f3a\"], [0.8888888888888888, \"#fdca26\"], [1.0, \"#f0f921\"]], \"type\": \"histogram2d\"}], \"histogram2dcontour\": [{\"colorbar\": {\"outlinewidth\": 0, \"ticks\": \"\"}, \"colorscale\": [[0.0, \"#0d0887\"], [0.1111111111111111, \"#46039f\"], [0.2222222222222222, \"#7201a8\"], [0.3333333333333333, \"#9c179e\"], [0.4444444444444444, \"#bd3786\"], [0.5555555555555556, \"#d8576b\"], [0.6666666666666666, \"#ed7953\"], [0.7777777777777778, \"#fb9f3a\"], [0.8888888888888888, \"#fdca26\"], [1.0, \"#f0f921\"]], \"type\": \"histogram2dcontour\"}], \"mesh3d\": [{\"colorbar\": {\"outlinewidth\": 0, \"ticks\": \"\"}, \"type\": \"mesh3d\"}], \"parcoords\": [{\"line\": {\"colorbar\": {\"outlinewidth\": 0, \"ticks\": \"\"}}, \"type\": \"parcoords\"}], \"pie\": [{\"automargin\": true, \"type\": \"pie\"}], \"scatter\": [{\"marker\": {\"colorbar\": {\"outlinewidth\": 0, \"ticks\": \"\"}}, \"type\": \"scatter\"}], \"scatter3d\": [{\"line\": {\"colorbar\": {\"outlinewidth\": 0, \"ticks\": \"\"}}, \"marker\": {\"colorbar\": {\"outlinewidth\": 0, \"ticks\": \"\"}}, \"type\": \"scatter3d\"}], \"scattercarpet\": [{\"marker\": {\"colorbar\": {\"outlinewidth\": 0, \"ticks\": \"\"}}, \"type\": \"scattercarpet\"}], \"scattergeo\": [{\"marker\": {\"colorbar\": {\"outlinewidth\": 0, \"ticks\": \"\"}}, \"type\": \"scattergeo\"}], \"scattergl\": [{\"marker\": {\"colorbar\": {\"outlinewidth\": 0, \"ticks\": \"\"}}, \"type\": \"scattergl\"}], \"scattermapbox\": [{\"marker\": {\"colorbar\": {\"outlinewidth\": 0, \"ticks\": \"\"}}, \"type\": \"scattermapbox\"}], \"scatterpolar\": [{\"marker\": {\"colorbar\": {\"outlinewidth\": 0, \"ticks\": \"\"}}, \"type\": \"scatterpolar\"}], \"scatterpolargl\": [{\"marker\": {\"colorbar\": {\"outlinewidth\": 0, \"ticks\": \"\"}}, \"type\": \"scatterpolargl\"}], \"scatterternary\": [{\"marker\": {\"colorbar\": {\"outlinewidth\": 0, \"ticks\": \"\"}}, \"type\": \"scatterternary\"}], \"surface\": [{\"colorbar\": {\"outlinewidth\": 0, \"ticks\": \"\"}, \"colorscale\": [[0.0, \"#0d0887\"], [0.1111111111111111, \"#46039f\"], [0.2222222222222222, \"#7201a8\"], [0.3333333333333333, \"#9c179e\"], [0.4444444444444444, \"#bd3786\"], [0.5555555555555556, \"#d8576b\"], [0.6666666666666666, \"#ed7953\"], [0.7777777777777778, \"#fb9f3a\"], [0.8888888888888888, \"#fdca26\"], [1.0, \"#f0f921\"]], \"type\": \"surface\"}], \"table\": [{\"cells\": {\"fill\": {\"color\": \"#EBF0F8\"}, \"line\": {\"color\": \"white\"}}, \"header\": {\"fill\": {\"color\": \"#C8D4E3\"}, \"line\": {\"color\": \"white\"}}, \"type\": \"table\"}]}, \"layout\": {\"annotationdefaults\": {\"arrowcolor\": \"#2a3f5f\", \"arrowhead\": 0, \"arrowwidth\": 1}, \"coloraxis\": {\"colorbar\": {\"outlinewidth\": 0, \"ticks\": \"\"}}, \"colorscale\": {\"diverging\": [[0, \"#8e0152\"], [0.1, \"#c51b7d\"], [0.2, \"#de77ae\"], [0.3, \"#f1b6da\"], [0.4, \"#fde0ef\"], [0.5, \"#f7f7f7\"], [0.6, \"#e6f5d0\"], [0.7, \"#b8e186\"], [0.8, \"#7fbc41\"], [0.9, \"#4d9221\"], [1, \"#276419\"]], \"sequential\": [[0.0, \"#0d0887\"], [0.1111111111111111, \"#46039f\"], [0.2222222222222222, \"#7201a8\"], [0.3333333333333333, \"#9c179e\"], [0.4444444444444444, \"#bd3786\"], [0.5555555555555556, \"#d8576b\"], [0.6666666666666666, \"#ed7953\"], [0.7777777777777778, \"#fb9f3a\"], [0.8888888888888888, \"#fdca26\"], [1.0, \"#f0f921\"]], \"sequentialminus\": [[0.0, \"#0d0887\"], [0.1111111111111111, \"#46039f\"], [0.2222222222222222, \"#7201a8\"], [0.3333333333333333, \"#9c179e\"], [0.4444444444444444, \"#bd3786\"], [0.5555555555555556, \"#d8576b\"], [0.6666666666666666, \"#ed7953\"], [0.7777777777777778, \"#fb9f3a\"], [0.8888888888888888, \"#fdca26\"], [1.0, \"#f0f921\"]]}, \"colorway\": [\"#636efa\", \"#EF553B\", \"#00cc96\", \"#ab63fa\", \"#FFA15A\", \"#19d3f3\", \"#FF6692\", \"#B6E880\", \"#FF97FF\", \"#FECB52\"], \"font\": {\"color\": \"#2a3f5f\"}, \"geo\": {\"bgcolor\": \"white\", \"lakecolor\": \"white\", \"landcolor\": \"#E5ECF6\", \"showlakes\": true, \"showland\": true, \"subunitcolor\": \"white\"}, \"hoverlabel\": {\"align\": \"left\"}, \"hovermode\": \"closest\", \"mapbox\": {\"style\": \"light\"}, \"paper_bgcolor\": \"white\", \"plot_bgcolor\": \"#E5ECF6\", \"polar\": {\"angularaxis\": {\"gridcolor\": \"white\", \"linecolor\": \"white\", \"ticks\": \"\"}, \"bgcolor\": \"#E5ECF6\", \"radialaxis\": {\"gridcolor\": \"white\", \"linecolor\": \"white\", \"ticks\": \"\"}}, \"scene\": {\"xaxis\": {\"backgroundcolor\": \"#E5ECF6\", \"gridcolor\": \"white\", \"gridwidth\": 2, \"linecolor\": \"white\", \"showbackground\": true, \"ticks\": \"\", \"zerolinecolor\": \"white\"}, \"yaxis\": {\"backgroundcolor\": \"#E5ECF6\", \"gridcolor\": \"white\", \"gridwidth\": 2, \"linecolor\": \"white\", \"showbackground\": true, \"ticks\": \"\", \"zerolinecolor\": \"white\"}, \"zaxis\": {\"backgroundcolor\": \"#E5ECF6\", \"gridcolor\": \"white\", \"gridwidth\": 2, \"linecolor\": \"white\", \"showbackground\": true, \"ticks\": \"\", \"zerolinecolor\": \"white\"}}, \"shapedefaults\": {\"line\": {\"color\": \"#2a3f5f\"}}, \"ternary\": {\"aaxis\": {\"gridcolor\": \"white\", \"linecolor\": \"white\", \"ticks\": \"\"}, \"baxis\": {\"gridcolor\": \"white\", \"linecolor\": \"white\", \"ticks\": \"\"}, \"bgcolor\": \"#E5ECF6\", \"caxis\": {\"gridcolor\": \"white\", \"linecolor\": \"white\", \"ticks\": \"\"}}, \"title\": {\"x\": 0.05}, \"xaxis\": {\"automargin\": true, \"gridcolor\": \"white\", \"linecolor\": \"white\", \"ticks\": \"\", \"title\": {\"standoff\": 15}, \"zerolinecolor\": \"white\", \"zerolinewidth\": 2}, \"yaxis\": {\"automargin\": true, \"gridcolor\": \"white\", \"linecolor\": \"white\", \"ticks\": \"\", \"title\": {\"standoff\": 15}, \"zerolinecolor\": \"white\", \"zerolinewidth\": 2}}}},                        {\"responsive\": true}                    ).then(function(){\n",
              "                            \n",
              "var gd = document.getElementById('9b0777e9-9d59-410c-908a-64690bd893ac');\n",
              "var x = new MutationObserver(function (mutations, observer) {{\n",
              "        var display = window.getComputedStyle(gd).display;\n",
              "        if (!display || display === 'none') {{\n",
              "            console.log([gd, 'removed!']);\n",
              "            Plotly.purge(gd);\n",
              "            observer.disconnect();\n",
              "        }}\n",
              "}});\n",
              "\n",
              "// Listen for the removal of the full notebook cells\n",
              "var notebookContainer = gd.closest('#notebook-container');\n",
              "if (notebookContainer) {{\n",
              "    x.observe(notebookContainer, {childList: true});\n",
              "}}\n",
              "\n",
              "// Listen for the clearing of the current output cell\n",
              "var outputEl = gd.closest('.output');\n",
              "if (outputEl) {{\n",
              "    x.observe(outputEl, {childList: true});\n",
              "}}\n",
              "\n",
              "                        })                };                });            </script>        </div>"
            ]
          },
          "metadata": {},
          "output_type": "display_data"
        }
      ],
      "source": [
        "sunburst(df_movies,'Prime Video','haline')"
      ]
    },
    {
      "cell_type": "code",
      "execution_count": null,
      "metadata": {
        "_kg_hide-input": false,
        "execution": {
          "iopub.execute_input": "2021-12-16T07:50:14.864234Z",
          "iopub.status.busy": "2021-12-16T07:50:14.863304Z",
          "iopub.status.idle": "2021-12-16T07:50:14.944951Z",
          "shell.execute_reply": "2021-12-16T07:50:14.944481Z",
          "shell.execute_reply.started": "2021-12-16T07:49:06.664972Z"
        },
        "papermill": {
          "duration": 0.130401,
          "end_time": "2021-12-16T07:50:14.945065",
          "exception": false,
          "start_time": "2021-12-16T07:50:14.814664",
          "status": "completed"
        },
        "tags": [],
        "id": "btbwXMnkjkhC",
        "outputId": "0f066aaf-3000-4501-f4f8-e88b7430f639"
      },
      "outputs": [
        {
          "data": {
            "text/html": [
              "<div>                            <div id=\"612a4c0b-63f9-4818-a698-af1305ea85bb\" class=\"plotly-graph-div\" style=\"height:525px; width:100%;\"></div>            <script type=\"text/javascript\">                require([\"plotly\"], function(Plotly) {                    window.PLOTLYENV=window.PLOTLYENV || {};                                    if (document.getElementById(\"612a4c0b-63f9-4818-a698-af1305ea85bb\")) {                    Plotly.newPlot(                        \"612a4c0b-63f9-4818-a698-af1305ea85bb\",                        [{\"branchvalues\": \"total\", \"customdata\": [[8.6], [8.7], [8.4], [8.4], [8.5], [8.4], [8.4], [9.0], [8.9], [9.6], [8.4], [9.0], [8.4], [8.4], [8.9], [9.6], [8.6], [8.7], [8.5], [8.4]], \"domain\": {\"x\": [0.0, 1.0], \"y\": [0.0, 1.0]}, \"hovertemplate\": \"labels=%{label}<br>IMDb_sum=%{value}<br>parent=%{parent}<br>id=%{id}<br>IMDb=%{color}<extra></extra>\", \"ids\": [\"Star Wars: A New Hope/Action,Adventure,Fantasy,Sci-Fi\", \"Star Wars: The Empire Strikes Back/Action,Adventure,Fantasy,Sci-Fi\", \"Avengers: Infinity War/Action,Adventure,Sci-Fi\", \"Coco/Animation,Adventure,Drama,Family,Fantasy,Music,Mystery\", \"The Lion King/Animation,Adventure,Drama,Family,Musical\", \"WALL\\u00b7E/Animation,Adventure,Family,Romance,Sci-Fi\", \"Folklore: The Long Pond Studio Sessions/Documentary,Drama,Music\", \"Blue Ribbon Kids/Documentary,Reality-TV\", \"Incredible! The Story of Dr. Pol/Documentary,Reality-TV\", \"Jingle Pols/Documentary,Reality-TV\", \"Avengers: Infinity War\", \"Blue Ribbon Kids\", \"Coco\", \"Folklore: The Long Pond Studio Sessions\", \"Incredible! The Story of Dr. Pol\", \"Jingle Pols\", \"Star Wars: A New Hope\", \"Star Wars: The Empire Strikes Back\", \"The Lion King\", \"WALL\\u00b7E\"], \"labels\": [\"Action,Adventure,Fantasy,Sci-Fi\", \"Action,Adventure,Fantasy,Sci-Fi\", \"Action,Adventure,Sci-Fi\", \"Animation,Adventure,Drama,Family,Fantasy,Music,Mystery\", \"Animation,Adventure,Drama,Family,Musical\", \"Animation,Adventure,Family,Romance,Sci-Fi\", \"Documentary,Drama,Music\", \"Documentary,Reality-TV\", \"Documentary,Reality-TV\", \"Documentary,Reality-TV\", \"Avengers: Infinity War\", \"Blue Ribbon Kids\", \"Coco\", \"Folklore: The Long Pond Studio Sessions\", \"Incredible! The Story of Dr. Pol\", \"Jingle Pols\", \"Star Wars: A New Hope\", \"Star Wars: The Empire Strikes Back\", \"The Lion King\", \"WALL\\u00b7E\"], \"marker\": {\"coloraxis\": \"coloraxis\", \"colors\": [8.6, 8.7, 8.4, 8.4, 8.5, 8.4, 8.4, 9.0, 8.9, 9.6, 8.4, 9.0, 8.4, 8.4, 8.9, 9.6, 8.6, 8.7, 8.5, 8.4]}, \"name\": \"\", \"parents\": [\"Star Wars: A New Hope\", \"Star Wars: The Empire Strikes Back\", \"Avengers: Infinity War\", \"Coco\", \"The Lion King\", \"WALL\\u00b7E\", \"Folklore: The Long Pond Studio Sessions\", \"Blue Ribbon Kids\", \"Incredible! The Story of Dr. Pol\", \"Jingle Pols\", \"\", \"\", \"\", \"\", \"\", \"\", \"\", \"\", \"\", \"\"], \"type\": \"sunburst\", \"values\": [8.6, 8.7, 8.4, 8.4, 8.5, 8.4, 8.4, 9.0, 8.9, 9.6, 8.4, 9.0, 8.4, 8.4, 8.9, 9.6, 8.6, 8.7, 8.5, 8.4]}],                        {\"coloraxis\": {\"colorbar\": {\"title\": {\"text\": \"IMDb\"}}, \"colorscale\": [[0.0, \"rgb(230, 240, 240)\"], [0.09090909090909091, \"rgb(191, 221, 229)\"], [0.18181818181818182, \"rgb(156, 201, 226)\"], [0.2727272727272727, \"rgb(129, 180, 227)\"], [0.36363636363636365, \"rgb(115, 154, 228)\"], [0.45454545454545453, \"rgb(117, 127, 221)\"], [0.5454545454545454, \"rgb(120, 100, 202)\"], [0.6363636363636364, \"rgb(119, 74, 175)\"], [0.7272727272727273, \"rgb(113, 50, 141)\"], [0.8181818181818182, \"rgb(100, 31, 104)\"], [0.9090909090909091, \"rgb(80, 20, 66)\"], [1.0, \"rgb(54, 14, 36)\"]]}, \"legend\": {\"tracegroupgap\": 0}, \"margin\": {\"t\": 60}, \"template\": {\"data\": {\"bar\": [{\"error_x\": {\"color\": \"#2a3f5f\"}, \"error_y\": {\"color\": \"#2a3f5f\"}, \"marker\": {\"line\": {\"color\": \"#E5ECF6\", \"width\": 0.5}}, \"type\": \"bar\"}], \"barpolar\": [{\"marker\": {\"line\": {\"color\": \"#E5ECF6\", \"width\": 0.5}}, \"type\": \"barpolar\"}], \"carpet\": [{\"aaxis\": {\"endlinecolor\": \"#2a3f5f\", \"gridcolor\": \"white\", \"linecolor\": \"white\", \"minorgridcolor\": \"white\", \"startlinecolor\": \"#2a3f5f\"}, \"baxis\": {\"endlinecolor\": \"#2a3f5f\", \"gridcolor\": \"white\", \"linecolor\": \"white\", \"minorgridcolor\": \"white\", \"startlinecolor\": \"#2a3f5f\"}, \"type\": \"carpet\"}], \"choropleth\": [{\"colorbar\": {\"outlinewidth\": 0, \"ticks\": \"\"}, \"type\": \"choropleth\"}], \"contour\": [{\"colorbar\": {\"outlinewidth\": 0, \"ticks\": \"\"}, \"colorscale\": [[0.0, \"#0d0887\"], [0.1111111111111111, \"#46039f\"], [0.2222222222222222, \"#7201a8\"], [0.3333333333333333, \"#9c179e\"], [0.4444444444444444, \"#bd3786\"], [0.5555555555555556, \"#d8576b\"], [0.6666666666666666, \"#ed7953\"], [0.7777777777777778, \"#fb9f3a\"], [0.8888888888888888, \"#fdca26\"], [1.0, \"#f0f921\"]], \"type\": \"contour\"}], \"contourcarpet\": [{\"colorbar\": {\"outlinewidth\": 0, \"ticks\": \"\"}, \"type\": \"contourcarpet\"}], \"heatmap\": [{\"colorbar\": {\"outlinewidth\": 0, \"ticks\": \"\"}, \"colorscale\": [[0.0, \"#0d0887\"], [0.1111111111111111, \"#46039f\"], [0.2222222222222222, \"#7201a8\"], [0.3333333333333333, \"#9c179e\"], [0.4444444444444444, \"#bd3786\"], [0.5555555555555556, \"#d8576b\"], [0.6666666666666666, \"#ed7953\"], [0.7777777777777778, \"#fb9f3a\"], [0.8888888888888888, \"#fdca26\"], [1.0, \"#f0f921\"]], \"type\": \"heatmap\"}], \"heatmapgl\": [{\"colorbar\": {\"outlinewidth\": 0, \"ticks\": \"\"}, \"colorscale\": [[0.0, \"#0d0887\"], [0.1111111111111111, \"#46039f\"], [0.2222222222222222, \"#7201a8\"], [0.3333333333333333, \"#9c179e\"], [0.4444444444444444, \"#bd3786\"], [0.5555555555555556, \"#d8576b\"], [0.6666666666666666, \"#ed7953\"], [0.7777777777777778, \"#fb9f3a\"], [0.8888888888888888, \"#fdca26\"], [1.0, \"#f0f921\"]], \"type\": \"heatmapgl\"}], \"histogram\": [{\"marker\": {\"colorbar\": {\"outlinewidth\": 0, \"ticks\": \"\"}}, \"type\": \"histogram\"}], \"histogram2d\": [{\"colorbar\": {\"outlinewidth\": 0, \"ticks\": \"\"}, \"colorscale\": [[0.0, \"#0d0887\"], [0.1111111111111111, \"#46039f\"], [0.2222222222222222, \"#7201a8\"], [0.3333333333333333, \"#9c179e\"], [0.4444444444444444, \"#bd3786\"], [0.5555555555555556, \"#d8576b\"], [0.6666666666666666, \"#ed7953\"], [0.7777777777777778, \"#fb9f3a\"], [0.8888888888888888, \"#fdca26\"], [1.0, \"#f0f921\"]], \"type\": \"histogram2d\"}], \"histogram2dcontour\": [{\"colorbar\": {\"outlinewidth\": 0, \"ticks\": \"\"}, \"colorscale\": [[0.0, \"#0d0887\"], [0.1111111111111111, \"#46039f\"], [0.2222222222222222, \"#7201a8\"], [0.3333333333333333, \"#9c179e\"], [0.4444444444444444, \"#bd3786\"], [0.5555555555555556, \"#d8576b\"], [0.6666666666666666, \"#ed7953\"], [0.7777777777777778, \"#fb9f3a\"], [0.8888888888888888, \"#fdca26\"], [1.0, \"#f0f921\"]], \"type\": \"histogram2dcontour\"}], \"mesh3d\": [{\"colorbar\": {\"outlinewidth\": 0, \"ticks\": \"\"}, \"type\": \"mesh3d\"}], \"parcoords\": [{\"line\": {\"colorbar\": {\"outlinewidth\": 0, \"ticks\": \"\"}}, \"type\": \"parcoords\"}], \"pie\": [{\"automargin\": true, \"type\": \"pie\"}], \"scatter\": [{\"marker\": {\"colorbar\": {\"outlinewidth\": 0, \"ticks\": \"\"}}, \"type\": \"scatter\"}], \"scatter3d\": [{\"line\": {\"colorbar\": {\"outlinewidth\": 0, \"ticks\": \"\"}}, \"marker\": {\"colorbar\": {\"outlinewidth\": 0, \"ticks\": \"\"}}, \"type\": \"scatter3d\"}], \"scattercarpet\": [{\"marker\": {\"colorbar\": {\"outlinewidth\": 0, \"ticks\": \"\"}}, \"type\": \"scattercarpet\"}], \"scattergeo\": [{\"marker\": {\"colorbar\": {\"outlinewidth\": 0, \"ticks\": \"\"}}, \"type\": \"scattergeo\"}], \"scattergl\": [{\"marker\": {\"colorbar\": {\"outlinewidth\": 0, \"ticks\": \"\"}}, \"type\": \"scattergl\"}], \"scattermapbox\": [{\"marker\": {\"colorbar\": {\"outlinewidth\": 0, \"ticks\": \"\"}}, \"type\": \"scattermapbox\"}], \"scatterpolar\": [{\"marker\": {\"colorbar\": {\"outlinewidth\": 0, \"ticks\": \"\"}}, \"type\": \"scatterpolar\"}], \"scatterpolargl\": [{\"marker\": {\"colorbar\": {\"outlinewidth\": 0, \"ticks\": \"\"}}, \"type\": \"scatterpolargl\"}], \"scatterternary\": [{\"marker\": {\"colorbar\": {\"outlinewidth\": 0, \"ticks\": \"\"}}, \"type\": \"scatterternary\"}], \"surface\": [{\"colorbar\": {\"outlinewidth\": 0, \"ticks\": \"\"}, \"colorscale\": [[0.0, \"#0d0887\"], [0.1111111111111111, \"#46039f\"], [0.2222222222222222, \"#7201a8\"], [0.3333333333333333, \"#9c179e\"], [0.4444444444444444, \"#bd3786\"], [0.5555555555555556, \"#d8576b\"], [0.6666666666666666, \"#ed7953\"], [0.7777777777777778, \"#fb9f3a\"], [0.8888888888888888, \"#fdca26\"], [1.0, \"#f0f921\"]], \"type\": \"surface\"}], \"table\": [{\"cells\": {\"fill\": {\"color\": \"#EBF0F8\"}, \"line\": {\"color\": \"white\"}}, \"header\": {\"fill\": {\"color\": \"#C8D4E3\"}, \"line\": {\"color\": \"white\"}}, \"type\": \"table\"}]}, \"layout\": {\"annotationdefaults\": {\"arrowcolor\": \"#2a3f5f\", \"arrowhead\": 0, \"arrowwidth\": 1}, \"coloraxis\": {\"colorbar\": {\"outlinewidth\": 0, \"ticks\": \"\"}}, \"colorscale\": {\"diverging\": [[0, \"#8e0152\"], [0.1, \"#c51b7d\"], [0.2, \"#de77ae\"], [0.3, \"#f1b6da\"], [0.4, \"#fde0ef\"], [0.5, \"#f7f7f7\"], [0.6, \"#e6f5d0\"], [0.7, \"#b8e186\"], [0.8, \"#7fbc41\"], [0.9, \"#4d9221\"], [1, \"#276419\"]], \"sequential\": [[0.0, \"#0d0887\"], [0.1111111111111111, \"#46039f\"], [0.2222222222222222, \"#7201a8\"], [0.3333333333333333, \"#9c179e\"], [0.4444444444444444, \"#bd3786\"], [0.5555555555555556, \"#d8576b\"], [0.6666666666666666, \"#ed7953\"], [0.7777777777777778, \"#fb9f3a\"], [0.8888888888888888, \"#fdca26\"], [1.0, \"#f0f921\"]], \"sequentialminus\": [[0.0, \"#0d0887\"], [0.1111111111111111, \"#46039f\"], [0.2222222222222222, \"#7201a8\"], [0.3333333333333333, \"#9c179e\"], [0.4444444444444444, \"#bd3786\"], [0.5555555555555556, \"#d8576b\"], [0.6666666666666666, \"#ed7953\"], [0.7777777777777778, \"#fb9f3a\"], [0.8888888888888888, \"#fdca26\"], [1.0, \"#f0f921\"]]}, \"colorway\": [\"#636efa\", \"#EF553B\", \"#00cc96\", \"#ab63fa\", \"#FFA15A\", \"#19d3f3\", \"#FF6692\", \"#B6E880\", \"#FF97FF\", \"#FECB52\"], \"font\": {\"color\": \"#2a3f5f\"}, \"geo\": {\"bgcolor\": \"white\", \"lakecolor\": \"white\", \"landcolor\": \"#E5ECF6\", \"showlakes\": true, \"showland\": true, \"subunitcolor\": \"white\"}, \"hoverlabel\": {\"align\": \"left\"}, \"hovermode\": \"closest\", \"mapbox\": {\"style\": \"light\"}, \"paper_bgcolor\": \"white\", \"plot_bgcolor\": \"#E5ECF6\", \"polar\": {\"angularaxis\": {\"gridcolor\": \"white\", \"linecolor\": \"white\", \"ticks\": \"\"}, \"bgcolor\": \"#E5ECF6\", \"radialaxis\": {\"gridcolor\": \"white\", \"linecolor\": \"white\", \"ticks\": \"\"}}, \"scene\": {\"xaxis\": {\"backgroundcolor\": \"#E5ECF6\", \"gridcolor\": \"white\", \"gridwidth\": 2, \"linecolor\": \"white\", \"showbackground\": true, \"ticks\": \"\", \"zerolinecolor\": \"white\"}, \"yaxis\": {\"backgroundcolor\": \"#E5ECF6\", \"gridcolor\": \"white\", \"gridwidth\": 2, \"linecolor\": \"white\", \"showbackground\": true, \"ticks\": \"\", \"zerolinecolor\": \"white\"}, \"zaxis\": {\"backgroundcolor\": \"#E5ECF6\", \"gridcolor\": \"white\", \"gridwidth\": 2, \"linecolor\": \"white\", \"showbackground\": true, \"ticks\": \"\", \"zerolinecolor\": \"white\"}}, \"shapedefaults\": {\"line\": {\"color\": \"#2a3f5f\"}}, \"ternary\": {\"aaxis\": {\"gridcolor\": \"white\", \"linecolor\": \"white\", \"ticks\": \"\"}, \"baxis\": {\"gridcolor\": \"white\", \"linecolor\": \"white\", \"ticks\": \"\"}, \"bgcolor\": \"#E5ECF6\", \"caxis\": {\"gridcolor\": \"white\", \"linecolor\": \"white\", \"ticks\": \"\"}}, \"title\": {\"x\": 0.05}, \"xaxis\": {\"automargin\": true, \"gridcolor\": \"white\", \"linecolor\": \"white\", \"ticks\": \"\", \"title\": {\"standoff\": 15}, \"zerolinecolor\": \"white\", \"zerolinewidth\": 2}, \"yaxis\": {\"automargin\": true, \"gridcolor\": \"white\", \"linecolor\": \"white\", \"ticks\": \"\", \"title\": {\"standoff\": 15}, \"zerolinecolor\": \"white\", \"zerolinewidth\": 2}}}},                        {\"responsive\": true}                    ).then(function(){\n",
              "                            \n",
              "var gd = document.getElementById('612a4c0b-63f9-4818-a698-af1305ea85bb');\n",
              "var x = new MutationObserver(function (mutations, observer) {{\n",
              "        var display = window.getComputedStyle(gd).display;\n",
              "        if (!display || display === 'none') {{\n",
              "            console.log([gd, 'removed!']);\n",
              "            Plotly.purge(gd);\n",
              "            observer.disconnect();\n",
              "        }}\n",
              "}});\n",
              "\n",
              "// Listen for the removal of the full notebook cells\n",
              "var notebookContainer = gd.closest('#notebook-container');\n",
              "if (notebookContainer) {{\n",
              "    x.observe(notebookContainer, {childList: true});\n",
              "}}\n",
              "\n",
              "// Listen for the clearing of the current output cell\n",
              "var outputEl = gd.closest('.output');\n",
              "if (outputEl) {{\n",
              "    x.observe(outputEl, {childList: true});\n",
              "}}\n",
              "\n",
              "                        })                };                });            </script>        </div>"
            ]
          },
          "metadata": {},
          "output_type": "display_data"
        }
      ],
      "source": [
        "sunburst(df_movies,'Disney+','dense')"
      ]
    },
    {
      "cell_type": "markdown",
      "metadata": {
        "papermill": {
          "duration": 0.04646,
          "end_time": "2021-12-16T07:50:15.038044",
          "exception": false,
          "start_time": "2021-12-16T07:50:14.991584",
          "status": "completed"
        },
        "tags": [],
        "id": "EmuPTD3SjkhC"
      },
      "source": [
        "<div class=\"alert alert-info\">  \n",
        "<h3><strong>Distribution of runtime and release year of movies</strong></h3>\n",
        "</div>"
      ]
    },
    {
      "cell_type": "code",
      "execution_count": null,
      "metadata": {
        "_kg_hide-input": true,
        "execution": {
          "iopub.execute_input": "2021-12-16T07:50:15.135411Z",
          "iopub.status.busy": "2021-12-16T07:50:15.134410Z",
          "iopub.status.idle": "2021-12-16T07:50:15.141473Z",
          "shell.execute_reply": "2021-12-16T07:50:15.141902Z",
          "shell.execute_reply.started": "2021-12-16T07:49:06.785171Z"
        },
        "papermill": {
          "duration": 0.057204,
          "end_time": "2021-12-16T07:50:15.142044",
          "exception": false,
          "start_time": "2021-12-16T07:50:15.084840",
          "status": "completed"
        },
        "tags": [],
        "id": "BQujMc7XjkhD"
      },
      "outputs": [],
      "source": [
        "def kde(i,dataframe,platform,c):\n",
        "    plt.subplot(i)\n",
        "    dataframe=dataframe.loc[dataframe[platform] == 1]\n",
        "    sns.kdeplot(data=dataframe['Runtime'], color=custom_colors[c],shade=True)\n",
        "    plt.xlabel('Runtime in minutes', fontsize = 15)\n",
        "    plt.legend(fontsize = 15);\n",
        "    plt.subplot(i+1)\n",
        "    sns.kdeplot(data=dataframe['Year'], color=custom_colors[c],shade=True)\n",
        "    plt.xlabel('Release Year', fontsize = 15)\n",
        "    plt.legend(fontsize = 15);"
      ]
    },
    {
      "cell_type": "code",
      "execution_count": null,
      "metadata": {
        "_kg_hide-input": false,
        "execution": {
          "iopub.execute_input": "2021-12-16T07:50:15.238380Z",
          "iopub.status.busy": "2021-12-16T07:50:15.237798Z",
          "iopub.status.idle": "2021-12-16T07:50:16.306081Z",
          "shell.execute_reply": "2021-12-16T07:50:16.305499Z",
          "shell.execute_reply.started": "2021-12-16T07:49:06.798189Z"
        },
        "papermill": {
          "duration": 1.117168,
          "end_time": "2021-12-16T07:50:16.306201",
          "exception": false,
          "start_time": "2021-12-16T07:50:15.189033",
          "status": "completed"
        },
        "tags": [],
        "id": "K0ZNb-5OjkhD",
        "outputId": "00ef1908-6a8d-4a4e-9e33-45e37e9c8adc"
      },
      "outputs": [
        {
          "data": {
            "image/png": "[encoded data removed]",
            "text/plain": [
              "<Figure size 1152x576 with 8 Axes>"
            ]
          },
          "metadata": {
            "needs_background": "light"
          },
          "output_type": "display_data"
        }
      ],
      "source": [
        "plt.figure(figsize = (16, 8))\n",
        "\n",
        "kde(421,df_movies,'Netflix',0)\n",
        "kde(423,df_movies,'Hulu',1)\n",
        "kde(425,df_movies,'Prime Video',2)\n",
        "kde(427,df_movies,'Disney+',3)"
      ]
    },
    {
      "cell_type": "code",
      "execution_count": null,
      "metadata": {
        "execution": {
          "iopub.execute_input": "2021-12-16T07:50:16.412600Z",
          "iopub.status.busy": "2021-12-16T07:50:16.411912Z",
          "iopub.status.idle": "2021-12-16T07:50:16.635968Z",
          "shell.execute_reply": "2021-12-16T07:50:16.636493Z",
          "shell.execute_reply.started": "2021-12-16T07:49:08.244204Z"
        },
        "papermill": {
          "duration": 0.28152,
          "end_time": "2021-12-16T07:50:16.636654",
          "exception": false,
          "start_time": "2021-12-16T07:50:16.355134",
          "status": "completed"
        },
        "tags": [],
        "id": "vXj4Q9DsjkhD",
        "outputId": "af746906-cf89-42ab-b34c-69f4046e0e12"
      },
      "outputs": [
        {
          "data": {
            "image/png": "[encoded data removed]",
            "text/plain": [
              "<Figure size 1152x576 with 1 Axes>"
            ]
          },
          "metadata": {
            "needs_background": "light"
          },
          "output_type": "display_data"
        }
      ],
      "source": [
        "post_1980 = df_movies[df_movies.Year >= 1980]\n",
        "year_movies = post_1980.groupby('Year')[['Netflix','Hulu','Prime Video','Disney+']].sum()\n",
        "\n",
        "plt.figure(figsize = (16, 8))\n",
        "sns.lineplot(x=year_movies.index,y=year_movies['Netflix'])\n",
        "sns.lineplot(x=year_movies.index,y=year_movies['Hulu'])\n",
        "sns.lineplot(x=year_movies.index,y=year_movies['Prime Video'])\n",
        "sns.lineplot(x=year_movies.index,y=year_movies['Disney+'])\n",
        "plt.xlabel('Release Year', fontsize = 15)\n",
        "plt.ylabel('Count', fontsize = 15)\n",
        "plt.show()"
      ]
    },
    {
      "cell_type": "markdown",
      "metadata": {
        "papermill": {
          "duration": 0.051097,
          "end_time": "2021-12-16T07:50:16.738271",
          "exception": false,
          "start_time": "2021-12-16T07:50:16.687174",
          "status": "completed"
        },
        "tags": [],
        "id": "Xtv-AGPejkhE"
      },
      "source": [
        "<div class=\"alert alert-info\">  \n",
        "<h3><strong>TV shows with minimum age requirement on each platform</strong></h3>\n",
        "</div>"
      ]
    },
    {
      "cell_type": "code",
      "execution_count": null,
      "metadata": {
        "execution": {
          "iopub.execute_input": "2021-12-16T07:50:16.845625Z",
          "iopub.status.busy": "2021-12-16T07:50:16.844669Z",
          "iopub.status.idle": "2021-12-16T07:50:16.849614Z",
          "shell.execute_reply": "2021-12-16T07:50:16.850179Z",
          "shell.execute_reply.started": "2021-12-16T07:49:08.545327Z"
        },
        "papermill": {
          "duration": 0.060816,
          "end_time": "2021-12-16T07:50:16.850313",
          "exception": false,
          "start_time": "2021-12-16T07:50:16.789497",
          "status": "completed"
        },
        "tags": [],
        "id": "K0AiUeUfjkhE"
      },
      "outputs": [],
      "source": [
        "df_t = df_tv.copy()\n",
        "df_t = df_t[df_t['Age'].notna()]"
      ]
    },
    {
      "cell_type": "code",
      "execution_count": null,
      "metadata": {
        "execution": {
          "iopub.execute_input": "2021-12-16T07:50:16.957766Z",
          "iopub.status.busy": "2021-12-16T07:50:16.956841Z",
          "iopub.status.idle": "2021-12-16T07:50:16.968513Z",
          "shell.execute_reply": "2021-12-16T07:50:16.969034Z",
          "shell.execute_reply.started": "2021-12-16T07:49:08.554406Z"
        },
        "papermill": {
          "duration": 0.066812,
          "end_time": "2021-12-16T07:50:16.969175",
          "exception": false,
          "start_time": "2021-12-16T07:50:16.902363",
          "status": "completed"
        },
        "tags": [],
        "id": "ex8dgQF3jkhE"
      },
      "outputs": [],
      "source": [
        "df_t['Age']=df_t['Age'].str.replace('+','')\n",
        "df_t['Age']=df_t['Age'].str.replace('all','0')\n",
        "df_t['Age']=df_t['Age'].astype(str).astype(int)"
      ]
    },
    {
      "cell_type": "code",
      "execution_count": null,
      "metadata": {
        "_kg_hide-input": false,
        "execution": {
          "iopub.execute_input": "2021-12-16T07:50:17.077452Z",
          "iopub.status.busy": "2021-12-16T07:50:17.076460Z",
          "iopub.status.idle": "2021-12-16T07:50:17.082945Z",
          "shell.execute_reply": "2021-12-16T07:50:17.083479Z",
          "shell.execute_reply.started": "2021-12-16T07:49:08.580221Z"
        },
        "papermill": {
          "duration": 0.062459,
          "end_time": "2021-12-16T07:50:17.083621",
          "exception": false,
          "start_time": "2021-12-16T07:50:17.021162",
          "status": "completed"
        },
        "tags": [],
        "id": "Lodpa5qRjkhF"
      },
      "outputs": [],
      "source": [
        "def barplot(i,dataframe,platform,p):\n",
        "    plt.subplot(i)\n",
        "    dataframe=dataframe.loc[dataframe[platform] == 1]\n",
        "    dataframe = dataframe['Age'].value_counts().reset_index()\n",
        "    dataframe.columns=['age','count']\n",
        "    sns.barplot(x=\"age\", y=\"count\", data=dataframe,palette=p)\n",
        "    plt.xlabel('Age', fontsize = 15)\n",
        "    plt.ylabel(platform, fontsize = 15)"
      ]
    },
    {
      "cell_type": "code",
      "execution_count": null,
      "metadata": {
        "_kg_hide-input": true,
        "execution": {
          "iopub.execute_input": "2021-12-16T07:50:17.192255Z",
          "iopub.status.busy": "2021-12-16T07:50:17.191274Z",
          "iopub.status.idle": "2021-12-16T07:50:17.675807Z",
          "shell.execute_reply": "2021-12-16T07:50:17.676412Z",
          "shell.execute_reply.started": "2021-12-16T07:49:08.590590Z"
        },
        "papermill": {
          "duration": 0.54063,
          "end_time": "2021-12-16T07:50:17.676561",
          "exception": false,
          "start_time": "2021-12-16T07:50:17.135931",
          "status": "completed"
        },
        "tags": [],
        "id": "2VKGLL_ZjkhF",
        "outputId": "e318885b-a2ce-4785-85e0-17a875542bf6"
      },
      "outputs": [
        {
          "data": {
            "image/png": "[encoded data removed]",
            "text/plain": [
              "<Figure size 1440x1440 with 4 Axes>"
            ]
          },
          "metadata": {
            "needs_background": "light"
          },
          "output_type": "display_data"
        }
      ],
      "source": [
        "plt.figure(figsize = (20, 20))\n",
        "\n",
        "barplot(421,df_t,'Netflix',netflix_p)\n",
        "barplot(423,df_t,'Hulu',hulu_p)\n",
        "barplot(425,df_t,'Prime Video',prime_p)\n",
        "barplot(427,df_t,'Disney+',disney_p)"
      ]
    },
    {
      "cell_type": "code",
      "execution_count": null,
      "metadata": {
        "execution": {
          "iopub.execute_input": "2021-12-16T07:50:17.787270Z",
          "iopub.status.busy": "2021-12-16T07:50:17.786259Z",
          "iopub.status.idle": "2021-12-16T07:50:17.978963Z",
          "shell.execute_reply": "2021-12-16T07:50:17.978480Z",
          "shell.execute_reply.started": "2021-12-16T07:49:09.219384Z"
        },
        "papermill": {
          "duration": 0.249272,
          "end_time": "2021-12-16T07:50:17.979069",
          "exception": false,
          "start_time": "2021-12-16T07:50:17.729797",
          "status": "completed"
        },
        "tags": [],
        "id": "YHGFXPlhjkhG",
        "outputId": "4270f091-3cc0-4649-a645-9bfde89c7e1f"
      },
      "outputs": [
        {
          "data": {
            "image/png": "[encoded data removed]",
            "text/plain": [
              "<Figure size 1152x576 with 2 Axes>"
            ]
          },
          "metadata": {
            "needs_background": "light"
          },
          "output_type": "display_data"
        }
      ],
      "source": [
        "plt.figure(figsize = (16, 8))\n",
        "tv_age = df_t.groupby('Age')[['Netflix','Hulu','Prime Video','Disney+']].sum()\n",
        "sns.heatmap(tv_age,cmap=\"YlGnBu\")\n",
        "plt.show()"
      ]
    },
    {
      "cell_type": "markdown",
      "metadata": {
        "papermill": {
          "duration": 0.05216,
          "end_time": "2021-12-16T07:50:18.084755",
          "exception": false,
          "start_time": "2021-12-16T07:50:18.032595",
          "status": "completed"
        },
        "tags": [],
        "id": "OlKvoV70jkhG"
      },
      "source": [
        "<div class=\"alert alert-info\">  \n",
        "<h3><strong>TV shows with the highest IMDb rating vs availability</strong></h3>\n",
        "</div>"
      ]
    },
    {
      "cell_type": "code",
      "execution_count": null,
      "metadata": {
        "execution": {
          "iopub.execute_input": "2021-12-16T07:50:18.194205Z",
          "iopub.status.busy": "2021-12-16T07:50:18.193240Z",
          "iopub.status.idle": "2021-12-16T07:50:18.204524Z",
          "shell.execute_reply": "2021-12-16T07:50:18.204945Z",
          "shell.execute_reply.started": "2021-12-16T07:49:09.449750Z"
        },
        "papermill": {
          "duration": 0.067222,
          "end_time": "2021-12-16T07:50:18.205097",
          "exception": false,
          "start_time": "2021-12-16T07:50:18.137875",
          "status": "completed"
        },
        "tags": [],
        "id": "W4uZj2iOjkhG"
      },
      "outputs": [],
      "source": [
        "r = df_tv.sort_values(by='IMDb', ascending=False)\n",
        "r = r[0:20]\n",
        "r = r[['Title','IMDb','Netflix','Hulu','Prime Video','Disney+']]\n",
        "r['IMDb'] = r['IMDb'].astype(float)"
      ]
    },
    {
      "cell_type": "code",
      "execution_count": null,
      "metadata": {
        "execution": {
          "iopub.execute_input": "2021-12-16T07:50:18.316272Z",
          "iopub.status.busy": "2021-12-16T07:50:18.315666Z",
          "iopub.status.idle": "2021-12-16T07:50:18.470748Z",
          "shell.execute_reply": "2021-12-16T07:50:18.470078Z",
          "shell.execute_reply.started": "2021-12-16T07:49:09.467730Z"
        },
        "papermill": {
          "duration": 0.21298,
          "end_time": "2021-12-16T07:50:18.470921",
          "exception": false,
          "start_time": "2021-12-16T07:50:18.257941",
          "status": "completed"
        },
        "tags": [],
        "id": "ns4f9XuVjkhH",
        "outputId": "2a439d10-5019-4c55-a108-8499e2dbd64e"
      },
      "outputs": [
        {
          "data": {
            "text/html": [
              "<style  type=\"text/css\" >\n",
              "#T_d02502c2_5e44_11ec_aeb1_0242ac130202row0_col1,#T_d02502c2_5e44_11ec_aeb1_0242ac130202row1_col1{\n",
              "            width:  10em;\n",
              "             height:  80%;\n",
              "            background:  linear-gradient(90deg,# 100.0%, transparent 100.0%);\n",
              "            background-color:  #3f007d;\n",
              "            color:  #f1f1f1;\n",
              "        }#T_d02502c2_5e44_11ec_aeb1_0242ac130202row0_col2,#T_d02502c2_5e44_11ec_aeb1_0242ac130202row0_col3,#T_d02502c2_5e44_11ec_aeb1_0242ac130202row0_col5,#T_d02502c2_5e44_11ec_aeb1_0242ac130202row1_col2,#T_d02502c2_5e44_11ec_aeb1_0242ac130202row1_col3,#T_d02502c2_5e44_11ec_aeb1_0242ac130202row1_col4,#T_d02502c2_5e44_11ec_aeb1_0242ac130202row2_col2,#T_d02502c2_5e44_11ec_aeb1_0242ac130202row2_col3,#T_d02502c2_5e44_11ec_aeb1_0242ac130202row2_col5,#T_d02502c2_5e44_11ec_aeb1_0242ac130202row3_col3,#T_d02502c2_5e44_11ec_aeb1_0242ac130202row3_col4,#T_d02502c2_5e44_11ec_aeb1_0242ac130202row3_col5,#T_d02502c2_5e44_11ec_aeb1_0242ac130202row4_col2,#T_d02502c2_5e44_11ec_aeb1_0242ac130202row4_col3,#T_d02502c2_5e44_11ec_aeb1_0242ac130202row4_col4,#T_d02502c2_5e44_11ec_aeb1_0242ac130202row5_col3,#T_d02502c2_5e44_11ec_aeb1_0242ac130202row5_col4,#T_d02502c2_5e44_11ec_aeb1_0242ac130202row5_col5,#T_d02502c2_5e44_11ec_aeb1_0242ac130202row6_col2,#T_d02502c2_5e44_11ec_aeb1_0242ac130202row6_col4,#T_d02502c2_5e44_11ec_aeb1_0242ac130202row6_col5,#T_d02502c2_5e44_11ec_aeb1_0242ac130202row7_col2,#T_d02502c2_5e44_11ec_aeb1_0242ac130202row7_col3,#T_d02502c2_5e44_11ec_aeb1_0242ac130202row7_col5,#T_d02502c2_5e44_11ec_aeb1_0242ac130202row8_col2,#T_d02502c2_5e44_11ec_aeb1_0242ac130202row9_col3,#T_d02502c2_5e44_11ec_aeb1_0242ac130202row9_col5,#T_d02502c2_5e44_11ec_aeb1_0242ac130202row10_col2,#T_d02502c2_5e44_11ec_aeb1_0242ac130202row10_col3,#T_d02502c2_5e44_11ec_aeb1_0242ac130202row10_col5,#T_d02502c2_5e44_11ec_aeb1_0242ac130202row11_col2,#T_d02502c2_5e44_11ec_aeb1_0242ac130202row11_col4,#T_d02502c2_5e44_11ec_aeb1_0242ac130202row11_col5,#T_d02502c2_5e44_11ec_aeb1_0242ac130202row12_col2,#T_d02502c2_5e44_11ec_aeb1_0242ac130202row12_col3,#T_d02502c2_5e44_11ec_aeb1_0242ac130202row12_col4,#T_d02502c2_5e44_11ec_aeb1_0242ac130202row13_col2,#T_d02502c2_5e44_11ec_aeb1_0242ac130202row13_col3,#T_d02502c2_5e44_11ec_aeb1_0242ac130202row13_col5,#T_d02502c2_5e44_11ec_aeb1_0242ac130202row14_col2,#T_d02502c2_5e44_11ec_aeb1_0242ac130202row14_col3,#T_d02502c2_5e44_11ec_aeb1_0242ac130202row14_col5,#T_d02502c2_5e44_11ec_aeb1_0242ac130202row15_col1,#T_d02502c2_5e44_11ec_aeb1_0242ac130202row15_col3,#T_d02502c2_5e44_11ec_aeb1_0242ac130202row15_col4,#T_d02502c2_5e44_11ec_aeb1_0242ac130202row15_col5,#T_d02502c2_5e44_11ec_aeb1_0242ac130202row16_col1,#T_d02502c2_5e44_11ec_aeb1_0242ac130202row16_col3,#T_d02502c2_5e44_11ec_aeb1_0242ac130202row16_col4,#T_d02502c2_5e44_11ec_aeb1_0242ac130202row16_col5,#T_d02502c2_5e44_11ec_aeb1_0242ac130202row17_col1,#T_d02502c2_5e44_11ec_aeb1_0242ac130202row17_col3,#T_d02502c2_5e44_11ec_aeb1_0242ac130202row17_col4,#T_d02502c2_5e44_11ec_aeb1_0242ac130202row17_col5,#T_d02502c2_5e44_11ec_aeb1_0242ac130202row18_col1,#T_d02502c2_5e44_11ec_aeb1_0242ac130202row18_col4,#T_d02502c2_5e44_11ec_aeb1_0242ac130202row18_col5,#T_d02502c2_5e44_11ec_aeb1_0242ac130202row19_col1,#T_d02502c2_5e44_11ec_aeb1_0242ac130202row19_col2,#T_d02502c2_5e44_11ec_aeb1_0242ac130202row19_col3,#T_d02502c2_5e44_11ec_aeb1_0242ac130202row19_col5{\n",
              "            width:  10em;\n",
              "             height:  80%;\n",
              "            background-color:  #fcfbfd;\n",
              "            color:  #000000;\n",
              "        }#T_d02502c2_5e44_11ec_aeb1_0242ac130202row0_col4,#T_d02502c2_5e44_11ec_aeb1_0242ac130202row2_col4,#T_d02502c2_5e44_11ec_aeb1_0242ac130202row7_col4,#T_d02502c2_5e44_11ec_aeb1_0242ac130202row8_col4,#T_d02502c2_5e44_11ec_aeb1_0242ac130202row9_col4,#T_d02502c2_5e44_11ec_aeb1_0242ac130202row10_col4,#T_d02502c2_5e44_11ec_aeb1_0242ac130202row13_col4,#T_d02502c2_5e44_11ec_aeb1_0242ac130202row14_col4,#T_d02502c2_5e44_11ec_aeb1_0242ac130202row19_col4{\n",
              "            width:  10em;\n",
              "             height:  80%;\n",
              "            background:  linear-gradient(90deg,#a2d2ff 100.0%, transparent 100.0%);\n",
              "            background-color:  #3f007d;\n",
              "            color:  #f1f1f1;\n",
              "        }#T_d02502c2_5e44_11ec_aeb1_0242ac130202row1_col5,#T_d02502c2_5e44_11ec_aeb1_0242ac130202row4_col5,#T_d02502c2_5e44_11ec_aeb1_0242ac130202row8_col5,#T_d02502c2_5e44_11ec_aeb1_0242ac130202row12_col5{\n",
              "            width:  10em;\n",
              "             height:  80%;\n",
              "            background:  linear-gradient(90deg,#72efdd 100.0%, transparent 100.0%);\n",
              "            background-color:  #3f007d;\n",
              "            color:  #f1f1f1;\n",
              "        }#T_d02502c2_5e44_11ec_aeb1_0242ac130202row2_col1{\n",
              "            width:  10em;\n",
              "             height:  80%;\n",
              "            background:  linear-gradient(90deg,# 80.0%, transparent 80.0%);\n",
              "            background-color:  #61409b;\n",
              "            color:  #f1f1f1;\n",
              "        }#T_d02502c2_5e44_11ec_aeb1_0242ac130202row3_col1,#T_d02502c2_5e44_11ec_aeb1_0242ac130202row4_col1{\n",
              "            width:  10em;\n",
              "             height:  80%;\n",
              "            background:  linear-gradient(90deg,# 60.0%, transparent 60.0%);\n",
              "            background-color:  #8683bd;\n",
              "            color:  #000000;\n",
              "        }#T_d02502c2_5e44_11ec_aeb1_0242ac130202row3_col2,#T_d02502c2_5e44_11ec_aeb1_0242ac130202row5_col2,#T_d02502c2_5e44_11ec_aeb1_0242ac130202row9_col2,#T_d02502c2_5e44_11ec_aeb1_0242ac130202row15_col2,#T_d02502c2_5e44_11ec_aeb1_0242ac130202row16_col2,#T_d02502c2_5e44_11ec_aeb1_0242ac130202row17_col2,#T_d02502c2_5e44_11ec_aeb1_0242ac130202row18_col2{\n",
              "            width:  10em;\n",
              "             height:  80%;\n",
              "            background:  linear-gradient(90deg,#ff6b6b 100.0%, transparent 100.0%);\n",
              "            background-color:  #3f007d;\n",
              "            color:  #f1f1f1;\n",
              "        }#T_d02502c2_5e44_11ec_aeb1_0242ac130202row5_col1,#T_d02502c2_5e44_11ec_aeb1_0242ac130202row6_col1,#T_d02502c2_5e44_11ec_aeb1_0242ac130202row7_col1,#T_d02502c2_5e44_11ec_aeb1_0242ac130202row8_col1,#T_d02502c2_5e44_11ec_aeb1_0242ac130202row9_col1{\n",
              "            width:  10em;\n",
              "             height:  80%;\n",
              "            background:  linear-gradient(90deg,# 40.0%, transparent 40.0%);\n",
              "            background-color:  #b6b6d8;\n",
              "            color:  #000000;\n",
              "        }#T_d02502c2_5e44_11ec_aeb1_0242ac130202row6_col3,#T_d02502c2_5e44_11ec_aeb1_0242ac130202row8_col3,#T_d02502c2_5e44_11ec_aeb1_0242ac130202row11_col3,#T_d02502c2_5e44_11ec_aeb1_0242ac130202row18_col3{\n",
              "            width:  10em;\n",
              "             height:  80%;\n",
              "            background:  linear-gradient(90deg,#95d5b2 100.0%, transparent 100.0%);\n",
              "            background-color:  #3f007d;\n",
              "            color:  #f1f1f1;\n",
              "        }#T_d02502c2_5e44_11ec_aeb1_0242ac130202row10_col1,#T_d02502c2_5e44_11ec_aeb1_0242ac130202row11_col1,#T_d02502c2_5e44_11ec_aeb1_0242ac130202row12_col1,#T_d02502c2_5e44_11ec_aeb1_0242ac130202row13_col1,#T_d02502c2_5e44_11ec_aeb1_0242ac130202row14_col1{\n",
              "            width:  10em;\n",
              "             height:  80%;\n",
              "            background:  linear-gradient(90deg,# 20.0%, transparent 20.0%);\n",
              "            background-color:  #e2e2ef;\n",
              "            color:  #000000;\n",
              "        }</style><table id=\"T_d02502c2_5e44_11ec_aeb1_0242ac130202\" ><thead>    <tr>        <th class=\"blank level0\" ></th>        <th class=\"col_heading level0 col0\" >Title</th>        <th class=\"col_heading level0 col1\" >IMDb</th>        <th class=\"col_heading level0 col2\" >Netflix</th>        <th class=\"col_heading level0 col3\" >Hulu</th>        <th class=\"col_heading level0 col4\" >Prime Video</th>        <th class=\"col_heading level0 col5\" >Disney+</th>    </tr></thead><tbody>\n",
              "                <tr>\n",
              "                        <th id=\"T_d02502c2_5e44_11ec_aeb1_0242ac130202level0_row0\" class=\"row_heading level0 row0\" >3802</th>\n",
              "                        <td id=\"T_d02502c2_5e44_11ec_aeb1_0242ac130202row0_col0\" class=\"data row0 col0\" >The Secret World of Nature: Spain</td>\n",
              "                        <td id=\"T_d02502c2_5e44_11ec_aeb1_0242ac130202row0_col1\" class=\"data row0 col1\" >9.600000</td>\n",
              "                        <td id=\"T_d02502c2_5e44_11ec_aeb1_0242ac130202row0_col2\" class=\"data row0 col2\" >0</td>\n",
              "                        <td id=\"T_d02502c2_5e44_11ec_aeb1_0242ac130202row0_col3\" class=\"data row0 col3\" >0</td>\n",
              "                        <td id=\"T_d02502c2_5e44_11ec_aeb1_0242ac130202row0_col4\" class=\"data row0 col4\" >1</td>\n",
              "                        <td id=\"T_d02502c2_5e44_11ec_aeb1_0242ac130202row0_col5\" class=\"data row0 col5\" >0</td>\n",
              "            </tr>\n",
              "            <tr>\n",
              "                        <th id=\"T_d02502c2_5e44_11ec_aeb1_0242ac130202level0_row1\" class=\"row_heading level0 row1\" >5077</th>\n",
              "                        <td id=\"T_d02502c2_5e44_11ec_aeb1_0242ac130202row1_col0\" class=\"data row1 col0\" >Bluey</td>\n",
              "                        <td id=\"T_d02502c2_5e44_11ec_aeb1_0242ac130202row1_col1\" class=\"data row1 col1\" >9.600000</td>\n",
              "                        <td id=\"T_d02502c2_5e44_11ec_aeb1_0242ac130202row1_col2\" class=\"data row1 col2\" >0</td>\n",
              "                        <td id=\"T_d02502c2_5e44_11ec_aeb1_0242ac130202row1_col3\" class=\"data row1 col3\" >0</td>\n",
              "                        <td id=\"T_d02502c2_5e44_11ec_aeb1_0242ac130202row1_col4\" class=\"data row1 col4\" >0</td>\n",
              "                        <td id=\"T_d02502c2_5e44_11ec_aeb1_0242ac130202row1_col5\" class=\"data row1 col5\" >1</td>\n",
              "            </tr>\n",
              "            <tr>\n",
              "                        <th id=\"T_d02502c2_5e44_11ec_aeb1_0242ac130202level0_row2\" class=\"row_heading level0 row2\" >3611</th>\n",
              "                        <td id=\"T_d02502c2_5e44_11ec_aeb1_0242ac130202row2_col0\" class=\"data row2 col0\" >Malgudi Days</td>\n",
              "                        <td id=\"T_d02502c2_5e44_11ec_aeb1_0242ac130202row2_col1\" class=\"data row2 col1\" >9.500000</td>\n",
              "                        <td id=\"T_d02502c2_5e44_11ec_aeb1_0242ac130202row2_col2\" class=\"data row2 col2\" >0</td>\n",
              "                        <td id=\"T_d02502c2_5e44_11ec_aeb1_0242ac130202row2_col3\" class=\"data row2 col3\" >0</td>\n",
              "                        <td id=\"T_d02502c2_5e44_11ec_aeb1_0242ac130202row2_col4\" class=\"data row2 col4\" >1</td>\n",
              "                        <td id=\"T_d02502c2_5e44_11ec_aeb1_0242ac130202row2_col5\" class=\"data row2 col5\" >0</td>\n",
              "            </tr>\n",
              "            <tr>\n",
              "                        <th id=\"T_d02502c2_5e44_11ec_aeb1_0242ac130202level0_row3\" class=\"row_heading level0 row3\" >0</th>\n",
              "                        <td id=\"T_d02502c2_5e44_11ec_aeb1_0242ac130202row3_col0\" class=\"data row3 col0\" >Breaking Bad</td>\n",
              "                        <td id=\"T_d02502c2_5e44_11ec_aeb1_0242ac130202row3_col1\" class=\"data row3 col1\" >9.400000</td>\n",
              "                        <td id=\"T_d02502c2_5e44_11ec_aeb1_0242ac130202row3_col2\" class=\"data row3 col2\" >1</td>\n",
              "                        <td id=\"T_d02502c2_5e44_11ec_aeb1_0242ac130202row3_col3\" class=\"data row3 col3\" >0</td>\n",
              "                        <td id=\"T_d02502c2_5e44_11ec_aeb1_0242ac130202row3_col4\" class=\"data row3 col4\" >0</td>\n",
              "                        <td id=\"T_d02502c2_5e44_11ec_aeb1_0242ac130202row3_col5\" class=\"data row3 col5\" >0</td>\n",
              "            </tr>\n",
              "            <tr>\n",
              "                        <th id=\"T_d02502c2_5e44_11ec_aeb1_0242ac130202level0_row4\" class=\"row_heading level0 row4\" >5277</th>\n",
              "                        <td id=\"T_d02502c2_5e44_11ec_aeb1_0242ac130202row4_col0\" class=\"data row4 col0\" >Alaska Animal Rescue</td>\n",
              "                        <td id=\"T_d02502c2_5e44_11ec_aeb1_0242ac130202row4_col1\" class=\"data row4 col1\" >9.400000</td>\n",
              "                        <td id=\"T_d02502c2_5e44_11ec_aeb1_0242ac130202row4_col2\" class=\"data row4 col2\" >0</td>\n",
              "                        <td id=\"T_d02502c2_5e44_11ec_aeb1_0242ac130202row4_col3\" class=\"data row4 col3\" >0</td>\n",
              "                        <td id=\"T_d02502c2_5e44_11ec_aeb1_0242ac130202row4_col4\" class=\"data row4 col4\" >0</td>\n",
              "                        <td id=\"T_d02502c2_5e44_11ec_aeb1_0242ac130202row4_col5\" class=\"data row4 col5\" >1</td>\n",
              "            </tr>\n",
              "            <tr>\n",
              "                        <th id=\"T_d02502c2_5e44_11ec_aeb1_0242ac130202level0_row5\" class=\"row_heading level0 row5\" >80</th>\n",
              "                        <td id=\"T_d02502c2_5e44_11ec_aeb1_0242ac130202row5_col0\" class=\"data row5 col0\" >Our Planet</td>\n",
              "                        <td id=\"T_d02502c2_5e44_11ec_aeb1_0242ac130202row5_col1\" class=\"data row5 col1\" >9.300000</td>\n",
              "                        <td id=\"T_d02502c2_5e44_11ec_aeb1_0242ac130202row5_col2\" class=\"data row5 col2\" >1</td>\n",
              "                        <td id=\"T_d02502c2_5e44_11ec_aeb1_0242ac130202row5_col3\" class=\"data row5 col3\" >0</td>\n",
              "                        <td id=\"T_d02502c2_5e44_11ec_aeb1_0242ac130202row5_col4\" class=\"data row5 col4\" >0</td>\n",
              "                        <td id=\"T_d02502c2_5e44_11ec_aeb1_0242ac130202row5_col5\" class=\"data row5 col5\" >0</td>\n",
              "            </tr>\n",
              "            <tr>\n",
              "                        <th id=\"T_d02502c2_5e44_11ec_aeb1_0242ac130202level0_row6\" class=\"row_heading level0 row6\" >3115</th>\n",
              "                        <td id=\"T_d02502c2_5e44_11ec_aeb1_0242ac130202row6_col0\" class=\"data row6 col0\" >Hungry Henry</td>\n",
              "                        <td id=\"T_d02502c2_5e44_11ec_aeb1_0242ac130202row6_col1\" class=\"data row6 col1\" >9.300000</td>\n",
              "                        <td id=\"T_d02502c2_5e44_11ec_aeb1_0242ac130202row6_col2\" class=\"data row6 col2\" >0</td>\n",
              "                        <td id=\"T_d02502c2_5e44_11ec_aeb1_0242ac130202row6_col3\" class=\"data row6 col3\" >1</td>\n",
              "                        <td id=\"T_d02502c2_5e44_11ec_aeb1_0242ac130202row6_col4\" class=\"data row6 col4\" >0</td>\n",
              "                        <td id=\"T_d02502c2_5e44_11ec_aeb1_0242ac130202row6_col5\" class=\"data row6 col5\" >0</td>\n",
              "            </tr>\n",
              "            <tr>\n",
              "                        <th id=\"T_d02502c2_5e44_11ec_aeb1_0242ac130202level0_row7\" class=\"row_heading level0 row7\" >3760</th>\n",
              "                        <td id=\"T_d02502c2_5e44_11ec_aeb1_0242ac130202row7_col0\" class=\"data row7 col0\" >Everyday Driver</td>\n",
              "                        <td id=\"T_d02502c2_5e44_11ec_aeb1_0242ac130202row7_col1\" class=\"data row7 col1\" >9.300000</td>\n",
              "                        <td id=\"T_d02502c2_5e44_11ec_aeb1_0242ac130202row7_col2\" class=\"data row7 col2\" >0</td>\n",
              "                        <td id=\"T_d02502c2_5e44_11ec_aeb1_0242ac130202row7_col3\" class=\"data row7 col3\" >0</td>\n",
              "                        <td id=\"T_d02502c2_5e44_11ec_aeb1_0242ac130202row7_col4\" class=\"data row7 col4\" >1</td>\n",
              "                        <td id=\"T_d02502c2_5e44_11ec_aeb1_0242ac130202row7_col5\" class=\"data row7 col5\" >0</td>\n",
              "            </tr>\n",
              "            <tr>\n",
              "                        <th id=\"T_d02502c2_5e44_11ec_aeb1_0242ac130202level0_row8\" class=\"row_heading level0 row8\" >2009</th>\n",
              "                        <td id=\"T_d02502c2_5e44_11ec_aeb1_0242ac130202row8_col0\" class=\"data row8 col0\" >Cosmos</td>\n",
              "                        <td id=\"T_d02502c2_5e44_11ec_aeb1_0242ac130202row8_col1\" class=\"data row8 col1\" >9.300000</td>\n",
              "                        <td id=\"T_d02502c2_5e44_11ec_aeb1_0242ac130202row8_col2\" class=\"data row8 col2\" >0</td>\n",
              "                        <td id=\"T_d02502c2_5e44_11ec_aeb1_0242ac130202row8_col3\" class=\"data row8 col3\" >1</td>\n",
              "                        <td id=\"T_d02502c2_5e44_11ec_aeb1_0242ac130202row8_col4\" class=\"data row8 col4\" >1</td>\n",
              "                        <td id=\"T_d02502c2_5e44_11ec_aeb1_0242ac130202row8_col5\" class=\"data row8 col5\" >1</td>\n",
              "            </tr>\n",
              "            <tr>\n",
              "                        <th id=\"T_d02502c2_5e44_11ec_aeb1_0242ac130202level0_row9\" class=\"row_heading level0 row9\" >5</th>\n",
              "                        <td id=\"T_d02502c2_5e44_11ec_aeb1_0242ac130202row9_col0\" class=\"data row9 col0\" >Avatar: The Last Airbender</td>\n",
              "                        <td id=\"T_d02502c2_5e44_11ec_aeb1_0242ac130202row9_col1\" class=\"data row9 col1\" >9.300000</td>\n",
              "                        <td id=\"T_d02502c2_5e44_11ec_aeb1_0242ac130202row9_col2\" class=\"data row9 col2\" >1</td>\n",
              "                        <td id=\"T_d02502c2_5e44_11ec_aeb1_0242ac130202row9_col3\" class=\"data row9 col3\" >0</td>\n",
              "                        <td id=\"T_d02502c2_5e44_11ec_aeb1_0242ac130202row9_col4\" class=\"data row9 col4\" >1</td>\n",
              "                        <td id=\"T_d02502c2_5e44_11ec_aeb1_0242ac130202row9_col5\" class=\"data row9 col5\" >0</td>\n",
              "            </tr>\n",
              "            <tr>\n",
              "                        <th id=\"T_d02502c2_5e44_11ec_aeb1_0242ac130202level0_row10\" class=\"row_heading level0 row10\" >3503</th>\n",
              "                        <td id=\"T_d02502c2_5e44_11ec_aeb1_0242ac130202row10_col0\" class=\"data row10 col0\" >Clarkson's Farm</td>\n",
              "                        <td id=\"T_d02502c2_5e44_11ec_aeb1_0242ac130202row10_col1\" class=\"data row10 col1\" >9.200000</td>\n",
              "                        <td id=\"T_d02502c2_5e44_11ec_aeb1_0242ac130202row10_col2\" class=\"data row10 col2\" >0</td>\n",
              "                        <td id=\"T_d02502c2_5e44_11ec_aeb1_0242ac130202row10_col3\" class=\"data row10 col3\" >0</td>\n",
              "                        <td id=\"T_d02502c2_5e44_11ec_aeb1_0242ac130202row10_col4\" class=\"data row10 col4\" >1</td>\n",
              "                        <td id=\"T_d02502c2_5e44_11ec_aeb1_0242ac130202row10_col5\" class=\"data row10 col5\" >0</td>\n",
              "            </tr>\n",
              "            <tr>\n",
              "                        <th id=\"T_d02502c2_5e44_11ec_aeb1_0242ac130202level0_row11\" class=\"row_heading level0 row11\" >1950</th>\n",
              "                        <td id=\"T_d02502c2_5e44_11ec_aeb1_0242ac130202row11_col0\" class=\"data row11 col0\" >Rick and Morty</td>\n",
              "                        <td id=\"T_d02502c2_5e44_11ec_aeb1_0242ac130202row11_col1\" class=\"data row11 col1\" >9.200000</td>\n",
              "                        <td id=\"T_d02502c2_5e44_11ec_aeb1_0242ac130202row11_col2\" class=\"data row11 col2\" >0</td>\n",
              "                        <td id=\"T_d02502c2_5e44_11ec_aeb1_0242ac130202row11_col3\" class=\"data row11 col3\" >1</td>\n",
              "                        <td id=\"T_d02502c2_5e44_11ec_aeb1_0242ac130202row11_col4\" class=\"data row11 col4\" >0</td>\n",
              "                        <td id=\"T_d02502c2_5e44_11ec_aeb1_0242ac130202row11_col5\" class=\"data row11 col5\" >0</td>\n",
              "            </tr>\n",
              "            <tr>\n",
              "                        <th id=\"T_d02502c2_5e44_11ec_aeb1_0242ac130202level0_row12\" class=\"row_heading level0 row12\" >5106</th>\n",
              "                        <td id=\"T_d02502c2_5e44_11ec_aeb1_0242ac130202row12_col0\" class=\"data row12 col0\" >Cosmos: Possible Worlds</td>\n",
              "                        <td id=\"T_d02502c2_5e44_11ec_aeb1_0242ac130202row12_col1\" class=\"data row12 col1\" >9.200000</td>\n",
              "                        <td id=\"T_d02502c2_5e44_11ec_aeb1_0242ac130202row12_col2\" class=\"data row12 col2\" >0</td>\n",
              "                        <td id=\"T_d02502c2_5e44_11ec_aeb1_0242ac130202row12_col3\" class=\"data row12 col3\" >0</td>\n",
              "                        <td id=\"T_d02502c2_5e44_11ec_aeb1_0242ac130202row12_col4\" class=\"data row12 col4\" >0</td>\n",
              "                        <td id=\"T_d02502c2_5e44_11ec_aeb1_0242ac130202row12_col5\" class=\"data row12 col5\" >1</td>\n",
              "            </tr>\n",
              "            <tr>\n",
              "                        <th id=\"T_d02502c2_5e44_11ec_aeb1_0242ac130202level0_row13\" class=\"row_heading level0 row13\" >3771</th>\n",
              "                        <td id=\"T_d02502c2_5e44_11ec_aeb1_0242ac130202row13_col0\" class=\"data row13 col0\" >Harmony with A R Rahman</td>\n",
              "                        <td id=\"T_d02502c2_5e44_11ec_aeb1_0242ac130202row13_col1\" class=\"data row13 col1\" >9.200000</td>\n",
              "                        <td id=\"T_d02502c2_5e44_11ec_aeb1_0242ac130202row13_col2\" class=\"data row13 col2\" >0</td>\n",
              "                        <td id=\"T_d02502c2_5e44_11ec_aeb1_0242ac130202row13_col3\" class=\"data row13 col3\" >0</td>\n",
              "                        <td id=\"T_d02502c2_5e44_11ec_aeb1_0242ac130202row13_col4\" class=\"data row13 col4\" >1</td>\n",
              "                        <td id=\"T_d02502c2_5e44_11ec_aeb1_0242ac130202row13_col5\" class=\"data row13 col5\" >0</td>\n",
              "            </tr>\n",
              "            <tr>\n",
              "                        <th id=\"T_d02502c2_5e44_11ec_aeb1_0242ac130202level0_row14\" class=\"row_heading level0 row14\" >4106</th>\n",
              "                        <td id=\"T_d02502c2_5e44_11ec_aeb1_0242ac130202row14_col0\" class=\"data row14 col0\" >Becoming a Man</td>\n",
              "                        <td id=\"T_d02502c2_5e44_11ec_aeb1_0242ac130202row14_col1\" class=\"data row14 col1\" >9.200000</td>\n",
              "                        <td id=\"T_d02502c2_5e44_11ec_aeb1_0242ac130202row14_col2\" class=\"data row14 col2\" >0</td>\n",
              "                        <td id=\"T_d02502c2_5e44_11ec_aeb1_0242ac130202row14_col3\" class=\"data row14 col3\" >0</td>\n",
              "                        <td id=\"T_d02502c2_5e44_11ec_aeb1_0242ac130202row14_col4\" class=\"data row14 col4\" >1</td>\n",
              "                        <td id=\"T_d02502c2_5e44_11ec_aeb1_0242ac130202row14_col5\" class=\"data row14 col5\" >0</td>\n",
              "            </tr>\n",
              "            <tr>\n",
              "                        <th id=\"T_d02502c2_5e44_11ec_aeb1_0242ac130202level0_row15\" class=\"row_heading level0 row15\" >1001</th>\n",
              "                        <td id=\"T_d02502c2_5e44_11ec_aeb1_0242ac130202row15_col0\" class=\"data row15 col0\" >Okupas</td>\n",
              "                        <td id=\"T_d02502c2_5e44_11ec_aeb1_0242ac130202row15_col1\" class=\"data row15 col1\" >9.100000</td>\n",
              "                        <td id=\"T_d02502c2_5e44_11ec_aeb1_0242ac130202row15_col2\" class=\"data row15 col2\" >1</td>\n",
              "                        <td id=\"T_d02502c2_5e44_11ec_aeb1_0242ac130202row15_col3\" class=\"data row15 col3\" >0</td>\n",
              "                        <td id=\"T_d02502c2_5e44_11ec_aeb1_0242ac130202row15_col4\" class=\"data row15 col4\" >0</td>\n",
              "                        <td id=\"T_d02502c2_5e44_11ec_aeb1_0242ac130202row15_col5\" class=\"data row15 col5\" >0</td>\n",
              "            </tr>\n",
              "            <tr>\n",
              "                        <th id=\"T_d02502c2_5e44_11ec_aeb1_0242ac130202level0_row16\" class=\"row_heading level0 row16\" >201</th>\n",
              "                        <td id=\"T_d02502c2_5e44_11ec_aeb1_0242ac130202row16_col0\" class=\"data row16 col0\" >Leyla ile Mecnun</td>\n",
              "                        <td id=\"T_d02502c2_5e44_11ec_aeb1_0242ac130202row16_col1\" class=\"data row16 col1\" >9.100000</td>\n",
              "                        <td id=\"T_d02502c2_5e44_11ec_aeb1_0242ac130202row16_col2\" class=\"data row16 col2\" >1</td>\n",
              "                        <td id=\"T_d02502c2_5e44_11ec_aeb1_0242ac130202row16_col3\" class=\"data row16 col3\" >0</td>\n",
              "                        <td id=\"T_d02502c2_5e44_11ec_aeb1_0242ac130202row16_col4\" class=\"data row16 col4\" >0</td>\n",
              "                        <td id=\"T_d02502c2_5e44_11ec_aeb1_0242ac130202row16_col5\" class=\"data row16 col5\" >0</td>\n",
              "            </tr>\n",
              "            <tr>\n",
              "                        <th id=\"T_d02502c2_5e44_11ec_aeb1_0242ac130202level0_row17\" class=\"row_heading level0 row17\" >401</th>\n",
              "                        <td id=\"T_d02502c2_5e44_11ec_aeb1_0242ac130202row17_col0\" class=\"data row17 col0\" >My Mister</td>\n",
              "                        <td id=\"T_d02502c2_5e44_11ec_aeb1_0242ac130202row17_col1\" class=\"data row17 col1\" >9.100000</td>\n",
              "                        <td id=\"T_d02502c2_5e44_11ec_aeb1_0242ac130202row17_col2\" class=\"data row17 col2\" >1</td>\n",
              "                        <td id=\"T_d02502c2_5e44_11ec_aeb1_0242ac130202row17_col3\" class=\"data row17 col3\" >0</td>\n",
              "                        <td id=\"T_d02502c2_5e44_11ec_aeb1_0242ac130202row17_col4\" class=\"data row17 col4\" >0</td>\n",
              "                        <td id=\"T_d02502c2_5e44_11ec_aeb1_0242ac130202row17_col5\" class=\"data row17 col5\" >0</td>\n",
              "            </tr>\n",
              "            <tr>\n",
              "                        <th id=\"T_d02502c2_5e44_11ec_aeb1_0242ac130202level0_row18\" class=\"row_heading level0 row18\" >25</th>\n",
              "                        <td id=\"T_d02502c2_5e44_11ec_aeb1_0242ac130202row18_col0\" class=\"data row18 col0\" >Fullmetal Alchemist: Brotherhood</td>\n",
              "                        <td id=\"T_d02502c2_5e44_11ec_aeb1_0242ac130202row18_col1\" class=\"data row18 col1\" >9.100000</td>\n",
              "                        <td id=\"T_d02502c2_5e44_11ec_aeb1_0242ac130202row18_col2\" class=\"data row18 col2\" >1</td>\n",
              "                        <td id=\"T_d02502c2_5e44_11ec_aeb1_0242ac130202row18_col3\" class=\"data row18 col3\" >1</td>\n",
              "                        <td id=\"T_d02502c2_5e44_11ec_aeb1_0242ac130202row18_col4\" class=\"data row18 col4\" >0</td>\n",
              "                        <td id=\"T_d02502c2_5e44_11ec_aeb1_0242ac130202row18_col5\" class=\"data row18 col5\" >0</td>\n",
              "            </tr>\n",
              "            <tr>\n",
              "                        <th id=\"T_d02502c2_5e44_11ec_aeb1_0242ac130202level0_row19\" class=\"row_heading level0 row19\" >4068</th>\n",
              "                        <td id=\"T_d02502c2_5e44_11ec_aeb1_0242ac130202row19_col0\" class=\"data row19 col0\" >Junk Drawer Magic</td>\n",
              "                        <td id=\"T_d02502c2_5e44_11ec_aeb1_0242ac130202row19_col1\" class=\"data row19 col1\" >9.100000</td>\n",
              "                        <td id=\"T_d02502c2_5e44_11ec_aeb1_0242ac130202row19_col2\" class=\"data row19 col2\" >0</td>\n",
              "                        <td id=\"T_d02502c2_5e44_11ec_aeb1_0242ac130202row19_col3\" class=\"data row19 col3\" >0</td>\n",
              "                        <td id=\"T_d02502c2_5e44_11ec_aeb1_0242ac130202row19_col4\" class=\"data row19 col4\" >1</td>\n",
              "                        <td id=\"T_d02502c2_5e44_11ec_aeb1_0242ac130202row19_col5\" class=\"data row19 col5\" >0</td>\n",
              "            </tr>\n",
              "    </tbody></table>"
            ],
            "text/plain": [
              "<pandas.io.formats.style.Styler at 0x7fd430bcfa10>"
            ]
          },
          "execution_count": 36,
          "metadata": {},
          "output_type": "execute_result"
        }
      ],
      "source": [
        "r.style.bar(subset=[\"Netflix\"], color='#ff6b6b')\\\n",
        ".bar(subset=[\"Hulu\"], color='#95d5b2')\\\n",
        ".bar(subset=[\"Prime Video\"], color='#a2d2ff')\\\n",
        ".bar(subset=[\"Disney+\"], color='#72efdd')\\\n",
        ".bar(subset=[\"IMDb\"], color='#').background_gradient(cmap='Purples')"
      ]
    },
    {
      "cell_type": "markdown",
      "metadata": {
        "papermill": {
          "duration": 0.054482,
          "end_time": "2021-12-16T07:50:18.579127",
          "exception": false,
          "start_time": "2021-12-16T07:50:18.524645",
          "status": "completed"
        },
        "tags": [],
        "id": "idUc36nsjkhH"
      },
      "source": [
        "<div class=\"alert alert-info\">  \n",
        "<h3><strong>Movies with the highest IMDb rating, genres and languages</strong></h3>\n",
        "</div>"
      ]
    },
    {
      "cell_type": "code",
      "execution_count": null,
      "metadata": {
        "execution": {
          "iopub.execute_input": "2021-12-16T07:50:18.694878Z",
          "iopub.status.busy": "2021-12-16T07:50:18.694204Z",
          "iopub.status.idle": "2021-12-16T07:50:18.871628Z",
          "shell.execute_reply": "2021-12-16T07:50:18.870298Z",
          "shell.execute_reply.started": "2021-12-16T07:49:09.589330Z"
        },
        "papermill": {
          "duration": 0.237078,
          "end_time": "2021-12-16T07:50:18.871747",
          "exception": false,
          "start_time": "2021-12-16T07:50:18.634669",
          "status": "completed"
        },
        "tags": [],
        "id": "TuoKAVARjkhH",
        "outputId": "2553598e-36b7-4d7e-b12a-0cb0891be285"
      },
      "outputs": [
        {
          "data": {
            "text/html": [
              "<div>                            <div id=\"7874159f-1005-424e-9390-e6ba9f980676\" class=\"plotly-graph-div\" style=\"height:525px; width:100%;\"></div>            <script type=\"text/javascript\">                require([\"plotly\"], function(Plotly) {                    window.PLOTLYENV=window.PLOTLYENV || {};                                    if (document.getElementById(\"7874159f-1005-424e-9390-e6ba9f980676\")) {                    Plotly.newPlot(                        \"7874159f-1005-424e-9390-e6ba9f980676\",                        [{\"branchvalues\": \"total\", \"customdata\": [[9.0], [9.0], [9.0], [9.2], [9.8], [9.0], [9.0], [9.7], [9.0], [9.0], [9.7], [9.0], [9.0], [9.2], [9.0], [9.6], [9.0], [9.8], [9.0], [9.0], [9.0], [9.2], [9.6], [9.0], [9.7], [9.8], [9.0], [9.0], [9.240845070422536]], \"domain\": {\"x\": [0.0, 1.0], \"y\": [0.0, 1.0]}, \"hovertemplate\": \"labels=%{label}<br>IMDb_sum=%{value}<br>parent=%{parent}<br>id=%{id}<br>IMDb=%{color}<extra></extra>\", \"ids\": [\"Movies/No Longer kids/Comedy/Arabic\", \"Movies/They Come to America IV: Immigration & Politics/Documentary/English\", \"Movies/David Attenborough: A Life on Our Planet/Documentary,Biography/English\", \"Movies/Healing Voices/Documentary,Drama/English\", \"Movies/Ruby's Studio: the Feelings Show/Family/English\", \"Movies/The Dark Knight/Action,Crime,Drama,Thriller/English,Mandarin\", \"Movies/C/o Kancharapalem/Drama/Telugu\", \"Movies/Ostatni ludzie Czarnobyla/Documentary/Ukrainian\", \"Movies/The Dark Knight/Action,Crime,Drama,Thriller\", \"Movies/No Longer kids/Comedy\", \"Movies/Ostatni ludzie Czarnobyla/Documentary\", \"Movies/They Come to America IV: Immigration & Politics/Documentary\", \"Movies/David Attenborough: A Life on Our Planet/Documentary,Biography\", \"Movies/Healing Voices/Documentary,Drama\", \"Movies/Blue Ribbon Kids/Documentary,Reality-TV\", \"Movies/Jingle Pols/Documentary,Reality-TV\", \"Movies/C/o Kancharapalem/Drama\", \"Movies/Ruby's Studio: the Feelings Show/Family\", \"Movies/Blue Ribbon Kids\", \"Movies/C/o Kancharapalem\", \"Movies/David Attenborough: A Life on Our Planet\", \"Movies/Healing Voices\", \"Movies/Jingle Pols\", \"Movies/No Longer kids\", \"Movies/Ostatni ludzie Czarnobyla\", \"Movies/Ruby's Studio: the Feelings Show\", \"Movies/The Dark Knight\", \"Movies/They Come to America IV: Immigration & Politics\", \"Movies\"], \"labels\": [\"Arabic\", \"English\", \"English\", \"English\", \"English\", \"English,Mandarin\", \"Telugu\", \"Ukrainian\", \"Action,Crime,Drama,Thriller\", \"Comedy\", \"Documentary\", \"Documentary\", \"Documentary,Biography\", \"Documentary,Drama\", \"Documentary,Reality-TV\", \"Documentary,Reality-TV\", \"Drama\", \"Family\", \"Blue Ribbon Kids\", \"C/o Kancharapalem\", \"David Attenborough: A Life on Our Planet\", \"Healing Voices\", \"Jingle Pols\", \"No Longer kids\", \"Ostatni ludzie Czarnobyla\", \"Ruby's Studio: the Feelings Show\", \"The Dark Knight\", \"They Come to America IV: Immigration & Politics\", \"Movies\"], \"marker\": {\"coloraxis\": \"coloraxis\", \"colors\": [9.0, 9.0, 9.0, 9.2, 9.8, 9.0, 9.0, 9.7, 9.0, 9.0, 9.7, 9.0, 9.0, 9.2, 9.0, 9.6, 9.0, 9.8, 9.0, 9.0, 9.0, 9.2, 9.6, 9.0, 9.7, 9.8, 9.0, 9.0, 9.240845070422536]}, \"name\": \"\", \"parents\": [\"Movies/No Longer kids/Comedy\", \"Movies/They Come to America IV: Immigration & Politics/Documentary\", \"Movies/David Attenborough: A Life on Our Planet/Documentary,Biography\", \"Movies/Healing Voices/Documentary,Drama\", \"Movies/Ruby's Studio: the Feelings Show/Family\", \"Movies/The Dark Knight/Action,Crime,Drama,Thriller\", \"Movies/C/o Kancharapalem/Drama\", \"Movies/Ostatni ludzie Czarnobyla/Documentary\", \"Movies/The Dark Knight\", \"Movies/No Longer kids\", \"Movies/Ostatni ludzie Czarnobyla\", \"Movies/They Come to America IV: Immigration & Politics\", \"Movies/David Attenborough: A Life on Our Planet\", \"Movies/Healing Voices\", \"Movies/Blue Ribbon Kids\", \"Movies/Jingle Pols\", \"Movies/C/o Kancharapalem\", \"Movies/Ruby's Studio: the Feelings Show\", \"Movies\", \"Movies\", \"Movies\", \"Movies\", \"Movies\", \"Movies\", \"Movies\", \"Movies\", \"Movies\", \"Movies\", \"\"], \"type\": \"treemap\", \"values\": [9.0, 9.0, 9.0, 9.2, 9.8, 9.0, 9.0, 9.7, 9.0, 9.0, 9.7, 9.0, 9.0, 9.2, 9.0, 9.6, 9.0, 9.8, 9.0, 9.0, 9.0, 9.2, 9.6, 9.0, 9.7, 9.8, 9.0, 9.0, 92.3]}],                        {\"coloraxis\": {\"colorbar\": {\"title\": {\"text\": \"IMDb\"}}, \"colorscale\": [[0.0, \"rgb(243, 224, 247)\"], [0.16666666666666666, \"rgb(228, 199, 241)\"], [0.3333333333333333, \"rgb(209, 175, 232)\"], [0.5, \"rgb(185, 152, 221)\"], [0.6666666666666666, \"rgb(159, 130, 206)\"], [0.8333333333333334, \"rgb(130, 109, 186)\"], [1.0, \"rgb(99, 88, 159)\"]]}, \"legend\": {\"tracegroupgap\": 0}, \"margin\": {\"t\": 60}, \"template\": {\"data\": {\"bar\": [{\"error_x\": {\"color\": \"#2a3f5f\"}, \"error_y\": {\"color\": \"#2a3f5f\"}, \"marker\": {\"line\": {\"color\": \"#E5ECF6\", \"width\": 0.5}}, \"type\": \"bar\"}], \"barpolar\": [{\"marker\": {\"line\": {\"color\": \"#E5ECF6\", \"width\": 0.5}}, \"type\": \"barpolar\"}], \"carpet\": [{\"aaxis\": {\"endlinecolor\": \"#2a3f5f\", \"gridcolor\": \"white\", \"linecolor\": \"white\", \"minorgridcolor\": \"white\", \"startlinecolor\": \"#2a3f5f\"}, \"baxis\": {\"endlinecolor\": \"#2a3f5f\", \"gridcolor\": \"white\", \"linecolor\": \"white\", \"minorgridcolor\": \"white\", \"startlinecolor\": \"#2a3f5f\"}, \"type\": \"carpet\"}], \"choropleth\": [{\"colorbar\": {\"outlinewidth\": 0, \"ticks\": \"\"}, \"type\": \"choropleth\"}], \"contour\": [{\"colorbar\": {\"outlinewidth\": 0, \"ticks\": \"\"}, \"colorscale\": [[0.0, \"#0d0887\"], [0.1111111111111111, \"#46039f\"], [0.2222222222222222, \"#7201a8\"], [0.3333333333333333, \"#9c179e\"], [0.4444444444444444, \"#bd3786\"], [0.5555555555555556, \"#d8576b\"], [0.6666666666666666, \"#ed7953\"], [0.7777777777777778, \"#fb9f3a\"], [0.8888888888888888, \"#fdca26\"], [1.0, \"#f0f921\"]], \"type\": \"contour\"}], \"contourcarpet\": [{\"colorbar\": {\"outlinewidth\": 0, \"ticks\": \"\"}, \"type\": \"contourcarpet\"}], \"heatmap\": [{\"colorbar\": {\"outlinewidth\": 0, \"ticks\": \"\"}, \"colorscale\": [[0.0, \"#0d0887\"], [0.1111111111111111, \"#46039f\"], [0.2222222222222222, \"#7201a8\"], [0.3333333333333333, \"#9c179e\"], [0.4444444444444444, \"#bd3786\"], [0.5555555555555556, \"#d8576b\"], [0.6666666666666666, \"#ed7953\"], [0.7777777777777778, \"#fb9f3a\"], [0.8888888888888888, \"#fdca26\"], [1.0, \"#f0f921\"]], \"type\": \"heatmap\"}], \"heatmapgl\": [{\"colorbar\": {\"outlinewidth\": 0, \"ticks\": \"\"}, \"colorscale\": [[0.0, \"#0d0887\"], [0.1111111111111111, \"#46039f\"], [0.2222222222222222, \"#7201a8\"], [0.3333333333333333, \"#9c179e\"], [0.4444444444444444, \"#bd3786\"], [0.5555555555555556, \"#d8576b\"], [0.6666666666666666, \"#ed7953\"], [0.7777777777777778, \"#fb9f3a\"], [0.8888888888888888, \"#fdca26\"], [1.0, \"#f0f921\"]], \"type\": \"heatmapgl\"}], \"histogram\": [{\"marker\": {\"colorbar\": {\"outlinewidth\": 0, \"ticks\": \"\"}}, \"type\": \"histogram\"}], \"histogram2d\": [{\"colorbar\": {\"outlinewidth\": 0, \"ticks\": \"\"}, \"colorscale\": [[0.0, \"#0d0887\"], [0.1111111111111111, \"#46039f\"], [0.2222222222222222, \"#7201a8\"], [0.3333333333333333, \"#9c179e\"], [0.4444444444444444, \"#bd3786\"], [0.5555555555555556, \"#d8576b\"], [0.6666666666666666, \"#ed7953\"], [0.7777777777777778, \"#fb9f3a\"], [0.8888888888888888, \"#fdca26\"], [1.0, \"#f0f921\"]], \"type\": \"histogram2d\"}], \"histogram2dcontour\": [{\"colorbar\": {\"outlinewidth\": 0, \"ticks\": \"\"}, \"colorscale\": [[0.0, \"#0d0887\"], [0.1111111111111111, \"#46039f\"], [0.2222222222222222, \"#7201a8\"], [0.3333333333333333, \"#9c179e\"], [0.4444444444444444, \"#bd3786\"], [0.5555555555555556, \"#d8576b\"], [0.6666666666666666, \"#ed7953\"], [0.7777777777777778, \"#fb9f3a\"], [0.8888888888888888, \"#fdca26\"], [1.0, \"#f0f921\"]], \"type\": \"histogram2dcontour\"}], \"mesh3d\": [{\"colorbar\": {\"outlinewidth\": 0, \"ticks\": \"\"}, \"type\": \"mesh3d\"}], \"parcoords\": [{\"line\": {\"colorbar\": {\"outlinewidth\": 0, \"ticks\": \"\"}}, \"type\": \"parcoords\"}], \"pie\": [{\"automargin\": true, \"type\": \"pie\"}], \"scatter\": [{\"marker\": {\"colorbar\": {\"outlinewidth\": 0, \"ticks\": \"\"}}, \"type\": \"scatter\"}], \"scatter3d\": [{\"line\": {\"colorbar\": {\"outlinewidth\": 0, \"ticks\": \"\"}}, \"marker\": {\"colorbar\": {\"outlinewidth\": 0, \"ticks\": \"\"}}, \"type\": \"scatter3d\"}], \"scattercarpet\": [{\"marker\": {\"colorbar\": {\"outlinewidth\": 0, \"ticks\": \"\"}}, \"type\": \"scattercarpet\"}], \"scattergeo\": [{\"marker\": {\"colorbar\": {\"outlinewidth\": 0, \"ticks\": \"\"}}, \"type\": \"scattergeo\"}], \"scattergl\": [{\"marker\": {\"colorbar\": {\"outlinewidth\": 0, \"ticks\": \"\"}}, \"type\": \"scattergl\"}], \"scattermapbox\": [{\"marker\": {\"colorbar\": {\"outlinewidth\": 0, \"ticks\": \"\"}}, \"type\": \"scattermapbox\"}], \"scatterpolar\": [{\"marker\": {\"colorbar\": {\"outlinewidth\": 0, \"ticks\": \"\"}}, \"type\": \"scatterpolar\"}], \"scatterpolargl\": [{\"marker\": {\"colorbar\": {\"outlinewidth\": 0, \"ticks\": \"\"}}, \"type\": \"scatterpolargl\"}], \"scatterternary\": [{\"marker\": {\"colorbar\": {\"outlinewidth\": 0, \"ticks\": \"\"}}, \"type\": \"scatterternary\"}], \"surface\": [{\"colorbar\": {\"outlinewidth\": 0, \"ticks\": \"\"}, \"colorscale\": [[0.0, \"#0d0887\"], [0.1111111111111111, \"#46039f\"], [0.2222222222222222, \"#7201a8\"], [0.3333333333333333, \"#9c179e\"], [0.4444444444444444, \"#bd3786\"], [0.5555555555555556, \"#d8576b\"], [0.6666666666666666, \"#ed7953\"], [0.7777777777777778, \"#fb9f3a\"], [0.8888888888888888, \"#fdca26\"], [1.0, \"#f0f921\"]], \"type\": \"surface\"}], \"table\": [{\"cells\": {\"fill\": {\"color\": \"#EBF0F8\"}, \"line\": {\"color\": \"white\"}}, \"header\": {\"fill\": {\"color\": \"#C8D4E3\"}, \"line\": {\"color\": \"white\"}}, \"type\": \"table\"}]}, \"layout\": {\"annotationdefaults\": {\"arrowcolor\": \"#2a3f5f\", \"arrowhead\": 0, \"arrowwidth\": 1}, \"coloraxis\": {\"colorbar\": {\"outlinewidth\": 0, \"ticks\": \"\"}}, \"colorscale\": {\"diverging\": [[0, \"#8e0152\"], [0.1, \"#c51b7d\"], [0.2, \"#de77ae\"], [0.3, \"#f1b6da\"], [0.4, \"#fde0ef\"], [0.5, \"#f7f7f7\"], [0.6, \"#e6f5d0\"], [0.7, \"#b8e186\"], [0.8, \"#7fbc41\"], [0.9, \"#4d9221\"], [1, \"#276419\"]], \"sequential\": [[0.0, \"#0d0887\"], [0.1111111111111111, \"#46039f\"], [0.2222222222222222, \"#7201a8\"], [0.3333333333333333, \"#9c179e\"], [0.4444444444444444, \"#bd3786\"], [0.5555555555555556, \"#d8576b\"], [0.6666666666666666, \"#ed7953\"], [0.7777777777777778, \"#fb9f3a\"], [0.8888888888888888, \"#fdca26\"], [1.0, \"#f0f921\"]], \"sequentialminus\": [[0.0, \"#0d0887\"], [0.1111111111111111, \"#46039f\"], [0.2222222222222222, \"#7201a8\"], [0.3333333333333333, \"#9c179e\"], [0.4444444444444444, \"#bd3786\"], [0.5555555555555556, \"#d8576b\"], [0.6666666666666666, \"#ed7953\"], [0.7777777777777778, \"#fb9f3a\"], [0.8888888888888888, \"#fdca26\"], [1.0, \"#f0f921\"]]}, \"colorway\": [\"#636efa\", \"#EF553B\", \"#00cc96\", \"#ab63fa\", \"#FFA15A\", \"#19d3f3\", \"#FF6692\", \"#B6E880\", \"#FF97FF\", \"#FECB52\"], \"font\": {\"color\": \"#2a3f5f\"}, \"geo\": {\"bgcolor\": \"white\", \"lakecolor\": \"white\", \"landcolor\": \"#E5ECF6\", \"showlakes\": true, \"showland\": true, \"subunitcolor\": \"white\"}, \"hoverlabel\": {\"align\": \"left\"}, \"hovermode\": \"closest\", \"mapbox\": {\"style\": \"light\"}, \"paper_bgcolor\": \"white\", \"plot_bgcolor\": \"#E5ECF6\", \"polar\": {\"angularaxis\": {\"gridcolor\": \"white\", \"linecolor\": \"white\", \"ticks\": \"\"}, \"bgcolor\": \"#E5ECF6\", \"radialaxis\": {\"gridcolor\": \"white\", \"linecolor\": \"white\", \"ticks\": \"\"}}, \"scene\": {\"xaxis\": {\"backgroundcolor\": \"#E5ECF6\", \"gridcolor\": \"white\", \"gridwidth\": 2, \"linecolor\": \"white\", \"showbackground\": true, \"ticks\": \"\", \"zerolinecolor\": \"white\"}, \"yaxis\": {\"backgroundcolor\": \"#E5ECF6\", \"gridcolor\": \"white\", \"gridwidth\": 2, \"linecolor\": \"white\", \"showbackground\": true, \"ticks\": \"\", \"zerolinecolor\": \"white\"}, \"zaxis\": {\"backgroundcolor\": \"#E5ECF6\", \"gridcolor\": \"white\", \"gridwidth\": 2, \"linecolor\": \"white\", \"showbackground\": true, \"ticks\": \"\", \"zerolinecolor\": \"white\"}}, \"shapedefaults\": {\"line\": {\"color\": \"#2a3f5f\"}}, \"ternary\": {\"aaxis\": {\"gridcolor\": \"white\", \"linecolor\": \"white\", \"ticks\": \"\"}, \"baxis\": {\"gridcolor\": \"white\", \"linecolor\": \"white\", \"ticks\": \"\"}, \"bgcolor\": \"#E5ECF6\", \"caxis\": {\"gridcolor\": \"white\", \"linecolor\": \"white\", \"ticks\": \"\"}}, \"title\": {\"x\": 0.05}, \"xaxis\": {\"automargin\": true, \"gridcolor\": \"white\", \"linecolor\": \"white\", \"ticks\": \"\", \"title\": {\"standoff\": 15}, \"zerolinecolor\": \"white\", \"zerolinewidth\": 2}, \"yaxis\": {\"automargin\": true, \"gridcolor\": \"white\", \"linecolor\": \"white\", \"ticks\": \"\", \"title\": {\"standoff\": 15}, \"zerolinecolor\": \"white\", \"zerolinewidth\": 2}}}},                        {\"responsive\": true}                    ).then(function(){\n",
              "                            \n",
              "var gd = document.getElementById('7874159f-1005-424e-9390-e6ba9f980676');\n",
              "var x = new MutationObserver(function (mutations, observer) {{\n",
              "        var display = window.getComputedStyle(gd).display;\n",
              "        if (!display || display === 'none') {{\n",
              "            console.log([gd, 'removed!']);\n",
              "            Plotly.purge(gd);\n",
              "            observer.disconnect();\n",
              "        }}\n",
              "}});\n",
              "\n",
              "// Listen for the removal of the full notebook cells\n",
              "var notebookContainer = gd.closest('#notebook-container');\n",
              "if (notebookContainer) {{\n",
              "    x.observe(notebookContainer, {childList: true});\n",
              "}}\n",
              "\n",
              "// Listen for the clearing of the current output cell\n",
              "var outputEl = gd.closest('.output');\n",
              "if (outputEl) {{\n",
              "    x.observe(outputEl, {childList: true});\n",
              "}}\n",
              "\n",
              "                        })                };                });            </script>        </div>"
            ]
          },
          "metadata": {},
          "output_type": "display_data"
        }
      ],
      "source": [
        "r1 = df_movies.sort_values(by='IMDb', ascending=False)\n",
        "r1 = r1[0:10]\n",
        "r1['Movies']='Movies'\n",
        "fig = px.treemap(r1, path=['Movies','Title', 'Genres','Language'], values='IMDb',color='IMDb',color_continuous_scale='Purp')\n",
        "fig.show()"
      ]
    },
    {
      "cell_type": "markdown",
      "metadata": {
        "papermill": {
          "duration": 0.054807,
          "end_time": "2021-12-16T07:50:18.980671",
          "exception": false,
          "start_time": "2021-12-16T07:50:18.925864",
          "status": "completed"
        },
        "tags": [],
        "id": "ApDEsWyMjkhI"
      },
      "source": [
        "<div class=\"alert alert-info\">  \n",
        "<h3><strong>Movies with the highest Rotten Tomatoes rating vs directors</strong></h3>\n",
        "</div>"
      ]
    },
    {
      "cell_type": "code",
      "execution_count": null,
      "metadata": {
        "execution": {
          "iopub.execute_input": "2021-12-16T07:50:19.096933Z",
          "iopub.status.busy": "2021-12-16T07:50:19.096027Z",
          "iopub.status.idle": "2021-12-16T07:50:19.113870Z",
          "shell.execute_reply": "2021-12-16T07:50:19.113214Z",
          "shell.execute_reply.started": "2021-12-16T07:49:09.798322Z"
        },
        "papermill": {
          "duration": 0.077972,
          "end_time": "2021-12-16T07:50:19.113987",
          "exception": false,
          "start_time": "2021-12-16T07:50:19.036015",
          "status": "completed"
        },
        "tags": [],
        "id": "hymP47QwjkhI"
      },
      "outputs": [],
      "source": [
        "df_m = df_movies.copy()\n",
        "df_m = df_m.dropna()\n",
        "\n",
        "df_m['Rotten Tomatoes']=df_m['Rotten Tomatoes'].str.replace('%','')\n",
        "df_m['Rotten Tomatoes']=df_m['Rotten Tomatoes'].astype(str).astype(int)\n",
        "df_m['Directors']=df_m['Directors'].astype('str')"
      ]
    },
    {
      "cell_type": "code",
      "execution_count": null,
      "metadata": {
        "execution": {
          "iopub.execute_input": "2021-12-16T07:50:19.229152Z",
          "iopub.status.busy": "2021-12-16T07:50:19.228222Z",
          "iopub.status.idle": "2021-12-16T07:50:19.514472Z",
          "shell.execute_reply": "2021-12-16T07:50:19.513847Z",
          "shell.execute_reply.started": "2021-12-16T07:49:09.831761Z"
        },
        "papermill": {
          "duration": 0.345745,
          "end_time": "2021-12-16T07:50:19.514593",
          "exception": false,
          "start_time": "2021-12-16T07:50:19.168848",
          "status": "completed"
        },
        "tags": [],
        "id": "w3Do3tt4jkhJ",
        "outputId": "79cb9303-4ec3-417e-97ed-4dc481ca2f42"
      },
      "outputs": [
        {
          "data": {
            "image/png": "[encoded data removed]",
            "text/plain": [
              "<Figure size 504x504 with 1 Axes>"
            ]
          },
          "metadata": {
            "needs_background": "light"
          },
          "output_type": "display_data"
        }
      ],
      "source": [
        "df_m=df_m.sort_values(by='Rotten Tomatoes', ascending=False)\n",
        "rating = df_m[0:20]\n",
        "sns.catplot(x=\"Rotten Tomatoes\", y=\"Directors\",data=rating, palette=netflix_p,height=7,kind=\"point\");"
      ]
    },
    {
      "cell_type": "markdown",
      "metadata": {
        "papermill": {
          "duration": 0.055769,
          "end_time": "2021-12-16T07:50:19.626396",
          "exception": false,
          "start_time": "2021-12-16T07:50:19.570627",
          "status": "completed"
        },
        "tags": [],
        "id": "unLpavsNjkhJ"
      },
      "source": [
        "<div class=\"alert alert-info\">  \n",
        "<h3><strong>Distribution of IMDb and Rotten Tomatoes ratings of movies on all platforms</strong></h3>\n",
        "</div>"
      ]
    },
    {
      "cell_type": "code",
      "execution_count": null,
      "metadata": {
        "execution": {
          "iopub.execute_input": "2021-12-16T07:50:19.740409Z",
          "iopub.status.busy": "2021-12-16T07:50:19.739819Z",
          "iopub.status.idle": "2021-12-16T07:50:19.745702Z",
          "shell.execute_reply": "2021-12-16T07:50:19.746127Z",
          "shell.execute_reply.started": "2021-12-16T07:49:10.231297Z"
        },
        "papermill": {
          "duration": 0.064234,
          "end_time": "2021-12-16T07:50:19.746266",
          "exception": false,
          "start_time": "2021-12-16T07:50:19.682032",
          "status": "completed"
        },
        "tags": [],
        "id": "aJGxXX54jkhJ"
      },
      "outputs": [],
      "source": [
        "def dist(i,dataframe,platform,c):\n",
        "    plt.subplot(i)\n",
        "    dataframe=dataframe.loc[dataframe[platform] == 1]\n",
        "    sns.distplot(dataframe['IMDb'], color=custom_colors[c],vertical=True)\n",
        "    \n",
        "    plt.ylabel('IMDb rating, '+platform, fontsize = 15)\n",
        "    plt.subplot(i+1)\n",
        "    sns.distplot(dataframe['Rotten Tomatoes'], color=custom_colors[c],vertical=True)\n",
        "    plt.ylabel('Rotten Tomatoes, '+platform, fontsize = 15)"
      ]
    },
    {
      "cell_type": "code",
      "execution_count": null,
      "metadata": {
        "execution": {
          "iopub.execute_input": "2021-12-16T07:50:19.860297Z",
          "iopub.status.busy": "2021-12-16T07:50:19.859720Z",
          "iopub.status.idle": "2021-12-16T07:50:21.311088Z",
          "shell.execute_reply": "2021-12-16T07:50:21.311544Z",
          "shell.execute_reply.started": "2021-12-16T07:49:10.241494Z"
        },
        "papermill": {
          "duration": 1.509831,
          "end_time": "2021-12-16T07:50:21.311682",
          "exception": false,
          "start_time": "2021-12-16T07:50:19.801851",
          "status": "completed"
        },
        "tags": [],
        "id": "qnfZOv3DjkhK",
        "outputId": "b7fee988-d601-4c69-84d8-318ba7463ce3"
      },
      "outputs": [
        {
          "data": {
            "image/png": "[encoded data removed]",
            "text/plain": [
              "<Figure size 1440x1440 with 8 Axes>"
            ]
          },
          "metadata": {
            "needs_background": "light"
          },
          "output_type": "display_data"
        }
      ],
      "source": [
        "plt.figure(figsize = (20, 20))\n",
        "\n",
        "dist(421,df_m,'Netflix',0)\n",
        "dist(423,df_m,'Hulu',1)\n",
        "dist(425,df_m,'Prime Video',2)\n",
        "dist(427,df_m,'Disney+',3)"
      ]
    },
    {
      "cell_type": "code",
      "execution_count": null,
      "metadata": {
        "execution": {
          "iopub.execute_input": "2021-12-16T07:50:21.436141Z",
          "iopub.status.busy": "2021-12-16T07:50:21.435565Z",
          "iopub.status.idle": "2021-12-16T07:50:22.170549Z",
          "shell.execute_reply": "2021-12-16T07:50:22.170044Z",
          "shell.execute_reply.started": "2021-12-16T07:49:12.155547Z"
        },
        "papermill": {
          "duration": 0.800104,
          "end_time": "2021-12-16T07:50:22.170672",
          "exception": false,
          "start_time": "2021-12-16T07:50:21.370568",
          "status": "completed"
        },
        "tags": [],
        "id": "812fAjBFjkhK",
        "outputId": "010ab1b5-d856-4ea5-aeaf-7a47d1717a2d"
      },
      "outputs": [
        {
          "data": {
            "image/png": "[encoded data removed]",
            "text/plain": [
              "<Figure size 1152x576 with 1 Axes>"
            ]
          },
          "metadata": {
            "needs_background": "light"
          },
          "output_type": "display_data"
        }
      ],
      "source": [
        "df_m['Rotten Tomatoes'] = df_m['Rotten Tomatoes'].astype(float)\n",
        "df_m['IMDb'] = df_m['IMDb'].astype(float)\n",
        "\n",
        "plt.figure(figsize = (16, 8))\n",
        "sns.regplot(x = df_m['Rotten Tomatoes'],y = df_m['IMDb'],x_bins=10,marker=\"+\",color=\"#FDE74C\")\n",
        "plt.show()"
      ]
    },
    {
      "cell_type": "markdown",
      "metadata": {
        "papermill": {
          "duration": 0.060474,
          "end_time": "2021-12-16T07:50:22.291975",
          "exception": false,
          "start_time": "2021-12-16T07:50:22.231501",
          "status": "completed"
        },
        "tags": [],
        "id": "CZUNnLCJjkhK"
      },
      "source": [
        "<div class=\"alert alert-info\">  \n",
        "<h3><strong>Languages and genres of movies on all platforms</strong></h3>\n",
        "</div>"
      ]
    },
    {
      "cell_type": "code",
      "execution_count": null,
      "metadata": {
        "execution": {
          "iopub.execute_input": "2021-12-16T07:50:22.420126Z",
          "iopub.status.busy": "2021-12-16T07:50:22.419113Z",
          "iopub.status.idle": "2021-12-16T07:50:22.437363Z",
          "shell.execute_reply": "2021-12-16T07:50:22.437901Z",
          "shell.execute_reply.started": "2021-12-16T07:49:13.100716Z"
        },
        "papermill": {
          "duration": 0.084627,
          "end_time": "2021-12-16T07:50:22.438037",
          "exception": false,
          "start_time": "2021-12-16T07:50:22.353410",
          "status": "completed"
        },
        "tags": [],
        "id": "0bHN_WBwjkhL"
      },
      "outputs": [],
      "source": [
        "df_l_merged = pd.concat([df_movies, m_lang], axis = 1, sort = False)\n",
        "df_g_merged = pd.concat([df_movies, m_genres], axis = 1, sort = False)"
      ]
    },
    {
      "cell_type": "code",
      "execution_count": null,
      "metadata": {
        "_kg_hide-input": true,
        "execution": {
          "iopub.execute_input": "2021-12-16T07:50:22.561633Z",
          "iopub.status.busy": "2021-12-16T07:50:22.560694Z",
          "iopub.status.idle": "2021-12-16T07:50:22.566631Z",
          "shell.execute_reply": "2021-12-16T07:50:22.567199Z",
          "shell.execute_reply.started": "2021-12-16T07:49:13.119083Z"
        },
        "papermill": {
          "duration": 0.069457,
          "end_time": "2021-12-16T07:50:22.567335",
          "exception": false,
          "start_time": "2021-12-16T07:50:22.497878",
          "status": "completed"
        },
        "tags": [],
        "id": "FwoNMSyLjkhL"
      },
      "outputs": [],
      "source": [
        "def bar(dataframe,platform,c):\n",
        "    dataframe=dataframe.loc[dataframe[platform] == 1]\n",
        "    val_counts = dataframe.iloc[:,15:].sum(axis=0).sort_values(ascending=False)\n",
        "    val_counts2 = pd.DataFrame(val_counts,columns=['Number of movies'])\n",
        "    return val_counts2[0:20].style.bar(subset=[\"Number of movies\",], color=c)"
      ]
    },
    {
      "cell_type": "markdown",
      "metadata": {
        "papermill": {
          "duration": 0.059176,
          "end_time": "2021-12-16T07:50:22.686699",
          "exception": false,
          "start_time": "2021-12-16T07:50:22.627523",
          "status": "completed"
        },
        "tags": [],
        "id": "huB5roZNjkhL"
      },
      "source": [
        "<div>\n",
        "<img src=\"https://download.logo.wine/logo/Netflix/Netflix-Logo.wine.png\" width=\"350\"/>\n",
        "</div>"
      ]
    },
    {
      "cell_type": "code",
      "execution_count": null,
      "metadata": {
        "_kg_hide-input": true,
        "execution": {
          "iopub.execute_input": "2021-12-16T07:50:22.817098Z",
          "iopub.status.busy": "2021-12-16T07:50:22.816439Z",
          "iopub.status.idle": "2021-12-16T07:50:22.845047Z",
          "shell.execute_reply": "2021-12-16T07:50:22.845571Z",
          "shell.execute_reply.started": "2021-12-16T07:49:13.128314Z"
        },
        "papermill": {
          "duration": 0.097622,
          "end_time": "2021-12-16T07:50:22.845713",
          "exception": false,
          "start_time": "2021-12-16T07:50:22.748091",
          "status": "completed"
        },
        "tags": [],
        "id": "J1uMTbttjkhM",
        "outputId": "8aa9d398-1af8-45b6-be68-0f090425ca9d"
      },
      "outputs": [
        {
          "data": {
            "text/html": [
              "<style  type=\"text/css\" >\n",
              "#T_d2c238d8_5e44_11ec_aeb1_0242ac130202row0_col0{\n",
              "            width:  10em;\n",
              "             height:  80%;\n",
              "            background:  linear-gradient(90deg,#ff6b6b 100.0%, transparent 100.0%);\n",
              "        }#T_d2c238d8_5e44_11ec_aeb1_0242ac130202row1_col0{\n",
              "            width:  10em;\n",
              "             height:  80%;\n",
              "            background:  linear-gradient(90deg,#ff6b6b 15.4%, transparent 15.4%);\n",
              "        }#T_d2c238d8_5e44_11ec_aeb1_0242ac130202row2_col0{\n",
              "            width:  10em;\n",
              "             height:  80%;\n",
              "            background:  linear-gradient(90deg,#ff6b6b 15.3%, transparent 15.3%);\n",
              "        }#T_d2c238d8_5e44_11ec_aeb1_0242ac130202row3_col0{\n",
              "            width:  10em;\n",
              "             height:  80%;\n",
              "            background:  linear-gradient(90deg,#ff6b6b 8.3%, transparent 8.3%);\n",
              "        }#T_d2c238d8_5e44_11ec_aeb1_0242ac130202row4_col0{\n",
              "            width:  10em;\n",
              "             height:  80%;\n",
              "            background:  linear-gradient(90deg,#ff6b6b 4.3%, transparent 4.3%);\n",
              "        }#T_d2c238d8_5e44_11ec_aeb1_0242ac130202row5_col0{\n",
              "            width:  10em;\n",
              "             height:  80%;\n",
              "            background:  linear-gradient(90deg,#ff6b6b 3.6%, transparent 3.6%);\n",
              "        }#T_d2c238d8_5e44_11ec_aeb1_0242ac130202row6_col0{\n",
              "            width:  10em;\n",
              "             height:  80%;\n",
              "            background:  linear-gradient(90deg,#ff6b6b 3.3%, transparent 3.3%);\n",
              "        }#T_d2c238d8_5e44_11ec_aeb1_0242ac130202row7_col0{\n",
              "            width:  10em;\n",
              "             height:  80%;\n",
              "            background:  linear-gradient(90deg,#ff6b6b 2.2%, transparent 2.2%);\n",
              "        }#T_d2c238d8_5e44_11ec_aeb1_0242ac130202row8_col0{\n",
              "            width:  10em;\n",
              "             height:  80%;\n",
              "            background:  linear-gradient(90deg,#ff6b6b 2.1%, transparent 2.1%);\n",
              "        }#T_d2c238d8_5e44_11ec_aeb1_0242ac130202row9_col0{\n",
              "            width:  10em;\n",
              "             height:  80%;\n",
              "            background:  linear-gradient(90deg,#ff6b6b 1.5%, transparent 1.5%);\n",
              "        }#T_d2c238d8_5e44_11ec_aeb1_0242ac130202row10_col0{\n",
              "            width:  10em;\n",
              "             height:  80%;\n",
              "            background:  linear-gradient(90deg,#ff6b6b 1.3%, transparent 1.3%);\n",
              "        }#T_d2c238d8_5e44_11ec_aeb1_0242ac130202row11_col0,#T_d2c238d8_5e44_11ec_aeb1_0242ac130202row12_col0{\n",
              "            width:  10em;\n",
              "             height:  80%;\n",
              "            background:  linear-gradient(90deg,#ff6b6b 1.0%, transparent 1.0%);\n",
              "        }#T_d2c238d8_5e44_11ec_aeb1_0242ac130202row13_col0,#T_d2c238d8_5e44_11ec_aeb1_0242ac130202row14_col0,#T_d2c238d8_5e44_11ec_aeb1_0242ac130202row15_col0,#T_d2c238d8_5e44_11ec_aeb1_0242ac130202row16_col0{\n",
              "            width:  10em;\n",
              "             height:  80%;\n",
              "            background:  linear-gradient(90deg,#ff6b6b 0.9%, transparent 0.9%);\n",
              "        }#T_d2c238d8_5e44_11ec_aeb1_0242ac130202row17_col0{\n",
              "            width:  10em;\n",
              "             height:  80%;\n",
              "            background:  linear-gradient(90deg,#ff6b6b 0.4%, transparent 0.4%);\n",
              "        }#T_d2c238d8_5e44_11ec_aeb1_0242ac130202row18_col0{\n",
              "            width:  10em;\n",
              "             height:  80%;\n",
              "            background:  linear-gradient(90deg,#ff6b6b 0.2%, transparent 0.2%);\n",
              "        }#T_d2c238d8_5e44_11ec_aeb1_0242ac130202row19_col0{\n",
              "            width:  10em;\n",
              "             height:  80%;\n",
              "        }</style><table id=\"T_d2c238d8_5e44_11ec_aeb1_0242ac130202\" ><thead>    <tr>        <th class=\"blank level0\" ></th>        <th class=\"col_heading level0 col0\" >Number of movies</th>    </tr></thead><tbody>\n",
              "                <tr>\n",
              "                        <th id=\"T_d2c238d8_5e44_11ec_aeb1_0242ac130202level0_row0\" class=\"row_heading level0 row0\" >English</th>\n",
              "                        <td id=\"T_d2c238d8_5e44_11ec_aeb1_0242ac130202row0_col0\" class=\"data row0 col0\" >2266</td>\n",
              "            </tr>\n",
              "            <tr>\n",
              "                        <th id=\"T_d2c238d8_5e44_11ec_aeb1_0242ac130202level0_row1\" class=\"row_heading level0 row1\" >Hindi</th>\n",
              "                        <td id=\"T_d2c238d8_5e44_11ec_aeb1_0242ac130202row1_col0\" class=\"data row1 col0\" >380</td>\n",
              "            </tr>\n",
              "            <tr>\n",
              "                        <th id=\"T_d2c238d8_5e44_11ec_aeb1_0242ac130202level0_row2\" class=\"row_heading level0 row2\" >Spanish</th>\n",
              "                        <td id=\"T_d2c238d8_5e44_11ec_aeb1_0242ac130202row2_col0\" class=\"data row2 col0\" >377</td>\n",
              "            </tr>\n",
              "            <tr>\n",
              "                        <th id=\"T_d2c238d8_5e44_11ec_aeb1_0242ac130202level0_row3\" class=\"row_heading level0 row3\" >French</th>\n",
              "                        <td id=\"T_d2c238d8_5e44_11ec_aeb1_0242ac130202row3_col0\" class=\"data row3 col0\" >223</td>\n",
              "            </tr>\n",
              "            <tr>\n",
              "                        <th id=\"T_d2c238d8_5e44_11ec_aeb1_0242ac130202level0_row4\" class=\"row_heading level0 row4\" >Arabic</th>\n",
              "                        <td id=\"T_d2c238d8_5e44_11ec_aeb1_0242ac130202row4_col0\" class=\"data row4 col0\" >133</td>\n",
              "            </tr>\n",
              "            <tr>\n",
              "                        <th id=\"T_d2c238d8_5e44_11ec_aeb1_0242ac130202level0_row5\" class=\"row_heading level0 row5\" >German</th>\n",
              "                        <td id=\"T_d2c238d8_5e44_11ec_aeb1_0242ac130202row5_col0\" class=\"data row5 col0\" >117</td>\n",
              "            </tr>\n",
              "            <tr>\n",
              "                        <th id=\"T_d2c238d8_5e44_11ec_aeb1_0242ac130202level0_row6\" class=\"row_heading level0 row6\" >Japanese</th>\n",
              "                        <td id=\"T_d2c238d8_5e44_11ec_aeb1_0242ac130202row6_col0\" class=\"data row6 col0\" >111</td>\n",
              "            </tr>\n",
              "            <tr>\n",
              "                        <th id=\"T_d2c238d8_5e44_11ec_aeb1_0242ac130202level0_row7\" class=\"row_heading level0 row7\" >Italian</th>\n",
              "                        <td id=\"T_d2c238d8_5e44_11ec_aeb1_0242ac130202row7_col0\" class=\"data row7 col0\" >85</td>\n",
              "            </tr>\n",
              "            <tr>\n",
              "                        <th id=\"T_d2c238d8_5e44_11ec_aeb1_0242ac130202level0_row8\" class=\"row_heading level0 row8\" >Mandarin</th>\n",
              "                        <td id=\"T_d2c238d8_5e44_11ec_aeb1_0242ac130202row8_col0\" class=\"data row8 col0\" >83</td>\n",
              "            </tr>\n",
              "            <tr>\n",
              "                        <th id=\"T_d2c238d8_5e44_11ec_aeb1_0242ac130202level0_row9\" class=\"row_heading level0 row9\" >Tamil</th>\n",
              "                        <td id=\"T_d2c238d8_5e44_11ec_aeb1_0242ac130202row9_col0\" class=\"data row9 col0\" >70</td>\n",
              "            </tr>\n",
              "            <tr>\n",
              "                        <th id=\"T_d2c238d8_5e44_11ec_aeb1_0242ac130202level0_row10\" class=\"row_heading level0 row10\" >Filipino</th>\n",
              "                        <td id=\"T_d2c238d8_5e44_11ec_aeb1_0242ac130202row10_col0\" class=\"data row10 col0\" >65</td>\n",
              "            </tr>\n",
              "            <tr>\n",
              "                        <th id=\"T_d2c238d8_5e44_11ec_aeb1_0242ac130202level0_row11\" class=\"row_heading level0 row11\" >Tagalog</th>\n",
              "                        <td id=\"T_d2c238d8_5e44_11ec_aeb1_0242ac130202row11_col0\" class=\"data row11 col0\" >60</td>\n",
              "            </tr>\n",
              "            <tr>\n",
              "                        <th id=\"T_d2c238d8_5e44_11ec_aeb1_0242ac130202level0_row12\" class=\"row_heading level0 row12\" >Turkish</th>\n",
              "                        <td id=\"T_d2c238d8_5e44_11ec_aeb1_0242ac130202row12_col0\" class=\"data row12 col0\" >60</td>\n",
              "            </tr>\n",
              "            <tr>\n",
              "                        <th id=\"T_d2c238d8_5e44_11ec_aeb1_0242ac130202level0_row13\" class=\"row_heading level0 row13\" >Portuguese</th>\n",
              "                        <td id=\"T_d2c238d8_5e44_11ec_aeb1_0242ac130202row13_col0\" class=\"data row13 col0\" >57</td>\n",
              "            </tr>\n",
              "            <tr>\n",
              "                        <th id=\"T_d2c238d8_5e44_11ec_aeb1_0242ac130202level0_row14\" class=\"row_heading level0 row14\" >Indonesian</th>\n",
              "                        <td id=\"T_d2c238d8_5e44_11ec_aeb1_0242ac130202row14_col0\" class=\"data row14 col0\" >57</td>\n",
              "            </tr>\n",
              "            <tr>\n",
              "                        <th id=\"T_d2c238d8_5e44_11ec_aeb1_0242ac130202level0_row15\" class=\"row_heading level0 row15\" >Russian</th>\n",
              "                        <td id=\"T_d2c238d8_5e44_11ec_aeb1_0242ac130202row15_col0\" class=\"data row15 col0\" >56</td>\n",
              "            </tr>\n",
              "            <tr>\n",
              "                        <th id=\"T_d2c238d8_5e44_11ec_aeb1_0242ac130202level0_row16\" class=\"row_heading level0 row16\" >Cantonese</th>\n",
              "                        <td id=\"T_d2c238d8_5e44_11ec_aeb1_0242ac130202row16_col0\" class=\"data row16 col0\" >56</td>\n",
              "            </tr>\n",
              "            <tr>\n",
              "                        <th id=\"T_d2c238d8_5e44_11ec_aeb1_0242ac130202level0_row17\" class=\"row_heading level0 row17\" >Korean</th>\n",
              "                        <td id=\"T_d2c238d8_5e44_11ec_aeb1_0242ac130202row17_col0\" class=\"data row17 col0\" >45</td>\n",
              "            </tr>\n",
              "            <tr>\n",
              "                        <th id=\"T_d2c238d8_5e44_11ec_aeb1_0242ac130202level0_row18\" class=\"row_heading level0 row18\" >Punjabi</th>\n",
              "                        <td id=\"T_d2c238d8_5e44_11ec_aeb1_0242ac130202row18_col0\" class=\"data row18 col0\" >42</td>\n",
              "            </tr>\n",
              "            <tr>\n",
              "                        <th id=\"T_d2c238d8_5e44_11ec_aeb1_0242ac130202level0_row19\" class=\"row_heading level0 row19\" >Telugu</th>\n",
              "                        <td id=\"T_d2c238d8_5e44_11ec_aeb1_0242ac130202row19_col0\" class=\"data row19 col0\" >37</td>\n",
              "            </tr>\n",
              "    </tbody></table>"
            ],
            "text/plain": [
              "<pandas.io.formats.style.Styler at 0x7fd43082d1d0>"
            ]
          },
          "execution_count": 45,
          "metadata": {},
          "output_type": "execute_result"
        }
      ],
      "source": [
        "bar(df_l_merged,'Netflix','#ff6b6b')"
      ]
    },
    {
      "cell_type": "code",
      "execution_count": null,
      "metadata": {
        "_kg_hide-input": true,
        "execution": {
          "iopub.execute_input": "2021-12-16T07:50:22.972633Z",
          "iopub.status.busy": "2021-12-16T07:50:22.971652Z",
          "iopub.status.idle": "2021-12-16T07:50:22.990827Z",
          "shell.execute_reply": "2021-12-16T07:50:22.990167Z",
          "shell.execute_reply.started": "2021-12-16T07:49:13.170303Z"
        },
        "papermill": {
          "duration": 0.082812,
          "end_time": "2021-12-16T07:50:22.990949",
          "exception": false,
          "start_time": "2021-12-16T07:50:22.908137",
          "status": "completed"
        },
        "tags": [],
        "id": "JaMf9SSijkhM",
        "outputId": "bce68a03-03bf-42d2-832a-9e6eda483406"
      },
      "outputs": [
        {
          "data": {
            "text/html": [
              "<style  type=\"text/css\" >\n",
              "#T_d2d860f4_5e44_11ec_aeb1_0242ac130202row0_col0{\n",
              "            width:  10em;\n",
              "             height:  80%;\n",
              "            background:  linear-gradient(90deg,#ff6b6b 100.0%, transparent 100.0%);\n",
              "        }#T_d2d860f4_5e44_11ec_aeb1_0242ac130202row1_col0{\n",
              "            width:  10em;\n",
              "             height:  80%;\n",
              "            background:  linear-gradient(90deg,#ff6b6b 87.0%, transparent 87.0%);\n",
              "        }#T_d2d860f4_5e44_11ec_aeb1_0242ac130202row2_col0{\n",
              "            width:  10em;\n",
              "             height:  80%;\n",
              "            background:  linear-gradient(90deg,#ff6b6b 38.7%, transparent 38.7%);\n",
              "        }#T_d2d860f4_5e44_11ec_aeb1_0242ac130202row3_col0{\n",
              "            width:  10em;\n",
              "             height:  80%;\n",
              "            background:  linear-gradient(90deg,#ff6b6b 34.2%, transparent 34.2%);\n",
              "        }#T_d2d860f4_5e44_11ec_aeb1_0242ac130202row4_col0{\n",
              "            width:  10em;\n",
              "             height:  80%;\n",
              "            background:  linear-gradient(90deg,#ff6b6b 32.7%, transparent 32.7%);\n",
              "        }#T_d2d860f4_5e44_11ec_aeb1_0242ac130202row5_col0{\n",
              "            width:  10em;\n",
              "             height:  80%;\n",
              "            background:  linear-gradient(90deg,#ff6b6b 22.5%, transparent 22.5%);\n",
              "        }#T_d2d860f4_5e44_11ec_aeb1_0242ac130202row6_col0{\n",
              "            width:  10em;\n",
              "             height:  80%;\n",
              "            background:  linear-gradient(90deg,#ff6b6b 22.2%, transparent 22.2%);\n",
              "        }#T_d2d860f4_5e44_11ec_aeb1_0242ac130202row7_col0{\n",
              "            width:  10em;\n",
              "             height:  80%;\n",
              "            background:  linear-gradient(90deg,#ff6b6b 16.8%, transparent 16.8%);\n",
              "        }#T_d2d860f4_5e44_11ec_aeb1_0242ac130202row8_col0{\n",
              "            width:  10em;\n",
              "             height:  80%;\n",
              "            background:  linear-gradient(90deg,#ff6b6b 16.5%, transparent 16.5%);\n",
              "        }#T_d2d860f4_5e44_11ec_aeb1_0242ac130202row9_col0{\n",
              "            width:  10em;\n",
              "             height:  80%;\n",
              "            background:  linear-gradient(90deg,#ff6b6b 11.2%, transparent 11.2%);\n",
              "        }#T_d2d860f4_5e44_11ec_aeb1_0242ac130202row10_col0{\n",
              "            width:  10em;\n",
              "             height:  80%;\n",
              "            background:  linear-gradient(90deg,#ff6b6b 10.7%, transparent 10.7%);\n",
              "        }#T_d2d860f4_5e44_11ec_aeb1_0242ac130202row11_col0{\n",
              "            width:  10em;\n",
              "             height:  80%;\n",
              "            background:  linear-gradient(90deg,#ff6b6b 9.3%, transparent 9.3%);\n",
              "        }#T_d2d860f4_5e44_11ec_aeb1_0242ac130202row12_col0{\n",
              "            width:  10em;\n",
              "             height:  80%;\n",
              "            background:  linear-gradient(90deg,#ff6b6b 8.4%, transparent 8.4%);\n",
              "        }#T_d2d860f4_5e44_11ec_aeb1_0242ac130202row13_col0{\n",
              "            width:  10em;\n",
              "             height:  80%;\n",
              "            background:  linear-gradient(90deg,#ff6b6b 6.7%, transparent 6.7%);\n",
              "        }#T_d2d860f4_5e44_11ec_aeb1_0242ac130202row14_col0{\n",
              "            width:  10em;\n",
              "             height:  80%;\n",
              "            background:  linear-gradient(90deg,#ff6b6b 6.4%, transparent 6.4%);\n",
              "        }#T_d2d860f4_5e44_11ec_aeb1_0242ac130202row15_col0{\n",
              "            width:  10em;\n",
              "             height:  80%;\n",
              "            background:  linear-gradient(90deg,#ff6b6b 3.7%, transparent 3.7%);\n",
              "        }#T_d2d860f4_5e44_11ec_aeb1_0242ac130202row16_col0{\n",
              "            width:  10em;\n",
              "             height:  80%;\n",
              "            background:  linear-gradient(90deg,#ff6b6b 1.7%, transparent 1.7%);\n",
              "        }#T_d2d860f4_5e44_11ec_aeb1_0242ac130202row17_col0{\n",
              "            width:  10em;\n",
              "             height:  80%;\n",
              "            background:  linear-gradient(90deg,#ff6b6b 1.4%, transparent 1.4%);\n",
              "        }#T_d2d860f4_5e44_11ec_aeb1_0242ac130202row18_col0{\n",
              "            width:  10em;\n",
              "             height:  80%;\n",
              "            background:  linear-gradient(90deg,#ff6b6b 0.3%, transparent 0.3%);\n",
              "        }#T_d2d860f4_5e44_11ec_aeb1_0242ac130202row19_col0{\n",
              "            width:  10em;\n",
              "             height:  80%;\n",
              "        }</style><table id=\"T_d2d860f4_5e44_11ec_aeb1_0242ac130202\" ><thead>    <tr>        <th class=\"blank level0\" ></th>        <th class=\"col_heading level0 col0\" >Number of movies</th>    </tr></thead><tbody>\n",
              "                <tr>\n",
              "                        <th id=\"T_d2d860f4_5e44_11ec_aeb1_0242ac130202level0_row0\" class=\"row_heading level0 row0\" >Drama</th>\n",
              "                        <td id=\"T_d2d860f4_5e44_11ec_aeb1_0242ac130202row0_col0\" class=\"data row0 col0\" >1679</td>\n",
              "            </tr>\n",
              "            <tr>\n",
              "                        <th id=\"T_d2d860f4_5e44_11ec_aeb1_0242ac130202level0_row1\" class=\"row_heading level0 row1\" >Comedy</th>\n",
              "                        <td id=\"T_d2d860f4_5e44_11ec_aeb1_0242ac130202row1_col0\" class=\"data row1 col0\" >1473</td>\n",
              "            </tr>\n",
              "            <tr>\n",
              "                        <th id=\"T_d2d860f4_5e44_11ec_aeb1_0242ac130202level0_row2\" class=\"row_heading level0 row2\" >Thriller</th>\n",
              "                        <td id=\"T_d2d860f4_5e44_11ec_aeb1_0242ac130202row2_col0\" class=\"data row2 col0\" >709</td>\n",
              "            </tr>\n",
              "            <tr>\n",
              "                        <th id=\"T_d2d860f4_5e44_11ec_aeb1_0242ac130202level0_row3\" class=\"row_heading level0 row3\" >Romance</th>\n",
              "                        <td id=\"T_d2d860f4_5e44_11ec_aeb1_0242ac130202row3_col0\" class=\"data row3 col0\" >638</td>\n",
              "            </tr>\n",
              "            <tr>\n",
              "                        <th id=\"T_d2d860f4_5e44_11ec_aeb1_0242ac130202level0_row4\" class=\"row_heading level0 row4\" >Action</th>\n",
              "                        <td id=\"T_d2d860f4_5e44_11ec_aeb1_0242ac130202row4_col0\" class=\"data row4 col0\" >614</td>\n",
              "            </tr>\n",
              "            <tr>\n",
              "                        <th id=\"T_d2d860f4_5e44_11ec_aeb1_0242ac130202level0_row5\" class=\"row_heading level0 row5\" >Documentary</th>\n",
              "                        <td id=\"T_d2d860f4_5e44_11ec_aeb1_0242ac130202row5_col0\" class=\"data row5 col0\" >452</td>\n",
              "            </tr>\n",
              "            <tr>\n",
              "                        <th id=\"T_d2d860f4_5e44_11ec_aeb1_0242ac130202level0_row6\" class=\"row_heading level0 row6\" >Crime</th>\n",
              "                        <td id=\"T_d2d860f4_5e44_11ec_aeb1_0242ac130202row6_col0\" class=\"data row6 col0\" >448</td>\n",
              "            </tr>\n",
              "            <tr>\n",
              "                        <th id=\"T_d2d860f4_5e44_11ec_aeb1_0242ac130202level0_row7\" class=\"row_heading level0 row7\" >Adventure</th>\n",
              "                        <td id=\"T_d2d860f4_5e44_11ec_aeb1_0242ac130202row7_col0\" class=\"data row7 col0\" >362</td>\n",
              "            </tr>\n",
              "            <tr>\n",
              "                        <th id=\"T_d2d860f4_5e44_11ec_aeb1_0242ac130202level0_row8\" class=\"row_heading level0 row8\" >Family</th>\n",
              "                        <td id=\"T_d2d860f4_5e44_11ec_aeb1_0242ac130202row8_col0\" class=\"data row8 col0\" >357</td>\n",
              "            </tr>\n",
              "            <tr>\n",
              "                        <th id=\"T_d2d860f4_5e44_11ec_aeb1_0242ac130202level0_row9\" class=\"row_heading level0 row9\" >Mystery</th>\n",
              "                        <td id=\"T_d2d860f4_5e44_11ec_aeb1_0242ac130202row9_col0\" class=\"data row9 col0\" >273</td>\n",
              "            </tr>\n",
              "            <tr>\n",
              "                        <th id=\"T_d2d860f4_5e44_11ec_aeb1_0242ac130202level0_row10\" class=\"row_heading level0 row10\" >Fantasy</th>\n",
              "                        <td id=\"T_d2d860f4_5e44_11ec_aeb1_0242ac130202row10_col0\" class=\"data row10 col0\" >266</td>\n",
              "            </tr>\n",
              "            <tr>\n",
              "                        <th id=\"T_d2d860f4_5e44_11ec_aeb1_0242ac130202level0_row11\" class=\"row_heading level0 row11\" >Animation</th>\n",
              "                        <td id=\"T_d2d860f4_5e44_11ec_aeb1_0242ac130202row11_col0\" class=\"data row11 col0\" >243</td>\n",
              "            </tr>\n",
              "            <tr>\n",
              "                        <th id=\"T_d2d860f4_5e44_11ec_aeb1_0242ac130202level0_row12\" class=\"row_heading level0 row12\" >Horror</th>\n",
              "                        <td id=\"T_d2d860f4_5e44_11ec_aeb1_0242ac130202row12_col0\" class=\"data row12 col0\" >229</td>\n",
              "            </tr>\n",
              "            <tr>\n",
              "                        <th id=\"T_d2d860f4_5e44_11ec_aeb1_0242ac130202level0_row13\" class=\"row_heading level0 row13\" >Biography</th>\n",
              "                        <td id=\"T_d2d860f4_5e44_11ec_aeb1_0242ac130202row13_col0\" class=\"data row13 col0\" >202</td>\n",
              "            </tr>\n",
              "            <tr>\n",
              "                        <th id=\"T_d2d860f4_5e44_11ec_aeb1_0242ac130202level0_row14\" class=\"row_heading level0 row14\" >Sci-Fi</th>\n",
              "                        <td id=\"T_d2d860f4_5e44_11ec_aeb1_0242ac130202row14_col0\" class=\"data row14 col0\" >198</td>\n",
              "            </tr>\n",
              "            <tr>\n",
              "                        <th id=\"T_d2d860f4_5e44_11ec_aeb1_0242ac130202level0_row15\" class=\"row_heading level0 row15\" >Music</th>\n",
              "                        <td id=\"T_d2d860f4_5e44_11ec_aeb1_0242ac130202row15_col0\" class=\"data row15 col0\" >155</td>\n",
              "            </tr>\n",
              "            <tr>\n",
              "                        <th id=\"T_d2d860f4_5e44_11ec_aeb1_0242ac130202level0_row16\" class=\"row_heading level0 row16\" >History</th>\n",
              "                        <td id=\"T_d2d860f4_5e44_11ec_aeb1_0242ac130202row16_col0\" class=\"data row16 col0\" >123</td>\n",
              "            </tr>\n",
              "            <tr>\n",
              "                        <th id=\"T_d2d860f4_5e44_11ec_aeb1_0242ac130202level0_row17\" class=\"row_heading level0 row17\" >Sport</th>\n",
              "                        <td id=\"T_d2d860f4_5e44_11ec_aeb1_0242ac130202row17_col0\" class=\"data row17 col0\" >118</td>\n",
              "            </tr>\n",
              "            <tr>\n",
              "                        <th id=\"T_d2d860f4_5e44_11ec_aeb1_0242ac130202level0_row18\" class=\"row_heading level0 row18\" >Short</th>\n",
              "                        <td id=\"T_d2d860f4_5e44_11ec_aeb1_0242ac130202row18_col0\" class=\"data row18 col0\" >101</td>\n",
              "            </tr>\n",
              "            <tr>\n",
              "                        <th id=\"T_d2d860f4_5e44_11ec_aeb1_0242ac130202level0_row19\" class=\"row_heading level0 row19\" >Musical</th>\n",
              "                        <td id=\"T_d2d860f4_5e44_11ec_aeb1_0242ac130202row19_col0\" class=\"data row19 col0\" >96</td>\n",
              "            </tr>\n",
              "    </tbody></table>"
            ],
            "text/plain": [
              "<pandas.io.formats.style.Styler at 0x7fd430c308d0>"
            ]
          },
          "execution_count": 46,
          "metadata": {},
          "output_type": "execute_result"
        }
      ],
      "source": [
        "bar(df_g_merged,'Netflix','#ff6b6b')"
      ]
    },
    {
      "cell_type": "markdown",
      "metadata": {
        "papermill": {
          "duration": 0.061257,
          "end_time": "2021-12-16T07:50:23.114289",
          "exception": false,
          "start_time": "2021-12-16T07:50:23.053032",
          "status": "completed"
        },
        "tags": [],
        "id": "gBWgqkNnjkhN"
      },
      "source": [
        "<div>\n",
        "<img src=\"https://upload.wikimedia.org/wikipedia/commons/thumb/e/e4/Hulu_Logo.svg/1200px-Hulu_Logo.svg.png\" width=\"300\"/>\n",
        "</div>"
      ]
    },
    {
      "cell_type": "code",
      "execution_count": null,
      "metadata": {
        "_kg_hide-input": true,
        "execution": {
          "iopub.execute_input": "2021-12-16T07:50:23.240675Z",
          "iopub.status.busy": "2021-12-16T07:50:23.239698Z",
          "iopub.status.idle": "2021-12-16T07:50:23.255205Z",
          "shell.execute_reply": "2021-12-16T07:50:23.255768Z",
          "shell.execute_reply.started": "2021-12-16T07:49:13.192447Z"
        },
        "papermill": {
          "duration": 0.080269,
          "end_time": "2021-12-16T07:50:23.255907",
          "exception": false,
          "start_time": "2021-12-16T07:50:23.175638",
          "status": "completed"
        },
        "tags": [],
        "id": "wVYz2nHVjkhO",
        "outputId": "27323d4c-a508-44de-fb33-36a308a67dd0"
      },
      "outputs": [
        {
          "data": {
            "text/html": [
              "<style  type=\"text/css\" >\n",
              "#T_d300e5b0_5e44_11ec_aeb1_0242ac130202row0_col0{\n",
              "            width:  10em;\n",
              "             height:  80%;\n",
              "            background:  linear-gradient(90deg,#95d5b2 100.0%, transparent 100.0%);\n",
              "        }#T_d300e5b0_5e44_11ec_aeb1_0242ac130202row1_col0{\n",
              "            width:  10em;\n",
              "             height:  80%;\n",
              "            background:  linear-gradient(90deg,#95d5b2 7.3%, transparent 7.3%);\n",
              "        }#T_d300e5b0_5e44_11ec_aeb1_0242ac130202row2_col0{\n",
              "            width:  10em;\n",
              "             height:  80%;\n",
              "            background:  linear-gradient(90deg,#95d5b2 6.9%, transparent 6.9%);\n",
              "        }#T_d300e5b0_5e44_11ec_aeb1_0242ac130202row3_col0{\n",
              "            width:  10em;\n",
              "             height:  80%;\n",
              "            background:  linear-gradient(90deg,#95d5b2 4.5%, transparent 4.5%);\n",
              "        }#T_d300e5b0_5e44_11ec_aeb1_0242ac130202row4_col0{\n",
              "            width:  10em;\n",
              "             height:  80%;\n",
              "            background:  linear-gradient(90deg,#95d5b2 3.2%, transparent 3.2%);\n",
              "        }#T_d300e5b0_5e44_11ec_aeb1_0242ac130202row5_col0{\n",
              "            width:  10em;\n",
              "             height:  80%;\n",
              "            background:  linear-gradient(90deg,#95d5b2 2.8%, transparent 2.8%);\n",
              "        }#T_d300e5b0_5e44_11ec_aeb1_0242ac130202row6_col0{\n",
              "            width:  10em;\n",
              "             height:  80%;\n",
              "            background:  linear-gradient(90deg,#95d5b2 2.6%, transparent 2.6%);\n",
              "        }#T_d300e5b0_5e44_11ec_aeb1_0242ac130202row7_col0{\n",
              "            width:  10em;\n",
              "             height:  80%;\n",
              "            background:  linear-gradient(90deg,#95d5b2 1.8%, transparent 1.8%);\n",
              "        }#T_d300e5b0_5e44_11ec_aeb1_0242ac130202row8_col0{\n",
              "            width:  10em;\n",
              "             height:  80%;\n",
              "            background:  linear-gradient(90deg,#95d5b2 1.7%, transparent 1.7%);\n",
              "        }#T_d300e5b0_5e44_11ec_aeb1_0242ac130202row9_col0{\n",
              "            width:  10em;\n",
              "             height:  80%;\n",
              "            background:  linear-gradient(90deg,#95d5b2 1.1%, transparent 1.1%);\n",
              "        }#T_d300e5b0_5e44_11ec_aeb1_0242ac130202row10_col0{\n",
              "            width:  10em;\n",
              "             height:  80%;\n",
              "            background:  linear-gradient(90deg,#95d5b2 0.7%, transparent 0.7%);\n",
              "        }#T_d300e5b0_5e44_11ec_aeb1_0242ac130202row11_col0{\n",
              "            width:  10em;\n",
              "             height:  80%;\n",
              "            background:  linear-gradient(90deg,#95d5b2 0.6%, transparent 0.6%);\n",
              "        }#T_d300e5b0_5e44_11ec_aeb1_0242ac130202row12_col0{\n",
              "            width:  10em;\n",
              "             height:  80%;\n",
              "            background:  linear-gradient(90deg,#95d5b2 0.4%, transparent 0.4%);\n",
              "        }#T_d300e5b0_5e44_11ec_aeb1_0242ac130202row13_col0{\n",
              "            width:  10em;\n",
              "             height:  80%;\n",
              "            background:  linear-gradient(90deg,#95d5b2 0.3%, transparent 0.3%);\n",
              "        }#T_d300e5b0_5e44_11ec_aeb1_0242ac130202row14_col0,#T_d300e5b0_5e44_11ec_aeb1_0242ac130202row15_col0{\n",
              "            width:  10em;\n",
              "             height:  80%;\n",
              "            background:  linear-gradient(90deg,#95d5b2 0.2%, transparent 0.2%);\n",
              "        }#T_d300e5b0_5e44_11ec_aeb1_0242ac130202row16_col0,#T_d300e5b0_5e44_11ec_aeb1_0242ac130202row17_col0{\n",
              "            width:  10em;\n",
              "             height:  80%;\n",
              "            background:  linear-gradient(90deg,#95d5b2 0.1%, transparent 0.1%);\n",
              "        }#T_d300e5b0_5e44_11ec_aeb1_0242ac130202row18_col0,#T_d300e5b0_5e44_11ec_aeb1_0242ac130202row19_col0{\n",
              "            width:  10em;\n",
              "             height:  80%;\n",
              "        }</style><table id=\"T_d300e5b0_5e44_11ec_aeb1_0242ac130202\" ><thead>    <tr>        <th class=\"blank level0\" ></th>        <th class=\"col_heading level0 col0\" >Number of movies</th>    </tr></thead><tbody>\n",
              "                <tr>\n",
              "                        <th id=\"T_d300e5b0_5e44_11ec_aeb1_0242ac130202level0_row0\" class=\"row_heading level0 row0\" >English</th>\n",
              "                        <td id=\"T_d300e5b0_5e44_11ec_aeb1_0242ac130202row0_col0\" class=\"data row0 col0\" >956</td>\n",
              "            </tr>\n",
              "            <tr>\n",
              "                        <th id=\"T_d300e5b0_5e44_11ec_aeb1_0242ac130202level0_row1\" class=\"row_heading level0 row1\" >Spanish</th>\n",
              "                        <td id=\"T_d300e5b0_5e44_11ec_aeb1_0242ac130202row1_col0\" class=\"data row1 col0\" >74</td>\n",
              "            </tr>\n",
              "            <tr>\n",
              "                        <th id=\"T_d300e5b0_5e44_11ec_aeb1_0242ac130202level0_row2\" class=\"row_heading level0 row2\" >French</th>\n",
              "                        <td id=\"T_d300e5b0_5e44_11ec_aeb1_0242ac130202row2_col0\" class=\"data row2 col0\" >71</td>\n",
              "            </tr>\n",
              "            <tr>\n",
              "                        <th id=\"T_d300e5b0_5e44_11ec_aeb1_0242ac130202level0_row3\" class=\"row_heading level0 row3\" >German</th>\n",
              "                        <td id=\"T_d300e5b0_5e44_11ec_aeb1_0242ac130202row3_col0\" class=\"data row3 col0\" >48</td>\n",
              "            </tr>\n",
              "            <tr>\n",
              "                        <th id=\"T_d300e5b0_5e44_11ec_aeb1_0242ac130202level0_row4\" class=\"row_heading level0 row4\" >Japanese</th>\n",
              "                        <td id=\"T_d300e5b0_5e44_11ec_aeb1_0242ac130202row4_col0\" class=\"data row4 col0\" >35</td>\n",
              "            </tr>\n",
              "            <tr>\n",
              "                        <th id=\"T_d300e5b0_5e44_11ec_aeb1_0242ac130202level0_row5\" class=\"row_heading level0 row5\" >Italian</th>\n",
              "                        <td id=\"T_d300e5b0_5e44_11ec_aeb1_0242ac130202row5_col0\" class=\"data row5 col0\" >32</td>\n",
              "            </tr>\n",
              "            <tr>\n",
              "                        <th id=\"T_d300e5b0_5e44_11ec_aeb1_0242ac130202level0_row6\" class=\"row_heading level0 row6\" >Russian</th>\n",
              "                        <td id=\"T_d300e5b0_5e44_11ec_aeb1_0242ac130202row6_col0\" class=\"data row6 col0\" >30</td>\n",
              "            </tr>\n",
              "            <tr>\n",
              "                        <th id=\"T_d300e5b0_5e44_11ec_aeb1_0242ac130202level0_row7\" class=\"row_heading level0 row7\" >Korean</th>\n",
              "                        <td id=\"T_d300e5b0_5e44_11ec_aeb1_0242ac130202row7_col0\" class=\"data row7 col0\" >22</td>\n",
              "            </tr>\n",
              "            <tr>\n",
              "                        <th id=\"T_d300e5b0_5e44_11ec_aeb1_0242ac130202level0_row8\" class=\"row_heading level0 row8\" >Mandarin</th>\n",
              "                        <td id=\"T_d300e5b0_5e44_11ec_aeb1_0242ac130202row8_col0\" class=\"data row8 col0\" >21</td>\n",
              "            </tr>\n",
              "            <tr>\n",
              "                        <th id=\"T_d300e5b0_5e44_11ec_aeb1_0242ac130202level0_row9\" class=\"row_heading level0 row9\" >Swedish</th>\n",
              "                        <td id=\"T_d300e5b0_5e44_11ec_aeb1_0242ac130202row9_col0\" class=\"data row9 col0\" >15</td>\n",
              "            </tr>\n",
              "            <tr>\n",
              "                        <th id=\"T_d300e5b0_5e44_11ec_aeb1_0242ac130202level0_row10\" class=\"row_heading level0 row10\" >Latin</th>\n",
              "                        <td id=\"T_d300e5b0_5e44_11ec_aeb1_0242ac130202row10_col0\" class=\"data row10 col0\" >12</td>\n",
              "            </tr>\n",
              "            <tr>\n",
              "                        <th id=\"T_d300e5b0_5e44_11ec_aeb1_0242ac130202level0_row11\" class=\"row_heading level0 row11\" >Arabic</th>\n",
              "                        <td id=\"T_d300e5b0_5e44_11ec_aeb1_0242ac130202row11_col0\" class=\"data row11 col0\" >11</td>\n",
              "            </tr>\n",
              "            <tr>\n",
              "                        <th id=\"T_d300e5b0_5e44_11ec_aeb1_0242ac130202level0_row12\" class=\"row_heading level0 row12\" >Hindi</th>\n",
              "                        <td id=\"T_d300e5b0_5e44_11ec_aeb1_0242ac130202row12_col0\" class=\"data row12 col0\" >9</td>\n",
              "            </tr>\n",
              "            <tr>\n",
              "                        <th id=\"T_d300e5b0_5e44_11ec_aeb1_0242ac130202level0_row13\" class=\"row_heading level0 row13\" >Chinese</th>\n",
              "                        <td id=\"T_d300e5b0_5e44_11ec_aeb1_0242ac130202row13_col0\" class=\"data row13 col0\" >8</td>\n",
              "            </tr>\n",
              "            <tr>\n",
              "                        <th id=\"T_d300e5b0_5e44_11ec_aeb1_0242ac130202level0_row14\" class=\"row_heading level0 row14\" >Norwegian</th>\n",
              "                        <td id=\"T_d300e5b0_5e44_11ec_aeb1_0242ac130202row14_col0\" class=\"data row14 col0\" >7</td>\n",
              "            </tr>\n",
              "            <tr>\n",
              "                        <th id=\"T_d300e5b0_5e44_11ec_aeb1_0242ac130202level0_row15\" class=\"row_heading level0 row15\" >Romanian</th>\n",
              "                        <td id=\"T_d300e5b0_5e44_11ec_aeb1_0242ac130202row15_col0\" class=\"data row15 col0\" >7</td>\n",
              "            </tr>\n",
              "            <tr>\n",
              "                        <th id=\"T_d300e5b0_5e44_11ec_aeb1_0242ac130202level0_row16\" class=\"row_heading level0 row16\" >Cantonese</th>\n",
              "                        <td id=\"T_d300e5b0_5e44_11ec_aeb1_0242ac130202row16_col0\" class=\"data row16 col0\" >6</td>\n",
              "            </tr>\n",
              "            <tr>\n",
              "                        <th id=\"T_d300e5b0_5e44_11ec_aeb1_0242ac130202level0_row17\" class=\"row_heading level0 row17\" >Dutch</th>\n",
              "                        <td id=\"T_d300e5b0_5e44_11ec_aeb1_0242ac130202row17_col0\" class=\"data row17 col0\" >6</td>\n",
              "            </tr>\n",
              "            <tr>\n",
              "                        <th id=\"T_d300e5b0_5e44_11ec_aeb1_0242ac130202level0_row18\" class=\"row_heading level0 row18\" >Polish</th>\n",
              "                        <td id=\"T_d300e5b0_5e44_11ec_aeb1_0242ac130202row18_col0\" class=\"data row18 col0\" >5</td>\n",
              "            </tr>\n",
              "            <tr>\n",
              "                        <th id=\"T_d300e5b0_5e44_11ec_aeb1_0242ac130202level0_row19\" class=\"row_heading level0 row19\" >Danish</th>\n",
              "                        <td id=\"T_d300e5b0_5e44_11ec_aeb1_0242ac130202row19_col0\" class=\"data row19 col0\" >5</td>\n",
              "            </tr>\n",
              "    </tbody></table>"
            ],
            "text/plain": [
              "<pandas.io.formats.style.Styler at 0x7fd430d67d10>"
            ]
          },
          "execution_count": 47,
          "metadata": {},
          "output_type": "execute_result"
        }
      ],
      "source": [
        "bar(df_l_merged,'Hulu','#95d5b2')"
      ]
    },
    {
      "cell_type": "code",
      "execution_count": null,
      "metadata": {
        "_kg_hide-input": true,
        "execution": {
          "iopub.execute_input": "2021-12-16T07:50:23.385940Z",
          "iopub.status.busy": "2021-12-16T07:50:23.384970Z",
          "iopub.status.idle": "2021-12-16T07:50:23.396970Z",
          "shell.execute_reply": "2021-12-16T07:50:23.397519Z",
          "shell.execute_reply.started": "2021-12-16T07:49:13.214517Z"
        },
        "papermill": {
          "duration": 0.080187,
          "end_time": "2021-12-16T07:50:23.397663",
          "exception": false,
          "start_time": "2021-12-16T07:50:23.317476",
          "status": "completed"
        },
        "tags": [],
        "id": "5hpC9_0kjkhO",
        "outputId": "0004bb2f-0895-475a-9d23-defba1bf5396"
      },
      "outputs": [
        {
          "data": {
            "text/html": [
              "<style  type=\"text/css\" >\n",
              "#T_d31678f8_5e44_11ec_aeb1_0242ac130202row0_col0{\n",
              "            width:  10em;\n",
              "             height:  80%;\n",
              "            background:  linear-gradient(90deg,#95d5b2 100.0%, transparent 100.0%);\n",
              "        }#T_d31678f8_5e44_11ec_aeb1_0242ac130202row1_col0{\n",
              "            width:  10em;\n",
              "             height:  80%;\n",
              "            background:  linear-gradient(90deg,#95d5b2 63.4%, transparent 63.4%);\n",
              "        }#T_d31678f8_5e44_11ec_aeb1_0242ac130202row2_col0{\n",
              "            width:  10em;\n",
              "             height:  80%;\n",
              "            background:  linear-gradient(90deg,#95d5b2 52.1%, transparent 52.1%);\n",
              "        }#T_d31678f8_5e44_11ec_aeb1_0242ac130202row3_col0{\n",
              "            width:  10em;\n",
              "             height:  80%;\n",
              "            background:  linear-gradient(90deg,#95d5b2 34.6%, transparent 34.6%);\n",
              "        }#T_d31678f8_5e44_11ec_aeb1_0242ac130202row4_col0{\n",
              "            width:  10em;\n",
              "             height:  80%;\n",
              "            background:  linear-gradient(90deg,#95d5b2 33.9%, transparent 33.9%);\n",
              "        }#T_d31678f8_5e44_11ec_aeb1_0242ac130202row5_col0{\n",
              "            width:  10em;\n",
              "             height:  80%;\n",
              "            background:  linear-gradient(90deg,#95d5b2 28.4%, transparent 28.4%);\n",
              "        }#T_d31678f8_5e44_11ec_aeb1_0242ac130202row6_col0{\n",
              "            width:  10em;\n",
              "             height:  80%;\n",
              "            background:  linear-gradient(90deg,#95d5b2 25.6%, transparent 25.6%);\n",
              "        }#T_d31678f8_5e44_11ec_aeb1_0242ac130202row7_col0{\n",
              "            width:  10em;\n",
              "             height:  80%;\n",
              "            background:  linear-gradient(90deg,#95d5b2 24.5%, transparent 24.5%);\n",
              "        }#T_d31678f8_5e44_11ec_aeb1_0242ac130202row8_col0{\n",
              "            width:  10em;\n",
              "             height:  80%;\n",
              "            background:  linear-gradient(90deg,#95d5b2 22.5%, transparent 22.5%);\n",
              "        }#T_d31678f8_5e44_11ec_aeb1_0242ac130202row9_col0{\n",
              "            width:  10em;\n",
              "             height:  80%;\n",
              "            background:  linear-gradient(90deg,#95d5b2 19.6%, transparent 19.6%);\n",
              "        }#T_d31678f8_5e44_11ec_aeb1_0242ac130202row10_col0{\n",
              "            width:  10em;\n",
              "             height:  80%;\n",
              "            background:  linear-gradient(90deg,#95d5b2 18.6%, transparent 18.6%);\n",
              "        }#T_d31678f8_5e44_11ec_aeb1_0242ac130202row11_col0{\n",
              "            width:  10em;\n",
              "             height:  80%;\n",
              "            background:  linear-gradient(90deg,#95d5b2 17.8%, transparent 17.8%);\n",
              "        }#T_d31678f8_5e44_11ec_aeb1_0242ac130202row12_col0{\n",
              "            width:  10em;\n",
              "             height:  80%;\n",
              "            background:  linear-gradient(90deg,#95d5b2 14.1%, transparent 14.1%);\n",
              "        }#T_d31678f8_5e44_11ec_aeb1_0242ac130202row13_col0{\n",
              "            width:  10em;\n",
              "             height:  80%;\n",
              "            background:  linear-gradient(90deg,#95d5b2 10.2%, transparent 10.2%);\n",
              "        }#T_d31678f8_5e44_11ec_aeb1_0242ac130202row14_col0{\n",
              "            width:  10em;\n",
              "             height:  80%;\n",
              "            background:  linear-gradient(90deg,#95d5b2 8.8%, transparent 8.8%);\n",
              "        }#T_d31678f8_5e44_11ec_aeb1_0242ac130202row15_col0{\n",
              "            width:  10em;\n",
              "             height:  80%;\n",
              "            background:  linear-gradient(90deg,#95d5b2 7.6%, transparent 7.6%);\n",
              "        }#T_d31678f8_5e44_11ec_aeb1_0242ac130202row16_col0{\n",
              "            width:  10em;\n",
              "             height:  80%;\n",
              "            background:  linear-gradient(90deg,#95d5b2 4.5%, transparent 4.5%);\n",
              "        }#T_d31678f8_5e44_11ec_aeb1_0242ac130202row17_col0{\n",
              "            width:  10em;\n",
              "             height:  80%;\n",
              "            background:  linear-gradient(90deg,#95d5b2 2.5%, transparent 2.5%);\n",
              "        }#T_d31678f8_5e44_11ec_aeb1_0242ac130202row18_col0{\n",
              "            width:  10em;\n",
              "             height:  80%;\n",
              "            background:  linear-gradient(90deg,#95d5b2 1.2%, transparent 1.2%);\n",
              "        }#T_d31678f8_5e44_11ec_aeb1_0242ac130202row19_col0{\n",
              "            width:  10em;\n",
              "             height:  80%;\n",
              "        }</style><table id=\"T_d31678f8_5e44_11ec_aeb1_0242ac130202\" ><thead>    <tr>        <th class=\"blank level0\" ></th>        <th class=\"col_heading level0 col0\" >Number of movies</th>    </tr></thead><tbody>\n",
              "                <tr>\n",
              "                        <th id=\"T_d31678f8_5e44_11ec_aeb1_0242ac130202level0_row0\" class=\"row_heading level0 row0\" >Drama</th>\n",
              "                        <td id=\"T_d31678f8_5e44_11ec_aeb1_0242ac130202row0_col0\" class=\"data row0 col0\" >509</td>\n",
              "            </tr>\n",
              "            <tr>\n",
              "                        <th id=\"T_d31678f8_5e44_11ec_aeb1_0242ac130202level0_row1\" class=\"row_heading level0 row1\" >Comedy</th>\n",
              "                        <td id=\"T_d31678f8_5e44_11ec_aeb1_0242ac130202row1_col0\" class=\"data row1 col0\" >330</td>\n",
              "            </tr>\n",
              "            <tr>\n",
              "                        <th id=\"T_d31678f8_5e44_11ec_aeb1_0242ac130202level0_row2\" class=\"row_heading level0 row2\" >Thriller</th>\n",
              "                        <td id=\"T_d31678f8_5e44_11ec_aeb1_0242ac130202row2_col0\" class=\"data row2 col0\" >275</td>\n",
              "            </tr>\n",
              "            <tr>\n",
              "                        <th id=\"T_d31678f8_5e44_11ec_aeb1_0242ac130202level0_row3\" class=\"row_heading level0 row3\" >Romance</th>\n",
              "                        <td id=\"T_d31678f8_5e44_11ec_aeb1_0242ac130202row3_col0\" class=\"data row3 col0\" >189</td>\n",
              "            </tr>\n",
              "            <tr>\n",
              "                        <th id=\"T_d31678f8_5e44_11ec_aeb1_0242ac130202level0_row4\" class=\"row_heading level0 row4\" >Action</th>\n",
              "                        <td id=\"T_d31678f8_5e44_11ec_aeb1_0242ac130202row4_col0\" class=\"data row4 col0\" >186</td>\n",
              "            </tr>\n",
              "            <tr>\n",
              "                        <th id=\"T_d31678f8_5e44_11ec_aeb1_0242ac130202level0_row5\" class=\"row_heading level0 row5\" >Horror</th>\n",
              "                        <td id=\"T_d31678f8_5e44_11ec_aeb1_0242ac130202row5_col0\" class=\"data row5 col0\" >159</td>\n",
              "            </tr>\n",
              "            <tr>\n",
              "                        <th id=\"T_d31678f8_5e44_11ec_aeb1_0242ac130202level0_row6\" class=\"row_heading level0 row6\" >Documentary</th>\n",
              "                        <td id=\"T_d31678f8_5e44_11ec_aeb1_0242ac130202row6_col0\" class=\"data row6 col0\" >145</td>\n",
              "            </tr>\n",
              "            <tr>\n",
              "                        <th id=\"T_d31678f8_5e44_11ec_aeb1_0242ac130202level0_row7\" class=\"row_heading level0 row7\" >Adventure</th>\n",
              "                        <td id=\"T_d31678f8_5e44_11ec_aeb1_0242ac130202row7_col0\" class=\"data row7 col0\" >140</td>\n",
              "            </tr>\n",
              "            <tr>\n",
              "                        <th id=\"T_d31678f8_5e44_11ec_aeb1_0242ac130202level0_row8\" class=\"row_heading level0 row8\" >Crime</th>\n",
              "                        <td id=\"T_d31678f8_5e44_11ec_aeb1_0242ac130202row8_col0\" class=\"data row8 col0\" >130</td>\n",
              "            </tr>\n",
              "            <tr>\n",
              "                        <th id=\"T_d31678f8_5e44_11ec_aeb1_0242ac130202level0_row9\" class=\"row_heading level0 row9\" >Sci-Fi</th>\n",
              "                        <td id=\"T_d31678f8_5e44_11ec_aeb1_0242ac130202row9_col0\" class=\"data row9 col0\" >116</td>\n",
              "            </tr>\n",
              "            <tr>\n",
              "                        <th id=\"T_d31678f8_5e44_11ec_aeb1_0242ac130202level0_row10\" class=\"row_heading level0 row10\" >Fantasy</th>\n",
              "                        <td id=\"T_d31678f8_5e44_11ec_aeb1_0242ac130202row10_col0\" class=\"data row10 col0\" >111</td>\n",
              "            </tr>\n",
              "            <tr>\n",
              "                        <th id=\"T_d31678f8_5e44_11ec_aeb1_0242ac130202level0_row11\" class=\"row_heading level0 row11\" >Mystery</th>\n",
              "                        <td id=\"T_d31678f8_5e44_11ec_aeb1_0242ac130202row11_col0\" class=\"data row11 col0\" >107</td>\n",
              "            </tr>\n",
              "            <tr>\n",
              "                        <th id=\"T_d31678f8_5e44_11ec_aeb1_0242ac130202level0_row12\" class=\"row_heading level0 row12\" >Family</th>\n",
              "                        <td id=\"T_d31678f8_5e44_11ec_aeb1_0242ac130202row12_col0\" class=\"data row12 col0\" >89</td>\n",
              "            </tr>\n",
              "            <tr>\n",
              "                        <th id=\"T_d31678f8_5e44_11ec_aeb1_0242ac130202level0_row13\" class=\"row_heading level0 row13\" >Biography</th>\n",
              "                        <td id=\"T_d31678f8_5e44_11ec_aeb1_0242ac130202row13_col0\" class=\"data row13 col0\" >70</td>\n",
              "            </tr>\n",
              "            <tr>\n",
              "                        <th id=\"T_d31678f8_5e44_11ec_aeb1_0242ac130202level0_row14\" class=\"row_heading level0 row14\" >Animation</th>\n",
              "                        <td id=\"T_d31678f8_5e44_11ec_aeb1_0242ac130202row14_col0\" class=\"data row14 col0\" >63</td>\n",
              "            </tr>\n",
              "            <tr>\n",
              "                        <th id=\"T_d31678f8_5e44_11ec_aeb1_0242ac130202level0_row15\" class=\"row_heading level0 row15\" >Music</th>\n",
              "                        <td id=\"T_d31678f8_5e44_11ec_aeb1_0242ac130202row15_col0\" class=\"data row15 col0\" >57</td>\n",
              "            </tr>\n",
              "            <tr>\n",
              "                        <th id=\"T_d31678f8_5e44_11ec_aeb1_0242ac130202level0_row16\" class=\"row_heading level0 row16\" >History</th>\n",
              "                        <td id=\"T_d31678f8_5e44_11ec_aeb1_0242ac130202row16_col0\" class=\"data row16 col0\" >42</td>\n",
              "            </tr>\n",
              "            <tr>\n",
              "                        <th id=\"T_d31678f8_5e44_11ec_aeb1_0242ac130202level0_row17\" class=\"row_heading level0 row17\" >Sport</th>\n",
              "                        <td id=\"T_d31678f8_5e44_11ec_aeb1_0242ac130202row17_col0\" class=\"data row17 col0\" >32</td>\n",
              "            </tr>\n",
              "            <tr>\n",
              "                        <th id=\"T_d31678f8_5e44_11ec_aeb1_0242ac130202level0_row18\" class=\"row_heading level0 row18\" >War</th>\n",
              "                        <td id=\"T_d31678f8_5e44_11ec_aeb1_0242ac130202row18_col0\" class=\"data row18 col0\" >26</td>\n",
              "            </tr>\n",
              "            <tr>\n",
              "                        <th id=\"T_d31678f8_5e44_11ec_aeb1_0242ac130202level0_row19\" class=\"row_heading level0 row19\" >Western</th>\n",
              "                        <td id=\"T_d31678f8_5e44_11ec_aeb1_0242ac130202row19_col0\" class=\"data row19 col0\" >20</td>\n",
              "            </tr>\n",
              "    </tbody></table>"
            ],
            "text/plain": [
              "<pandas.io.formats.style.Styler at 0x7fd4308986d0>"
            ]
          },
          "execution_count": 48,
          "metadata": {},
          "output_type": "execute_result"
        }
      ],
      "source": [
        "bar(df_g_merged,'Hulu','#95d5b2')"
      ]
    },
    {
      "cell_type": "markdown",
      "metadata": {
        "papermill": {
          "duration": 0.06179,
          "end_time": "2021-12-16T07:50:23.521492",
          "exception": false,
          "start_time": "2021-12-16T07:50:23.459702",
          "status": "completed"
        },
        "tags": [],
        "id": "o3qGHL0pjkhP"
      },
      "source": [
        "\n",
        "<div>\n",
        "    \n",
        "<img src=\"https://logodownload.org/wp-content/uploads/2018/07/prime-video.png\" width=\"300\"/>\n",
        "</div>"
      ]
    },
    {
      "cell_type": "code",
      "execution_count": null,
      "metadata": {
        "_kg_hide-input": true,
        "execution": {
          "iopub.execute_input": "2021-12-16T07:50:23.652143Z",
          "iopub.status.busy": "2021-12-16T07:50:23.650941Z",
          "iopub.status.idle": "2021-12-16T07:50:23.670868Z",
          "shell.execute_reply": "2021-12-16T07:50:23.671477Z",
          "shell.execute_reply.started": "2021-12-16T07:49:13.237386Z"
        },
        "papermill": {
          "duration": 0.087637,
          "end_time": "2021-12-16T07:50:23.671632",
          "exception": false,
          "start_time": "2021-12-16T07:50:23.583995",
          "status": "completed"
        },
        "tags": [],
        "id": "0BgycRUijkhP",
        "outputId": "873d4199-584f-46ad-d43e-4392bb7f4178"
      },
      "outputs": [
        {
          "data": {
            "text/html": [
              "<style  type=\"text/css\" >\n",
              "#T_d340318e_5e44_11ec_aeb1_0242ac130202row0_col0{\n",
              "            width:  10em;\n",
              "             height:  80%;\n",
              "            background:  linear-gradient(90deg,#a2d2ff 100.0%, transparent 100.0%);\n",
              "        }#T_d340318e_5e44_11ec_aeb1_0242ac130202row1_col0{\n",
              "            width:  10em;\n",
              "             height:  80%;\n",
              "            background:  linear-gradient(90deg,#a2d2ff 5.2%, transparent 5.2%);\n",
              "        }#T_d340318e_5e44_11ec_aeb1_0242ac130202row2_col0{\n",
              "            width:  10em;\n",
              "             height:  80%;\n",
              "            background:  linear-gradient(90deg,#a2d2ff 4.9%, transparent 4.9%);\n",
              "        }#T_d340318e_5e44_11ec_aeb1_0242ac130202row3_col0{\n",
              "            width:  10em;\n",
              "             height:  80%;\n",
              "            background:  linear-gradient(90deg,#a2d2ff 4.8%, transparent 4.8%);\n",
              "        }#T_d340318e_5e44_11ec_aeb1_0242ac130202row4_col0{\n",
              "            width:  10em;\n",
              "             height:  80%;\n",
              "            background:  linear-gradient(90deg,#a2d2ff 3.0%, transparent 3.0%);\n",
              "        }#T_d340318e_5e44_11ec_aeb1_0242ac130202row5_col0{\n",
              "            width:  10em;\n",
              "             height:  80%;\n",
              "            background:  linear-gradient(90deg,#a2d2ff 2.4%, transparent 2.4%);\n",
              "        }#T_d340318e_5e44_11ec_aeb1_0242ac130202row6_col0{\n",
              "            width:  10em;\n",
              "             height:  80%;\n",
              "            background:  linear-gradient(90deg,#a2d2ff 1.4%, transparent 1.4%);\n",
              "        }#T_d340318e_5e44_11ec_aeb1_0242ac130202row7_col0{\n",
              "            width:  10em;\n",
              "             height:  80%;\n",
              "            background:  linear-gradient(90deg,#a2d2ff 1.3%, transparent 1.3%);\n",
              "        }#T_d340318e_5e44_11ec_aeb1_0242ac130202row8_col0{\n",
              "            width:  10em;\n",
              "             height:  80%;\n",
              "            background:  linear-gradient(90deg,#a2d2ff 1.2%, transparent 1.2%);\n",
              "        }#T_d340318e_5e44_11ec_aeb1_0242ac130202row9_col0{\n",
              "            width:  10em;\n",
              "             height:  80%;\n",
              "            background:  linear-gradient(90deg,#a2d2ff 1.1%, transparent 1.1%);\n",
              "        }#T_d340318e_5e44_11ec_aeb1_0242ac130202row10_col0{\n",
              "            width:  10em;\n",
              "             height:  80%;\n",
              "            background:  linear-gradient(90deg,#a2d2ff 1.0%, transparent 1.0%);\n",
              "        }#T_d340318e_5e44_11ec_aeb1_0242ac130202row11_col0{\n",
              "            width:  10em;\n",
              "             height:  80%;\n",
              "            background:  linear-gradient(90deg,#a2d2ff 0.7%, transparent 0.7%);\n",
              "        }#T_d340318e_5e44_11ec_aeb1_0242ac130202row12_col0{\n",
              "            width:  10em;\n",
              "             height:  80%;\n",
              "            background:  linear-gradient(90deg,#a2d2ff 0.6%, transparent 0.6%);\n",
              "        }#T_d340318e_5e44_11ec_aeb1_0242ac130202row13_col0{\n",
              "            width:  10em;\n",
              "             height:  80%;\n",
              "            background:  linear-gradient(90deg,#a2d2ff 0.3%, transparent 0.3%);\n",
              "        }#T_d340318e_5e44_11ec_aeb1_0242ac130202row14_col0,#T_d340318e_5e44_11ec_aeb1_0242ac130202row15_col0{\n",
              "            width:  10em;\n",
              "             height:  80%;\n",
              "            background:  linear-gradient(90deg,#a2d2ff 0.2%, transparent 0.2%);\n",
              "        }#T_d340318e_5e44_11ec_aeb1_0242ac130202row16_col0,#T_d340318e_5e44_11ec_aeb1_0242ac130202row17_col0{\n",
              "            width:  10em;\n",
              "             height:  80%;\n",
              "            background:  linear-gradient(90deg,#a2d2ff 0.1%, transparent 0.1%);\n",
              "        }#T_d340318e_5e44_11ec_aeb1_0242ac130202row18_col0{\n",
              "            width:  10em;\n",
              "             height:  80%;\n",
              "            background:  linear-gradient(90deg,#a2d2ff 0.0%, transparent 0.0%);\n",
              "        }#T_d340318e_5e44_11ec_aeb1_0242ac130202row19_col0{\n",
              "            width:  10em;\n",
              "             height:  80%;\n",
              "        }</style><table id=\"T_d340318e_5e44_11ec_aeb1_0242ac130202\" ><thead>    <tr>        <th class=\"blank level0\" ></th>        <th class=\"col_heading level0 col0\" >Number of movies</th>    </tr></thead><tbody>\n",
              "                <tr>\n",
              "                        <th id=\"T_d340318e_5e44_11ec_aeb1_0242ac130202level0_row0\" class=\"row_heading level0 row0\" >English</th>\n",
              "                        <td id=\"T_d340318e_5e44_11ec_aeb1_0242ac130202row0_col0\" class=\"data row0 col0\" >3437</td>\n",
              "            </tr>\n",
              "            <tr>\n",
              "                        <th id=\"T_d340318e_5e44_11ec_aeb1_0242ac130202level0_row1\" class=\"row_heading level0 row1\" >Spanish</th>\n",
              "                        <td id=\"T_d340318e_5e44_11ec_aeb1_0242ac130202row1_col0\" class=\"data row1 col0\" >195</td>\n",
              "            </tr>\n",
              "            <tr>\n",
              "                        <th id=\"T_d340318e_5e44_11ec_aeb1_0242ac130202level0_row2\" class=\"row_heading level0 row2\" >French</th>\n",
              "                        <td id=\"T_d340318e_5e44_11ec_aeb1_0242ac130202row2_col0\" class=\"data row2 col0\" >184</td>\n",
              "            </tr>\n",
              "            <tr>\n",
              "                        <th id=\"T_d340318e_5e44_11ec_aeb1_0242ac130202level0_row3\" class=\"row_heading level0 row3\" >Hindi</th>\n",
              "                        <td id=\"T_d340318e_5e44_11ec_aeb1_0242ac130202row3_col0\" class=\"data row3 col0\" >181</td>\n",
              "            </tr>\n",
              "            <tr>\n",
              "                        <th id=\"T_d340318e_5e44_11ec_aeb1_0242ac130202level0_row4\" class=\"row_heading level0 row4\" >German</th>\n",
              "                        <td id=\"T_d340318e_5e44_11ec_aeb1_0242ac130202row4_col0\" class=\"data row4 col0\" >118</td>\n",
              "            </tr>\n",
              "            <tr>\n",
              "                        <th id=\"T_d340318e_5e44_11ec_aeb1_0242ac130202level0_row5\" class=\"row_heading level0 row5\" >Italian</th>\n",
              "                        <td id=\"T_d340318e_5e44_11ec_aeb1_0242ac130202row5_col0\" class=\"data row5 col0\" >99</td>\n",
              "            </tr>\n",
              "            <tr>\n",
              "                        <th id=\"T_d340318e_5e44_11ec_aeb1_0242ac130202level0_row6\" class=\"row_heading level0 row6\" >Russian</th>\n",
              "                        <td id=\"T_d340318e_5e44_11ec_aeb1_0242ac130202row6_col0\" class=\"data row6 col0\" >64</td>\n",
              "            </tr>\n",
              "            <tr>\n",
              "                        <th id=\"T_d340318e_5e44_11ec_aeb1_0242ac130202level0_row7\" class=\"row_heading level0 row7\" >Telugu</th>\n",
              "                        <td id=\"T_d340318e_5e44_11ec_aeb1_0242ac130202row7_col0\" class=\"data row7 col0\" >59</td>\n",
              "            </tr>\n",
              "            <tr>\n",
              "                        <th id=\"T_d340318e_5e44_11ec_aeb1_0242ac130202level0_row8\" class=\"row_heading level0 row8\" >Mandarin</th>\n",
              "                        <td id=\"T_d340318e_5e44_11ec_aeb1_0242ac130202row8_col0\" class=\"data row8 col0\" >58</td>\n",
              "            </tr>\n",
              "            <tr>\n",
              "                        <th id=\"T_d340318e_5e44_11ec_aeb1_0242ac130202level0_row9\" class=\"row_heading level0 row9\" >Tamil</th>\n",
              "                        <td id=\"T_d340318e_5e44_11ec_aeb1_0242ac130202row9_col0\" class=\"data row9 col0\" >53</td>\n",
              "            </tr>\n",
              "            <tr>\n",
              "                        <th id=\"T_d340318e_5e44_11ec_aeb1_0242ac130202level0_row10\" class=\"row_heading level0 row10\" >Japanese</th>\n",
              "                        <td id=\"T_d340318e_5e44_11ec_aeb1_0242ac130202row10_col0\" class=\"data row10 col0\" >51</td>\n",
              "            </tr>\n",
              "            <tr>\n",
              "                        <th id=\"T_d340318e_5e44_11ec_aeb1_0242ac130202level0_row11\" class=\"row_heading level0 row11\" >Arabic</th>\n",
              "                        <td id=\"T_d340318e_5e44_11ec_aeb1_0242ac130202row11_col0\" class=\"data row11 col0\" >40</td>\n",
              "            </tr>\n",
              "            <tr>\n",
              "                        <th id=\"T_d340318e_5e44_11ec_aeb1_0242ac130202level0_row12\" class=\"row_heading level0 row12\" >Korean</th>\n",
              "                        <td id=\"T_d340318e_5e44_11ec_aeb1_0242ac130202row12_col0\" class=\"data row12 col0\" >36</td>\n",
              "            </tr>\n",
              "            <tr>\n",
              "                        <th id=\"T_d340318e_5e44_11ec_aeb1_0242ac130202level0_row13\" class=\"row_heading level0 row13\" >Hebrew</th>\n",
              "                        <td id=\"T_d340318e_5e44_11ec_aeb1_0242ac130202row13_col0\" class=\"data row13 col0\" >25</td>\n",
              "            </tr>\n",
              "            <tr>\n",
              "                        <th id=\"T_d340318e_5e44_11ec_aeb1_0242ac130202level0_row14\" class=\"row_heading level0 row14\" >Cantonese</th>\n",
              "                        <td id=\"T_d340318e_5e44_11ec_aeb1_0242ac130202row14_col0\" class=\"data row14 col0\" >24</td>\n",
              "            </tr>\n",
              "            <tr>\n",
              "                        <th id=\"T_d340318e_5e44_11ec_aeb1_0242ac130202level0_row15\" class=\"row_heading level0 row15\" >Latin</th>\n",
              "                        <td id=\"T_d340318e_5e44_11ec_aeb1_0242ac130202row15_col0\" class=\"data row15 col0\" >24</td>\n",
              "            </tr>\n",
              "            <tr>\n",
              "                        <th id=\"T_d340318e_5e44_11ec_aeb1_0242ac130202level0_row16\" class=\"row_heading level0 row16\" >Punjabi</th>\n",
              "                        <td id=\"T_d340318e_5e44_11ec_aeb1_0242ac130202row16_col0\" class=\"data row16 col0\" >20</td>\n",
              "            </tr>\n",
              "            <tr>\n",
              "                        <th id=\"T_d340318e_5e44_11ec_aeb1_0242ac130202level0_row17\" class=\"row_heading level0 row17\" >Portuguese</th>\n",
              "                        <td id=\"T_d340318e_5e44_11ec_aeb1_0242ac130202row17_col0\" class=\"data row17 col0\" >18</td>\n",
              "            </tr>\n",
              "            <tr>\n",
              "                        <th id=\"T_d340318e_5e44_11ec_aeb1_0242ac130202level0_row18\" class=\"row_heading level0 row18\" >Swedish</th>\n",
              "                        <td id=\"T_d340318e_5e44_11ec_aeb1_0242ac130202row18_col0\" class=\"data row18 col0\" >17</td>\n",
              "            </tr>\n",
              "            <tr>\n",
              "                        <th id=\"T_d340318e_5e44_11ec_aeb1_0242ac130202level0_row19\" class=\"row_heading level0 row19\" >Chinese</th>\n",
              "                        <td id=\"T_d340318e_5e44_11ec_aeb1_0242ac130202row19_col0\" class=\"data row19 col0\" >16</td>\n",
              "            </tr>\n",
              "    </tbody></table>"
            ],
            "text/plain": [
              "<pandas.io.formats.style.Styler at 0x7fd430d67550>"
            ]
          },
          "execution_count": 49,
          "metadata": {},
          "output_type": "execute_result"
        }
      ],
      "source": [
        "bar(df_l_merged,'Prime Video','#a2d2ff')"
      ]
    },
    {
      "cell_type": "code",
      "execution_count": null,
      "metadata": {
        "_kg_hide-input": true,
        "execution": {
          "iopub.execute_input": "2021-12-16T07:50:23.811280Z",
          "iopub.status.busy": "2021-12-16T07:50:23.810514Z",
          "iopub.status.idle": "2021-12-16T07:50:23.829104Z",
          "shell.execute_reply": "2021-12-16T07:50:23.829768Z",
          "shell.execute_reply.started": "2021-12-16T07:49:13.264116Z"
        },
        "papermill": {
          "duration": 0.091276,
          "end_time": "2021-12-16T07:50:23.829966",
          "exception": false,
          "start_time": "2021-12-16T07:50:23.738690",
          "status": "completed"
        },
        "tags": [],
        "id": "FrVFJgbjjkhP",
        "outputId": "8968d792-9eab-4b7f-a18a-319d1cada97f"
      },
      "outputs": [
        {
          "data": {
            "text/html": [
              "<style  type=\"text/css\" >\n",
              "#T_d35815d8_5e44_11ec_aeb1_0242ac130202row0_col0{\n",
              "            width:  10em;\n",
              "             height:  80%;\n",
              "            background:  linear-gradient(90deg,#a2d2ff 100.0%, transparent 100.0%);\n",
              "        }#T_d35815d8_5e44_11ec_aeb1_0242ac130202row1_col0{\n",
              "            width:  10em;\n",
              "             height:  80%;\n",
              "            background:  linear-gradient(90deg,#a2d2ff 63.1%, transparent 63.1%);\n",
              "        }#T_d35815d8_5e44_11ec_aeb1_0242ac130202row2_col0{\n",
              "            width:  10em;\n",
              "             height:  80%;\n",
              "            background:  linear-gradient(90deg,#a2d2ff 46.1%, transparent 46.1%);\n",
              "        }#T_d35815d8_5e44_11ec_aeb1_0242ac130202row3_col0{\n",
              "            width:  10em;\n",
              "             height:  80%;\n",
              "            background:  linear-gradient(90deg,#a2d2ff 35.5%, transparent 35.5%);\n",
              "        }#T_d35815d8_5e44_11ec_aeb1_0242ac130202row4_col0{\n",
              "            width:  10em;\n",
              "             height:  80%;\n",
              "            background:  linear-gradient(90deg,#a2d2ff 33.3%, transparent 33.3%);\n",
              "        }#T_d35815d8_5e44_11ec_aeb1_0242ac130202row5_col0{\n",
              "            width:  10em;\n",
              "             height:  80%;\n",
              "            background:  linear-gradient(90deg,#a2d2ff 24.5%, transparent 24.5%);\n",
              "        }#T_d35815d8_5e44_11ec_aeb1_0242ac130202row6_col0{\n",
              "            width:  10em;\n",
              "             height:  80%;\n",
              "            background:  linear-gradient(90deg,#a2d2ff 19.4%, transparent 19.4%);\n",
              "        }#T_d35815d8_5e44_11ec_aeb1_0242ac130202row7_col0{\n",
              "            width:  10em;\n",
              "             height:  80%;\n",
              "            background:  linear-gradient(90deg,#a2d2ff 19.0%, transparent 19.0%);\n",
              "        }#T_d35815d8_5e44_11ec_aeb1_0242ac130202row8_col0{\n",
              "            width:  10em;\n",
              "             height:  80%;\n",
              "            background:  linear-gradient(90deg,#a2d2ff 15.3%, transparent 15.3%);\n",
              "        }#T_d35815d8_5e44_11ec_aeb1_0242ac130202row9_col0{\n",
              "            width:  10em;\n",
              "             height:  80%;\n",
              "            background:  linear-gradient(90deg,#a2d2ff 13.1%, transparent 13.1%);\n",
              "        }#T_d35815d8_5e44_11ec_aeb1_0242ac130202row10_col0{\n",
              "            width:  10em;\n",
              "             height:  80%;\n",
              "            background:  linear-gradient(90deg,#a2d2ff 12.1%, transparent 12.1%);\n",
              "        }#T_d35815d8_5e44_11ec_aeb1_0242ac130202row11_col0{\n",
              "            width:  10em;\n",
              "             height:  80%;\n",
              "            background:  linear-gradient(90deg,#a2d2ff 9.3%, transparent 9.3%);\n",
              "        }#T_d35815d8_5e44_11ec_aeb1_0242ac130202row12_col0{\n",
              "            width:  10em;\n",
              "             height:  80%;\n",
              "            background:  linear-gradient(90deg,#a2d2ff 7.3%, transparent 7.3%);\n",
              "        }#T_d35815d8_5e44_11ec_aeb1_0242ac130202row13_col0{\n",
              "            width:  10em;\n",
              "             height:  80%;\n",
              "            background:  linear-gradient(90deg,#a2d2ff 4.8%, transparent 4.8%);\n",
              "        }#T_d35815d8_5e44_11ec_aeb1_0242ac130202row14_col0{\n",
              "            width:  10em;\n",
              "             height:  80%;\n",
              "            background:  linear-gradient(90deg,#a2d2ff 3.4%, transparent 3.4%);\n",
              "        }#T_d35815d8_5e44_11ec_aeb1_0242ac130202row15_col0{\n",
              "            width:  10em;\n",
              "             height:  80%;\n",
              "            background:  linear-gradient(90deg,#a2d2ff 2.9%, transparent 2.9%);\n",
              "        }#T_d35815d8_5e44_11ec_aeb1_0242ac130202row16_col0{\n",
              "            width:  10em;\n",
              "             height:  80%;\n",
              "            background:  linear-gradient(90deg,#a2d2ff 1.7%, transparent 1.7%);\n",
              "        }#T_d35815d8_5e44_11ec_aeb1_0242ac130202row17_col0{\n",
              "            width:  10em;\n",
              "             height:  80%;\n",
              "            background:  linear-gradient(90deg,#a2d2ff 1.6%, transparent 1.6%);\n",
              "        }#T_d35815d8_5e44_11ec_aeb1_0242ac130202row18_col0{\n",
              "            width:  10em;\n",
              "             height:  80%;\n",
              "            background:  linear-gradient(90deg,#a2d2ff 0.6%, transparent 0.6%);\n",
              "        }#T_d35815d8_5e44_11ec_aeb1_0242ac130202row19_col0{\n",
              "            width:  10em;\n",
              "             height:  80%;\n",
              "        }</style><table id=\"T_d35815d8_5e44_11ec_aeb1_0242ac130202\" ><thead>    <tr>        <th class=\"blank level0\" ></th>        <th class=\"col_heading level0 col0\" >Number of movies</th>    </tr></thead><tbody>\n",
              "                <tr>\n",
              "                        <th id=\"T_d35815d8_5e44_11ec_aeb1_0242ac130202level0_row0\" class=\"row_heading level0 row0\" >Drama</th>\n",
              "                        <td id=\"T_d35815d8_5e44_11ec_aeb1_0242ac130202row0_col0\" class=\"data row0 col0\" >1917</td>\n",
              "            </tr>\n",
              "            <tr>\n",
              "                        <th id=\"T_d35815d8_5e44_11ec_aeb1_0242ac130202level0_row1\" class=\"row_heading level0 row1\" >Comedy</th>\n",
              "                        <td id=\"T_d35815d8_5e44_11ec_aeb1_0242ac130202row1_col0\" class=\"data row1 col0\" >1251</td>\n",
              "            </tr>\n",
              "            <tr>\n",
              "                        <th id=\"T_d35815d8_5e44_11ec_aeb1_0242ac130202level0_row2\" class=\"row_heading level0 row2\" >Thriller</th>\n",
              "                        <td id=\"T_d35815d8_5e44_11ec_aeb1_0242ac130202row2_col0\" class=\"data row2 col0\" >943</td>\n",
              "            </tr>\n",
              "            <tr>\n",
              "                        <th id=\"T_d35815d8_5e44_11ec_aeb1_0242ac130202level0_row3\" class=\"row_heading level0 row3\" >Romance</th>\n",
              "                        <td id=\"T_d35815d8_5e44_11ec_aeb1_0242ac130202row3_col0\" class=\"data row3 col0\" >753</td>\n",
              "            </tr>\n",
              "            <tr>\n",
              "                        <th id=\"T_d35815d8_5e44_11ec_aeb1_0242ac130202level0_row4\" class=\"row_heading level0 row4\" >Action</th>\n",
              "                        <td id=\"T_d35815d8_5e44_11ec_aeb1_0242ac130202row4_col0\" class=\"data row4 col0\" >712</td>\n",
              "            </tr>\n",
              "            <tr>\n",
              "                        <th id=\"T_d35815d8_5e44_11ec_aeb1_0242ac130202level0_row5\" class=\"row_heading level0 row5\" >Crime</th>\n",
              "                        <td id=\"T_d35815d8_5e44_11ec_aeb1_0242ac130202row5_col0\" class=\"data row5 col0\" >554</td>\n",
              "            </tr>\n",
              "            <tr>\n",
              "                        <th id=\"T_d35815d8_5e44_11ec_aeb1_0242ac130202level0_row6\" class=\"row_heading level0 row6\" >Horror</th>\n",
              "                        <td id=\"T_d35815d8_5e44_11ec_aeb1_0242ac130202row6_col0\" class=\"data row6 col0\" >462</td>\n",
              "            </tr>\n",
              "            <tr>\n",
              "                        <th id=\"T_d35815d8_5e44_11ec_aeb1_0242ac130202level0_row7\" class=\"row_heading level0 row7\" >Documentary</th>\n",
              "                        <td id=\"T_d35815d8_5e44_11ec_aeb1_0242ac130202row7_col0\" class=\"data row7 col0\" >454</td>\n",
              "            </tr>\n",
              "            <tr>\n",
              "                        <th id=\"T_d35815d8_5e44_11ec_aeb1_0242ac130202level0_row8\" class=\"row_heading level0 row8\" >Adventure</th>\n",
              "                        <td id=\"T_d35815d8_5e44_11ec_aeb1_0242ac130202row8_col0\" class=\"data row8 col0\" >388</td>\n",
              "            </tr>\n",
              "            <tr>\n",
              "                        <th id=\"T_d35815d8_5e44_11ec_aeb1_0242ac130202level0_row9\" class=\"row_heading level0 row9\" >Mystery</th>\n",
              "                        <td id=\"T_d35815d8_5e44_11ec_aeb1_0242ac130202row9_col0\" class=\"data row9 col0\" >347</td>\n",
              "            </tr>\n",
              "            <tr>\n",
              "                        <th id=\"T_d35815d8_5e44_11ec_aeb1_0242ac130202level0_row10\" class=\"row_heading level0 row10\" >Family</th>\n",
              "                        <td id=\"T_d35815d8_5e44_11ec_aeb1_0242ac130202row10_col0\" class=\"data row10 col0\" >330</td>\n",
              "            </tr>\n",
              "            <tr>\n",
              "                        <th id=\"T_d35815d8_5e44_11ec_aeb1_0242ac130202level0_row11\" class=\"row_heading level0 row11\" >Sci-Fi</th>\n",
              "                        <td id=\"T_d35815d8_5e44_11ec_aeb1_0242ac130202row11_col0\" class=\"data row11 col0\" >279</td>\n",
              "            </tr>\n",
              "            <tr>\n",
              "                        <th id=\"T_d35815d8_5e44_11ec_aeb1_0242ac130202level0_row12\" class=\"row_heading level0 row12\" >Fantasy</th>\n",
              "                        <td id=\"T_d35815d8_5e44_11ec_aeb1_0242ac130202row12_col0\" class=\"data row12 col0\" >243</td>\n",
              "            </tr>\n",
              "            <tr>\n",
              "                        <th id=\"T_d35815d8_5e44_11ec_aeb1_0242ac130202level0_row13\" class=\"row_heading level0 row13\" >Biography</th>\n",
              "                        <td id=\"T_d35815d8_5e44_11ec_aeb1_0242ac130202row13_col0\" class=\"data row13 col0\" >197</td>\n",
              "            </tr>\n",
              "            <tr>\n",
              "                        <th id=\"T_d35815d8_5e44_11ec_aeb1_0242ac130202level0_row14\" class=\"row_heading level0 row14\" >Western</th>\n",
              "                        <td id=\"T_d35815d8_5e44_11ec_aeb1_0242ac130202row14_col0\" class=\"data row14 col0\" >172</td>\n",
              "            </tr>\n",
              "            <tr>\n",
              "                        <th id=\"T_d35815d8_5e44_11ec_aeb1_0242ac130202level0_row15\" class=\"row_heading level0 row15\" >History</th>\n",
              "                        <td id=\"T_d35815d8_5e44_11ec_aeb1_0242ac130202row15_col0\" class=\"data row15 col0\" >163</td>\n",
              "            </tr>\n",
              "            <tr>\n",
              "                        <th id=\"T_d35815d8_5e44_11ec_aeb1_0242ac130202level0_row16\" class=\"row_heading level0 row16\" >Music</th>\n",
              "                        <td id=\"T_d35815d8_5e44_11ec_aeb1_0242ac130202row16_col0\" class=\"data row16 col0\" >142</td>\n",
              "            </tr>\n",
              "            <tr>\n",
              "                        <th id=\"T_d35815d8_5e44_11ec_aeb1_0242ac130202level0_row17\" class=\"row_heading level0 row17\" >War</th>\n",
              "                        <td id=\"T_d35815d8_5e44_11ec_aeb1_0242ac130202row17_col0\" class=\"data row17 col0\" >139</td>\n",
              "            </tr>\n",
              "            <tr>\n",
              "                        <th id=\"T_d35815d8_5e44_11ec_aeb1_0242ac130202level0_row18\" class=\"row_heading level0 row18\" >Animation</th>\n",
              "                        <td id=\"T_d35815d8_5e44_11ec_aeb1_0242ac130202row18_col0\" class=\"data row18 col0\" >122</td>\n",
              "            </tr>\n",
              "            <tr>\n",
              "                        <th id=\"T_d35815d8_5e44_11ec_aeb1_0242ac130202level0_row19\" class=\"row_heading level0 row19\" >Sport</th>\n",
              "                        <td id=\"T_d35815d8_5e44_11ec_aeb1_0242ac130202row19_col0\" class=\"data row19 col0\" >111</td>\n",
              "            </tr>\n",
              "    </tbody></table>"
            ],
            "text/plain": [
              "<pandas.io.formats.style.Styler at 0x7fd430c84b50>"
            ]
          },
          "execution_count": 50,
          "metadata": {},
          "output_type": "execute_result"
        }
      ],
      "source": [
        "bar(df_g_merged,'Prime Video','#a2d2ff')"
      ]
    },
    {
      "cell_type": "markdown",
      "metadata": {
        "papermill": {
          "duration": 0.066836,
          "end_time": "2021-12-16T07:50:23.977771",
          "exception": false,
          "start_time": "2021-12-16T07:50:23.910935",
          "status": "completed"
        },
        "tags": [],
        "id": "Jmf8xW8IjkhQ"
      },
      "source": [
        "<div>\n",
        "<img src=\"https://download.logo.wine/logo/Disney%2B/Disney%2B-Logo.wine.png\" width=\"350\"/>\n",
        "</div>"
      ]
    },
    {
      "cell_type": "code",
      "execution_count": null,
      "metadata": {
        "_kg_hide-input": true,
        "execution": {
          "iopub.execute_input": "2021-12-16T07:50:24.109021Z",
          "iopub.status.busy": "2021-12-16T07:50:24.108470Z",
          "iopub.status.idle": "2021-12-16T07:50:24.123499Z",
          "shell.execute_reply": "2021-12-16T07:50:24.124032Z",
          "shell.execute_reply.started": "2021-12-16T07:49:13.285551Z"
        },
        "papermill": {
          "duration": 0.082687,
          "end_time": "2021-12-16T07:50:24.124165",
          "exception": false,
          "start_time": "2021-12-16T07:50:24.041478",
          "status": "completed"
        },
        "tags": [],
        "id": "ht3eZRkZjkhQ",
        "outputId": "76d3bb3d-b056-403d-89e2-803529969c64"
      },
      "outputs": [
        {
          "data": {
            "text/html": [
              "<style  type=\"text/css\" >\n",
              "#T_d38568e4_5e44_11ec_aeb1_0242ac130202row0_col0{\n",
              "            width:  10em;\n",
              "             height:  80%;\n",
              "            background:  linear-gradient(90deg,#72efdd 100.0%, transparent 100.0%);\n",
              "        }#T_d38568e4_5e44_11ec_aeb1_0242ac130202row1_col0{\n",
              "            width:  10em;\n",
              "             height:  80%;\n",
              "            background:  linear-gradient(90deg,#72efdd 4.5%, transparent 4.5%);\n",
              "        }#T_d38568e4_5e44_11ec_aeb1_0242ac130202row2_col0{\n",
              "            width:  10em;\n",
              "             height:  80%;\n",
              "            background:  linear-gradient(90deg,#72efdd 3.5%, transparent 3.5%);\n",
              "        }#T_d38568e4_5e44_11ec_aeb1_0242ac130202row3_col0{\n",
              "            width:  10em;\n",
              "             height:  80%;\n",
              "            background:  linear-gradient(90deg,#72efdd 2.7%, transparent 2.7%);\n",
              "        }#T_d38568e4_5e44_11ec_aeb1_0242ac130202row4_col0{\n",
              "            width:  10em;\n",
              "             height:  80%;\n",
              "            background:  linear-gradient(90deg,#72efdd 1.3%, transparent 1.3%);\n",
              "        }#T_d38568e4_5e44_11ec_aeb1_0242ac130202row5_col0,#T_d38568e4_5e44_11ec_aeb1_0242ac130202row6_col0{\n",
              "            width:  10em;\n",
              "             height:  80%;\n",
              "            background:  linear-gradient(90deg,#72efdd 0.9%, transparent 0.9%);\n",
              "        }#T_d38568e4_5e44_11ec_aeb1_0242ac130202row7_col0{\n",
              "            width:  10em;\n",
              "             height:  80%;\n",
              "            background:  linear-gradient(90deg,#72efdd 0.7%, transparent 0.7%);\n",
              "        }#T_d38568e4_5e44_11ec_aeb1_0242ac130202row8_col0{\n",
              "            width:  10em;\n",
              "             height:  80%;\n",
              "            background:  linear-gradient(90deg,#72efdd 0.5%, transparent 0.5%);\n",
              "        }#T_d38568e4_5e44_11ec_aeb1_0242ac130202row9_col0{\n",
              "            width:  10em;\n",
              "             height:  80%;\n",
              "            background:  linear-gradient(90deg,#72efdd 0.3%, transparent 0.3%);\n",
              "        }#T_d38568e4_5e44_11ec_aeb1_0242ac130202row10_col0,#T_d38568e4_5e44_11ec_aeb1_0242ac130202row11_col0,#T_d38568e4_5e44_11ec_aeb1_0242ac130202row12_col0{\n",
              "            width:  10em;\n",
              "             height:  80%;\n",
              "            background:  linear-gradient(90deg,#72efdd 0.2%, transparent 0.2%);\n",
              "        }#T_d38568e4_5e44_11ec_aeb1_0242ac130202row13_col0,#T_d38568e4_5e44_11ec_aeb1_0242ac130202row14_col0{\n",
              "            width:  10em;\n",
              "             height:  80%;\n",
              "            background:  linear-gradient(90deg,#72efdd 0.1%, transparent 0.1%);\n",
              "        }#T_d38568e4_5e44_11ec_aeb1_0242ac130202row15_col0,#T_d38568e4_5e44_11ec_aeb1_0242ac130202row16_col0,#T_d38568e4_5e44_11ec_aeb1_0242ac130202row17_col0,#T_d38568e4_5e44_11ec_aeb1_0242ac130202row18_col0,#T_d38568e4_5e44_11ec_aeb1_0242ac130202row19_col0{\n",
              "            width:  10em;\n",
              "             height:  80%;\n",
              "        }</style><table id=\"T_d38568e4_5e44_11ec_aeb1_0242ac130202\" ><thead>    <tr>        <th class=\"blank level0\" ></th>        <th class=\"col_heading level0 col0\" >Number of movies</th>    </tr></thead><tbody>\n",
              "                <tr>\n",
              "                        <th id=\"T_d38568e4_5e44_11ec_aeb1_0242ac130202level0_row0\" class=\"row_heading level0 row0\" >English</th>\n",
              "                        <td id=\"T_d38568e4_5e44_11ec_aeb1_0242ac130202row0_col0\" class=\"data row0 col0\" >866</td>\n",
              "            </tr>\n",
              "            <tr>\n",
              "                        <th id=\"T_d38568e4_5e44_11ec_aeb1_0242ac130202level0_row1\" class=\"row_heading level0 row1\" >French</th>\n",
              "                        <td id=\"T_d38568e4_5e44_11ec_aeb1_0242ac130202row1_col0\" class=\"data row1 col0\" >43</td>\n",
              "            </tr>\n",
              "            <tr>\n",
              "                        <th id=\"T_d38568e4_5e44_11ec_aeb1_0242ac130202level0_row2\" class=\"row_heading level0 row2\" >Spanish</th>\n",
              "                        <td id=\"T_d38568e4_5e44_11ec_aeb1_0242ac130202row2_col0\" class=\"data row2 col0\" >34</td>\n",
              "            </tr>\n",
              "            <tr>\n",
              "                        <th id=\"T_d38568e4_5e44_11ec_aeb1_0242ac130202level0_row3\" class=\"row_heading level0 row3\" >German</th>\n",
              "                        <td id=\"T_d38568e4_5e44_11ec_aeb1_0242ac130202row3_col0\" class=\"data row3 col0\" >27</td>\n",
              "            </tr>\n",
              "            <tr>\n",
              "                        <th id=\"T_d38568e4_5e44_11ec_aeb1_0242ac130202level0_row4\" class=\"row_heading level0 row4\" >Italian</th>\n",
              "                        <td id=\"T_d38568e4_5e44_11ec_aeb1_0242ac130202row4_col0\" class=\"data row4 col0\" >15</td>\n",
              "            </tr>\n",
              "            <tr>\n",
              "                        <th id=\"T_d38568e4_5e44_11ec_aeb1_0242ac130202level0_row5\" class=\"row_heading level0 row5\" >Japanese</th>\n",
              "                        <td id=\"T_d38568e4_5e44_11ec_aeb1_0242ac130202row5_col0\" class=\"data row5 col0\" >12</td>\n",
              "            </tr>\n",
              "            <tr>\n",
              "                        <th id=\"T_d38568e4_5e44_11ec_aeb1_0242ac130202level0_row6\" class=\"row_heading level0 row6\" >Mandarin</th>\n",
              "                        <td id=\"T_d38568e4_5e44_11ec_aeb1_0242ac130202row6_col0\" class=\"data row6 col0\" >12</td>\n",
              "            </tr>\n",
              "            <tr>\n",
              "                        <th id=\"T_d38568e4_5e44_11ec_aeb1_0242ac130202level0_row7\" class=\"row_heading level0 row7\" >None</th>\n",
              "                        <td id=\"T_d38568e4_5e44_11ec_aeb1_0242ac130202row7_col0\" class=\"data row7 col0\" >10</td>\n",
              "            </tr>\n",
              "            <tr>\n",
              "                        <th id=\"T_d38568e4_5e44_11ec_aeb1_0242ac130202level0_row8\" class=\"row_heading level0 row8\" >Norwegian</th>\n",
              "                        <td id=\"T_d38568e4_5e44_11ec_aeb1_0242ac130202row8_col0\" class=\"data row8 col0\" >8</td>\n",
              "            </tr>\n",
              "            <tr>\n",
              "                        <th id=\"T_d38568e4_5e44_11ec_aeb1_0242ac130202level0_row9\" class=\"row_heading level0 row9\" >Arabic</th>\n",
              "                        <td id=\"T_d38568e4_5e44_11ec_aeb1_0242ac130202row9_col0\" class=\"data row9 col0\" >7</td>\n",
              "            </tr>\n",
              "            <tr>\n",
              "                        <th id=\"T_d38568e4_5e44_11ec_aeb1_0242ac130202level0_row10\" class=\"row_heading level0 row10\" >Hindi</th>\n",
              "                        <td id=\"T_d38568e4_5e44_11ec_aeb1_0242ac130202row10_col0\" class=\"data row10 col0\" >6</td>\n",
              "            </tr>\n",
              "            <tr>\n",
              "                        <th id=\"T_d38568e4_5e44_11ec_aeb1_0242ac130202level0_row11\" class=\"row_heading level0 row11\" >Korean</th>\n",
              "                        <td id=\"T_d38568e4_5e44_11ec_aeb1_0242ac130202row11_col0\" class=\"data row11 col0\" >6</td>\n",
              "            </tr>\n",
              "            <tr>\n",
              "                        <th id=\"T_d38568e4_5e44_11ec_aeb1_0242ac130202level0_row12\" class=\"row_heading level0 row12\" >Russian</th>\n",
              "                        <td id=\"T_d38568e4_5e44_11ec_aeb1_0242ac130202row12_col0\" class=\"data row12 col0\" >6</td>\n",
              "            </tr>\n",
              "            <tr>\n",
              "                        <th id=\"T_d38568e4_5e44_11ec_aeb1_0242ac130202level0_row13\" class=\"row_heading level0 row13\" >Portuguese</th>\n",
              "                        <td id=\"T_d38568e4_5e44_11ec_aeb1_0242ac130202row13_col0\" class=\"data row13 col0\" >5</td>\n",
              "            </tr>\n",
              "            <tr>\n",
              "                        <th id=\"T_d38568e4_5e44_11ec_aeb1_0242ac130202level0_row14\" class=\"row_heading level0 row14\" >Greek</th>\n",
              "                        <td id=\"T_d38568e4_5e44_11ec_aeb1_0242ac130202row14_col0\" class=\"data row14 col0\" >5</td>\n",
              "            </tr>\n",
              "            <tr>\n",
              "                        <th id=\"T_d38568e4_5e44_11ec_aeb1_0242ac130202level0_row15\" class=\"row_heading level0 row15\" >Inuktitut</th>\n",
              "                        <td id=\"T_d38568e4_5e44_11ec_aeb1_0242ac130202row15_col0\" class=\"data row15 col0\" >4</td>\n",
              "            </tr>\n",
              "            <tr>\n",
              "                        <th id=\"T_d38568e4_5e44_11ec_aeb1_0242ac130202level0_row16\" class=\"row_heading level0 row16\" >Cantonese</th>\n",
              "                        <td id=\"T_d38568e4_5e44_11ec_aeb1_0242ac130202row16_col0\" class=\"data row16 col0\" >4</td>\n",
              "            </tr>\n",
              "            <tr>\n",
              "                        <th id=\"T_d38568e4_5e44_11ec_aeb1_0242ac130202level0_row17\" class=\"row_heading level0 row17\" >Xhosa</th>\n",
              "                        <td id=\"T_d38568e4_5e44_11ec_aeb1_0242ac130202row17_col0\" class=\"data row17 col0\" >4</td>\n",
              "            </tr>\n",
              "            <tr>\n",
              "                        <th id=\"T_d38568e4_5e44_11ec_aeb1_0242ac130202level0_row18\" class=\"row_heading level0 row18\" >Hawaiian</th>\n",
              "                        <td id=\"T_d38568e4_5e44_11ec_aeb1_0242ac130202row18_col0\" class=\"data row18 col0\" >4</td>\n",
              "            </tr>\n",
              "            <tr>\n",
              "                        <th id=\"T_d38568e4_5e44_11ec_aeb1_0242ac130202level0_row19\" class=\"row_heading level0 row19\" >Icelandic</th>\n",
              "                        <td id=\"T_d38568e4_5e44_11ec_aeb1_0242ac130202row19_col0\" class=\"data row19 col0\" >4</td>\n",
              "            </tr>\n",
              "    </tbody></table>"
            ],
            "text/plain": [
              "<pandas.io.formats.style.Styler at 0x7fd430bc3ed0>"
            ]
          },
          "execution_count": 51,
          "metadata": {},
          "output_type": "execute_result"
        }
      ],
      "source": [
        "bar(df_l_merged,'Disney+','#72efdd')"
      ]
    },
    {
      "cell_type": "code",
      "execution_count": null,
      "metadata": {
        "_kg_hide-input": true,
        "execution": {
          "iopub.execute_input": "2021-12-16T07:50:24.254058Z",
          "iopub.status.busy": "2021-12-16T07:50:24.253454Z",
          "iopub.status.idle": "2021-12-16T07:50:24.267850Z",
          "shell.execute_reply": "2021-12-16T07:50:24.267275Z",
          "shell.execute_reply.started": "2021-12-16T07:49:13.305279Z"
        },
        "papermill": {
          "duration": 0.080348,
          "end_time": "2021-12-16T07:50:24.267960",
          "exception": false,
          "start_time": "2021-12-16T07:50:24.187612",
          "status": "completed"
        },
        "tags": [],
        "id": "zVw71UCNjkhR",
        "outputId": "4185222b-b924-4735-f99a-d3c145a7c58d"
      },
      "outputs": [
        {
          "data": {
            "text/html": [
              "<style  type=\"text/css\" >\n",
              "#T_d39b541a_5e44_11ec_aeb1_0242ac130202row0_col0{\n",
              "            width:  10em;\n",
              "             height:  80%;\n",
              "            background:  linear-gradient(90deg,#72efdd 100.0%, transparent 100.0%);\n",
              "        }#T_d39b541a_5e44_11ec_aeb1_0242ac130202row1_col0{\n",
              "            width:  10em;\n",
              "             height:  80%;\n",
              "            background:  linear-gradient(90deg,#72efdd 72.3%, transparent 72.3%);\n",
              "        }#T_d39b541a_5e44_11ec_aeb1_0242ac130202row2_col0{\n",
              "            width:  10em;\n",
              "             height:  80%;\n",
              "            background:  linear-gradient(90deg,#72efdd 54.1%, transparent 54.1%);\n",
              "        }#T_d39b541a_5e44_11ec_aeb1_0242ac130202row3_col0{\n",
              "            width:  10em;\n",
              "             height:  80%;\n",
              "            background:  linear-gradient(90deg,#72efdd 49.6%, transparent 49.6%);\n",
              "        }#T_d39b541a_5e44_11ec_aeb1_0242ac130202row4_col0{\n",
              "            width:  10em;\n",
              "             height:  80%;\n",
              "            background:  linear-gradient(90deg,#72efdd 39.4%, transparent 39.4%);\n",
              "        }#T_d39b541a_5e44_11ec_aeb1_0242ac130202row5_col0{\n",
              "            width:  10em;\n",
              "             height:  80%;\n",
              "            background:  linear-gradient(90deg,#72efdd 32.6%, transparent 32.6%);\n",
              "        }#T_d39b541a_5e44_11ec_aeb1_0242ac130202row6_col0{\n",
              "            width:  10em;\n",
              "             height:  80%;\n",
              "            background:  linear-gradient(90deg,#72efdd 26.1%, transparent 26.1%);\n",
              "        }#T_d39b541a_5e44_11ec_aeb1_0242ac130202row7_col0{\n",
              "            width:  10em;\n",
              "             height:  80%;\n",
              "            background:  linear-gradient(90deg,#72efdd 18.1%, transparent 18.1%);\n",
              "        }#T_d39b541a_5e44_11ec_aeb1_0242ac130202row8_col0{\n",
              "            width:  10em;\n",
              "             height:  80%;\n",
              "            background:  linear-gradient(90deg,#72efdd 17.3%, transparent 17.3%);\n",
              "        }#T_d39b541a_5e44_11ec_aeb1_0242ac130202row9_col0{\n",
              "            width:  10em;\n",
              "             height:  80%;\n",
              "            background:  linear-gradient(90deg,#72efdd 16.7%, transparent 16.7%);\n",
              "        }#T_d39b541a_5e44_11ec_aeb1_0242ac130202row10_col0{\n",
              "            width:  10em;\n",
              "             height:  80%;\n",
              "            background:  linear-gradient(90deg,#72efdd 15.7%, transparent 15.7%);\n",
              "        }#T_d39b541a_5e44_11ec_aeb1_0242ac130202row11_col0{\n",
              "            width:  10em;\n",
              "             height:  80%;\n",
              "            background:  linear-gradient(90deg,#72efdd 15.1%, transparent 15.1%);\n",
              "        }#T_d39b541a_5e44_11ec_aeb1_0242ac130202row12_col0{\n",
              "            width:  10em;\n",
              "             height:  80%;\n",
              "            background:  linear-gradient(90deg,#72efdd 6.8%, transparent 6.8%);\n",
              "        }#T_d39b541a_5e44_11ec_aeb1_0242ac130202row13_col0{\n",
              "            width:  10em;\n",
              "             height:  80%;\n",
              "            background:  linear-gradient(90deg,#72efdd 4.8%, transparent 4.8%);\n",
              "        }#T_d39b541a_5e44_11ec_aeb1_0242ac130202row14_col0{\n",
              "            width:  10em;\n",
              "             height:  80%;\n",
              "            background:  linear-gradient(90deg,#72efdd 2.2%, transparent 2.2%);\n",
              "        }#T_d39b541a_5e44_11ec_aeb1_0242ac130202row15_col0,#T_d39b541a_5e44_11ec_aeb1_0242ac130202row16_col0{\n",
              "            width:  10em;\n",
              "             height:  80%;\n",
              "            background:  linear-gradient(90deg,#72efdd 1.9%, transparent 1.9%);\n",
              "        }#T_d39b541a_5e44_11ec_aeb1_0242ac130202row17_col0{\n",
              "            width:  10em;\n",
              "             height:  80%;\n",
              "            background:  linear-gradient(90deg,#72efdd 1.4%, transparent 1.4%);\n",
              "        }#T_d39b541a_5e44_11ec_aeb1_0242ac130202row18_col0{\n",
              "            width:  10em;\n",
              "             height:  80%;\n",
              "            background:  linear-gradient(90deg,#72efdd 1.3%, transparent 1.3%);\n",
              "        }#T_d39b541a_5e44_11ec_aeb1_0242ac130202row19_col0{\n",
              "            width:  10em;\n",
              "             height:  80%;\n",
              "        }</style><table id=\"T_d39b541a_5e44_11ec_aeb1_0242ac130202\" ><thead>    <tr>        <th class=\"blank level0\" ></th>        <th class=\"col_heading level0 col0\" >Number of movies</th>    </tr></thead><tbody>\n",
              "                <tr>\n",
              "                        <th id=\"T_d39b541a_5e44_11ec_aeb1_0242ac130202level0_row0\" class=\"row_heading level0 row0\" >Family</th>\n",
              "                        <td id=\"T_d39b541a_5e44_11ec_aeb1_0242ac130202row0_col0\" class=\"data row0 col0\" >645</td>\n",
              "            </tr>\n",
              "            <tr>\n",
              "                        <th id=\"T_d39b541a_5e44_11ec_aeb1_0242ac130202level0_row1\" class=\"row_heading level0 row1\" >Comedy</th>\n",
              "                        <td id=\"T_d39b541a_5e44_11ec_aeb1_0242ac130202row1_col0\" class=\"data row1 col0\" >471</td>\n",
              "            </tr>\n",
              "            <tr>\n",
              "                        <th id=\"T_d39b541a_5e44_11ec_aeb1_0242ac130202level0_row2\" class=\"row_heading level0 row2\" >Adventure</th>\n",
              "                        <td id=\"T_d39b541a_5e44_11ec_aeb1_0242ac130202row2_col0\" class=\"data row2 col0\" >356</td>\n",
              "            </tr>\n",
              "            <tr>\n",
              "                        <th id=\"T_d39b541a_5e44_11ec_aeb1_0242ac130202level0_row3\" class=\"row_heading level0 row3\" >Animation</th>\n",
              "                        <td id=\"T_d39b541a_5e44_11ec_aeb1_0242ac130202row3_col0\" class=\"data row3 col0\" >328</td>\n",
              "            </tr>\n",
              "            <tr>\n",
              "                        <th id=\"T_d39b541a_5e44_11ec_aeb1_0242ac130202level0_row4\" class=\"row_heading level0 row4\" >Fantasy</th>\n",
              "                        <td id=\"T_d39b541a_5e44_11ec_aeb1_0242ac130202row4_col0\" class=\"data row4 col0\" >264</td>\n",
              "            </tr>\n",
              "            <tr>\n",
              "                        <th id=\"T_d39b541a_5e44_11ec_aeb1_0242ac130202level0_row5\" class=\"row_heading level0 row5\" >Drama</th>\n",
              "                        <td id=\"T_d39b541a_5e44_11ec_aeb1_0242ac130202row5_col0\" class=\"data row5 col0\" >221</td>\n",
              "            </tr>\n",
              "            <tr>\n",
              "                        <th id=\"T_d39b541a_5e44_11ec_aeb1_0242ac130202level0_row6\" class=\"row_heading level0 row6\" >Short</th>\n",
              "                        <td id=\"T_d39b541a_5e44_11ec_aeb1_0242ac130202row6_col0\" class=\"data row6 col0\" >180</td>\n",
              "            </tr>\n",
              "            <tr>\n",
              "                        <th id=\"T_d39b541a_5e44_11ec_aeb1_0242ac130202level0_row7\" class=\"row_heading level0 row7\" >Documentary</th>\n",
              "                        <td id=\"T_d39b541a_5e44_11ec_aeb1_0242ac130202row7_col0\" class=\"data row7 col0\" >130</td>\n",
              "            </tr>\n",
              "            <tr>\n",
              "                        <th id=\"T_d39b541a_5e44_11ec_aeb1_0242ac130202level0_row8\" class=\"row_heading level0 row8\" >Action</th>\n",
              "                        <td id=\"T_d39b541a_5e44_11ec_aeb1_0242ac130202row8_col0\" class=\"data row8 col0\" >125</td>\n",
              "            </tr>\n",
              "            <tr>\n",
              "                        <th id=\"T_d39b541a_5e44_11ec_aeb1_0242ac130202level0_row9\" class=\"row_heading level0 row9\" >Sci-Fi</th>\n",
              "                        <td id=\"T_d39b541a_5e44_11ec_aeb1_0242ac130202row9_col0\" class=\"data row9 col0\" >121</td>\n",
              "            </tr>\n",
              "            <tr>\n",
              "                        <th id=\"T_d39b541a_5e44_11ec_aeb1_0242ac130202level0_row10\" class=\"row_heading level0 row10\" >Musical</th>\n",
              "                        <td id=\"T_d39b541a_5e44_11ec_aeb1_0242ac130202row10_col0\" class=\"data row10 col0\" >115</td>\n",
              "            </tr>\n",
              "            <tr>\n",
              "                        <th id=\"T_d39b541a_5e44_11ec_aeb1_0242ac130202level0_row11\" class=\"row_heading level0 row11\" >Romance</th>\n",
              "                        <td id=\"T_d39b541a_5e44_11ec_aeb1_0242ac130202row11_col0\" class=\"data row11 col0\" >111</td>\n",
              "            </tr>\n",
              "            <tr>\n",
              "                        <th id=\"T_d39b541a_5e44_11ec_aeb1_0242ac130202level0_row12\" class=\"row_heading level0 row12\" >Sport</th>\n",
              "                        <td id=\"T_d39b541a_5e44_11ec_aeb1_0242ac130202row12_col0\" class=\"data row12 col0\" >59</td>\n",
              "            </tr>\n",
              "            <tr>\n",
              "                        <th id=\"T_d39b541a_5e44_11ec_aeb1_0242ac130202level0_row13\" class=\"row_heading level0 row13\" >Music</th>\n",
              "                        <td id=\"T_d39b541a_5e44_11ec_aeb1_0242ac130202row13_col0\" class=\"data row13 col0\" >46</td>\n",
              "            </tr>\n",
              "            <tr>\n",
              "                        <th id=\"T_d39b541a_5e44_11ec_aeb1_0242ac130202level0_row14\" class=\"row_heading level0 row14\" >Thriller</th>\n",
              "                        <td id=\"T_d39b541a_5e44_11ec_aeb1_0242ac130202row14_col0\" class=\"data row14 col0\" >30</td>\n",
              "            </tr>\n",
              "            <tr>\n",
              "                        <th id=\"T_d39b541a_5e44_11ec_aeb1_0242ac130202level0_row15\" class=\"row_heading level0 row15\" >History</th>\n",
              "                        <td id=\"T_d39b541a_5e44_11ec_aeb1_0242ac130202row15_col0\" class=\"data row15 col0\" >28</td>\n",
              "            </tr>\n",
              "            <tr>\n",
              "                        <th id=\"T_d39b541a_5e44_11ec_aeb1_0242ac130202level0_row16\" class=\"row_heading level0 row16\" >Crime</th>\n",
              "                        <td id=\"T_d39b541a_5e44_11ec_aeb1_0242ac130202row16_col0\" class=\"data row16 col0\" >28</td>\n",
              "            </tr>\n",
              "            <tr>\n",
              "                        <th id=\"T_d39b541a_5e44_11ec_aeb1_0242ac130202level0_row17\" class=\"row_heading level0 row17\" >Biography</th>\n",
              "                        <td id=\"T_d39b541a_5e44_11ec_aeb1_0242ac130202row17_col0\" class=\"data row17 col0\" >25</td>\n",
              "            </tr>\n",
              "            <tr>\n",
              "                        <th id=\"T_d39b541a_5e44_11ec_aeb1_0242ac130202level0_row18\" class=\"row_heading level0 row18\" >Mystery</th>\n",
              "                        <td id=\"T_d39b541a_5e44_11ec_aeb1_0242ac130202row18_col0\" class=\"data row18 col0\" >24</td>\n",
              "            </tr>\n",
              "            <tr>\n",
              "                        <th id=\"T_d39b541a_5e44_11ec_aeb1_0242ac130202level0_row19\" class=\"row_heading level0 row19\" >Western</th>\n",
              "                        <td id=\"T_d39b541a_5e44_11ec_aeb1_0242ac130202row19_col0\" class=\"data row19 col0\" >16</td>\n",
              "            </tr>\n",
              "    </tbody></table>"
            ],
            "text/plain": [
              "<pandas.io.formats.style.Styler at 0x7fd430d67950>"
            ]
          },
          "execution_count": 52,
          "metadata": {},
          "output_type": "execute_result"
        }
      ],
      "source": [
        "bar(df_g_merged,'Disney+','#72efdd')"
      ]
    }
  ],
  "metadata": {
    "kernelspec": {
      "display_name": "Python 3",
      "language": "python",
      "name": "python3"
    },
    "language_info": {
      "codemirror_mode": {
        "name": "ipython",
        "version": 3
      },
      "file_extension": ".py",
      "mimetype": "text/x-python",
      "name": "python",
      "nbconvert_exporter": "python",
      "pygments_lexer": "ipython3",
      "version": "3.7.6"
    },
    "papermill": {
      "duration": 21.683966,
      "end_time": "2021-12-16T07:50:24.439187",
      "environment_variables": {},
      "exception": null,
      "input_path": "__notebook__.ipynb",
      "output_path": "__notebook__.ipynb",
      "parameters": {},
      "start_time": "2021-12-16T07:50:02.755221",
      "version": "2.1.0"
    },
    "colab": {
      "provenance": [],
      "include_colab_link": true
    }
  },
  "nbformat": 4,
  "nbformat_minor": 0
}