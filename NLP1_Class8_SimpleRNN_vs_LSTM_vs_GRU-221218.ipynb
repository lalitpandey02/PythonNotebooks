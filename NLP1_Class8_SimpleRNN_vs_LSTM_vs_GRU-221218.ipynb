{
  "nbformat": 4,
  "nbformat_minor": 0,
  "metadata": {
    "accelerator": "TPU",
    "colab": {
      "provenance": []
    },
    "kernelspec": {
      "display_name": "Python 3",
      "language": "python",
      "name": "python3"
    },
    "language_info": {
      "codemirror_mode": {
        "name": "ipython",
        "version": 3
      },
      "file_extension": ".py",
      "mimetype": "text/x-python",
      "name": "python",
      "nbconvert_exporter": "python",
      "pygments_lexer": "ipython3",
      "version": "3.6.3"
    },
    "gpuClass": "standard"
  },
  "cells": [
    {
      "cell_type": "markdown",
      "metadata": {
        "id": "K-i0ibliYb44"
      },
      "source": [
        "<center><img src=\"https://github.com/insaid2018/Term-1/blob/master/Images/INSAID_Full%20Logo.png?raw=true\" width=\"240\" height=\"100\" /></center>"
      ]
    },
    {
      "cell_type": "markdown",
      "metadata": {
        "id": "2XTlkL6SioEj"
      },
      "source": [
        "<center><h1>Simple RNN vs LSTM vs GRU</center>"
      ]
    },
    {
      "cell_type": "markdown",
      "metadata": {
        "id": "L38KhgwgpWc7"
      },
      "source": [
        "---\n",
        "# **Table of Contents**\n",
        "---\n",
        "\n",
        "**1.**\t[**Probelm Description**](#section1)<br>\n",
        "**2.**\t[**Importing Libraries**](#section2)<br>\n",
        "**3.**\t[**Data Description and Preprocessing**](#section3)<br>\n",
        "  - **3.1** [**Installing Libraries**](#Section31)\n",
        "\n",
        "**4.**\t[**SimpleRNN Model**](#section4)<br>\n",
        "  - **4.1** [**Model Building**](#Section31)\n",
        "  - **4.2** [**Model Evaluation**](#Section31)\n",
        "\n",
        "**5.**\t[**LSTM Model**](#section6)<br>\n",
        "  - **5.1** [**Model Building**](#Section31)\n",
        "  - **5.2** [**Model Evaluation**](#Section31)\n",
        "\n",
        "**6.**\t[**GRU Model**](#section6)<br>\n",
        "  - **6.1** [**Model Building**](#Section31)\n",
        "  - **6.2** [**Model Evaluation**](#Section31)\n",
        "\n",
        "**7.** [**Conclusion**](#section7)<br>"
      ]
    },
    {
      "cell_type": "markdown",
      "metadata": {
        "id": "8msEFzKaEWZV"
      },
      "source": [
        "---\n",
        "<a name = Section1></a>\n",
        "# **1. Problem Description**\n",
        "---"
      ]
    },
    {
      "cell_type": "markdown",
      "metadata": {
        "id": "cfoMQMW8amso"
      },
      "source": [
        "- Classifying **movie** reviews: a **binary** classification example.\n",
        "\n",
        "- **Two-class** classification, or **binary classification**, may be the most **widely** applied kind of machine-learning **problem**.\n",
        " \n",
        " - In this tutorial, we will see **how** **Simple RNN, LSTM** and **GRU** performing at **classifying** movie reviews as **positive** or **negative**, based on the text content of the **reviews**."
      ]
    },
    {
      "cell_type": "markdown",
      "metadata": {
        "id": "NeB-zLy3E5SA"
      },
      "source": [
        "---\n",
        "<a name = Section3></a>\n",
        "# **2. Installing & Importing Libraries**\n",
        "---"
      ]
    },
    {
      "cell_type": "code",
      "metadata": {
        "id": "ItkIWd-QuyJn",
        "colab": {
          "base_uri": "https://localhost:8080/"
        },
        "outputId": "948f7dba-5435-4bd4-a90a-5522127c40fc"
      },
      "source": [
        "# Import tensorflow 2.x\n",
        "# This code block will only work in Google Colab.\n",
        "try:\n",
        "    # %tensorflow_version only exists in Colab.\n",
        "    %tensorflow_version 2.x\n",
        "except Exception:\n",
        "    pass"
      ],
      "execution_count": null,
      "outputs": [
        {
          "output_type": "stream",
          "name": "stdout",
          "text": [
            "Colab only includes TensorFlow 2.x; %tensorflow_version has no effect.\n"
          ]
        }
      ]
    },
    {
      "cell_type": "code",
      "source": [
        "import tensorflow as tf\n",
        "print(tf.__version__)"
      ],
      "metadata": {
        "colab": {
          "base_uri": "https://localhost:8080/"
        },
        "id": "jpA_l3YQQ0fI",
        "outputId": "e3b69e15-a741-4f08-b1ec-a1610b13f510"
      },
      "execution_count": null,
      "outputs": [
        {
          "output_type": "stream",
          "name": "stdout",
          "text": [
            "2.9.2\n"
          ]
        }
      ]
    },
    {
      "cell_type": "code",
      "source": [
        "import numpy as np\n",
        "import pandas as pd\n",
        "\n",
        "import matplotlib.pyplot as plt\n",
        "%matplotlib inline\n",
        "\n",
        "import string\n",
        "from string import punctuation\n",
        "import re\n",
        "import nltk\n",
        "from nltk.corpus import stopwords\n",
        "from bs4 import BeautifulSoup\n",
        "import warnings\n",
        "warnings.filterwarnings('ignore') "
      ],
      "metadata": {
        "id": "01I9051-Qrnh"
      },
      "execution_count": null,
      "outputs": []
    },
    {
      "cell_type": "code",
      "metadata": {
        "id": "AvN5HYrA9Dfe"
      },
      "source": [
        "from tensorflow import keras\n",
        "from tensorflow.keras import layers\n",
        "from tensorflow.keras.models import Sequential\n",
        "from tensorflow.keras.layers import Dense, Embedding, LSTM, Dropout,GRU,SimpleRNN\n",
        "from tensorflow.keras import optimizers\n",
        "from tensorflow.keras.callbacks import ReduceLROnPlateau\n",
        "from tensorflow.keras.preprocessing.text import Tokenizer\n",
        "from keras.utils import to_categorical\n",
        "from tensorflow.keras.preprocessing.sequence import pad_sequences\n",
        "from sklearn.metrics import accuracy_score\n"
      ],
      "execution_count": null,
      "outputs": []
    },
    {
      "cell_type": "markdown",
      "metadata": {
        "id": "YJikbIxDMvQZ"
      },
      "source": [
        " **Note:**\n",
        " \n",
        " - We are **encountering** an error while loading **dataset** from keras library with numpy 1.16\n",
        " \n",
        " - So install **numpy 1.14** using below cell and **restart** the session.\n",
        " \n",
        " - You don't have to **re-run** the below cell once you have **restarted** the session after installing numpy 1.14"
      ]
    },
    {
      "cell_type": "code",
      "metadata": {
        "id": "k-UBRTzIMxd-"
      },
      "source": [
        "# If current version of numpy gives an error while running the dataset below, then run this cell.\n",
        "# Otherwise skip this cell.\n",
        "\n",
        "# !pip install numpy==1.14.2\n",
        "\n",
        "# Restart the session after installing and don't run this cell again after restarting the session"
      ],
      "execution_count": null,
      "outputs": []
    },
    {
      "cell_type": "markdown",
      "metadata": {
        "id": "VpH4urRiVPON"
      },
      "source": [
        "---\n",
        "<a name = Section4></a>\n",
        "# **3. Data Description and Preprocessing**\n",
        "---"
      ]
    },
    {
      "cell_type": "markdown",
      "metadata": {
        "id": "p05ig7T6raMV"
      },
      "source": [
        "<center><img src=\"https://raw.githubusercontent.com/insaid2018/DeepLearning/master/images/dataset-original.jpg\" width=\"800\" height=\"400\" /></center>"
      ]
    },
    {
      "cell_type": "markdown",
      "metadata": {
        "id": "EwKTxEZxRVT6"
      },
      "source": [
        "**The IMDB dataset**\n",
        "\n",
        " - You’ll work with the **IMDB** dataset: a set of **50,000** highly polarized reviews from the Internet **Movie** Database.  \n",
        " \n",
        " - They’re split into **25,000 reviews for training** and **25,000 reviews for testing**, each set consisting of **50% negative** and **50% positive reviews**.\n",
        " \n",
        " - The IMDB dataset **comes packaged with Keras**. It has\n",
        "**already been preprocessed**: the reviews (sequences of words) have been turned into sequences of integers, where each **integer** stands for a **specific** word in a dictionary."
      ]
    },
    {
      "cell_type": "markdown",
      "metadata": {
        "id": "GznezNI7SaKs"
      },
      "source": [
        " - The argument **num_words=10000** means you’ll only keep the top **10,000** most frequently occurring words in the training data. \n",
        "\n",
        "- Rare words will be **discarded**. This allows you to work with vector data of manageable size.\n",
        "\n",
        "- The variables **train_data** and **test_data** are **lists of reviews**; each review is a list of word indices (encoding a sequence of words). \n",
        "\n",
        "- **train_labels** and **test_labels** are lists of 0s and 1s, where **0** stands for **negative** and **1** stands for positive."
      ]
    },
    {
      "cell_type": "code",
      "source": [
        "# Loading the data\n",
        "data = pd.read_csv(\"https://gitlab.com/academics3/insaid-data/-/raw/main/Casestudy%20Data/IMDB_Dataset.csv\")"
      ],
      "metadata": {
        "id": "ZoZ_kRVE_XUT"
      },
      "execution_count": null,
      "outputs": []
    },
    {
      "cell_type": "code",
      "source": [
        "data.head()"
      ],
      "metadata": {
        "id": "wRIEZ9wR_XRb",
        "colab": {
          "base_uri": "https://localhost:8080/",
          "height": 206
        },
        "outputId": "1c25a0e7-1b48-4f69-957b-43df9c3ac11d"
      },
      "execution_count": null,
      "outputs": [
        {
          "output_type": "execute_result",
          "data": {
            "text/plain": [
              "                                              review sentiment\n",
              "0  One of the other reviewers has mentioned that ...  positive\n",
              "1  A wonderful little production. <br /><br />The...  positive\n",
              "2  I thought this was a wonderful way to spend ti...  positive\n",
              "3  Basically there's a family where a little boy ...  negative\n",
              "4  Petter Mattei's \"Love in the Time of Money\" is...  positive"
            ],
            "text/html": [
              "\n",
              "  <div id=\"df-4a7d00b7-3957-4580-8d80-bd50acaa28c7\">\n",
              "    <div class=\"colab-df-container\">\n",
              "      <div>\n",
              "<style scoped>\n",
              "    .dataframe tbody tr th:only-of-type {\n",
              "        vertical-align: middle;\n",
              "    }\n",
              "\n",
              "    .dataframe tbody tr th {\n",
              "        vertical-align: top;\n",
              "    }\n",
              "\n",
              "    .dataframe thead th {\n",
              "        text-align: right;\n",
              "    }\n",
              "</style>\n",
              "<table border=\"1\" class=\"dataframe\">\n",
              "  <thead>\n",
              "    <tr style=\"text-align: right;\">\n",
              "      <th></th>\n",
              "      <th>review</th>\n",
              "      <th>sentiment</th>\n",
              "    </tr>\n",
              "  </thead>\n",
              "  <tbody>\n",
              "    <tr>\n",
              "      <th>0</th>\n",
              "      <td>One of the other reviewers has mentioned that ...</td>\n",
              "      <td>positive</td>\n",
              "    </tr>\n",
              "    <tr>\n",
              "      <th>1</th>\n",
              "      <td>A wonderful little production. &lt;br /&gt;&lt;br /&gt;The...</td>\n",
              "      <td>positive</td>\n",
              "    </tr>\n",
              "    <tr>\n",
              "      <th>2</th>\n",
              "      <td>I thought this was a wonderful way to spend ti...</td>\n",
              "      <td>positive</td>\n",
              "    </tr>\n",
              "    <tr>\n",
              "      <th>3</th>\n",
              "      <td>Basically there's a family where a little boy ...</td>\n",
              "      <td>negative</td>\n",
              "    </tr>\n",
              "    <tr>\n",
              "      <th>4</th>\n",
              "      <td>Petter Mattei's \"Love in the Time of Money\" is...</td>\n",
              "      <td>positive</td>\n",
              "    </tr>\n",
              "  </tbody>\n",
              "</table>\n",
              "</div>\n",
              "      <button class=\"colab-df-convert\" onclick=\"convertToInteractive('df-4a7d00b7-3957-4580-8d80-bd50acaa28c7')\"\n",
              "              title=\"Convert this dataframe to an interactive table.\"\n",
              "              style=\"display:none;\">\n",
              "        \n",
              "  <svg xmlns=\"http://www.w3.org/2000/svg\" height=\"24px\"viewBox=\"0 0 24 24\"\n",
              "       width=\"24px\">\n",
              "    <path d=\"M0 0h24v24H0V0z\" fill=\"none\"/>\n",
              "    <path d=\"M18.56 5.44l.94 2.06.94-2.06 2.06-.94-2.06-.94-.94-2.06-.94 2.06-2.06.94zm-11 1L8.5 8.5l.94-2.06 2.06-.94-2.06-.94L8.5 2.5l-.94 2.06-2.06.94zm10 10l.94 2.06.94-2.06 2.06-.94-2.06-.94-.94-2.06-.94 2.06-2.06.94z\"/><path d=\"M17.41 7.96l-1.37-1.37c-.4-.4-.92-.59-1.43-.59-.52 0-1.04.2-1.43.59L10.3 9.45l-7.72 7.72c-.78.78-.78 2.05 0 2.83L4 21.41c.39.39.9.59 1.41.59.51 0 1.02-.2 1.41-.59l7.78-7.78 2.81-2.81c.8-.78.8-2.07 0-2.86zM5.41 20L4 18.59l7.72-7.72 1.47 1.35L5.41 20z\"/>\n",
              "  </svg>\n",
              "      </button>\n",
              "      \n",
              "  <style>\n",
              "    .colab-df-container {\n",
              "      display:flex;\n",
              "      flex-wrap:wrap;\n",
              "      gap: 12px;\n",
              "    }\n",
              "\n",
              "    .colab-df-convert {\n",
              "      background-color: #E8F0FE;\n",
              "      border: none;\n",
              "      border-radius: 50%;\n",
              "      cursor: pointer;\n",
              "      display: none;\n",
              "      fill: #1967D2;\n",
              "      height: 32px;\n",
              "      padding: 0 0 0 0;\n",
              "      width: 32px;\n",
              "    }\n",
              "\n",
              "    .colab-df-convert:hover {\n",
              "      background-color: #E2EBFA;\n",
              "      box-shadow: 0px 1px 2px rgba(60, 64, 67, 0.3), 0px 1px 3px 1px rgba(60, 64, 67, 0.15);\n",
              "      fill: #174EA6;\n",
              "    }\n",
              "\n",
              "    [theme=dark] .colab-df-convert {\n",
              "      background-color: #3B4455;\n",
              "      fill: #D2E3FC;\n",
              "    }\n",
              "\n",
              "    [theme=dark] .colab-df-convert:hover {\n",
              "      background-color: #434B5C;\n",
              "      box-shadow: 0px 1px 3px 1px rgba(0, 0, 0, 0.15);\n",
              "      filter: drop-shadow(0px 1px 2px rgba(0, 0, 0, 0.3));\n",
              "      fill: #FFFFFF;\n",
              "    }\n",
              "  </style>\n",
              "\n",
              "      <script>\n",
              "        const buttonEl =\n",
              "          document.querySelector('#df-4a7d00b7-3957-4580-8d80-bd50acaa28c7 button.colab-df-convert');\n",
              "        buttonEl.style.display =\n",
              "          google.colab.kernel.accessAllowed ? 'block' : 'none';\n",
              "\n",
              "        async function convertToInteractive(key) {\n",
              "          const element = document.querySelector('#df-4a7d00b7-3957-4580-8d80-bd50acaa28c7');\n",
              "          const dataTable =\n",
              "            await google.colab.kernel.invokeFunction('convertToInteractive',\n",
              "                                                     [key], {});\n",
              "          if (!dataTable) return;\n",
              "\n",
              "          const docLinkHtml = 'Like what you see? Visit the ' +\n",
              "            '<a target=\"_blank\" href=https://colab.research.google.com/notebooks/data_table.ipynb>data table notebook</a>'\n",
              "            + ' to learn more about interactive tables.';\n",
              "          element.innerHTML = '';\n",
              "          dataTable['output_type'] = 'display_data';\n",
              "          await google.colab.output.renderOutput(dataTable, element);\n",
              "          const docLink = document.createElement('div');\n",
              "          docLink.innerHTML = docLinkHtml;\n",
              "          element.appendChild(docLink);\n",
              "        }\n",
              "      </script>\n",
              "    </div>\n",
              "  </div>\n",
              "  "
            ]
          },
          "metadata": {},
          "execution_count": 7
        }
      ]
    },
    {
      "cell_type": "code",
      "source": [
        "data['sentiment'] = data['sentiment'].replace('positive', 1)\n",
        "data['sentiment'] = data['sentiment'].replace('negative', 0)"
      ],
      "metadata": {
        "id": "zr3cSrhPOgcC"
      },
      "execution_count": null,
      "outputs": []
    },
    {
      "cell_type": "code",
      "source": [
        "data.head()"
      ],
      "metadata": {
        "id": "IKjj08Mv_XOv",
        "colab": {
          "base_uri": "https://localhost:8080/",
          "height": 206
        },
        "outputId": "1926577f-42ba-43dd-ec2b-4d17d0f23eb9"
      },
      "execution_count": null,
      "outputs": [
        {
          "output_type": "execute_result",
          "data": {
            "text/plain": [
              "                                              review  sentiment\n",
              "0  One of the other reviewers has mentioned that ...          1\n",
              "1  A wonderful little production. <br /><br />The...          1\n",
              "2  I thought this was a wonderful way to spend ti...          1\n",
              "3  Basically there's a family where a little boy ...          0\n",
              "4  Petter Mattei's \"Love in the Time of Money\" is...          1"
            ],
            "text/html": [
              "\n",
              "  <div id=\"df-af0ed377-ab6a-403f-93f0-ed25d13bd0ca\">\n",
              "    <div class=\"colab-df-container\">\n",
              "      <div>\n",
              "<style scoped>\n",
              "    .dataframe tbody tr th:only-of-type {\n",
              "        vertical-align: middle;\n",
              "    }\n",
              "\n",
              "    .dataframe tbody tr th {\n",
              "        vertical-align: top;\n",
              "    }\n",
              "\n",
              "    .dataframe thead th {\n",
              "        text-align: right;\n",
              "    }\n",
              "</style>\n",
              "<table border=\"1\" class=\"dataframe\">\n",
              "  <thead>\n",
              "    <tr style=\"text-align: right;\">\n",
              "      <th></th>\n",
              "      <th>review</th>\n",
              "      <th>sentiment</th>\n",
              "    </tr>\n",
              "  </thead>\n",
              "  <tbody>\n",
              "    <tr>\n",
              "      <th>0</th>\n",
              "      <td>One of the other reviewers has mentioned that ...</td>\n",
              "      <td>1</td>\n",
              "    </tr>\n",
              "    <tr>\n",
              "      <th>1</th>\n",
              "      <td>A wonderful little production. &lt;br /&gt;&lt;br /&gt;The...</td>\n",
              "      <td>1</td>\n",
              "    </tr>\n",
              "    <tr>\n",
              "      <th>2</th>\n",
              "      <td>I thought this was a wonderful way to spend ti...</td>\n",
              "      <td>1</td>\n",
              "    </tr>\n",
              "    <tr>\n",
              "      <th>3</th>\n",
              "      <td>Basically there's a family where a little boy ...</td>\n",
              "      <td>0</td>\n",
              "    </tr>\n",
              "    <tr>\n",
              "      <th>4</th>\n",
              "      <td>Petter Mattei's \"Love in the Time of Money\" is...</td>\n",
              "      <td>1</td>\n",
              "    </tr>\n",
              "  </tbody>\n",
              "</table>\n",
              "</div>\n",
              "      <button class=\"colab-df-convert\" onclick=\"convertToInteractive('df-af0ed377-ab6a-403f-93f0-ed25d13bd0ca')\"\n",
              "              title=\"Convert this dataframe to an interactive table.\"\n",
              "              style=\"display:none;\">\n",
              "        \n",
              "  <svg xmlns=\"http://www.w3.org/2000/svg\" height=\"24px\"viewBox=\"0 0 24 24\"\n",
              "       width=\"24px\">\n",
              "    <path d=\"M0 0h24v24H0V0z\" fill=\"none\"/>\n",
              "    <path d=\"M18.56 5.44l.94 2.06.94-2.06 2.06-.94-2.06-.94-.94-2.06-.94 2.06-2.06.94zm-11 1L8.5 8.5l.94-2.06 2.06-.94-2.06-.94L8.5 2.5l-.94 2.06-2.06.94zm10 10l.94 2.06.94-2.06 2.06-.94-2.06-.94-.94-2.06-.94 2.06-2.06.94z\"/><path d=\"M17.41 7.96l-1.37-1.37c-.4-.4-.92-.59-1.43-.59-.52 0-1.04.2-1.43.59L10.3 9.45l-7.72 7.72c-.78.78-.78 2.05 0 2.83L4 21.41c.39.39.9.59 1.41.59.51 0 1.02-.2 1.41-.59l7.78-7.78 2.81-2.81c.8-.78.8-2.07 0-2.86zM5.41 20L4 18.59l7.72-7.72 1.47 1.35L5.41 20z\"/>\n",
              "  </svg>\n",
              "      </button>\n",
              "      \n",
              "  <style>\n",
              "    .colab-df-container {\n",
              "      display:flex;\n",
              "      flex-wrap:wrap;\n",
              "      gap: 12px;\n",
              "    }\n",
              "\n",
              "    .colab-df-convert {\n",
              "      background-color: #E8F0FE;\n",
              "      border: none;\n",
              "      border-radius: 50%;\n",
              "      cursor: pointer;\n",
              "      display: none;\n",
              "      fill: #1967D2;\n",
              "      height: 32px;\n",
              "      padding: 0 0 0 0;\n",
              "      width: 32px;\n",
              "    }\n",
              "\n",
              "    .colab-df-convert:hover {\n",
              "      background-color: #E2EBFA;\n",
              "      box-shadow: 0px 1px 2px rgba(60, 64, 67, 0.3), 0px 1px 3px 1px rgba(60, 64, 67, 0.15);\n",
              "      fill: #174EA6;\n",
              "    }\n",
              "\n",
              "    [theme=dark] .colab-df-convert {\n",
              "      background-color: #3B4455;\n",
              "      fill: #D2E3FC;\n",
              "    }\n",
              "\n",
              "    [theme=dark] .colab-df-convert:hover {\n",
              "      background-color: #434B5C;\n",
              "      box-shadow: 0px 1px 3px 1px rgba(0, 0, 0, 0.15);\n",
              "      filter: drop-shadow(0px 1px 2px rgba(0, 0, 0, 0.3));\n",
              "      fill: #FFFFFF;\n",
              "    }\n",
              "  </style>\n",
              "\n",
              "      <script>\n",
              "        const buttonEl =\n",
              "          document.querySelector('#df-af0ed377-ab6a-403f-93f0-ed25d13bd0ca button.colab-df-convert');\n",
              "        buttonEl.style.display =\n",
              "          google.colab.kernel.accessAllowed ? 'block' : 'none';\n",
              "\n",
              "        async function convertToInteractive(key) {\n",
              "          const element = document.querySelector('#df-af0ed377-ab6a-403f-93f0-ed25d13bd0ca');\n",
              "          const dataTable =\n",
              "            await google.colab.kernel.invokeFunction('convertToInteractive',\n",
              "                                                     [key], {});\n",
              "          if (!dataTable) return;\n",
              "\n",
              "          const docLinkHtml = 'Like what you see? Visit the ' +\n",
              "            '<a target=\"_blank\" href=https://colab.research.google.com/notebooks/data_table.ipynb>data table notebook</a>'\n",
              "            + ' to learn more about interactive tables.';\n",
              "          element.innerHTML = '';\n",
              "          dataTable['output_type'] = 'display_data';\n",
              "          await google.colab.output.renderOutput(dataTable, element);\n",
              "          const docLink = document.createElement('div');\n",
              "          docLink.innerHTML = docLinkHtml;\n",
              "          element.appendChild(docLink);\n",
              "        }\n",
              "      </script>\n",
              "    </div>\n",
              "  </div>\n",
              "  "
            ]
          },
          "metadata": {},
          "execution_count": 9
        }
      ]
    },
    {
      "cell_type": "markdown",
      "metadata": {
        "id": "KThbh5wDGK8a"
      },
      "source": [
        "<a name = Section31></a>\n",
        "### **3.1 Data Preprocessing**"
      ]
    },
    {
      "cell_type": "code",
      "source": [
        "# Downloading stopwords\n",
        "nltk.download('stopwords')\n",
        "stop = set(stopwords.words('english'))\n",
        "punctuation = list(string.punctuation)\n",
        "stop.update(punctuation)"
      ],
      "metadata": {
        "colab": {
          "base_uri": "https://localhost:8080/"
        },
        "id": "rFbEHZfULaBO",
        "outputId": "8606b804-9197-4209-9f7a-4ac94aebde30"
      },
      "execution_count": null,
      "outputs": [
        {
          "output_type": "stream",
          "name": "stderr",
          "text": [
            "[nltk_data] Downloading package stopwords to /root/nltk_data...\n",
            "[nltk_data]   Unzipping corpora/stopwords.zip.\n"
          ]
        }
      ]
    },
    {
      "cell_type": "code",
      "source": [
        "#Removing the Html tags\n",
        "def strip_html(text):\n",
        "    soup = BeautifulSoup(text, \"html.parser\")\n",
        "    return soup.get_text()"
      ],
      "metadata": {
        "id": "40S3VKlpNvuf"
      },
      "execution_count": null,
      "outputs": []
    },
    {
      "cell_type": "code",
      "source": [
        "#Removing the square brackets and urls\n",
        "def remove_between_square_brackets(text):\n",
        "    text = re.sub('\\[[^]]*\\]', '', text)\n",
        "    return re.sub(r'http\\S+', '', text)"
      ],
      "metadata": {
        "id": "XcjcaLacNw-t"
      },
      "execution_count": null,
      "outputs": []
    },
    {
      "cell_type": "code",
      "source": [
        "#Removing the stopwords from text\n",
        "def remove_stopwords(text):\n",
        "    final_text = []\n",
        "    for i in text.split():\n",
        "        if i.strip().lower() not in stop:\n",
        "            final_text.append(i.strip())\n",
        "    return \" \".join(final_text)"
      ],
      "metadata": {
        "id": "NeJX51iPNyfq"
      },
      "execution_count": null,
      "outputs": []
    },
    {
      "cell_type": "code",
      "source": [
        "#Removing the noisy text\n",
        "def denoise_text(text):\n",
        "    text = strip_html(text)\n",
        "    text = remove_between_square_brackets(text)\n",
        "    text = remove_stopwords(text)\n",
        "    return text"
      ],
      "metadata": {
        "id": "cbu5sGIIN0C-"
      },
      "execution_count": null,
      "outputs": []
    },
    {
      "cell_type": "code",
      "source": [
        "#Apply function on review column\n",
        "data['review']=data['review'].apply(denoise_text)"
      ],
      "metadata": {
        "id": "CzDboj53N3CJ"
      },
      "execution_count": null,
      "outputs": []
    },
    {
      "cell_type": "code",
      "source": [
        "data.head()"
      ],
      "metadata": {
        "colab": {
          "base_uri": "https://localhost:8080/",
          "height": 206
        },
        "id": "5RWjOOaoShYy",
        "outputId": "e8c8ab03-7995-40d8-ac1d-4945ace457f7"
      },
      "execution_count": null,
      "outputs": [
        {
          "output_type": "execute_result",
          "data": {
            "text/plain": [
              "                                              review  sentiment\n",
              "0  One reviewers mentioned watching 1 Oz episode ...          1\n",
              "1  wonderful little production. filming technique...          1\n",
              "2  thought wonderful way spend time hot summer we...          1\n",
              "3  Basically there's family little boy (Jake) thi...          0\n",
              "4  Petter Mattei's \"Love Time Money\" visually stu...          1"
            ],
            "text/html": [
              "\n",
              "  <div id=\"df-84a40e0b-b20f-480a-8c47-fe5798a2658c\">\n",
              "    <div class=\"colab-df-container\">\n",
              "      <div>\n",
              "<style scoped>\n",
              "    .dataframe tbody tr th:only-of-type {\n",
              "        vertical-align: middle;\n",
              "    }\n",
              "\n",
              "    .dataframe tbody tr th {\n",
              "        vertical-align: top;\n",
              "    }\n",
              "\n",
              "    .dataframe thead th {\n",
              "        text-align: right;\n",
              "    }\n",
              "</style>\n",
              "<table border=\"1\" class=\"dataframe\">\n",
              "  <thead>\n",
              "    <tr style=\"text-align: right;\">\n",
              "      <th></th>\n",
              "      <th>review</th>\n",
              "      <th>sentiment</th>\n",
              "    </tr>\n",
              "  </thead>\n",
              "  <tbody>\n",
              "    <tr>\n",
              "      <th>0</th>\n",
              "      <td>One reviewers mentioned watching 1 Oz episode ...</td>\n",
              "      <td>1</td>\n",
              "    </tr>\n",
              "    <tr>\n",
              "      <th>1</th>\n",
              "      <td>wonderful little production. filming technique...</td>\n",
              "      <td>1</td>\n",
              "    </tr>\n",
              "    <tr>\n",
              "      <th>2</th>\n",
              "      <td>thought wonderful way spend time hot summer we...</td>\n",
              "      <td>1</td>\n",
              "    </tr>\n",
              "    <tr>\n",
              "      <th>3</th>\n",
              "      <td>Basically there's family little boy (Jake) thi...</td>\n",
              "      <td>0</td>\n",
              "    </tr>\n",
              "    <tr>\n",
              "      <th>4</th>\n",
              "      <td>Petter Mattei's \"Love Time Money\" visually stu...</td>\n",
              "      <td>1</td>\n",
              "    </tr>\n",
              "  </tbody>\n",
              "</table>\n",
              "</div>\n",
              "      <button class=\"colab-df-convert\" onclick=\"convertToInteractive('df-84a40e0b-b20f-480a-8c47-fe5798a2658c')\"\n",
              "              title=\"Convert this dataframe to an interactive table.\"\n",
              "              style=\"display:none;\">\n",
              "        \n",
              "  <svg xmlns=\"http://www.w3.org/2000/svg\" height=\"24px\"viewBox=\"0 0 24 24\"\n",
              "       width=\"24px\">\n",
              "    <path d=\"M0 0h24v24H0V0z\" fill=\"none\"/>\n",
              "    <path d=\"M18.56 5.44l.94 2.06.94-2.06 2.06-.94-2.06-.94-.94-2.06-.94 2.06-2.06.94zm-11 1L8.5 8.5l.94-2.06 2.06-.94-2.06-.94L8.5 2.5l-.94 2.06-2.06.94zm10 10l.94 2.06.94-2.06 2.06-.94-2.06-.94-.94-2.06-.94 2.06-2.06.94z\"/><path d=\"M17.41 7.96l-1.37-1.37c-.4-.4-.92-.59-1.43-.59-.52 0-1.04.2-1.43.59L10.3 9.45l-7.72 7.72c-.78.78-.78 2.05 0 2.83L4 21.41c.39.39.9.59 1.41.59.51 0 1.02-.2 1.41-.59l7.78-7.78 2.81-2.81c.8-.78.8-2.07 0-2.86zM5.41 20L4 18.59l7.72-7.72 1.47 1.35L5.41 20z\"/>\n",
              "  </svg>\n",
              "      </button>\n",
              "      \n",
              "  <style>\n",
              "    .colab-df-container {\n",
              "      display:flex;\n",
              "      flex-wrap:wrap;\n",
              "      gap: 12px;\n",
              "    }\n",
              "\n",
              "    .colab-df-convert {\n",
              "      background-color: #E8F0FE;\n",
              "      border: none;\n",
              "      border-radius: 50%;\n",
              "      cursor: pointer;\n",
              "      display: none;\n",
              "      fill: #1967D2;\n",
              "      height: 32px;\n",
              "      padding: 0 0 0 0;\n",
              "      width: 32px;\n",
              "    }\n",
              "\n",
              "    .colab-df-convert:hover {\n",
              "      background-color: #E2EBFA;\n",
              "      box-shadow: 0px 1px 2px rgba(60, 64, 67, 0.3), 0px 1px 3px 1px rgba(60, 64, 67, 0.15);\n",
              "      fill: #174EA6;\n",
              "    }\n",
              "\n",
              "    [theme=dark] .colab-df-convert {\n",
              "      background-color: #3B4455;\n",
              "      fill: #D2E3FC;\n",
              "    }\n",
              "\n",
              "    [theme=dark] .colab-df-convert:hover {\n",
              "      background-color: #434B5C;\n",
              "      box-shadow: 0px 1px 3px 1px rgba(0, 0, 0, 0.15);\n",
              "      filter: drop-shadow(0px 1px 2px rgba(0, 0, 0, 0.3));\n",
              "      fill: #FFFFFF;\n",
              "    }\n",
              "  </style>\n",
              "\n",
              "      <script>\n",
              "        const buttonEl =\n",
              "          document.querySelector('#df-84a40e0b-b20f-480a-8c47-fe5798a2658c button.colab-df-convert');\n",
              "        buttonEl.style.display =\n",
              "          google.colab.kernel.accessAllowed ? 'block' : 'none';\n",
              "\n",
              "        async function convertToInteractive(key) {\n",
              "          const element = document.querySelector('#df-84a40e0b-b20f-480a-8c47-fe5798a2658c');\n",
              "          const dataTable =\n",
              "            await google.colab.kernel.invokeFunction('convertToInteractive',\n",
              "                                                     [key], {});\n",
              "          if (!dataTable) return;\n",
              "\n",
              "          const docLinkHtml = 'Like what you see? Visit the ' +\n",
              "            '<a target=\"_blank\" href=https://colab.research.google.com/notebooks/data_table.ipynb>data table notebook</a>'\n",
              "            + ' to learn more about interactive tables.';\n",
              "          element.innerHTML = '';\n",
              "          dataTable['output_type'] = 'display_data';\n",
              "          await google.colab.output.renderOutput(dataTable, element);\n",
              "          const docLink = document.createElement('div');\n",
              "          docLink.innerHTML = docLinkHtml;\n",
              "          element.appendChild(docLink);\n",
              "        }\n",
              "      </script>\n",
              "    </div>\n",
              "  </div>\n",
              "  "
            ]
          },
          "metadata": {},
          "execution_count": 11
        }
      ]
    },
    {
      "cell_type": "markdown",
      "source": [
        "The training on review data is not as simple as **numerical data**. So, it should be converted to **tokenized vectors** for every sentence. "
      ],
      "metadata": {
        "id": "p8Zng7S6SnoW"
      }
    },
    {
      "cell_type": "code",
      "source": [
        "tokenizer = Tokenizer(num_words=10000)\n",
        "#here the mapping is created,  word to integer mapping (only for the top 10000)\n",
        "tokenizer.fit_on_texts(data['review'])\n",
        "#here the mapping is applied to the sentences\n",
        "vector = tokenizer.texts_to_sequences(data['review'])"
      ],
      "metadata": {
        "id": "qNSfj3OLS2Md"
      },
      "execution_count": null,
      "outputs": []
    },
    {
      "cell_type": "code",
      "source": [
        "data['review'].iloc[0]"
      ],
      "metadata": {
        "colab": {
          "base_uri": "https://localhost:8080/",
          "height": 160
        },
        "id": "3EDaXIZlq58P",
        "outputId": "0bf66d13-7a37-42d1-f1ab-99a5b50a9a48"
      },
      "execution_count": null,
      "outputs": [
        {
          "output_type": "execute_result",
          "data": {
            "text/plain": [
              "\"One reviewers mentioned watching 1 Oz episode hooked. right, exactly happened me.The first thing struck Oz brutality unflinching scenes violence, set right word GO. Trust me, show faint hearted timid. show pulls punches regards drugs, sex violence. hardcore, classic use word.It called OZ nickname given Oswald Maximum Security State Penitentary. focuses mainly Emerald City, experimental section prison cells glass fronts face inwards, privacy high agenda. Em City home many..Aryans, Muslims, gangstas, Latinos, Christians, Italians, Irish more....so scuffles, death stares, dodgy dealings shady agreements never far away.I would say main appeal show due fact goes shows dare. Forget pretty pictures painted mainstream audiences, forget charm, forget romance...OZ mess around. first episode ever saw struck nasty surreal, say ready it, watched more, developed taste Oz, got accustomed high levels graphic violence. violence, injustice (crooked guards who'll sold nickel, inmates who'll kill order get away it, well mannered, middle class inmates turned prison bitches due lack street skills prison experience) Watching Oz, may become comfortable uncomfortable viewing....thats get touch darker side.\""
            ],
            "application/vnd.google.colaboratory.intrinsic+json": {
              "type": "string"
            }
          },
          "metadata": {},
          "execution_count": 16
        }
      ]
    },
    {
      "cell_type": "code",
      "source": [
        "vector"
      ],
      "metadata": {
        "id": "Z-yED-w9qp2Y"
      },
      "execution_count": null,
      "outputs": []
    },
    {
      "cell_type": "code",
      "source": [
        "train_set = 40000\n",
        "max_len_text = 500"
      ],
      "metadata": {
        "id": "p96UxcVHUI7j"
      },
      "execution_count": null,
      "outputs": []
    },
    {
      "cell_type": "code",
      "source": [
        "train_data = np.array(vector)[:train_set]\n",
        "train_label = (np.array(data['sentiment'])[:train_set])\n",
        "test_data = np.array(vector)[train_set:]\n",
        "test_label = (np.array(data['sentiment'])[train_set:])"
      ],
      "metadata": {
        "id": "v6BQmciUS2JZ"
      },
      "execution_count": null,
      "outputs": []
    },
    {
      "cell_type": "markdown",
      "metadata": {
        "id": "S__ddPIIVr3C"
      },
      "source": [
        " -  We will **truncate** the each **review** to a length of **500 words**.\n",
        " \n",
        " - Reviews less than **500** words will be **padded** with **zeros** upto a total review length of 500 words."
      ]
    },
    {
      "cell_type": "code",
      "source": [
        "X_train = pad_sequences(train_data, maxlen=max_len_text)\n",
        "X_test = pad_sequences(test_data, maxlen=max_len_text)"
      ],
      "metadata": {
        "id": "ZFXaWPKIUeuY"
      },
      "execution_count": null,
      "outputs": []
    },
    {
      "cell_type": "code",
      "source": [
        "print('input_train shape:', X_train.shape)\n",
        "print('input_test shape:', X_test.shape)"
      ],
      "metadata": {
        "colab": {
          "base_uri": "https://localhost:8080/"
        },
        "id": "KJJQ5wZHUpNo",
        "outputId": "832a9db7-2de5-419a-8c1f-b07dec211360"
      },
      "execution_count": null,
      "outputs": [
        {
          "output_type": "stream",
          "name": "stdout",
          "text": [
            "input_train shape: (40000, 500)\n",
            "input_test shape: (10000, 500)\n"
          ]
        }
      ]
    },
    {
      "cell_type": "markdown",
      "metadata": {
        "id": "9s7DRq2Aop0b"
      },
      "source": [
        "---\n",
        "<a name = Section4></a>\n",
        "# **4. Simple RNN Model**\n",
        "---"
      ]
    },
    {
      "cell_type": "markdown",
      "metadata": {
        "id": "tRs-wLNSGlLH"
      },
      "source": [
        "<a name = Section41></a>\n",
        "### **4.1 Model Building**"
      ]
    },
    {
      "cell_type": "code",
      "source": [
        "model = Sequential()\n",
        "model.add(Embedding(10000,32, input_length=max_len_text))\n",
        "model.add(SimpleRNN(64))\n",
        "model.add(Dense(1, activation='sigmoid'))\n",
        "model.compile(loss='binary_crossentropy', optimizer='adam', metrics=['accuracy'])"
      ],
      "metadata": {
        "id": "cWRD0FBGpBuX"
      },
      "execution_count": null,
      "outputs": []
    },
    {
      "cell_type": "code",
      "source": [
        "model.summary()"
      ],
      "metadata": {
        "colab": {
          "base_uri": "https://localhost:8080/"
        },
        "id": "09wtxz2mlsMm",
        "outputId": "1f747901-19f5-45f1-a2b0-ec5655f62a25"
      },
      "execution_count": null,
      "outputs": [
        {
          "output_type": "stream",
          "name": "stdout",
          "text": [
            "Model: \"sequential\"\n",
            "_________________________________________________________________\n",
            " Layer (type)                Output Shape              Param #   \n",
            "=================================================================\n",
            " embedding (Embedding)       (None, 500, 32)           320000    \n",
            "                                                                 \n",
            " simple_rnn (SimpleRNN)      (None, 64)                6208      \n",
            "                                                                 \n",
            " dense (Dense)               (None, 1)                 65        \n",
            "                                                                 \n",
            "=================================================================\n",
            "Total params: 326,273\n",
            "Trainable params: 326,273\n",
            "Non-trainable params: 0\n",
            "_________________________________________________________________\n"
          ]
        }
      ]
    },
    {
      "cell_type": "code",
      "metadata": {
        "id": "Pc3KPoUMZhMT",
        "colab": {
          "base_uri": "https://localhost:8080/"
        },
        "outputId": "d6548f47-bbee-4888-de3e-5599a969a71f"
      },
      "source": [
        "%%time\n",
        "history1 = model.fit(X_train, train_label,\n",
        "epochs=10,\n",
        "batch_size=128,\n",
        "validation_split=0.2)"
      ],
      "execution_count": null,
      "outputs": [
        {
          "output_type": "stream",
          "name": "stdout",
          "text": [
            "Epoch 1/10\n",
            "250/250 [==============================] - 46s 178ms/step - loss: 0.5168 - accuracy: 0.7190 - val_loss: 0.3912 - val_accuracy: 0.8305\n",
            "Epoch 2/10\n",
            "250/250 [==============================] - 47s 188ms/step - loss: 0.2554 - accuracy: 0.8992 - val_loss: 0.3207 - val_accuracy: 0.8635\n",
            "Epoch 3/10\n",
            "250/250 [==============================] - 46s 184ms/step - loss: 0.1808 - accuracy: 0.9326 - val_loss: 0.3455 - val_accuracy: 0.8735\n",
            "Epoch 4/10\n",
            "250/250 [==============================] - 45s 179ms/step - loss: 0.0848 - accuracy: 0.9727 - val_loss: 0.4229 - val_accuracy: 0.8695\n",
            "Epoch 5/10\n",
            "250/250 [==============================] - 45s 179ms/step - loss: 0.0371 - accuracy: 0.9902 - val_loss: 0.5088 - val_accuracy: 0.8652\n",
            "Epoch 6/10\n",
            "250/250 [==============================] - 45s 180ms/step - loss: 0.0147 - accuracy: 0.9969 - val_loss: 0.5691 - val_accuracy: 0.8649\n",
            "Epoch 7/10\n",
            "250/250 [==============================] - 46s 184ms/step - loss: 0.0092 - accuracy: 0.9981 - val_loss: 0.6144 - val_accuracy: 0.8568\n",
            "Epoch 8/10\n",
            "250/250 [==============================] - 45s 180ms/step - loss: 0.0054 - accuracy: 0.9989 - val_loss: 0.6524 - val_accuracy: 0.8528\n",
            "Epoch 9/10\n",
            "250/250 [==============================] - 45s 180ms/step - loss: 0.0056 - accuracy: 0.9987 - val_loss: 0.7207 - val_accuracy: 0.8512\n",
            "Epoch 10/10\n",
            "250/250 [==============================] - 45s 180ms/step - loss: 0.0138 - accuracy: 0.9955 - val_loss: 0.6987 - val_accuracy: 0.8551\n",
            "CPU times: user 13min 15s, sys: 19.9 s, total: 13min 35s\n",
            "Wall time: 8min 23s\n"
          ]
        }
      ]
    },
    {
      "cell_type": "markdown",
      "metadata": {
        "id": "thlvGFsMGjN9"
      },
      "source": [
        "<a name = Section31></a>\n",
        "### **4.2 Model Evaluation**"
      ]
    },
    {
      "cell_type": "code",
      "metadata": {
        "id": "WL2jo7QENm3r"
      },
      "source": [
        "# Plot the validation and training curves seperately\n",
        "def plot_loss_curves(history):\n",
        "  \"\"\"\n",
        "  Returns seperate loss curves for training and validation metrics.\n",
        "  \"\"\"\n",
        "  loss = history.history[\"loss\"]\n",
        "  val_loss = history.history[\"val_loss\"]\n",
        "\n",
        "  accuracy = history.history[\"accuracy\"]\n",
        "  val_accuracy = history.history[\"val_accuracy\"]\n",
        "\n",
        "  epochs = range(len(history.history[\"loss\"])) # how many epochs did we run for?\n",
        "\n",
        "  # Plot loss\n",
        "  plt.plot(epochs, loss , label=\"training_loss\")\n",
        "  plt.plot(epochs, val_loss, label =\"val_loss\")\n",
        "  plt.title(\"loss\")\n",
        "  plt.xlabel(\"epochs\")\n",
        "  plt.legend()\n",
        "\n",
        "  # Plot accuracy\n",
        "  plt.figure() # if you want ne plot then we use this \n",
        "  plt.plot(epochs, accuracy , label=\"training_accuracy\")\n",
        "  plt.plot(epochs, val_accuracy, label =\"val_accuracy\")\n",
        "  plt.title(\"accuracy\")\n",
        "  plt.xlabel(\"epochs\")\n",
        "  plt.legend()"
      ],
      "execution_count": null,
      "outputs": []
    },
    {
      "cell_type": "code",
      "source": [
        "plot_loss_curves(history1)"
      ],
      "metadata": {
        "colab": {
          "base_uri": "https://localhost:8080/",
          "height": 573
        },
        "id": "nzj2qPjfMHHE",
        "outputId": "5f47d859-3d71-490d-d48b-68cd217d2b6a"
      },
      "execution_count": null,
      "outputs": [
        {
          "output_type": "display_data",
          "data": {
            "text/plain": [
              "<Figure size 432x288 with 1 Axes>"
            ],
            "image/png": "[encoded data removed]"
          },
          "metadata": {
            "needs_background": "light"
          }
        },
        {
          "output_type": "display_data",
          "data": {
            "text/plain": [
              "<Figure size 432x288 with 1 Axes>"
            ],
            "image/png": "[encoded data removed]"
          },
          "metadata": {
            "needs_background": "light"
          }
        }
      ]
    },
    {
      "cell_type": "markdown",
      "metadata": {
        "id": "WmIAHaxRQ1Oc"
      },
      "source": [
        "**Observation:**\n",
        "\n",
        "- The highest **accuracy** on validation dataset is **85%**"
      ]
    },
    {
      "cell_type": "markdown",
      "metadata": {
        "id": "dkiFyNPzo-7B"
      },
      "source": [
        "---\n",
        "<a name = Section5></a>\n",
        "# **5. LSTM Model**\n",
        "---"
      ]
    },
    {
      "cell_type": "markdown",
      "metadata": {
        "id": "vumqNJJBHt83"
      },
      "source": [
        "<a name = Section51></a>\n",
        "### **5.1 Model Building**"
      ]
    },
    {
      "cell_type": "code",
      "metadata": {
        "id": "VMpDc1WNOTWh"
      },
      "source": [
        "#lstm\n",
        "model2 = Sequential()\n",
        "model2.add(Embedding(10000,32, input_length=max_len_text))\n",
        "model2.add(LSTM(64))\n",
        "model2.add(Dropout(0.5))\n",
        "model2.add(Dense(1, activation='sigmoid'))\n",
        "model2.compile(loss='binary_crossentropy', optimizer='adam', metrics=['accuracy'])"
      ],
      "execution_count": null,
      "outputs": []
    },
    {
      "cell_type": "code",
      "source": [
        "model2.summary()"
      ],
      "metadata": {
        "colab": {
          "base_uri": "https://localhost:8080/"
        },
        "id": "hqDV7MyAyXjF",
        "outputId": "8e8b3f03-9a75-41c1-bea7-2db78155e666"
      },
      "execution_count": null,
      "outputs": [
        {
          "output_type": "stream",
          "name": "stdout",
          "text": [
            "Model: \"sequential_1\"\n",
            "_________________________________________________________________\n",
            " Layer (type)                Output Shape              Param #   \n",
            "=================================================================\n",
            " embedding_1 (Embedding)     (None, 500, 32)           320000    \n",
            "                                                                 \n",
            " lstm (LSTM)                 (None, 64)                24832     \n",
            "                                                                 \n",
            " dropout (Dropout)           (None, 64)                0         \n",
            "                                                                 \n",
            " dense_1 (Dense)             (None, 1)                 65        \n",
            "                                                                 \n",
            "=================================================================\n",
            "Total params: 344,897\n",
            "Trainable params: 344,897\n",
            "Non-trainable params: 0\n",
            "_________________________________________________________________\n"
          ]
        }
      ]
    },
    {
      "cell_type": "code",
      "metadata": {
        "id": "5E1Z6Nn1ALLc",
        "colab": {
          "base_uri": "https://localhost:8080/"
        },
        "outputId": "eeb8353d-3f50-4885-c538-5d5ff06bda45"
      },
      "source": [
        "%%time\n",
        "history2 = model2.fit(X_train, train_label,\n",
        "epochs=10,\n",
        "batch_size=128,\n",
        "validation_split=0.2)"
      ],
      "execution_count": null,
      "outputs": [
        {
          "output_type": "stream",
          "name": "stdout",
          "text": [
            "Epoch 1/10\n",
            "250/250 [==============================] - 183s 726ms/step - loss: 0.4231 - accuracy: 0.7938 - val_loss: 0.2702 - val_accuracy: 0.8915\n",
            "Epoch 2/10\n",
            "250/250 [==============================] - 184s 735ms/step - loss: 0.2188 - accuracy: 0.9165 - val_loss: 0.3095 - val_accuracy: 0.8729\n",
            "Epoch 3/10\n",
            "250/250 [==============================] - 184s 735ms/step - loss: 0.1744 - accuracy: 0.9357 - val_loss: 0.2969 - val_accuracy: 0.8886\n",
            "Epoch 4/10\n",
            "250/250 [==============================] - 184s 735ms/step - loss: 0.1409 - accuracy: 0.9516 - val_loss: 0.3507 - val_accuracy: 0.8796\n",
            "Epoch 5/10\n",
            "250/250 [==============================] - 183s 734ms/step - loss: 0.1116 - accuracy: 0.9618 - val_loss: 0.3438 - val_accuracy: 0.8814\n",
            "Epoch 6/10\n",
            "250/250 [==============================] - 183s 734ms/step - loss: 0.0950 - accuracy: 0.9682 - val_loss: 0.3895 - val_accuracy: 0.8723\n",
            "Epoch 7/10\n",
            "250/250 [==============================] - 184s 735ms/step - loss: 0.0952 - accuracy: 0.9668 - val_loss: 0.3903 - val_accuracy: 0.8701\n",
            "Epoch 8/10\n",
            "250/250 [==============================] - 184s 735ms/step - loss: 0.0619 - accuracy: 0.9803 - val_loss: 0.4622 - val_accuracy: 0.8671\n",
            "Epoch 9/10\n",
            "250/250 [==============================] - 184s 735ms/step - loss: 0.0564 - accuracy: 0.9819 - val_loss: 0.4622 - val_accuracy: 0.8634\n",
            "Epoch 10/10\n",
            "250/250 [==============================] - 183s 734ms/step - loss: 0.0490 - accuracy: 0.9851 - val_loss: 0.5775 - val_accuracy: 0.8679\n",
            "CPU times: user 50min 14s, sys: 3min 25s, total: 53min 40s\n",
            "Wall time: 31min 23s\n"
          ]
        }
      ]
    },
    {
      "cell_type": "markdown",
      "metadata": {
        "id": "iO2-39IAHt5g"
      },
      "source": [
        "<a name = Section52></a>\n",
        "### **5.2 Model Evaluation**"
      ]
    },
    {
      "cell_type": "code",
      "metadata": {
        "id": "P1mFSfbWPbwd",
        "colab": {
          "base_uri": "https://localhost:8080/",
          "height": 573
        },
        "outputId": "c4b38fde-d4f6-45a9-db72-4f4b2504cabd"
      },
      "source": [
        "plot_loss_curves(history2)"
      ],
      "execution_count": null,
      "outputs": [
        {
          "output_type": "display_data",
          "data": {
            "text/plain": [
              "<Figure size 432x288 with 1 Axes>"
            ],
            "image/png": "[encoded data removed]"
          },
          "metadata": {
            "needs_background": "light"
          }
        },
        {
          "output_type": "display_data",
          "data": {
            "text/plain": [
              "<Figure size 432x288 with 1 Axes>"
            ],
            "image/png": "[encoded data removed]"
          },
          "metadata": {
            "needs_background": "light"
          }
        }
      ]
    },
    {
      "cell_type": "markdown",
      "metadata": {
        "id": "RzVInSRmRFVO"
      },
      "source": [
        "**Observation:** \n",
        "\n",
        "- The highest **accuracy** on validation dataset is **86%**.\n",
        "\n",
        "- We can clearly see **LSTM out performs SimpleRNN**."
      ]
    },
    {
      "cell_type": "markdown",
      "metadata": {
        "id": "mmmeWve3H6ZV"
      },
      "source": [
        "---\n",
        "<a name = Section6></a>\n",
        "# **6. GRU Model**\n",
        "---"
      ]
    },
    {
      "cell_type": "markdown",
      "metadata": {
        "id": "dZMYak9VH6ZV"
      },
      "source": [
        "<a name = Section51></a>\n",
        "### **6.1 Model Building**"
      ]
    },
    {
      "cell_type": "code",
      "metadata": {
        "id": "T7xfD8OlyOL1"
      },
      "source": [
        "#GRU\n",
        "\n",
        "model3 = Sequential()\n",
        "model3.add(Embedding(10000,32, input_length=max_len_text))\n",
        "model3.add(GRU(64))\n",
        "model3.add(Dropout(0.5))\n",
        "model3.add(Dense(1, activation='sigmoid'))\n",
        "model3.compile(loss='binary_crossentropy', optimizer='adam', metrics=['accuracy'])"
      ],
      "execution_count": null,
      "outputs": []
    },
    {
      "cell_type": "code",
      "source": [
        "model3.summary()"
      ],
      "metadata": {
        "colab": {
          "base_uri": "https://localhost:8080/"
        },
        "id": "-TfmdFOX12p1",
        "outputId": "30324340-160b-4e27-ee18-7d085341a5e3"
      },
      "execution_count": null,
      "outputs": [
        {
          "output_type": "stream",
          "name": "stdout",
          "text": [
            "Model: \"sequential_2\"\n",
            "_________________________________________________________________\n",
            " Layer (type)                Output Shape              Param #   \n",
            "=================================================================\n",
            " embedding_2 (Embedding)     (None, 500, 32)           320000    \n",
            "                                                                 \n",
            " gru (GRU)                   (None, 64)                18816     \n",
            "                                                                 \n",
            " dropout_1 (Dropout)         (None, 64)                0         \n",
            "                                                                 \n",
            " dense_2 (Dense)             (None, 1)                 65        \n",
            "                                                                 \n",
            "=================================================================\n",
            "Total params: 338,881\n",
            "Trainable params: 338,881\n",
            "Non-trainable params: 0\n",
            "_________________________________________________________________\n"
          ]
        }
      ]
    },
    {
      "cell_type": "code",
      "metadata": {
        "id": "w4Eza-BpAQNA",
        "colab": {
          "base_uri": "https://localhost:8080/"
        },
        "outputId": "f640a1e3-4203-43b3-afde-e4cc655598bd"
      },
      "source": [
        "%%time\n",
        "history3 = model3.fit(X_train, train_label,\n",
        "epochs=10,\n",
        "batch_size=128,\n",
        "validation_split=0.2)"
      ],
      "execution_count": null,
      "outputs": [
        {
          "output_type": "stream",
          "name": "stdout",
          "text": [
            "Epoch 1/10\n",
            "250/250 [==============================] - 157s 621ms/step - loss: 0.4155 - accuracy: 0.7943 - val_loss: 0.2848 - val_accuracy: 0.8859\n",
            "Epoch 2/10\n",
            "250/250 [==============================] - 153s 614ms/step - loss: 0.2204 - accuracy: 0.9153 - val_loss: 0.2928 - val_accuracy: 0.8827\n",
            "Epoch 3/10\n",
            "250/250 [==============================] - 154s 616ms/step - loss: 0.1746 - accuracy: 0.9373 - val_loss: 0.2967 - val_accuracy: 0.8838\n",
            "Epoch 4/10\n",
            "250/250 [==============================] - 166s 663ms/step - loss: 0.1475 - accuracy: 0.9472 - val_loss: 0.3217 - val_accuracy: 0.8759\n",
            "Epoch 5/10\n",
            "250/250 [==============================] - 163s 653ms/step - loss: 0.1179 - accuracy: 0.9587 - val_loss: 0.3477 - val_accuracy: 0.8748\n",
            "Epoch 6/10\n",
            "250/250 [==============================] - 163s 651ms/step - loss: 0.0989 - accuracy: 0.9663 - val_loss: 0.3837 - val_accuracy: 0.8702\n",
            "Epoch 7/10\n",
            "250/250 [==============================] - 154s 617ms/step - loss: 0.0809 - accuracy: 0.9724 - val_loss: 0.4551 - val_accuracy: 0.8712\n",
            "Epoch 8/10\n",
            "250/250 [==============================] - 155s 621ms/step - loss: 0.0642 - accuracy: 0.9799 - val_loss: 0.5295 - val_accuracy: 0.8725\n",
            "Epoch 9/10\n",
            "250/250 [==============================] - 155s 622ms/step - loss: 0.0547 - accuracy: 0.9826 - val_loss: 0.5756 - val_accuracy: 0.8660\n",
            "Epoch 10/10\n",
            "250/250 [==============================] - 155s 621ms/step - loss: 0.0410 - accuracy: 0.9875 - val_loss: 0.5572 - val_accuracy: 0.8630\n",
            "CPU times: user 43min 47s, sys: 3min 6s, total: 46min 54s\n",
            "Wall time: 26min 23s\n"
          ]
        }
      ]
    },
    {
      "cell_type": "markdown",
      "metadata": {
        "id": "Id9mReXMH6ZV"
      },
      "source": [
        "<a name = Section52></a>\n",
        "### **6.2 Model Evaluation**"
      ]
    },
    {
      "cell_type": "code",
      "metadata": {
        "id": "AzyTmORRyS1a",
        "scrolled": false,
        "colab": {
          "base_uri": "https://localhost:8080/",
          "height": 573
        },
        "outputId": "2ac5527a-c6d9-4eac-bd56-f8d77bbc314d"
      },
      "source": [
        "plot_loss_curves(history3)"
      ],
      "execution_count": null,
      "outputs": [
        {
          "output_type": "display_data",
          "data": {
            "text/plain": [
              "<Figure size 432x288 with 1 Axes>"
            ],
            "image/png": "[encoded data removed]"
          },
          "metadata": {
            "needs_background": "light"
          }
        },
        {
          "output_type": "display_data",
          "data": {
            "text/plain": [
              "<Figure size 432x288 with 1 Axes>"
            ],
            "image/png": "[encoded data removed]"
          },
          "metadata": {
            "needs_background": "light"
          }
        }
      ]
    },
    {
      "cell_type": "markdown",
      "metadata": {
        "id": "_ZjSSW4tZuRE"
      },
      "source": [
        "**Observations:**\n",
        "\n",
        "- The highest **accuracy** on validation dataset is **86%**\n",
        "\n",
        "- There seems to be **slight** improvement in **execution** time"
      ]
    },
    {
      "cell_type": "markdown",
      "metadata": {
        "id": "hVdK2zfXe9DT"
      },
      "source": [
        "#### The Values for Loss and Accuracy on Training and Validation Data for highest Accuracy on Validation Data"
      ]
    },
    {
      "cell_type": "markdown",
      "metadata": {
        "id": "3Q54pOgke9DU"
      },
      "source": [
        "| Model | CPU Time for 10 Epochs(Google Colab) | Loss on Training Data | Loss on Validation Data | Accuracy on Training Data | Accuracy on Validation Data | \n",
        "| --- | --- | --- | --- | --- | --- |\n",
        "| SimpleRNN Model | 8 Minutes | 0.0138  | 0.0138  | 0.9955  | 0.8551|\n",
        "| LSTM Model | 31 Minutes | 0.0490 | 0.5775  | 0.9851 | 0.8679 |\n",
        "| GRU Model | 26 Minutes | 0.0410 | 00.5572 | 0.9875 | 0.8630 |\n",
        "\n",
        "\n"
      ]
    },
    {
      "cell_type": "markdown",
      "metadata": {
        "id": "AKPBurAGfVFe"
      },
      "source": [
        "**Obsertvation:** \n",
        "\n",
        "- We can observe that **LSTM** and **GRU** model performs better than the **simpleRNN** model."
      ]
    },
    {
      "cell_type": "markdown",
      "metadata": {
        "id": "TRSYlSptImqD"
      },
      "source": [
        "---\n",
        "<a name = Section7></a>\n",
        "# **7. Conclusion**\n",
        "---"
      ]
    },
    {
      "cell_type": "markdown",
      "metadata": {
        "id": "JiKInrGqlgGs"
      },
      "source": [
        "- We have learned how we can **implementation** **SimpleRNN, LSTM and GRU** using Keras.\n",
        "\n",
        "- We have seen the **performance** of these models and we can **observe** LSTM and GRU **out performs** SimpleRNN model.\n",
        "\n",
        "- Now its up to you to further **explore** LSTM and GRU and **build** interesting **language models** and compare their **performance**.\n"
      ]
    }
  ]
}