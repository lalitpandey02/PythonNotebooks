{
  "nbformat": 4,
  "nbformat_minor": 0,
  "metadata": {
    "colab": {
      "name": "Career Wednesday - 18: Data Manipulation Assessment Questions",
      "provenance": [],
      "collapsed_sections": [],
      "include_colab_link": true
    },
    "kernelspec": {
      "name": "python3",
      "display_name": "Python 3"
    },
    "language_info": {
      "name": "python"
    }
  },
  "cells": [
    {
      "cell_type": "markdown",
      "metadata": {
        "id": "view-in-github",
        "colab_type": "text"
      },
      "source": [
        "<a href=\"https://colab.research.google.com/github/lalitpandey02/PythonNotebooks/blob/main/Career_Wednesday_18_Data_Manipulation_Assessment_Questions.ipynb\" target=\"_parent\"><img src=\"https://colab.research.google.com/assets/colab-badge.svg\" alt=\"Open In Colab\"/></a>"
      ]
    },
    {
      "cell_type": "markdown",
      "source": [
        "<center><img src=\"https://github.com/insaid2018/Term-1/blob/master/Images/INSAID_Full%20Logo.png?raw=true\" width=\"240\" height=\"100\" /></center>\n",
        "\n",
        "**<center><h1>Career Wednesday - 18</h3></center>**"
      ],
      "metadata": {
        "id": "aGcwUuQccGTj"
      }
    },
    {
      "cell_type": "markdown",
      "source": [
        "---\n",
        "# **Data Manipulation Assessment**\n",
        "---\n",
        "\n",
        "  - ## [**Question 1**](#Section1)<br>\n",
        "  - ## [**Question 2**](#Section2)<br>\n",
        "  - ## [**Question 3**](#Section3)<br>"
      ],
      "metadata": {
        "id": "ZPha1cshcfTG"
      }
    },
    {
      "cell_type": "code",
      "source": [
        "#Installing Evaluation Script\n",
        "!wget -q https://gitlab.com/academics3/insaid-data/-/raw/main/Career%20Wednesday%20Repo/17th%20August%202022:%20Data%20Manipulation%20Assessment/Evaluation.py"
      ],
      "metadata": {
        "id": "tKDrGOAZN5RC"
      },
      "execution_count": null,
      "outputs": []
    },
    {
      "cell_type": "code",
      "source": [
        "from Evaluation import *  "
      ],
      "metadata": {
        "id": "39qJyzxxHvSu"
      },
      "execution_count": null,
      "outputs": []
    },
    {
      "cell_type": "markdown",
      "source": [
        "---\n",
        "# **Data Manipulation:**\n",
        "---"
      ],
      "metadata": {
        "id": "5_nMZFd1H1fP"
      }
    },
    {
      "cell_type": "code",
      "source": [
        "# Packages\n",
        "import pandas as pd\n",
        "import numpy as np"
      ],
      "metadata": {
        "id": "HI1gf3O5X1Yv"
      },
      "execution_count": null,
      "outputs": []
    },
    {
      "cell_type": "markdown",
      "source": [
        "##  **Dataset 1:**\n",
        "\n",
        "- The data contains recored values of **concentration of various pollutants** in various **cities of india** from a time span of **2015 to 2020.** The observations are recorded **daily.**\n",
        "\n",
        "- The data also contains the Air Quality Index (AQI) value for each day along the Air Quality class (**Good, Satisfactory, Moderate, Poor, Very Poor, and Severe.**)"
      ],
      "metadata": {
        "id": "7ZFdf-osJ8x_"
      }
    },
    {
      "cell_type": "code",
      "source": [
        "# Dataset 1\n",
        "path = 'https://gitlab.com/academics3/insaid-data/-/raw/main/Career%20Wednesday%20Repo/17th%20August%202022%3A%20Data%20Manipulation%20Assessment/Air_Quality_index.csv'\n",
        "\n",
        "# First Look\n",
        "df = pd.read_csv(path, index_col=['Date'])\n",
        "df.head(7)"
      ],
      "metadata": {
        "id": "-kUbMj0eXavS"
      },
      "execution_count": null,
      "outputs": []
    },
    {
      "cell_type": "markdown",
      "source": [
        "<a name = Section1></a>\n",
        "## **Question 1:**\n",
        "\n",
        "- **Industrial waste** is the combination of CO, SO2, O3, Benzene, Toluene, and Xylene.\n",
        "\n",
        "- **Vehicle waste** is the combination of  PM2.5, PM10, NO2, NH3, and CO.\n",
        "\n",
        "- And **Total waste** is the **sum** of Industrial waste and vehicle waste.\n",
        "\n",
        "- Using this information format the dataframe and find the **average total waste each city has produced.**\n",
        "\n",
        "- Finally identify the **top 7 Most Polluted cities** based on Total waste from the obtained results."
      ],
      "metadata": {
        "id": "FIiBk57FhQ7M"
      }
    },
    {
      "cell_type": "code",
      "source": [
        "# Explore"
      ],
      "metadata": {
        "id": "-WMBxoUoOWAo"
      },
      "execution_count": null,
      "outputs": []
    },
    {
      "cell_type": "code",
      "source": [
        "# Answer\n",
        "Top_7_polluted_cities = \n",
        "\n",
        "# Checking your Answer (Don't Change this Code)\n",
        "CheckingAnswer('Top7', Top_7_polluted_cities)"
      ],
      "metadata": {
        "id": "yJZijNhEO0kY"
      },
      "execution_count": null,
      "outputs": []
    },
    {
      "cell_type": "markdown",
      "source": [
        "<a name = Section2></a>\n",
        "## **Question 2:**\n",
        "\n",
        "- Using the same dataset from **Question1**\n",
        "\n",
        "- Focusing on the **Top 7 Polluted cities**, Find the number of days each of the Top 7 Polluted cities have been given **\"Poor\" Air Quality Class**.\n",
        "\n",
        "- Find the **total number of days**, the data has been recorded for in dataset.\n",
        "\n",
        "- Calculate the percentage of days the Air Quality Class was **\"Poor\" for each the Top 7 Most Polluted Cities.**\n",
        "\n",
        "- Round the **percentage value to 2 decimal place** and create a dictionary with **City names as keys and percentage value as values.**\n",
        "\n",
        "**Example:**\n",
        "\n",
        "Taking the **Example of Delhi:**\n",
        "\n",
        "Number of **Days Delhi had \"Poor\" Quality Air = 542**  \n",
        "**Total number of days** in dataframe = **29531**    \n",
        "**Percentage** = (542/29831) * 100 = **1.8353594**  \n",
        "Round to **2 decimal**: **1.84**  \n",
        "Add this to the Dictionary: {\"Delhi\" : 1.84}\n",
        "\n",
        "Now, you have to do this for every city in the Top 7 Most Polluted Tips"
      ],
      "metadata": {
        "id": "8EsczbWCfRBk"
      }
    },
    {
      "cell_type": "code",
      "source": [
        "# Explore"
      ],
      "metadata": {
        "id": "-GbZar-BZBRY"
      },
      "execution_count": null,
      "outputs": []
    },
    {
      "cell_type": "code",
      "source": [
        "# Answer\n",
        "# Remember to Captilize the first alphabet of the City name Ex- \"Delhi\" and pay close attention to spelling.\n",
        "Percentage_Dict =\n",
        "\n",
        "# Checking your Answer (Don't Change this Code)\n",
        "CheckingAnswer('Percentages', Percentage_Dict)"
      ],
      "metadata": {
        "id": "WHXweiwakABj"
      },
      "execution_count": null,
      "outputs": []
    },
    {
      "cell_type": "markdown",
      "source": [
        "<a name = Section3></a>\n",
        "## **Question 3:**\n",
        "\n",
        "- Use the **same dataset**\n",
        "\n",
        "- Two of the most influential Pollutants in the dataset are **PM2.5 and NO** for Vehicle and Industrial Waste Category Respectively.\n",
        "\n",
        "- For **PM2.5** any concentration **equal and higher than 400** is considered Unhealthy.\n",
        "\n",
        "- For **NO** any concentration **equal and higher than 100** is considered Unhealthy.\n",
        "\n",
        "- Extract all the **days in the dataset** that had **Unhealthy level of PM2.5 and NO Concentration.**\n",
        "\n",
        "- From the **Extracted data**, find the **city with highest average AQI.**"
      ],
      "metadata": {
        "id": "QoHYgCY8sHGl"
      }
    },
    {
      "cell_type": "code",
      "source": [
        "# Explore"
      ],
      "metadata": {
        "colab": {
          "base_uri": "https://localhost:8080/",
          "height": 238
        },
        "id": "e5tVmFIisH9g",
        "outputId": "1917f793-54c5-4caa-bbc3-5547ba420f8d"
      },
      "execution_count": null,
      "outputs": [
        {
          "output_type": "execute_result",
          "data": {
            "text/plain": [
              "                 City      PM2.5        PM10     NO    NO2    NOx        NH3  \\\n",
              "Date                                                                           \n",
              "2015-01-01  Ahmedabad  74.248718  178.056732   0.92  18.22  17.15   4.478580   \n",
              "2015-01-02  Ahmedabad  52.135330  118.105331   0.97  15.69  16.46  23.405872   \n",
              "2015-01-03  Ahmedabad  47.204445   88.524117  17.40  19.30  29.70  11.040450   \n",
              "2015-01-04  Ahmedabad  60.280689  108.053131   1.70  18.48  17.97  11.120313   \n",
              "2015-01-05  Ahmedabad  69.363564  129.961456  22.10  21.42  37.76  23.415892   \n",
              "\n",
              "               CO    SO2      O3  Benzene  Toluene  Xylene         AQI  \\\n",
              "Date                                                                     \n",
              "2015-01-01   0.92  27.64  133.36     0.00     0.02    0.00  218.015533   \n",
              "2015-01-02   0.97  24.55   34.06     3.68     5.50    3.77  119.359024   \n",
              "2015-01-03  17.40  29.07   30.70     6.80    16.40    2.25  300.527374   \n",
              "2015-01-04   1.70  18.59   36.08     4.43    10.14    1.00  125.372055   \n",
              "2015-01-05  22.10  39.33   39.31     7.01    18.89    2.78  340.377930   \n",
              "\n",
              "           Air_Quality  Industrial_Waste  Vehicle_Waste  Total_Waste  \n",
              "Date                                                                  \n",
              "2015-01-01    Moderate            161.02     293.994031   455.014031  \n",
              "2015-01-02    Moderate             71.56     227.736534   299.296534  \n",
              "2015-01-03    Moderate             85.22     230.569011   315.789011  \n",
              "2015-01-04    Moderate             70.24     219.304133   289.544133  \n",
              "2015-01-05    Moderate            107.32     326.120911   433.440911  "
            ],
            "text/html": [
              "\n",
              "  <div id=\"df-089470b9-9f74-468a-a43e-98a1c1c4d0e5\">\n",
              "    <div class=\"colab-df-container\">\n",
              "      <div>\n",
              "<style scoped>\n",
              "    .dataframe tbody tr th:only-of-type {\n",
              "        vertical-align: middle;\n",
              "    }\n",
              "\n",
              "    .dataframe tbody tr th {\n",
              "        vertical-align: top;\n",
              "    }\n",
              "\n",
              "    .dataframe thead th {\n",
              "        text-align: right;\n",
              "    }\n",
              "</style>\n",
              "<table border=\"1\" class=\"dataframe\">\n",
              "  <thead>\n",
              "    <tr style=\"text-align: right;\">\n",
              "      <th></th>\n",
              "      <th>City</th>\n",
              "      <th>PM2.5</th>\n",
              "      <th>PM10</th>\n",
              "      <th>NO</th>\n",
              "      <th>NO2</th>\n",
              "      <th>NOx</th>\n",
              "      <th>NH3</th>\n",
              "      <th>CO</th>\n",
              "      <th>SO2</th>\n",
              "      <th>O3</th>\n",
              "      <th>Benzene</th>\n",
              "      <th>Toluene</th>\n",
              "      <th>Xylene</th>\n",
              "      <th>AQI</th>\n",
              "      <th>Air_Quality</th>\n",
              "      <th>Industrial_Waste</th>\n",
              "      <th>Vehicle_Waste</th>\n",
              "      <th>Total_Waste</th>\n",
              "    </tr>\n",
              "    <tr>\n",
              "      <th>Date</th>\n",
              "      <th></th>\n",
              "      <th></th>\n",
              "      <th></th>\n",
              "      <th></th>\n",
              "      <th></th>\n",
              "      <th></th>\n",
              "      <th></th>\n",
              "      <th></th>\n",
              "      <th></th>\n",
              "      <th></th>\n",
              "      <th></th>\n",
              "      <th></th>\n",
              "      <th></th>\n",
              "      <th></th>\n",
              "      <th></th>\n",
              "      <th></th>\n",
              "      <th></th>\n",
              "      <th></th>\n",
              "    </tr>\n",
              "  </thead>\n",
              "  <tbody>\n",
              "    <tr>\n",
              "      <th>2015-01-01</th>\n",
              "      <td>Ahmedabad</td>\n",
              "      <td>74.248718</td>\n",
              "      <td>178.056732</td>\n",
              "      <td>0.92</td>\n",
              "      <td>18.22</td>\n",
              "      <td>17.15</td>\n",
              "      <td>4.478580</td>\n",
              "      <td>0.92</td>\n",
              "      <td>27.64</td>\n",
              "      <td>133.36</td>\n",
              "      <td>0.00</td>\n",
              "      <td>0.02</td>\n",
              "      <td>0.00</td>\n",
              "      <td>218.015533</td>\n",
              "      <td>Moderate</td>\n",
              "      <td>161.02</td>\n",
              "      <td>293.994031</td>\n",
              "      <td>455.014031</td>\n",
              "    </tr>\n",
              "    <tr>\n",
              "      <th>2015-01-02</th>\n",
              "      <td>Ahmedabad</td>\n",
              "      <td>52.135330</td>\n",
              "      <td>118.105331</td>\n",
              "      <td>0.97</td>\n",
              "      <td>15.69</td>\n",
              "      <td>16.46</td>\n",
              "      <td>23.405872</td>\n",
              "      <td>0.97</td>\n",
              "      <td>24.55</td>\n",
              "      <td>34.06</td>\n",
              "      <td>3.68</td>\n",
              "      <td>5.50</td>\n",
              "      <td>3.77</td>\n",
              "      <td>119.359024</td>\n",
              "      <td>Moderate</td>\n",
              "      <td>71.56</td>\n",
              "      <td>227.736534</td>\n",
              "      <td>299.296534</td>\n",
              "    </tr>\n",
              "    <tr>\n",
              "      <th>2015-01-03</th>\n",
              "      <td>Ahmedabad</td>\n",
              "      <td>47.204445</td>\n",
              "      <td>88.524117</td>\n",
              "      <td>17.40</td>\n",
              "      <td>19.30</td>\n",
              "      <td>29.70</td>\n",
              "      <td>11.040450</td>\n",
              "      <td>17.40</td>\n",
              "      <td>29.07</td>\n",
              "      <td>30.70</td>\n",
              "      <td>6.80</td>\n",
              "      <td>16.40</td>\n",
              "      <td>2.25</td>\n",
              "      <td>300.527374</td>\n",
              "      <td>Moderate</td>\n",
              "      <td>85.22</td>\n",
              "      <td>230.569011</td>\n",
              "      <td>315.789011</td>\n",
              "    </tr>\n",
              "    <tr>\n",
              "      <th>2015-01-04</th>\n",
              "      <td>Ahmedabad</td>\n",
              "      <td>60.280689</td>\n",
              "      <td>108.053131</td>\n",
              "      <td>1.70</td>\n",
              "      <td>18.48</td>\n",
              "      <td>17.97</td>\n",
              "      <td>11.120313</td>\n",
              "      <td>1.70</td>\n",
              "      <td>18.59</td>\n",
              "      <td>36.08</td>\n",
              "      <td>4.43</td>\n",
              "      <td>10.14</td>\n",
              "      <td>1.00</td>\n",
              "      <td>125.372055</td>\n",
              "      <td>Moderate</td>\n",
              "      <td>70.24</td>\n",
              "      <td>219.304133</td>\n",
              "      <td>289.544133</td>\n",
              "    </tr>\n",
              "    <tr>\n",
              "      <th>2015-01-05</th>\n",
              "      <td>Ahmedabad</td>\n",
              "      <td>69.363564</td>\n",
              "      <td>129.961456</td>\n",
              "      <td>22.10</td>\n",
              "      <td>21.42</td>\n",
              "      <td>37.76</td>\n",
              "      <td>23.415892</td>\n",
              "      <td>22.10</td>\n",
              "      <td>39.33</td>\n",
              "      <td>39.31</td>\n",
              "      <td>7.01</td>\n",
              "      <td>18.89</td>\n",
              "      <td>2.78</td>\n",
              "      <td>340.377930</td>\n",
              "      <td>Moderate</td>\n",
              "      <td>107.32</td>\n",
              "      <td>326.120911</td>\n",
              "      <td>433.440911</td>\n",
              "    </tr>\n",
              "  </tbody>\n",
              "</table>\n",
              "</div>\n",
              "      <button class=\"colab-df-convert\" onclick=\"convertToInteractive('df-089470b9-9f74-468a-a43e-98a1c1c4d0e5')\"\n",
              "              title=\"Convert this dataframe to an interactive table.\"\n",
              "              style=\"display:none;\">\n",
              "        \n",
              "  <svg xmlns=\"http://www.w3.org/2000/svg\" height=\"24px\"viewBox=\"0 0 24 24\"\n",
              "       width=\"24px\">\n",
              "    <path d=\"M0 0h24v24H0V0z\" fill=\"none\"/>\n",
              "    <path d=\"M18.56 5.44l.94 2.06.94-2.06 2.06-.94-2.06-.94-.94-2.06-.94 2.06-2.06.94zm-11 1L8.5 8.5l.94-2.06 2.06-.94-2.06-.94L8.5 2.5l-.94 2.06-2.06.94zm10 10l.94 2.06.94-2.06 2.06-.94-2.06-.94-.94-2.06-.94 2.06-2.06.94z\"/><path d=\"M17.41 7.96l-1.37-1.37c-.4-.4-.92-.59-1.43-.59-.52 0-1.04.2-1.43.59L10.3 9.45l-7.72 7.72c-.78.78-.78 2.05 0 2.83L4 21.41c.39.39.9.59 1.41.59.51 0 1.02-.2 1.41-.59l7.78-7.78 2.81-2.81c.8-.78.8-2.07 0-2.86zM5.41 20L4 18.59l7.72-7.72 1.47 1.35L5.41 20z\"/>\n",
              "  </svg>\n",
              "      </button>\n",
              "      \n",
              "  <style>\n",
              "    .colab-df-container {\n",
              "      display:flex;\n",
              "      flex-wrap:wrap;\n",
              "      gap: 12px;\n",
              "    }\n",
              "\n",
              "    .colab-df-convert {\n",
              "      background-color: #E8F0FE;\n",
              "      border: none;\n",
              "      border-radius: 50%;\n",
              "      cursor: pointer;\n",
              "      display: none;\n",
              "      fill: #1967D2;\n",
              "      height: 32px;\n",
              "      padding: 0 0 0 0;\n",
              "      width: 32px;\n",
              "    }\n",
              "\n",
              "    .colab-df-convert:hover {\n",
              "      background-color: #E2EBFA;\n",
              "      box-shadow: 0px 1px 2px rgba(60, 64, 67, 0.3), 0px 1px 3px 1px rgba(60, 64, 67, 0.15);\n",
              "      fill: #174EA6;\n",
              "    }\n",
              "\n",
              "    [theme=dark] .colab-df-convert {\n",
              "      background-color: #3B4455;\n",
              "      fill: #D2E3FC;\n",
              "    }\n",
              "\n",
              "    [theme=dark] .colab-df-convert:hover {\n",
              "      background-color: #434B5C;\n",
              "      box-shadow: 0px 1px 3px 1px rgba(0, 0, 0, 0.15);\n",
              "      filter: drop-shadow(0px 1px 2px rgba(0, 0, 0, 0.3));\n",
              "      fill: #FFFFFF;\n",
              "    }\n",
              "  </style>\n",
              "\n",
              "      <script>\n",
              "        const buttonEl =\n",
              "          document.querySelector('#df-089470b9-9f74-468a-a43e-98a1c1c4d0e5 button.colab-df-convert');\n",
              "        buttonEl.style.display =\n",
              "          google.colab.kernel.accessAllowed ? 'block' : 'none';\n",
              "\n",
              "        async function convertToInteractive(key) {\n",
              "          const element = document.querySelector('#df-089470b9-9f74-468a-a43e-98a1c1c4d0e5');\n",
              "          const dataTable =\n",
              "            await google.colab.kernel.invokeFunction('convertToInteractive',\n",
              "                                                     [key], {});\n",
              "          if (!dataTable) return;\n",
              "\n",
              "          const docLinkHtml = 'Like what you see? Visit the ' +\n",
              "            '<a target=\"_blank\" href=https://colab.research.google.com/notebooks/data_table.ipynb>data table notebook</a>'\n",
              "            + ' to learn more about interactive tables.';\n",
              "          element.innerHTML = '';\n",
              "          dataTable['output_type'] = 'display_data';\n",
              "          await google.colab.output.renderOutput(dataTable, element);\n",
              "          const docLink = document.createElement('div');\n",
              "          docLink.innerHTML = docLinkHtml;\n",
              "          element.appendChild(docLink);\n",
              "        }\n",
              "      </script>\n",
              "    </div>\n",
              "  </div>\n",
              "  "
            ]
          },
          "metadata": {},
          "execution_count": 100
        }
      ]
    },
    {
      "cell_type": "code",
      "source": [
        "# Answer\n",
        "Most_Unhealthy_City =\n",
        "\n",
        "# Checking your Answer (Don't Change this Code)\n",
        "CheckingAnswer('Most_Unhealthy_City', Most_Unhealthy_City)"
      ],
      "metadata": {
        "id": "om_nTzHKz4eu"
      },
      "execution_count": null,
      "outputs": []
    }
  ]
}